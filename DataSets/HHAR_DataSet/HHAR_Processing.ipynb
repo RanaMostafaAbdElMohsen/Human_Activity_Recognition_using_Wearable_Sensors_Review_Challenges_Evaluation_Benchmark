{
 "cells": [
  {
   "cell_type": "code",
   "execution_count": null,
   "metadata": {
    "colab": {},
    "colab_type": "code",
    "id": "V1uBlDElhz-g"
   },
   "outputs": [],
   "source": [
    "import os\n",
    "import numpy as np\n",
    "import pandas as pd\n",
    "import matplotlib.pyplot as plt\n",
    "import time\n",
    "import random"
   ]
  },
  {
   "cell_type": "code",
   "execution_count": null,
   "metadata": {
    "colab": {
     "base_uri": "https://localhost:8080/",
     "height": 124
    },
    "colab_type": "code",
    "id": "IWPd8EHYh2Bb",
    "outputId": "9fcae429-7d0f-411f-e4fa-bbe4c223f1e5"
   },
   "outputs": [],
   "source": [
    "from google.colab import drive\n",
    "drive.mount('/content/drive')"
   ]
  },
  {
   "cell_type": "code",
   "execution_count": null,
   "metadata": {
    "colab": {
     "base_uri": "https://localhost:8080/",
     "height": 245
    },
    "colab_type": "code",
    "id": "7raeSyD1yLRK",
    "outputId": "934cd4b1-5f36-498f-bf8c-810e3700ab01"
   },
   "outputs": [],
   "source": [
    "!unzip '/content/drive/My Drive/Computer_vision_project/data/UCI_Heterogeneity /Activity_recognition_exp.zip' -d '/content/drive/My Drive/Computer_vision_project/data/UCI_Heterogeneity /'"
   ]
  },
  {
   "cell_type": "code",
   "execution_count": null,
   "metadata": {
    "colab": {},
    "colab_type": "code",
    "id": "VNbYHjxBiNrF"
   },
   "outputs": [],
   "source": [
    "data1 = pd.read_csv('/content/drive/My Drive/Computer_vision_project/data/UCI_Heterogeneity /Activity recognition exp/Phones_accelerometer.csv')\t\t#Loading Accelerometer data\n",
    "data2 = pd.read_csv('/content/drive/My Drive/Computer_vision_project/data/UCI_Heterogeneity /Activity recognition exp/Phones_accelerometer.csv')\t\t\t#Loading Gyroscope data"
   ]
  },
  {
   "cell_type": "code",
   "execution_count": null,
   "metadata": {
    "colab": {},
    "colab_type": "code",
    "id": "PTBQ8J3xiUFn"
   },
   "outputs": [],
   "source": [
    "length1 = len(data1)\n",
    "length2 = len(data2)\n",
    "length = min(length1, length2)\t\t\t\t\t\t#To make the length of the merged data equal to minimum of the two data \n"
   ]
  },
  {
   "cell_type": "code",
   "execution_count": null,
   "metadata": {
    "colab": {},
    "colab_type": "code",
    "id": "ASSMyiFLiYyJ"
   },
   "outputs": [],
   "source": [
    "data1 = data1.drop(labels = ['Arrival_Time','Creation_Time','Index', 'User'], axis=1)\t\t#Dropping the unnecessary fields\n",
    "data2 = data2.drop(labels = ['Arrival_Time','Creation_Time','Index', 'User','Model','Device'], axis=1)\n"
   ]
  },
  {
   "cell_type": "code",
   "execution_count": null,
   "metadata": {
    "colab": {},
    "colab_type": "code",
    "id": "FkjN6KEZ0WpR"
   },
   "outputs": [],
   "source": [
    "data2.columns = ['x1', 'y1', 'z1', 'gt1']"
   ]
  },
  {
   "cell_type": "markdown",
   "metadata": {
    "colab_type": "text",
    "id": "a3dFPDttifAE"
   },
   "source": []
  },
  {
   "cell_type": "code",
   "execution_count": null,
   "metadata": {
    "colab": {},
    "colab_type": "code",
    "id": "0ipqEuRAiiKf"
   },
   "outputs": [],
   "source": [
    "data = pd.concat([data1, data2], axis=1)"
   ]
  },
  {
   "cell_type": "code",
   "execution_count": null,
   "metadata": {
    "colab": {
     "base_uri": "https://localhost:8080/",
     "height": 260
    },
    "colab_type": "code",
    "id": "ik0BjWGn0QHY",
    "outputId": "4b2682de-804c-45d1-9731-251cf368a726"
   },
   "outputs": [],
   "source": [
    "data.head"
   ]
  },
  {
   "cell_type": "code",
   "execution_count": null,
   "metadata": {
    "colab": {},
    "colab_type": "code",
    "id": "IXlP7iwzikeo"
   },
   "outputs": [],
   "source": [
    "to_drop = ['null']\t\t\t\t\t\t\t\t\t#To drop the null values fro both data1 and data2\n",
    "data = data[~data['gt'].isin(to_drop)]\n",
    "data = data[~data['gt1'].isin(to_drop)]"
   ]
  },
  {
   "cell_type": "code",
   "execution_count": null,
   "metadata": {
    "colab": {},
    "colab_type": "code",
    "id": "-u4NfEZViogE"
   },
   "outputs": [],
   "source": [
    "data = data.drop(labels = ['gt1'], axis=1)"
   ]
  },
  {
   "cell_type": "code",
   "execution_count": null,
   "metadata": {
    "colab": {},
    "colab_type": "code",
    "id": "IzS2SCToirsC"
   },
   "outputs": [],
   "source": [
    "cols_to_norm = ['x','y','z', 'x1','y1','z1']\t\t#Normalizing the columns\n",
    "data[cols_to_norm] = data[cols_to_norm].apply(lambda x: (x - x.mean()) / (x.max() - x.min()))"
   ]
  },
  {
   "cell_type": "code",
   "execution_count": null,
   "metadata": {
    "colab": {},
    "colab_type": "code",
    "id": "Z7MY-C8wivsB"
   },
   "outputs": [],
   "source": [
    "y = data[['gt']]\t\t\t\t\t\t\t\t\t#Extracting only the action values\n",
    "y= pd.get_dummies(y)\n",
    "# data = data.drop(labels = ['gt'], axis = 1)"
   ]
  },
  {
   "cell_type": "code",
   "execution_count": null,
   "metadata": {
    "colab": {},
    "colab_type": "code",
    "id": "Br3z7L6KjF_w"
   },
   "outputs": [],
   "source": [
    "sample_rate = 50  # number of observation per second based on dataset documentation\n",
    "\n",
    "sliding_size = int(.2 * sample_rate)  # number of skipped datapoints to start next window\n",
    "win_size=128"
   ]
  },
  {
   "cell_type": "code",
   "execution_count": null,
   "metadata": {
    "colab": {
     "base_uri": "https://localhost:8080/",
     "height": 35
    },
    "colab_type": "code",
    "id": "B9NyPWzXSITH",
    "outputId": "f9fed03b-00b8-4536-bab8-341662094556"
   },
   "outputs": [],
   "source": [
    "data.columns"
   ]
  },
  {
   "cell_type": "code",
   "execution_count": null,
   "metadata": {
    "colab": {},
    "colab_type": "code",
    "id": "GlN2FZwrkr80"
   },
   "outputs": [],
   "source": [
    "def sliding_window(overlap=False):\n",
    " \n",
    "  if overlap:\n",
    "        step_size = sliding_size  # for Overlapping technique\n",
    "  else:\n",
    "\n",
    "    step_size = win_size  # for Non-overlapping technique\n",
    "  y_list=[]\n",
    "  x_list=[]      \n",
    "  for i in range(0, data.shape[0], step_size):\n",
    "    start = i\n",
    "    end = start + step_size\n",
    "    if end<data.shape[0]:\n",
    "      \n",
    "      label = data.loc[i]['gt']\n",
    "      X_point = np.zeros((step_size,6))\n",
    "      # acc_x = data[i: i + N_TIME_STEPS, 'x']\n",
    "      # acc_y = data[i: i + N_TIME_STEPS, 'y']\n",
    "      # acc_z = data[i: i + N_TIME_STEPS, 'z']\n",
    "      # gyr_x = data[i: i + N_TIME_STEPS, 'x1']\n",
    "      # gyr_y = data[i: i + N_TIME_STEPS, 'y1']\n",
    "      # gyr_z = data[i: i + N_TIME_STEPS, 'z1']\n",
    "      # print(data.iloc[i: i + step_size, 0])\n",
    "      X_point[:,0] = data.iloc[i: i + step_size, 0]\n",
    "      X_point[:,1] = data.iloc[i: i + step_size, 1]\n",
    "      X_point[:,2] = data.iloc[i: i + step_size, 2]\n",
    "      X_point[:,3] = data.iloc[i: i + step_size, 6]\n",
    "      X_point[:,4] = data.iloc[i: i + step_size, 7]\n",
    "      X_point[:,5] = data.iloc[i: i + step_size, 8]\n",
    "      x_list.append(X_point)\n",
    "      y_list.append(label)\n",
    "    # print(acc_x)\n",
    "    # break\n",
    "    # while until <= segment_end:\n",
    "    #   X_point = np.zeros((win_size,6))\n",
    "    #   # print(acc_x[segment_start:until])\n",
    "    #   X_point[:,0] = acc_x[segment_start:until]\n",
    "    #   X_point[:,1] = acc_y[segment_start:until]\n",
    "    #   X_point[:,2] = acc_z[segment_start:until]\n",
    "    #   X_point[:,3] = gyr_x[segment_start:until]\n",
    "    #   X_point[:,4] = gyr_y[segment_start:until]\n",
    "    #   X_point[:,5] = gyr_z[segment_start:until]\n",
    "    #   x_list.append(X_point)\n",
    "    #   print('xpoint',X_point)\n",
    "    #   print('xlist',x_list)\n",
    "\n",
    "\n",
    "    #   segment_start+=step_size\n",
    "    #   until+=step_size\n",
    "    #   y_list.append(label) \n",
    "  return y_list,  x_list \n",
    "\n",
    "\n",
    "         "
   ]
  },
  {
   "cell_type": "code",
   "execution_count": null,
   "metadata": {
    "colab": {},
    "colab_type": "code",
    "id": "eBW0wyFsS6zj"
   },
   "outputs": [],
   "source": [
    "overlap=True\n",
    "step_size=None\n",
    "if overlap:\n",
    "        step_size = sliding_size  # for Overlapping technique\n",
    "else:\n",
    "  step_size = win_size  # for Non-overlapping technique"
   ]
  },
  {
   "cell_type": "code",
   "execution_count": null,
   "metadata": {
    "colab": {},
    "colab_type": "code",
    "id": "9VvrlVVK0jar"
   },
   "outputs": [],
   "source": [
    "Y,X=sliding_window(overlap)"
   ]
  },
  {
   "cell_type": "code",
   "execution_count": null,
   "metadata": {
    "colab": {},
    "colab_type": "code",
    "id": "CDR5RE2CcHh-"
   },
   "outputs": [],
   "source": [
    "X_train = np.zeros((len(Y),step_size,6))\n",
    "X_train[:,:]=[x for x in X]"
   ]
  },
  {
   "cell_type": "code",
   "execution_count": null,
   "metadata": {
    "colab": {
     "base_uri": "https://localhost:8080/",
     "height": 35
    },
    "colab_type": "code",
    "id": "FZEXvtDFEwEb",
    "outputId": "0e215fb4-6681-449a-84cd-7a3b696fca31"
   },
   "outputs": [],
   "source": [
    "X_train.shape"
   ]
  },
  {
   "cell_type": "code",
   "execution_count": null,
   "metadata": {
    "colab": {
     "base_uri": "https://localhost:8080/",
     "height": 35
    },
    "colab_type": "code",
    "id": "rK6NI6nLcSpp",
    "outputId": "831fc3b2-7a7f-4ad8-fca8-64e92a8aa429"
   },
   "outputs": [],
   "source": [
    "type(Y)"
   ]
  },
  {
   "cell_type": "code",
   "execution_count": null,
   "metadata": {
    "colab": {},
    "colab_type": "code",
    "id": "BBmUnIGIdq4f"
   },
   "outputs": [],
   "source": [
    "y_df=df = pd.DataFrame(Y)"
   ]
  },
  {
   "cell_type": "code",
   "execution_count": null,
   "metadata": {
    "colab": {},
    "colab_type": "code",
    "id": "nkxn43CAduWV"
   },
   "outputs": [],
   "source": [
    "y_dummy= pd.get_dummies(y_df)"
   ]
  },
  {
   "cell_type": "code",
   "execution_count": null,
   "metadata": {
    "colab": {},
    "colab_type": "code",
    "id": "ORkzK36fdy_R"
   },
   "outputs": [],
   "source": [
    "y_np = np.array(y_dummy)"
   ]
  },
  {
   "cell_type": "code",
   "execution_count": null,
   "metadata": {
    "colab": {
     "base_uri": "https://localhost:8080/",
     "height": 139
    },
    "colab_type": "code",
    "id": "yyyNOoHVd8wl",
    "outputId": "945b2dd5-085e-4495-cefa-a2e1a38da56e"
   },
   "outputs": [],
   "source": [
    "y_np"
   ]
  },
  {
   "cell_type": "code",
   "execution_count": null,
   "metadata": {
    "colab": {
     "base_uri": "https://localhost:8080/",
     "height": 1000
    },
    "colab_type": "code",
    "id": "UlcXd51WcI_T",
    "outputId": "9f603c89-69cd-437a-beae-4ab7aa9dc791"
   },
   "outputs": [],
   "source": [
    "Y_train=np.zeros(len(Y))\n",
    "for y in y_np:\n",
    "   index=np.where(y == 1)\n",
    "   print(index)\n",
    "   Y_train[:]=index"
   ]
  },
  {
   "cell_type": "code",
   "execution_count": null,
   "metadata": {
    "colab": {
     "base_uri": "https://localhost:8080/",
     "height": 35
    },
    "colab_type": "code",
    "id": "iTSsdONKhCYF",
    "outputId": "493167a0-889c-46d6-ad5d-99a4ebf27c74"
   },
   "outputs": [],
   "source": [
    "Y_train"
   ]
  },
  {
   "cell_type": "code",
   "execution_count": null,
   "metadata": {
    "colab": {},
    "colab_type": "code",
    "id": "rKfK1IZTdBPJ"
   },
   "outputs": [],
   "source": [
    "np.savez_compressed('/content/drive/My Drive/Computer_vision_project/data/UCI_Heterogeneity /UCI_HHAR_X.npz', X_train)"
   ]
  },
  {
   "cell_type": "code",
   "execution_count": null,
   "metadata": {
    "colab": {},
    "colab_type": "code",
    "id": "cRd5z7Nc1WVG"
   },
   "outputs": [],
   "source": [
    "np.savez_compressed('/content/drive/My Drive/Computer_vision_project/data/UCI_Heterogeneity /UCI_HHAR_Y.npz', y_np)"
   ]
  }
 ],
 "metadata": {
  "colab": {
   "collapsed_sections": [],
   "name": "HHAR_Processing.ipynb",
   "provenance": [],
   "toc_visible": true
  },
  "kernelspec": {
   "display_name": "Python 3",
   "language": "python",
   "name": "python3"
  },
  "language_info": {
   "codemirror_mode": {
    "name": "ipython",
    "version": 3
   },
   "file_extension": ".py",
   "mimetype": "text/x-python",
   "name": "python",
   "nbconvert_exporter": "python",
   "pygments_lexer": "ipython3",
   "version": "3.6.8"
  }
 },
 "nbformat": 4,
 "nbformat_minor": 1
}
