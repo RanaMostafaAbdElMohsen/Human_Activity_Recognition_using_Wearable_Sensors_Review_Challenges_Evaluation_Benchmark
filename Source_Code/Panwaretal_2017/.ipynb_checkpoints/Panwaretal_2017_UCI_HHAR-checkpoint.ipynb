{
 "cells": [
  {
   "cell_type": "code",
   "execution_count": null,
   "metadata": {
    "colab": {
     "base_uri": "https://localhost:8080/",
     "height": 419
    },
    "colab_type": "code",
    "executionInfo": {
     "elapsed": 13898,
     "status": "ok",
     "timestamp": 1584806920673,
     "user": {
      "displayName": "brain pinky",
      "photoUrl": "https://lh3.googleusercontent.com/a-/AOh14GjSJ-MfHyLlQ17ipaf3IqBsqmMEcsDxuSrwhgT_Ng=s64",
      "userId": "06438107502629971890"
     },
     "user_tz": -120
    },
    "id": "6M7j__CZS7OM",
    "outputId": "7e5da172-e1b0-4efc-e2e6-787b8ffc0887"
   },
   "outputs": [],
   "source": [
    "\n",
    "## Libraries Prequisities\n",
    "!pip install scikit-learn\n",
    "!pip install numpy==1.16.1"
   ]
  },
  {
   "cell_type": "code",
   "execution_count": null,
   "metadata": {
    "colab": {
     "base_uri": "https://localhost:8080/",
     "height": 72
    },
    "colab_type": "code",
    "executionInfo": {
     "elapsed": 988,
     "status": "ok",
     "timestamp": 1585573747922,
     "user": {
      "displayName": "brain pinky",
      "photoUrl": "https://lh3.googleusercontent.com/a-/AOh14GjSJ-MfHyLlQ17ipaf3IqBsqmMEcsDxuSrwhgT_Ng=s64",
      "userId": "06438107502629971890"
     },
     "user_tz": -120
    },
    "id": "UTzZYqu_Kx3c",
    "outputId": "329685d2-6910-40e3-a9f9-691b8bbf0161"
   },
   "outputs": [],
   "source": [
    "import numpy as np\n",
    "import random\n",
    "from sklearn.ensemble import RandomForestClassifier, VotingClassifier\n",
    "from sklearn.metrics.classification import accuracy_score, recall_score, f1_score\n",
    "import scipy.stats as st"
   ]
  },
  {
   "cell_type": "code",
   "execution_count": null,
   "metadata": {
    "colab": {
     "base_uri": "https://localhost:8080/",
     "height": 69
    },
    "colab_type": "code",
    "executionInfo": {
     "elapsed": 2818,
     "status": "ok",
     "timestamp": 1585573751634,
     "user": {
      "displayName": "brain pinky",
      "photoUrl": "https://lh3.googleusercontent.com/a-/AOh14GjSJ-MfHyLlQ17ipaf3IqBsqmMEcsDxuSrwhgT_Ng=s64",
      "userId": "06438107502629971890"
     },
     "user_tz": -120
    },
    "id": "GpRFTEdONBc_",
    "outputId": "52c614c2-81f7-49e8-90d6-43003108ede1"
   },
   "outputs": [],
   "source": [
    "%tensorflow_version 2.x\n",
    "import tensorflow as tf\n",
    "print(tf.__version__)\n",
    "print(tf.test.gpu_device_name())\n",
    "print(\"Num GPUs Available: \", len(tf.config.experimental.list_physical_devices('GPU')))"
   ]
  },
  {
   "cell_type": "code",
   "execution_count": null,
   "metadata": {
    "colab": {},
    "colab_type": "code",
    "id": "jkYtMrQISOGf"
   },
   "outputs": [],
   "source": [
    "from tensorflow.keras.callbacks import Callback"
   ]
  },
  {
   "cell_type": "code",
   "execution_count": null,
   "metadata": {
    "colab": {
     "base_uri": "https://localhost:8080/",
     "height": 55
    },
    "colab_type": "code",
    "executionInfo": {
     "elapsed": 660,
     "status": "ok",
     "timestamp": 1585573754423,
     "user": {
      "displayName": "brain pinky",
      "photoUrl": "https://lh3.googleusercontent.com/a-/AOh14GjSJ-MfHyLlQ17ipaf3IqBsqmMEcsDxuSrwhgT_Ng=s64",
      "userId": "06438107502629971890"
     },
     "user_tz": -120
    },
    "id": "BZXksEzNMLGi",
    "outputId": "6732dcb8-0681-4f99-dec1-376df9230e07"
   },
   "outputs": [],
   "source": [
    "from google.colab import drive\n",
    "drive.mount('/content/drive')"
   ]
  },
  {
   "cell_type": "code",
   "execution_count": null,
   "metadata": {
    "colab": {},
    "colab_type": "code",
    "id": "TcmYyXJIMlaF"
   },
   "outputs": [],
   "source": [
    "np.random.seed(12227)"
   ]
  },
  {
   "cell_type": "code",
   "execution_count": null,
   "metadata": {
    "colab": {},
    "colab_type": "code",
    "id": "Qed4kWWBOaW0"
   },
   "outputs": [],
   "source": [
    "n_ep = 200\n",
    "loss_ = 0.2\n",
    "bs = 1000"
   ]
  },
  {
   "cell_type": "code",
   "execution_count": null,
   "metadata": {
    "colab": {},
    "colab_type": "code",
    "id": "D7k2QY9_ObD3"
   },
   "outputs": [],
   "source": [
    "def custom_stopping(value=0.5, verbose=0):\n",
    "    early = EarlyStoppingByLossVal(monitor='val_loss', value=value, verbose=verbose)\n",
    "    return early\n",
    "\n",
    "class EarlyStoppingByLossVal(Callback):\n",
    "    def __init__(self, monitor='val_acc', value=0.95, verbose=0):\n",
    "        super(Callback, self).__init__()\n",
    "        self.monitor = monitor\n",
    "        self.value = value\n",
    "        self.verbose = verbose\n",
    "\n",
    "    def on_epoch_end(self, epoch, logs={}):\n",
    "        current = logs.get(self.monitor)\n",
    "        # if current is None:\n",
    "        # warnings.warn(\"Early stopping requires %s available!\" % self.monitor, RuntimeWarning)\n",
    "\n",
    "        if current < self.value:\n",
    "            if self.verbose > 0:\n",
    "                print(\"Epoch %05d: early stopping THR\" % epoch)\n",
    "            self.model.stop_training = True"
   ]
  },
  {
   "cell_type": "code",
   "execution_count": null,
   "metadata": {
    "colab": {},
    "colab_type": "code",
    "id": "QT2MTWZdNioZ"
   },
   "outputs": [],
   "source": [
    "def DataPreparation(data_input_file,data_target_file):\n",
    "  print('Panwar  et al. 2017 {}'.format(data_input_file))\n",
    " \n",
    "  X=np.load(data_input_file)\n",
    " \n",
    "  Y = np.load(data_target_file)\n",
    " \n",
    "  return X.f.arr_0,Y.f.arr_0"
   ]
  },
  {
   "cell_type": "code",
   "execution_count": null,
   "metadata": {
    "colab": {},
    "colab_type": "code",
    "id": "THpEIkgVN6NG"
   },
   "outputs": [],
   "source": [
    "def ReportAccuracies(avg_acc, avg_recall,avg_f1):\n",
    "  ic_acc = st.t.interval(0.9, len(avg_acc) - 1, loc=np.mean(avg_acc), scale=st.sem(avg_acc))\n",
    "  ic_recall = st.t.interval(0.9, len(avg_recall) - 1, loc=np.mean(avg_recall), scale=st.sem(avg_recall))\n",
    "  ic_f1 = st.t.interval(0.9, len(avg_f1) - 1, loc=np.mean(avg_f1), scale=st.sem(avg_f1))\n",
    "  print('Mean Accuracy[{:.4f}] IC [{:.4f}, {:.4f}]'.format(np.mean(avg_acc), ic_acc[0], ic_acc[1]))\n",
    "  print('Mean Recall[{:.4f}] IC [{:.4f}, {:.4f}]'.format(np.mean(avg_recall), ic_recall[0], ic_recall[1]))\n",
    "  print('Mean F1[{:.4f}] IC [{:.4f}, {:.4f}]'.format(np.mean(avg_f1), ic_f1[0], ic_f1[1]))"
   ]
  },
  {
   "cell_type": "code",
   "execution_count": null,
   "metadata": {
    "colab": {},
    "colab_type": "code",
    "id": "aIfBC1PYN93C"
   },
   "outputs": [],
   "source": [
    "def RunPanware(data_input_file,data_target_file):\n",
    "  X,Y= DataPreparation(data_input_file,data_target_file)\n",
    "  \n",
    "  avg_acc, avg_recall,avg_f1= Train(X,Y)\n",
    "  ReportAccuracies(avg_acc, avg_recall,avg_f1 )"
   ]
  },
  {
   "cell_type": "code",
   "execution_count": null,
   "metadata": {
    "colab": {},
    "colab_type": "code",
    "id": "q6PRxFMmNKjV"
   },
   "outputs": [],
   "source": [
    "def build_model_1(row,col,num_classes,inp):\n",
    "\n",
    "  \n",
    "\n",
    " \n",
    "  layers = [\n",
    "        tf.keras.layers.Conv2D(filters=5,kernel_size=(9, 3)),\n",
    "        \n",
    "        tf.keras.layers.Conv2D(5,(5, 3)),\n",
    "        tf.keras.layers.MaxPool2D((2, 1)),\n",
    "        tf.keras.layers.Activation('relu'),      \n",
    "\n",
    "       \n",
    "\n",
    "       \n",
    "        tf.keras.layers.Flatten(),\n",
    "       \n",
    "        tf.keras.layers.Dense(num_classes, activation = 'softmax')\n",
    "    ]\n",
    "    \n",
    "  model = tf.keras.Sequential(layers)\n",
    "  return model"
   ]
  },
  {
   "cell_type": "code",
   "execution_count": null,
   "metadata": {
    "colab": {},
    "colab_type": "code",
    "id": "oYfGVIkZPyBk"
   },
   "outputs": [],
   "source": [
    "def build_model_2(row,col,num_classes):\n",
    "  tf.initializers.Orthogonal(gain=1.0, seed=None)\n",
    "  layers = [\n",
    "        tf.keras.layers.Conv2D(5,(9, 3),padding='same'),\n",
    "        tf.keras.layers.Conv2D(5,(7, 3),padding='same'),\n",
    "        tf.keras.layers.Conv2D(5,(5, 3),padding='same'),\n",
    "        tf.keras.layers.MaxPool2D((2, 1)),\n",
    "        tf.keras.layers.Activation('relu'),      \n",
    "\n",
    "       \n",
    "\n",
    "       \n",
    "        tf.keras.layers.Flatten(),\n",
    "       \n",
    "        tf.keras.layers.Dense(num_classes, activation = 'softmax')\n",
    "    ]\n",
    "    \n",
    "  model = tf.keras.Sequential(layers)\n",
    "  return model"
   ]
  },
  {
   "cell_type": "code",
   "execution_count": null,
   "metadata": {
    "colab": {},
    "colab_type": "code",
    "id": "jHwQXU4JNA3q"
   },
   "outputs": [],
   "source": [
    "from sklearn.model_selection import KFold, StratifiedKFold\n",
    "from sklearn.model_selection import train_test_split"
   ]
  },
  {
   "cell_type": "code",
   "execution_count": null,
   "metadata": {
    "colab": {},
    "colab_type": "code",
    "id": "mCn_7_plP-VC"
   },
   "outputs": [],
   "source": [
    "def Train(X,y):\n",
    "  avg_acc = []\n",
    "  avg_recall = []\n",
    "  avg_f1 = []\n",
    "  n_class = y.shape[1]\n",
    "  _, img_rows, img_cols = X.shape\n",
    "  X=X.reshape(X.shape[0],img_rows,img_cols,1)\n",
    "  \n",
    "  kf = KFold(n_splits=5, random_state=1442, shuffle=True)\n",
    "  kf.get_n_splits(X)\n",
    "  n_fold=1\n",
    "  for train_ids_indx, test_ids_indx in kf.split(X):\n",
    "   \n",
    "    X_train = X[train_ids_indx]\n",
    "    X_test = X[test_ids_indx]\n",
    "    y_train= y[train_ids_indx]\n",
    "    y_test=y[test_ids_indx]\n",
    "   \n",
    "    model=build_model_1(img_rows,img_cols,n_class,tf.keras.layers.Input((1, img_rows, img_cols)))\n",
    "   \n",
    "    model.compile(loss='categorical_crossentropy', metrics=['accuracy'], optimizer='SGD')\n",
    "    model.fit(X_train, y_train, batch_size=bs, epochs=n_ep,\n",
    "                  verbose=0, callbacks=[custom_stopping(value=loss_, verbose=1)],validation_data=(X_train,y_train))\n",
    "    y_pred = model.predict(X_test)\n",
    "    y_pred = np.argmax(y_pred, axis=1)\n",
    "    y_true = np.argmax(y_test, axis=1)\n",
    "    acc_fold = accuracy_score(y_true, y_pred)\n",
    "    avg_acc.append(acc_fold)\n",
    "    recall_fold = recall_score(y_true, y_pred, average='macro')\n",
    "    avg_recall.append(recall_fold)\n",
    "    f1_fold = f1_score(y_true, y_pred, average='macro')\n",
    "    avg_f1.append(f1_fold)\n",
    "\n",
    "    print('Accuracy[{:.4f}] Recall[{:.4f}] F1[{:.4f}] at fold[{}]'.format(acc_fold, recall_fold, f1_fold ,n_fold))\n",
    "    print('________________________________________________________________')\n",
    "    n_fold+=1\n",
    "    \n",
    "  return avg_acc, avg_recall,avg_f1"
   ]
  },
  {
   "cell_type": "code",
   "execution_count": null,
   "metadata": {
    "colab": {},
    "colab_type": "code",
    "id": "j1sMAq8YzDoI"
   },
   "outputs": [],
   "source": [
    "tf.keras.backend.set_image_data_format('channels_first')"
   ]
  },
  {
   "cell_type": "code",
   "execution_count": null,
   "metadata": {
    "colab": {
     "base_uri": "https://localhost:8080/",
     "height": 488
    },
    "colab_type": "code",
    "executionInfo": {
     "elapsed": 1312359,
     "status": "ok",
     "timestamp": 1585575093862,
     "user": {
      "displayName": "brain pinky",
      "photoUrl": "https://lh3.googleusercontent.com/a-/AOh14GjSJ-MfHyLlQ17ipaf3IqBsqmMEcsDxuSrwhgT_Ng=s64",
      "userId": "06438107502629971890"
     },
     "user_tz": -120
    },
    "id": "LI4qcHRkRtVV",
    "outputId": "24b13cdb-b4e4-4ac2-946a-811c7a269d77"
   },
   "outputs": [],
   "source": [
    "RunPanware('/content/drive/My Drive/Computer_vision_project/data/UCI_Heterogeneity /UCI_HHAR_X_2.npz','/content/drive/My Drive/Computer_vision_project/data/UCI_Heterogeneity /UCI_HHAR_Y_2.npz')"
   ]
  }
 ],
 "metadata": {
  "accelerator": "GPU",
  "colab": {
   "authorship_tag": "ABX9TyN3Ga3rA0wO9ga2K/2t3kE8",
   "collapsed_sections": [],
   "machine_shape": "hm",
   "mount_file_id": "1MP6x1Jpd04BMo85mWubLXN8Q93FvnsW1",
   "name": "Panwaretal_2017_UCI_HHAR.ipynb",
   "provenance": [],
   "toc_visible": true
  },
  "kernelspec": {
   "display_name": "Python 3",
   "language": "python",
   "name": "python3"
  },
  "language_info": {
   "codemirror_mode": {
    "name": "ipython",
    "version": 3
   },
   "file_extension": ".py",
   "mimetype": "text/x-python",
   "name": "python",
   "nbconvert_exporter": "python",
   "pygments_lexer": "ipython3",
   "version": "3.7.6"
  }
 },
 "nbformat": 4,
 "nbformat_minor": 1
}
