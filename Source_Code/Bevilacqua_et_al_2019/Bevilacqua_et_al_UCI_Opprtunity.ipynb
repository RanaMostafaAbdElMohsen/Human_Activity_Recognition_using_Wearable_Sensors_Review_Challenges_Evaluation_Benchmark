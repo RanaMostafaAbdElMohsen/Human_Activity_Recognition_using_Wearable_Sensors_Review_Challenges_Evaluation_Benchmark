{
 "cells": [
  {
   "cell_type": "code",
   "execution_count": null,
   "metadata": {
    "colab": {
     "base_uri": "https://localhost:8080/",
     "height": 419
    },
    "colab_type": "code",
    "executionInfo": {
     "elapsed": 16188,
     "status": "ok",
     "timestamp": 1584808110199,
     "user": {
      "displayName": "brain pinky",
      "photoUrl": "https://lh3.googleusercontent.com/a-/AOh14GjSJ-MfHyLlQ17ipaf3IqBsqmMEcsDxuSrwhgT_Ng=s64",
      "userId": "06438107502629971890"
     },
     "user_tz": -120
    },
    "id": "6M7j__CZS7OM",
    "outputId": "35d59951-46b4-4801-a7cc-04ac9a0eafda"
   },
   "outputs": [],
   "source": [
    "## Libraries Prequisities\n",
    "!pip install scikit-learn\n",
    "!pip install numpy==1.16.1"
   ]
  },
  {
   "cell_type": "code",
   "execution_count": null,
   "metadata": {
    "colab": {
     "base_uri": "https://localhost:8080/",
     "height": 72
    },
    "colab_type": "code",
    "executionInfo": {
     "elapsed": 1446,
     "status": "ok",
     "timestamp": 1585764477451,
     "user": {
      "displayName": "brain pinky",
      "photoUrl": "https://lh3.googleusercontent.com/a-/AOh14GjSJ-MfHyLlQ17ipaf3IqBsqmMEcsDxuSrwhgT_Ng=s64",
      "userId": "06438107502629971890"
     },
     "user_tz": -120
    },
    "id": "UTzZYqu_Kx3c",
    "outputId": "060aa0d0-5773-4b79-c6ab-b8241b3dcfd3"
   },
   "outputs": [],
   "source": [
    "import numpy as np\n",
    "import random\n",
    "from sklearn.ensemble import RandomForestClassifier, VotingClassifier\n",
    "from sklearn.metrics.classification import accuracy_score, recall_score, f1_score\n",
    "import scipy.stats as st"
   ]
  },
  {
   "cell_type": "code",
   "execution_count": null,
   "metadata": {
    "colab": {
     "base_uri": "https://localhost:8080/",
     "height": 69
    },
    "colab_type": "code",
    "executionInfo": {
     "elapsed": 9823,
     "status": "ok",
     "timestamp": 1585764485856,
     "user": {
      "displayName": "brain pinky",
      "photoUrl": "https://lh3.googleusercontent.com/a-/AOh14GjSJ-MfHyLlQ17ipaf3IqBsqmMEcsDxuSrwhgT_Ng=s64",
      "userId": "06438107502629971890"
     },
     "user_tz": -120
    },
    "id": "GpRFTEdONBc_",
    "outputId": "eae35f94-487e-401e-e78c-45020014d837"
   },
   "outputs": [],
   "source": [
    "%tensorflow_version 2.x\n",
    "import tensorflow as tf\n",
    "print(tf.__version__)\n",
    "print(tf.test.gpu_device_name())\n",
    "print(\"Num GPUs Available: \", len(tf.config.experimental.list_physical_devices('GPU')))"
   ]
  },
  {
   "cell_type": "code",
   "execution_count": null,
   "metadata": {
    "colab": {},
    "colab_type": "code",
    "id": "jkYtMrQISOGf"
   },
   "outputs": [],
   "source": [
    "from tensorflow.keras.callbacks import Callback"
   ]
  },
  {
   "cell_type": "code",
   "execution_count": null,
   "metadata": {
    "colab": {
     "base_uri": "https://localhost:8080/",
     "height": 124
    },
    "colab_type": "code",
    "executionInfo": {
     "elapsed": 32178,
     "status": "ok",
     "timestamp": 1585764508948,
     "user": {
      "displayName": "brain pinky",
      "photoUrl": "https://lh3.googleusercontent.com/a-/AOh14GjSJ-MfHyLlQ17ipaf3IqBsqmMEcsDxuSrwhgT_Ng=s64",
      "userId": "06438107502629971890"
     },
     "user_tz": -120
    },
    "id": "BZXksEzNMLGi",
    "outputId": "d1347a0a-cd78-4391-896d-afee477dab37"
   },
   "outputs": [],
   "source": [
    "from google.colab import drive\n",
    "drive.mount('/content/drive')"
   ]
  },
  {
   "cell_type": "code",
   "execution_count": null,
   "metadata": {
    "colab": {},
    "colab_type": "code",
    "id": "TcmYyXJIMlaF"
   },
   "outputs": [],
   "source": [
    "np.random.seed(12227)"
   ]
  },
  {
   "cell_type": "code",
   "execution_count": null,
   "metadata": {
    "colab": {},
    "colab_type": "code",
    "id": "Qed4kWWBOaW0"
   },
   "outputs": [],
   "source": [
    "n_ep = 200\n",
    "loss = 0.2\n",
    "bs = 1000"
   ]
  },
  {
   "cell_type": "code",
   "execution_count": null,
   "metadata": {
    "colab": {},
    "colab_type": "code",
    "id": "D7k2QY9_ObD3"
   },
   "outputs": [],
   "source": [
    "def custom_stopping(value=0.5, verbose=0):\n",
    "    early = EarlyStoppingByLossVal(monitor='val_loss', value=value, verbose=verbose)\n",
    "    return early\n",
    "\n",
    "class EarlyStoppingByLossVal(Callback):\n",
    "    def __init__(self, monitor='val_acc', value=0.95, verbose=0):\n",
    "        super(Callback, self).__init__()\n",
    "        self.monitor = monitor\n",
    "        self.value = value\n",
    "        self.verbose = verbose\n",
    "\n",
    "    def on_epoch_end(self, epoch, logs={}):\n",
    "        current = logs.get(self.monitor)\n",
    "        # if current is None:\n",
    "        # warnings.warn(\"Early stopping requires %s available!\" % self.monitor, RuntimeWarning)\n",
    "\n",
    "        if current < self.value:\n",
    "            if self.verbose > 0:\n",
    "                print(\"Epoch %05d: early stopping THR\" % epoch)\n",
    "            self.model.stop_training = True"
   ]
  },
  {
   "cell_type": "code",
   "execution_count": null,
   "metadata": {
    "colab": {},
    "colab_type": "code",
    "id": "QT2MTWZdNioZ"
   },
   "outputs": [],
   "source": [
    "def DataPreparation(data_input_file,data_target_file,test_file,test_target_file):\n",
    "  print('Bevilacqua  et al. 2019 {}'.format(data_input_file))\n",
    "  # data = np.load(data_input_file)\n",
    "  # X = data['X']\n",
    "  X=np.load(data_input_file)\n",
    "  # X = X[:, 0, :, :]\n",
    "  Y = np.load(data_target_file)\n",
    "  # folds = data['folds']\n",
    "  # classes_number = Y.shape[1]\n",
    "  # Y = np.argmax(Y, axis=1)\n",
    "  X_test=np.load(test_file)\n",
    "  Y_test=np.load(test_target_file)\n",
    "  return X.f.arr_0,Y.f.arr_0, X_test.f.arr_0,Y_test.f.arr_0"
   ]
  },
  {
   "cell_type": "code",
   "execution_count": null,
   "metadata": {
    "colab": {
     "base_uri": "https://localhost:8080/",
     "height": 35
    },
    "colab_type": "code",
    "executionInfo": {
     "elapsed": 3480,
     "status": "ok",
     "timestamp": 1584808177711,
     "user": {
      "displayName": "brain pinky",
      "photoUrl": "https://lh3.googleusercontent.com/a-/AOh14GjSJ-MfHyLlQ17ipaf3IqBsqmMEcsDxuSrwhgT_Ng=s64",
      "userId": "06438107502629971890"
     },
     "user_tz": -120
    },
    "id": "eWh0JIgOsbkM",
    "outputId": "436381a6-2bb1-46fc-ad2a-688ee94568fd"
   },
   "outputs": [],
   "source": [
    "X,Y,f=DataPreparation('/content/drive/My Drive/Computer_vision_project/data/LOSO/MHEALTH.npz')"
   ]
  },
  {
   "cell_type": "code",
   "execution_count": null,
   "metadata": {
    "colab": {
     "base_uri": "https://localhost:8080/",
     "height": 35
    },
    "colab_type": "code",
    "executionInfo": {
     "elapsed": 682,
     "status": "ok",
     "timestamp": 1584804286623,
     "user": {
      "displayName": "brain pinky",
      "photoUrl": "https://lh3.googleusercontent.com/a-/AOh14GjSJ-MfHyLlQ17ipaf3IqBsqmMEcsDxuSrwhgT_Ng=s64",
      "userId": "06438107502629971890"
     },
     "user_tz": -120
    },
    "id": "gKhxxWF0sWgH",
    "outputId": "bb9398a6-bd35-4733-cd41-365e7c4659e4"
   },
   "outputs": [],
   "source": [
    "print(X[2].shape)"
   ]
  },
  {
   "cell_type": "code",
   "execution_count": null,
   "metadata": {
    "colab": {},
    "colab_type": "code",
    "id": "THpEIkgVN6NG"
   },
   "outputs": [],
   "source": [
    "def ReportAccuracies(avg_acc, avg_recall,avg_f1):\n",
    "  ic_acc = st.t.interval(0.9, len(avg_acc) - 1, loc=np.mean(avg_acc), scale=st.sem(avg_acc))\n",
    "  ic_recall = st.t.interval(0.9, len(avg_recall) - 1, loc=np.mean(avg_recall), scale=st.sem(avg_recall))\n",
    "  ic_f1 = st.t.interval(0.9, len(avg_f1) - 1, loc=np.mean(avg_f1), scale=st.sem(avg_f1))\n",
    "  print('Mean Accuracy[{:.4f}] IC [{:.4f}, {:.4f}]'.format(np.mean(avg_acc), ic_acc[0], ic_acc[1]))\n",
    "  print('Mean Recall[{:.4f}] IC [{:.4f}, {:.4f}]'.format(np.mean(avg_recall), ic_recall[0], ic_recall[1]))\n",
    "  print('Mean F1[{:.4f}] IC [{:.4f}, {:.4f}]'.format(np.mean(avg_f1), ic_f1[0], ic_f1[1]))"
   ]
  },
  {
   "cell_type": "code",
   "execution_count": null,
   "metadata": {
    "colab": {},
    "colab_type": "code",
    "id": "aIfBC1PYN93C"
   },
   "outputs": [],
   "source": [
    "def RunBevilacqua(data_input_file,data_target_file,test_file,test_target_file):\n",
    "  X,Y,X_test,Y_test= DataPreparation(data_input_file,data_target_file,test_file,test_target_file)\n",
    "  avg_acc, avg_recall,avg_f1= Train(X,Y,X_test,Y_test)\n",
    "  ReportAccuracies(avg_acc, avg_recall,avg_f1 )"
   ]
  },
  {
   "cell_type": "code",
   "execution_count": null,
   "metadata": {
    "colab": {},
    "colab_type": "code",
    "id": "q6PRxFMmNKjV"
   },
   "outputs": [],
   "source": [
    "def build_model_1(row,col,num_classes):\n",
    "  layers = [\n",
    "        tf.keras.layers.Conv2D(filters=10,kernel_size=(3, 5), activation = tf.nn.relu),\n",
    "        tf.keras.layers.BatchNormalization(),\n",
    "        tf.keras.layers.MaxPool2D(pool_size=(3,3),strides = 1),\n",
    "\n",
    "        tf.keras.layers.Conv2D(filters=2,kernel_size=(2, 4),activation = tf.nn.relu),\n",
    "        tf.keras.layers.BatchNormalization(),\n",
    "        tf.keras.layers.MaxPool2D(pool_size=(2,2),strides = 1),\n",
    "\n",
    "        tf.keras.layers.Conv2D(filters=2,kernel_size=(2, 2),activation = tf.nn.relu),\n",
    "        tf.keras.layers.BatchNormalization(),\n",
    "        tf.keras.layers.MaxPool2D(pool_size=(3,2),strides = 1),\n",
    "      \n",
    "        tf.keras.layers.Flatten(),\n",
    "        tf.keras.layers.Dense(500, activation = tf.nn.relu),\n",
    "        tf.keras.layers.Dropout(0.5),\n",
    "        tf.keras.layers.Dense(25, activation = tf.nn.relu),\n",
    "        tf.keras.layers.Dropout(0.5),\n",
    "       \n",
    "        tf.keras.layers.Dense(num_classes, activation = 'softmax')\n",
    "    ]\n",
    "    \n",
    "  model = tf.keras.Sequential(layers)\n",
    "  return model"
   ]
  },
  {
   "cell_type": "code",
   "execution_count": null,
   "metadata": {
    "colab": {},
    "colab_type": "code",
    "id": "TA0VlxYrnjJ0"
   },
   "outputs": [],
   "source": [
    "from sklearn.model_selection import KFold, StratifiedKFold\n",
    "from sklearn.model_selection import train_test_split"
   ]
  },
  {
   "cell_type": "code",
   "execution_count": null,
   "metadata": {
    "colab": {},
    "colab_type": "code",
    "id": "mCn_7_plP-VC"
   },
   "outputs": [],
   "source": [
    "def Train(X,y,X_test,Y_test):\n",
    "  avg_acc = []\n",
    "  avg_recall = []\n",
    "  avg_f1 = []\n",
    "  n_class = y.shape[1]\n",
    "  _,img_rows, img_cols = X.shape\n",
    "  X=X.reshape(X.shape[0],img_rows,img_cols,1)\n",
    "  _,img_rows_, img_cols_ = X_test.shape\n",
    "  X_test=X_test.reshape(X_test.shape[0],img_rows_,img_cols_,1)\n",
    "  print(X.shape)\n",
    "  kf = KFold(n_splits=5, random_state=1442, shuffle=True)\n",
    "  kf.get_n_splits(X)\n",
    "  n_fold=1\n",
    "  for train_ids_indx, valid_ids_indx in kf.split(X):\n",
    "    \n",
    "    X_train = X[train_ids_indx]\n",
    "    X_valid = X[valid_ids_indx]\n",
    "    y_train= y[train_ids_indx]\n",
    "    y_valid=y[valid_ids_indx]\n",
    "\n",
    "    # train_idx = folds[i][0]\n",
    "    # test_idx = folds[i][1]\n",
    "    # X_train = X[train_idx]\n",
    "    # X_test = X[test_idx]\n",
    "    model=build_model_1(img_rows,img_cols,n_class)\n",
    "    # print(model.summary)\n",
    "    model.compile(loss='categorical_crossentropy', metrics=['accuracy'], optimizer='Adam')\n",
    "    model.fit(X_train, y_train, batch_size=64, epochs=300 ,validation_data=(X_valid, y_valid))\n",
    "    y_pred = model.predict(X_test)\n",
    "    y_pred = np.argmax(y_pred, axis=1)\n",
    "    y_true = np.argmax(Y_test, axis=1)\n",
    "    acc_fold = accuracy_score(y_true, y_pred)\n",
    "    avg_acc.append(acc_fold)\n",
    "    recall_fold = recall_score(y_true, y_pred, average='macro')\n",
    "    avg_recall.append(recall_fold)\n",
    "    f1_fold = f1_score(y_true, y_pred, average='macro')\n",
    "    avg_f1.append(f1_fold)\n",
    "    print('Accuracy[{:.4f}] Recall[{:.4f}] F1[{:.4f}] at fold[{}]'.format(acc_fold, recall_fold, f1_fold ,n_fold))\n",
    "    print('________________________________________________________________')\n",
    "    n_fold+=1\n",
    "    \n",
    "  return avg_acc, avg_recall,avg_f1"
   ]
  },
  {
   "cell_type": "code",
   "execution_count": null,
   "metadata": {
    "colab": {},
    "colab_type": "code",
    "id": "UGkZqPC30-RN"
   },
   "outputs": [],
   "source": [
    "tf.keras.backend.set_image_data_format('channels_first')"
   ]
  },
  {
   "cell_type": "code",
   "execution_count": null,
   "metadata": {
    "colab": {
     "base_uri": "https://localhost:8080/",
     "height": 1000
    },
    "colab_type": "code",
    "executionInfo": {
     "elapsed": 6230512,
     "status": "ok",
     "timestamp": 1585770922527,
     "user": {
      "displayName": "brain pinky",
      "photoUrl": "https://lh3.googleusercontent.com/a-/AOh14GjSJ-MfHyLlQ17ipaf3IqBsqmMEcsDxuSrwhgT_Ng=s64",
      "userId": "06438107502629971890"
     },
     "user_tz": -120
    },
    "id": "LI4qcHRkRtVV",
    "outputId": "e9f8ddf7-67f3-474b-ca3e-d1185c4d9454"
   },
   "outputs": [],
   "source": [
    "RunBevilacqua('/content/drive/My Drive/Computer_vision_project/data/Opportunity/Opportunity_train_X.npz','/content/drive/My Drive/Computer_vision_project/data/Opportunity/Opportunity_train_y.npz','/content/drive/My Drive/Computer_vision_project/data/Opportunity/Opportunity_test_X.npz','/content/drive/My Drive/Computer_vision_project/data/Opportunity/Opportunity_test_Y.npz')"
   ]
  }
 ],
 "metadata": {
  "accelerator": "GPU",
  "colab": {
   "authorship_tag": "ABX9TyMj9zi6K/BNB45C00ZER/sI",
   "collapsed_sections": [],
   "name": "Bevilacqua_et_al_UCI_Opprtunity.ipynb",
   "provenance": []
  },
  "kernelspec": {
   "display_name": "Python 3",
   "language": "python",
   "name": "python3"
  },
  "language_info": {
   "codemirror_mode": {
    "name": "ipython",
    "version": 3
   },
   "file_extension": ".py",
   "mimetype": "text/x-python",
   "name": "python",
   "nbconvert_exporter": "python",
   "pygments_lexer": "ipython3",
   "version": "3.6.8"
  }
 },
 "nbformat": 4,
 "nbformat_minor": 1
}
