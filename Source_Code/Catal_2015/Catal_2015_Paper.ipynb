{
 "cells": [
  {
   "cell_type": "code",
   "execution_count": null,
   "metadata": {
    "colab": {},
    "colab_type": "code",
    "id": "JFZtm7ke4gU0"
   },
   "outputs": [],
   "source": [
    "## Cat et al 2015 Paper\n",
    "## Doi : https://doi.org/10.1016/j.asoc.2015.01.025"
   ]
  },
  {
   "cell_type": "code",
   "execution_count": null,
   "metadata": {
    "colab": {},
    "colab_type": "code",
    "id": "ZjYljx0QF6k_"
   },
   "outputs": [],
   "source": [
    "## Libraries Prequisities\n",
    "!pip install scikit-learn\n",
    "!pip install numpy==1.16.1"
   ]
  },
  {
   "cell_type": "code",
   "execution_count": null,
   "metadata": {
    "colab": {
     "base_uri": "https://localhost:8080/",
     "height": 34
    },
    "colab_type": "code",
    "executionInfo": {
     "elapsed": 1138,
     "status": "ok",
     "timestamp": 1585759446493,
     "user": {
      "displayName": "Rana mostafa",
      "photoUrl": "https://lh3.googleusercontent.com/a-/AOh14GhpLWLhJYcXKOOp7sprSKwnxN-x9hYM61yh__9kww=s64",
      "userId": "07598775866819373078"
     },
     "user_tz": -120
    },
    "id": "A85PVLVMFY6m",
    "outputId": "14fc2233-1ab5-456b-9cdc-4bf4c7865f21"
   },
   "outputs": [],
   "source": [
    "from google.colab import drive\n",
    "drive.mount('/content/drive')"
   ]
  },
  {
   "cell_type": "code",
   "execution_count": null,
   "metadata": {
    "colab": {
     "base_uri": "https://localhost:8080/",
     "height": 34
    },
    "colab_type": "code",
    "executionInfo": {
     "elapsed": 4529,
     "status": "ok",
     "timestamp": 1585759458824,
     "user": {
      "displayName": "Rana mostafa",
      "photoUrl": "https://lh3.googleusercontent.com/a-/AOh14GhpLWLhJYcXKOOp7sprSKwnxN-x9hYM61yh__9kww=s64",
      "userId": "07598775866819373078"
     },
     "user_tz": -120
    },
    "id": "8AfgvasZFsRq",
    "outputId": "8d4b25e8-0e47-4508-88bd-11200369a042"
   },
   "outputs": [],
   "source": [
    "import os\n",
    "os.chdir(\"/content/drive/\")\n",
    "!ls"
   ]
  },
  {
   "cell_type": "code",
   "execution_count": null,
   "metadata": {
    "colab": {},
    "colab_type": "code",
    "id": "uoAtW0kVFuSH"
   },
   "outputs": [],
   "source": [
    "import os\n",
    "os.chdir(\"My Drive/Computer_Vision_Masters/Wearable_Sensors_Code/\")"
   ]
  },
  {
   "cell_type": "code",
   "execution_count": null,
   "metadata": {
    "colab": {},
    "colab_type": "code",
    "id": "PUHzeSKcHObb"
   },
   "outputs": [],
   "source": [
    "## Libraries\n",
    "import numpy as np\n",
    "from sklearn.ensemble import RandomForestClassifier, VotingClassifier\n",
    "from sklearn.metrics.classification import accuracy_score, recall_score, f1_score\n",
    "import scipy.stats as st\n",
    "import sys\n",
    "import warnings\n",
    "warnings.filterwarnings('ignore')\n",
    "np.random.seed(12227)"
   ]
  },
  {
   "cell_type": "code",
   "execution_count": null,
   "metadata": {
    "colab": {},
    "colab_type": "code",
    "id": "qNyVFynAGgkK"
   },
   "outputs": [],
   "source": [
    "## Catal_2015 Paper"
   ]
  },
  {
   "cell_type": "code",
   "execution_count": null,
   "metadata": {
    "colab": {},
    "colab_type": "code",
    "id": "qvewpe-KLN4j"
   },
   "outputs": [],
   "source": [
    "def RunOpportunity():\n",
    "  X_train,Y_train,X_test,Y_test=OpportunityDataSetAnalysis()\n",
    "  TrainAndTestOpportunity(X_train,Y_train,X_test,Y_test)"
   ]
  },
  {
   "cell_type": "code",
   "execution_count": null,
   "metadata": {
    "colab": {},
    "colab_type": "code",
    "id": "AUqlj89NG0r7"
   },
   "outputs": [],
   "source": [
    "def DataSetAnalysis(data_input_file):\n",
    "  data = np.load(data_input_file)\n",
    "  # DataSet of 2555 Rows\n",
    "  # Each Row consists of 3 columns\n",
    "  ## X, y, folds\n",
    "  ## For X set -> 2555 rows\n",
    "  ##  Each row has 5750 elements\n",
    "  X = data['X']\n",
    "  print(\"Length of X: \",len(X))\n",
    "  print(\"Size of X[0]: \",X[0].size)\n",
    "  print(\"X Shape before reshape: \",X.shape)\n",
    "  X = X[:, 0, :, :]\n",
    "  print(\"X Shape after reshape: \",X.shape)\n",
    "  ## For Y set -> 2555 rows\n",
    "  ## Each row has 12 elements\n",
    "  ## Since we have 12 classes so it is hot vector of 12\n",
    "  Y = data['y']\n",
    "  print(\"Length of Y: \", len(Y))\n",
    "  print(\"First Element Y size: \",Y[0].size)\n",
    "  print(\"First Element Size: \" ,Y[0])\n",
    "  ## Folds 2D array that contains\n",
    "  ##    1- Number of Folds for cross Validation\n",
    "  ##    2- Data Size for Train + Test\n",
    "  ##    3- Folds[][0]-> Data for Train\n",
    "  ##    4- Folds[][1] -> Data for Test\n",
    "  ##    \n",
    "  folds = data['folds']\n",
    "  print(\"Length of Folds: \",len(folds))\n",
    "  print(\"Sample of Train Data: \",folds[1][0])\n",
    "  print(\"Sample of Test Data: \",folds[1][1])\n",
    "  print(\"Length Sample of Train Data: \",len(folds[1][0]))\n",
    "  print(\"Length Sample of Test Data: \",len(folds[1][1]))\n",
    "  classes_number = Y.shape[1]\n",
    "  print(\"Number of Classes: \", classes_number)\n",
    "  train_idx = folds[0][0]\n",
    "  test_idx = folds[0][1]\n",
    "  X_train = feature_extraction(X[train_idx])\n",
    "  print('Train X element 0: ', X_train[0])\n",
    "  print(\"Train X Index shape: \", X_train.shape)\n",
    "  print(\"Train Y Index shape: \", Y[train_idx].shape)\n",
    "  "
   ]
  },
  {
   "cell_type": "code",
   "execution_count": null,
   "metadata": {
    "colab": {},
    "colab_type": "code",
    "id": "o-q9tuwxy9Lq"
   },
   "outputs": [],
   "source": [
    "def TrainDataAnalysis():\n",
    "  train_idx = folds[0][0]\n",
    "  test_idx = folds[0][1]\n",
    "\n",
    "  print(\"Train Index shape: \", train_idx.shape)\n",
    "  print(\"Test Index shape: \", test_idx.shape)\n",
    "\n",
    "  X_train = X[train_idx]\n",
    "  X_test = X[test_idx]\n",
    "\n",
    "  print(\"Train shape before Feature Extraction: \", X_train.shape)\n",
    "  print(\"Test shape before Feature Extraction: \", X_test.shape)\n",
    "\n",
    "  X_train = feature_extraction(X_train)\n",
    "  X_test = feature_extraction(X_test)\n",
    "\n",
    "  print(\"Train shape after Feature Extraction: \", X_train.shape)\n",
    "  print(\"Test shape after Feature Extraction: \", X_test.shape)"
   ]
  },
  {
   "cell_type": "code",
   "execution_count": null,
   "metadata": {
    "colab": {
     "base_uri": "https://localhost:8080/",
     "height": 1000
    },
    "colab_type": "code",
    "executionInfo": {
     "elapsed": 9224,
     "status": "ok",
     "timestamp": 1585408550459,
     "user": {
      "displayName": "Rana mostafa",
      "photoUrl": "https://lh3.googleusercontent.com/a-/AOh14GhpLWLhJYcXKOOp7sprSKwnxN-x9hYM61yh__9kww=s64",
      "userId": "07598775866819373078"
     },
     "user_tz": -120
    },
    "id": "cR64FIbYw_yM",
    "outputId": "4c1f8891-1dc9-41f6-a34b-f55c4b4a01c2"
   },
   "outputs": [],
   "source": [
    "DataSetAnalysis('data/LOSO/USCHAD.npz')"
   ]
  },
  {
   "cell_type": "code",
   "execution_count": null,
   "metadata": {
    "colab": {
     "base_uri": "https://localhost:8080/",
     "height": 121
    },
    "colab_type": "code",
    "executionInfo": {
     "elapsed": 4126,
     "status": "ok",
     "timestamp": 1584722567313,
     "user": {
      "displayName": "Rana mostafa",
      "photoUrl": "https://lh3.googleusercontent.com/a-/AOh14GhpLWLhJYcXKOOp7sprSKwnxN-x9hYM61yh__9kww=s64",
      "userId": "07598775866819373078"
     },
     "user_tz": -120
    },
    "id": "HbcGv7gP0sGV",
    "outputId": "91ef83b8-bc5f-46bf-c3d4-4ce17d165cba"
   },
   "outputs": [],
   "source": [
    "TrainDataAnalysis()"
   ]
  },
  {
   "cell_type": "code",
   "execution_count": null,
   "metadata": {
    "colab": {},
    "colab_type": "code",
    "id": "E2MXnqZ4Ri7F"
   },
   "outputs": [],
   "source": [
    "def A(sample):\n",
    "    feat = []\n",
    "    for col in range(0,sample.shape[1]):\n",
    "        average = np.average(sample[:,col])\n",
    "        feat.append(average)\n",
    "\n",
    "    return feat\n",
    "\n",
    "def SD(sample):\n",
    "    feat = []\n",
    "    for col in range(0, sample.shape[1]):\n",
    "        std = np.std(sample[:, col])\n",
    "        feat.append(std)\n",
    "\n",
    "    return feat\n",
    "\n",
    "def AAD(sample):\n",
    "    feat = []\n",
    "    for col in range(0, sample.shape[1]):\n",
    "        data = sample[:, col]\n",
    "        add = np.mean(np.absolute(data - np.mean(data)))\n",
    "        feat.append(add)\n",
    "\n",
    "    return feat\n",
    "\n",
    "def ARA(sample):\n",
    "    #Average Resultant Acceleration[1]:\n",
    "    # Average of the square roots of the sum of the values of each axis squared √(xi^2 + yi^2+ zi^2) over the ED\n",
    "    feat = []\n",
    "    sum_square = 0\n",
    "    sample = np.power(sample, 2)\n",
    "    for col in range(0, sample.shape[1]):\n",
    "        sum_square = sum_square + sample[:, col]\n",
    "\n",
    "    sample = np.sqrt(sum_square)\n",
    "    average = np.average(sample)\n",
    "    feat.append(average)\n",
    "    return feat\n",
    "\n",
    "def TBP(sample):\n",
    "    from scipy import signal\n",
    "    feat = []\n",
    "    sum_of_time = 0\n",
    "    for col in range(0, sample.shape[1]):\n",
    "        data = sample[:, col]\n",
    "        peaks = signal.find_peaks_cwt(data, np.arange(1,4))\n",
    "\n",
    "        feat.append(peaks)\n",
    "\n",
    "    return feat"
   ]
  },
  {
   "cell_type": "code",
   "execution_count": null,
   "metadata": {
    "colab": {},
    "colab_type": "code",
    "id": "fBUiuClbp9qX"
   },
   "outputs": [],
   "source": [
    "## Feature Extraction\n",
    "\n",
    "def feature_extraction(X):\n",
    "    # Extracts the features, as mentioned by Catal et al. 2015\n",
    "    # Average - A,\n",
    "    # Standard Deviation - SD,\n",
    "    # Average Absolute Difference - AAD,\n",
    "    # Average Resultant Acceleration - ARA(1),\n",
    "    # Time Between Peaks - TBP\n",
    "    X_tmp = []\n",
    "    for sample in X:\n",
    "        features = A(sample)\n",
    "        features = np.hstack((features, A(sample)))\n",
    "        features = np.hstack((features, SD(sample)))\n",
    "        features = np.hstack((features, AAD(sample)))\n",
    "        features = np.hstack((features, ARA(sample)))\n",
    "        #features = np.hstack((features, TBP(sample)))\n",
    "        X_tmp.append(features)\n",
    "\n",
    "    X = np.array(X_tmp)\n",
    "    return X"
   ]
  },
  {
   "cell_type": "code",
   "execution_count": null,
   "metadata": {
    "colab": {},
    "colab_type": "code",
    "id": "iRcE1uLfqMzC"
   },
   "outputs": [],
   "source": [
    "# Classical Machine Learning Algos\n",
    "def train_j48(X, y):\n",
    "    from sklearn import tree\n",
    "    clf = tree.DecisionTreeClassifier()\n",
    "    #clf = clf.fit(X, y)\n",
    "    return clf\n",
    "\n",
    "def train_mlp(X, y):\n",
    "    from sklearn.neural_network import MLPClassifier\n",
    "    a = int((X.shape[1] + np.amax(y)) / 2 )#Default param of weka, amax(y) gets the number of classes\n",
    "    clf = MLPClassifier(solver='lbfgs', alpha=1e-5, hidden_layer_sizes = (a,),\n",
    "                        learning_rate_init=0.3, momentum=0.2, max_iter=500, #Default param of weka\n",
    "                        )\n",
    "    #clf.fit(X, y)\n",
    "    return clf\n",
    "\n",
    "def train_logistic_regression(X, y):\n",
    "    from sklearn.linear_model import LogisticRegression\n",
    "    clf = LogisticRegression(multi_class='ovr')\n",
    "    #clf.fit(X, y)\n",
    "    return clf"
   ]
  },
  {
   "cell_type": "code",
   "execution_count": null,
   "metadata": {
    "colab": {},
    "colab_type": "code",
    "id": "YYmstjjE1-Ti"
   },
   "outputs": [],
   "source": [
    "def DataPreparation(data_input_file):\n",
    "  print('Catal et al. 2015 {}'.format(data_input_file))\n",
    "  data = np.load(data_input_file)\n",
    "  X = data['X']\n",
    "  X = X[:, 0, :, :]\n",
    "  Y = data['y']\n",
    "  folds = data['folds']\n",
    "  classes_number = Y.shape[1]\n",
    "  Y = np.argmax(Y, axis=1)\n",
    "  return X,Y,folds"
   ]
  },
  {
   "cell_type": "code",
   "execution_count": null,
   "metadata": {
    "colab": {},
    "colab_type": "code",
    "id": "TDpyDfIMrWpy"
   },
   "outputs": [],
   "source": [
    "def Train(X,Y,folds):\n",
    "  avg_acc = []\n",
    "  avg_recall = []\n",
    "  avg_f1 = []\n",
    "  for i in range(0, len(folds)):\n",
    "          train_idx = folds[i][0]\n",
    "          test_idx = folds[i][1]\n",
    "\n",
    "          X_train = X[train_idx]\n",
    "          X_test = X[test_idx]\n",
    "\n",
    "          X_train = feature_extraction(X_train)\n",
    "          X_test = feature_extraction(X_test)\n",
    "\n",
    "          j_48 = train_j48(X_train,Y[train_idx])\n",
    "          mlp = train_mlp(X_train, Y[train_idx])\n",
    "          logistic_regression = train_logistic_regression(X_train, Y[train_idx])\n",
    "\n",
    "          majority_voting = VotingClassifier(estimators=[('dt', j_48), ('mlp', mlp), ('lr', logistic_regression)], voting='soft')\n",
    "          majority_voting.fit(X_train, Y[train_idx])\n",
    "          tmp = majority_voting.predict(X_test)\n",
    "\n",
    "          acc_fold = accuracy_score(Y[test_idx], tmp)\n",
    "          avg_acc.append(acc_fold)\n",
    "\n",
    "          recall_fold = recall_score(Y[test_idx], tmp, average='macro')\n",
    "          avg_recall.append(recall_fold)\n",
    "\n",
    "          f1_fold  = f1_score(Y[test_idx], tmp, average='macro')\n",
    "          avg_f1.append(f1_fold)\n",
    "\n",
    "          print('Accuracy[{:.4f}] Recall[{:.4f}] F1[{:.4f}] at fold[{}]'.format(acc_fold, recall_fold, f1_fold ,i+1))\n",
    "          print('________________________________________________________________')\n",
    "    \n",
    "  return avg_acc, avg_recall,avg_f1    "
   ]
  },
  {
   "cell_type": "code",
   "execution_count": null,
   "metadata": {
    "colab": {},
    "colab_type": "code",
    "id": "C7KgfzEqsZMH"
   },
   "outputs": [],
   "source": [
    "def ReportAccuracies(avg_acc, avg_recall,avg_f1):\n",
    "  ic_acc = st.t.interval(0.9, len(avg_acc) - 1, loc=np.mean(avg_acc), scale=st.sem(avg_acc))\n",
    "  ic_recall = st.t.interval(0.9, len(avg_recall) - 1, loc=np.mean(avg_recall), scale=st.sem(avg_recall))\n",
    "  ic_f1 = st.t.interval(0.9, len(avg_f1) - 1, loc=np.mean(avg_f1), scale=st.sem(avg_f1))\n",
    "  print('Mean Accuracy[{:.4f}] IC [{:.4f}, {:.4f}]'.format(np.mean(avg_acc), ic_acc[0], ic_acc[1]))\n",
    "  print('Mean Recall[{:.4f}] IC [{:.4f}, {:.4f}]'.format(np.mean(avg_recall), ic_recall[0], ic_recall[1]))\n",
    "  print('Mean F1[{:.4f}] IC [{:.4f}, {:.4f}]'.format(np.mean(avg_f1), ic_f1[0], ic_f1[1]))"
   ]
  },
  {
   "cell_type": "code",
   "execution_count": null,
   "metadata": {
    "colab": {},
    "colab_type": "code",
    "id": "xqYgKNOE-hHR"
   },
   "outputs": [],
   "source": [
    "def OpportunityDataSetAnalysis():\n",
    "  X_train=np.load('data/Opportunity/Opportunity_train_X.npz')['arr_0']\n",
    "  X_test=np.load('data/Opportunity/Opportunity_test_X.npz')['arr_0']\n",
    "  Y_train=np.load('data/Opportunity/Opportunity_train_y.npz')['arr_0']\n",
    "  Y_test=np.load('data/Opportunity/Opportunity_test_Y.npz')['arr_0']\n",
    "  Y_train = np.argmax(Y_train, axis=1)\n",
    "  Y_test = np.argmax(Y_test, axis=1)\n",
    "  return X_train,Y_train,X_test,Y_test"
   ]
  },
  {
   "cell_type": "code",
   "execution_count": null,
   "metadata": {
    "colab": {},
    "colab_type": "code",
    "id": "Ev8TEHvmfOZl"
   },
   "outputs": [],
   "source": [
    "def UCIHeterognityDataSetAnalysis():\n",
    "  XDataSet=np.load('data/UCI_Heterognity/UCI_HHAR_X_2.npz')['arr_0']\n",
    "  YDataSet=np.load('data/UCI_Heterognity/UCI_HHAR_Y_2.npz')['arr_0']\n",
    "  XDataSet = np.argmax(XDataSet, axis=1)\n",
    "  YDataSet = np.argmax(YDataSet, axis=1)\n",
    "  from sklearn.model_selection import train_test_split\n",
    "  X_train,Y_train, X_test, Y_test = train_test_split(XDataSet, YDataSet, test_size=0.2, random_state=42)\n",
    "  return X_train,Y_train,X_test,Y_test"
   ]
  },
  {
   "cell_type": "code",
   "execution_count": null,
   "metadata": {
    "colab": {},
    "colab_type": "code",
    "id": "m_DFzroJnaWd"
   },
   "outputs": [],
   "source": [
    "def UCIHeterognityDataSetAnalysisNonOverlapping():\n",
    "  XDataSet=np.load('data/UCI_Heterognity/UCI_HHAR_X.npz')['arr_0']\n",
    "  YDataSet=np.load('data/UCI_Heterognity/UCI_HHAR_Y.npz')['arr_0']\n",
    "  XDataSet = np.argmax(XDataSet, axis=1)\n",
    "  YDataSet = np.argmax(YDataSet, axis=1)\n",
    "  from sklearn.model_selection import train_test_split\n",
    "  X_train,Y_train, X_test, Y_test = train_test_split(XDataSet, YDataSet, test_size=0.2, random_state=42)\n",
    "  return X_train,Y_train,X_test,Y_test"
   ]
  },
  {
   "cell_type": "code",
   "execution_count": null,
   "metadata": {
    "colab": {},
    "colab_type": "code",
    "id": "sIRb2YPG2WWv"
   },
   "outputs": [],
   "source": [
    "def RunCatal(data_input_file):\n",
    "  X,Y,folds= DataPreparation(data_input_file)\n",
    "  avg_acc, avg_recall,avg_f1= Train(X,Y,folds)\n",
    "  ReportAccuracies(avg_acc, avg_recall,avg_f1 )"
   ]
  },
  {
   "cell_type": "code",
   "execution_count": null,
   "metadata": {
    "colab": {},
    "colab_type": "code",
    "id": "OWw0vE3mBKp0"
   },
   "outputs": [],
   "source": [
    "def TrainAndTestOpportunity(X_train,Y_train,X_test,Y_test):\n",
    "    X_train = feature_extraction(X_train)\n",
    "    X_test = feature_extraction(X_test)\n",
    "\n",
    "    j_48 = train_j48(X_train,Y_train)\n",
    "    mlp = train_mlp(X_train, Y_train)\n",
    "    logistic_regression = train_logistic_regression(X_train, Y_train)\n",
    "\n",
    "    majority_voting = VotingClassifier(estimators=[('dt', j_48), ('mlp', mlp), ('lr', logistic_regression)], voting='soft')\n",
    "    majority_voting.fit(X_train, Y_train)\n",
    "    tmp = majority_voting.predict(X_test)\n",
    "\n",
    "    acc = accuracy_score(Y_test, tmp)\n",
    "\n",
    "    recall = recall_score(Y_test, tmp, average='macro')\n",
    "\n",
    "    f1 = f1_score(Y_test, tmp, average='macro')\n",
    "\n",
    "    print('Accuracy[{:.4f}] Recall[{:.4f}] F1[{:.4f}]'.format(acc, recall, f1))\n",
    "    print('________________________________________________________________') "
   ]
  },
  {
   "cell_type": "code",
   "execution_count": null,
   "metadata": {
    "colab": {},
    "colab_type": "code",
    "id": "9YUCkVqMh5fn"
   },
   "outputs": [],
   "source": [
    "def TrainAndTestUCI(X_train,Y_train,X_test,Y_test):\n",
    "    j_48 = train_j48(X_train,Y_train)\n",
    "    mlp = train_mlp(X_train, Y_train)\n",
    "    logistic_regression = train_logistic_regression(X_train, Y_train)\n",
    "\n",
    "    majority_voting = VotingClassifier(estimators=[('dt', j_48), ('mlp', mlp), ('lr', logistic_regression)], voting='soft')\n",
    "    majority_voting.fit(X_train, Y_train)\n",
    "    tmp = majority_voting.predict(X_test)\n",
    "\n",
    "    acc = accuracy_score(Y_test, tmp)\n",
    "\n",
    "    recall = recall_score(Y_test, tmp, average='macro')\n",
    "\n",
    "    f1 = f1_score(Y_test, tmp, average='macro')\n",
    "\n",
    "    print('Accuracy[{:.4f}] Recall[{:.4f}] F1[{:.4f}]'.format(acc, recall, f1))\n",
    "    print('________________________________________________________________') "
   ]
  },
  {
   "cell_type": "code",
   "execution_count": null,
   "metadata": {
    "colab": {},
    "colab_type": "code",
    "id": "hBAWeGgZgbG-"
   },
   "outputs": [],
   "source": [
    "def RunUCIHeterognity():\n",
    "  X_train, X_test, Y_train, Y_test=UCIHeterognityDataSetAnalysis()\n",
    "  print(X_train.shape,Y_train.shape)\n",
    "  print(X_test.shape,Y_test.shape)\n",
    "  TrainAndTestUCI(X_train,Y_train,X_test,Y_test)"
   ]
  },
  {
   "cell_type": "code",
   "execution_count": null,
   "metadata": {
    "colab": {},
    "colab_type": "code",
    "id": "RseQsMs0nOKX"
   },
   "outputs": [],
   "source": [
    "def RunUCIHeterognityNonOverlapping():\n",
    "  X_train, X_test, Y_train, Y_test=UCIHeterognityDataSetAnalysisNonOverlapping()\n",
    "  print(X_train.shape,Y_train.shape)\n",
    "  print(X_test.shape,Y_test.shape)\n",
    "  TrainAndTestUCI(X_train,Y_train,X_test,Y_test)"
   ]
  },
  {
   "cell_type": "code",
   "execution_count": null,
   "metadata": {
    "colab": {
     "base_uri": "https://localhost:8080/",
     "height": 86
    },
    "colab_type": "code",
    "executionInfo": {
     "elapsed": 210347,
     "status": "ok",
     "timestamp": 1585759758893,
     "user": {
      "displayName": "Rana mostafa",
      "photoUrl": "https://lh3.googleusercontent.com/a-/AOh14GhpLWLhJYcXKOOp7sprSKwnxN-x9hYM61yh__9kww=s64",
      "userId": "07598775866819373078"
     },
     "user_tz": -120
    },
    "id": "Dh_adzZjnmRj",
    "outputId": "34f12cb2-a33e-41e9-8a06-e95d7f772bcd"
   },
   "outputs": [],
   "source": [
    "RunUCIHeterognityNonOverlapping()"
   ]
  },
  {
   "cell_type": "code",
   "execution_count": null,
   "metadata": {
    "colab": {
     "base_uri": "https://localhost:8080/",
     "height": 86
    },
    "colab_type": "code",
    "executionInfo": {
     "elapsed": 7521,
     "status": "ok",
     "timestamp": 1585757836452,
     "user": {
      "displayName": "Rana mostafa",
      "photoUrl": "https://lh3.googleusercontent.com/a-/AOh14GhpLWLhJYcXKOOp7sprSKwnxN-x9hYM61yh__9kww=s64",
      "userId": "07598775866819373078"
     },
     "user_tz": -120
    },
    "id": "E9PWBKWxgwgw",
    "outputId": "faa8adfe-b236-4c07-8c1f-88f3b01a8c9c"
   },
   "outputs": [],
   "source": [
    "RunUCIHeterognity()"
   ]
  },
  {
   "cell_type": "code",
   "execution_count": null,
   "metadata": {
    "colab": {
     "base_uri": "https://localhost:8080/",
     "height": 52
    },
    "colab_type": "code",
    "executionInfo": {
     "elapsed": 1359284,
     "status": "ok",
     "timestamp": 1585687425265,
     "user": {
      "displayName": "Rana mostafa",
      "photoUrl": "https://lh3.googleusercontent.com/a-/AOh14GhpLWLhJYcXKOOp7sprSKwnxN-x9hYM61yh__9kww=s64",
      "userId": "07598775866819373078"
     },
     "user_tz": -120
    },
    "id": "samQJJOMB7Iw",
    "outputId": "88cb42aa-6dfa-4fd8-b80a-82ae17e7d0b8"
   },
   "outputs": [],
   "source": [
    "RunOpportunity()"
   ]
  },
  {
   "cell_type": "code",
   "execution_count": null,
   "metadata": {
    "colab": {
     "base_uri": "https://localhost:8080/",
     "height": 434
    },
    "colab_type": "code",
    "executionInfo": {
     "elapsed": 62654,
     "status": "ok",
     "timestamp": 1584724337618,
     "user": {
      "displayName": "Rana mostafa",
      "photoUrl": "https://lh3.googleusercontent.com/a-/AOh14GhpLWLhJYcXKOOp7sprSKwnxN-x9hYM61yh__9kww=s64",
      "userId": "07598775866819373078"
     },
     "user_tz": -120
    },
    "id": "NBcUNjzT3ndX",
    "outputId": "6c4bb247-5a3f-45f2-c509-6fa769b16bfe"
   },
   "outputs": [],
   "source": [
    "RunCatal('data/LOSO/MHEALTH.npz')"
   ]
  },
  {
   "cell_type": "code",
   "execution_count": null,
   "metadata": {
    "colab": {
     "base_uri": "https://localhost:8080/",
     "height": 573
    },
    "colab_type": "code",
    "executionInfo": {
     "elapsed": 174951,
     "status": "ok",
     "timestamp": 1584724872445,
     "user": {
      "displayName": "Rana mostafa",
      "photoUrl": "https://lh3.googleusercontent.com/a-/AOh14GhpLWLhJYcXKOOp7sprSKwnxN-x9hYM61yh__9kww=s64",
      "userId": "07598775866819373078"
     },
     "user_tz": -120
    },
    "id": "X0vRdzxy4PhE",
    "outputId": "57abd8f7-acd8-4b77-9cf0-991c63c0a30b"
   },
   "outputs": [],
   "source": [
    "RunCatal('data/LOSO/USCHAD.npz')"
   ]
  },
  {
   "cell_type": "code",
   "execution_count": null,
   "metadata": {
    "colab": {
     "base_uri": "https://localhost:8080/",
     "height": 364
    },
    "colab_type": "code",
    "executionInfo": {
     "elapsed": 54035,
     "status": "ok",
     "timestamp": 1584724941357,
     "user": {
      "displayName": "Rana mostafa",
      "photoUrl": "https://lh3.googleusercontent.com/a-/AOh14GhpLWLhJYcXKOOp7sprSKwnxN-x9hYM61yh__9kww=s64",
      "userId": "07598775866819373078"
     },
     "user_tz": -120
    },
    "id": "Eu1ofUQB43fS",
    "outputId": "1964a8b9-0bce-45b4-a0ee-25e5764d59cc"
   },
   "outputs": [],
   "source": [
    "RunCatal('data/LOSO/UTD-MHAD1_1s.npz')"
   ]
  },
  {
   "cell_type": "code",
   "execution_count": null,
   "metadata": {
    "colab": {
     "base_uri": "https://localhost:8080/",
     "height": 364
    },
    "colab_type": "code",
    "executionInfo": {
     "elapsed": 13602,
     "status": "ok",
     "timestamp": 1584724968075,
     "user": {
      "displayName": "Rana mostafa",
      "photoUrl": "https://lh3.googleusercontent.com/a-/AOh14GhpLWLhJYcXKOOp7sprSKwnxN-x9hYM61yh__9kww=s64",
      "userId": "07598775866819373078"
     },
     "user_tz": -120
    },
    "id": "3uTFcWX_9vb0",
    "outputId": "f0aab6ec-0c86-4770-eba0-1a59bb61d3ea"
   },
   "outputs": [],
   "source": [
    "RunCatal('data/LOSO/UTD-MHAD2_1s.npz')"
   ]
  },
  {
   "cell_type": "code",
   "execution_count": null,
   "metadata": {
    "colab": {
     "base_uri": "https://localhost:8080/",
     "height": 642
    },
    "colab_type": "code",
    "executionInfo": {
     "elapsed": 54990,
     "status": "ok",
     "timestamp": 1584725026270,
     "user": {
      "displayName": "Rana mostafa",
      "photoUrl": "https://lh3.googleusercontent.com/a-/AOh14GhpLWLhJYcXKOOp7sprSKwnxN-x9hYM61yh__9kww=s64",
      "userId": "07598775866819373078"
     },
     "user_tz": -120
    },
    "id": "tbj_JD7Z92Vf",
    "outputId": "d0ce4f10-74e6-490e-c1b4-cb3e6e2f3845"
   },
   "outputs": [],
   "source": [
    "RunCatal('data/LOSO/WHARF.npz')"
   ]
  },
  {
   "cell_type": "code",
   "execution_count": null,
   "metadata": {
    "colab": {
     "base_uri": "https://localhost:8080/",
     "height": 1000
    },
    "colab_type": "code",
    "executionInfo": {
     "elapsed": 515842,
     "status": "ok",
     "timestamp": 1584725542118,
     "user": {
      "displayName": "Rana mostafa",
      "photoUrl": "https://lh3.googleusercontent.com/a-/AOh14GhpLWLhJYcXKOOp7sprSKwnxN-x9hYM61yh__9kww=s64",
      "userId": "07598775866819373078"
     },
     "user_tz": -120
    },
    "id": "TKi0mQ4V-Bk_",
    "outputId": "5e3a533e-d823-44a8-cf9e-79fb8626712d"
   },
   "outputs": [],
   "source": [
    "RunCatal('data/LOSO/WISDM.npz')"
   ]
  },
  {
   "cell_type": "code",
   "execution_count": null,
   "metadata": {
    "colab": {
     "base_uri": "https://localhost:8080/",
     "height": 434
    },
    "colab_type": "code",
    "executionInfo": {
     "elapsed": 65711,
     "status": "ok",
     "timestamp": 1584725611286,
     "user": {
      "displayName": "Rana mostafa",
      "photoUrl": "https://lh3.googleusercontent.com/a-/AOh14GhpLWLhJYcXKOOp7sprSKwnxN-x9hYM61yh__9kww=s64",
      "userId": "07598775866819373078"
     },
     "user_tz": -120
    },
    "id": "emFS3ta0-GwB",
    "outputId": "788eb9a6-daf0-46fc-ca40-adae91d4c9d1"
   },
   "outputs": [],
   "source": [
    "RunCatal('data/SNOW/MHEALTH.npz')"
   ]
  },
  {
   "cell_type": "code",
   "execution_count": null,
   "metadata": {
    "colab": {
     "base_uri": "https://localhost:8080/",
     "height": 434
    },
    "colab_type": "code",
    "executionInfo": {
     "elapsed": 192417,
     "status": "ok",
     "timestamp": 1584725737998,
     "user": {
      "displayName": "Rana mostafa",
      "photoUrl": "https://lh3.googleusercontent.com/a-/AOh14GhpLWLhJYcXKOOp7sprSKwnxN-x9hYM61yh__9kww=s64",
      "userId": "07598775866819373078"
     },
     "user_tz": -120
    },
    "id": "KW8-lHY0_CzP",
    "outputId": "66bd754f-a987-429d-ad0f-9060726fe2ba"
   },
   "outputs": [],
   "source": [
    "RunCatal('data/SNOW/USCHAD.npz')"
   ]
  },
  {
   "cell_type": "code",
   "execution_count": null,
   "metadata": {
    "colab": {
     "base_uri": "https://localhost:8080/",
     "height": 434
    },
    "colab_type": "code",
    "executionInfo": {
     "elapsed": 261445,
     "status": "ok",
     "timestamp": 1584725807032,
     "user": {
      "displayName": "Rana mostafa",
      "photoUrl": "https://lh3.googleusercontent.com/a-/AOh14GhpLWLhJYcXKOOp7sprSKwnxN-x9hYM61yh__9kww=s64",
      "userId": "07598775866819373078"
     },
     "user_tz": -120
    },
    "id": "6kYzBqoC_EVQ",
    "outputId": "c1f46ea6-8e23-4792-97ed-bc64ef4beb9e"
   },
   "outputs": [],
   "source": [
    "RunCatal('data/SNOW/UTD-MHAD1_1s.npz')"
   ]
  },
  {
   "cell_type": "code",
   "execution_count": null,
   "metadata": {
    "colab": {
     "base_uri": "https://localhost:8080/",
     "height": 434
    },
    "colab_type": "code",
    "executionInfo": {
     "elapsed": 275263,
     "status": "ok",
     "timestamp": 1584725820854,
     "user": {
      "displayName": "Rana mostafa",
      "photoUrl": "https://lh3.googleusercontent.com/a-/AOh14GhpLWLhJYcXKOOp7sprSKwnxN-x9hYM61yh__9kww=s64",
      "userId": "07598775866819373078"
     },
     "user_tz": -120
    },
    "id": "B9gWsOiz_Fw5",
    "outputId": "3f214c38-305c-4696-ea95-b7572236cbb9"
   },
   "outputs": [],
   "source": [
    "RunCatal('data/SNOW/UTD-MHAD2_1s.npz')"
   ]
  },
  {
   "cell_type": "code",
   "execution_count": null,
   "metadata": {
    "colab": {
     "base_uri": "https://localhost:8080/",
     "height": 434
    },
    "colab_type": "code",
    "executionInfo": {
     "elapsed": 35949,
     "status": "ok",
     "timestamp": 1584726875533,
     "user": {
      "displayName": "Rana mostafa",
      "photoUrl": "https://lh3.googleusercontent.com/a-/AOh14GhpLWLhJYcXKOOp7sprSKwnxN-x9hYM61yh__9kww=s64",
      "userId": "07598775866819373078"
     },
     "user_tz": -120
    },
    "id": "WrsH0gpgFGn2",
    "outputId": "7e8273a2-3935-4bd2-ae8b-f52e6da980e9"
   },
   "outputs": [],
   "source": [
    "RunCatal('data/SNOW/WHARF.npz')"
   ]
  },
  {
   "cell_type": "code",
   "execution_count": null,
   "metadata": {
    "colab": {
     "base_uri": "https://localhost:8080/",
     "height": 434
    },
    "colab_type": "code",
    "executionInfo": {
     "elapsed": 413074,
     "status": "ok",
     "timestamp": 1584725958669,
     "user": {
      "displayName": "Rana mostafa",
      "photoUrl": "https://lh3.googleusercontent.com/a-/AOh14GhpLWLhJYcXKOOp7sprSKwnxN-x9hYM61yh__9kww=s64",
      "userId": "07598775866819373078"
     },
     "user_tz": -120
    },
    "id": "Ty6OxxWO_HcW",
    "outputId": "4f944ea7-2eec-47ac-81b0-e0ff90664144"
   },
   "outputs": [],
   "source": [
    "RunCatal('data/SNOW/WISDM.npz')"
   ]
  },
  {
   "cell_type": "code",
   "execution_count": null,
   "metadata": {
    "colab": {
     "base_uri": "https://localhost:8080/",
     "height": 434
    },
    "colab_type": "code",
    "executionInfo": {
     "elapsed": 479269,
     "status": "ok",
     "timestamp": 1584726024868,
     "user": {
      "displayName": "Rana mostafa",
      "photoUrl": "https://lh3.googleusercontent.com/a-/AOh14GhpLWLhJYcXKOOp7sprSKwnxN-x9hYM61yh__9kww=s64",
      "userId": "07598775866819373078"
     },
     "user_tz": -120
    },
    "id": "71UlpIx1-Umy",
    "outputId": "9a10265c-3661-4beb-a05c-ced938fa46af"
   },
   "outputs": [],
   "source": [
    "RunCatal('data/LOTO/MHEALTH.npz')"
   ]
  },
  {
   "cell_type": "code",
   "execution_count": null,
   "metadata": {
    "colab": {
     "base_uri": "https://localhost:8080/",
     "height": 434
    },
    "colab_type": "code",
    "executionInfo": {
     "elapsed": 599530,
     "status": "ok",
     "timestamp": 1584726145133,
     "user": {
      "displayName": "Rana mostafa",
      "photoUrl": "https://lh3.googleusercontent.com/a-/AOh14GhpLWLhJYcXKOOp7sprSKwnxN-x9hYM61yh__9kww=s64",
      "userId": "07598775866819373078"
     },
     "user_tz": -120
    },
    "id": "7iJDV31b_KUn",
    "outputId": "4ce1b5b3-7a90-43c3-c708-7060088e565a"
   },
   "outputs": [],
   "source": [
    "RunCatal('data/LOTO/USCHAD.npz')"
   ]
  },
  {
   "cell_type": "code",
   "execution_count": null,
   "metadata": {
    "colab": {
     "base_uri": "https://localhost:8080/",
     "height": 434
    },
    "colab_type": "code",
    "executionInfo": {
     "elapsed": 664366,
     "status": "ok",
     "timestamp": 1584726209973,
     "user": {
      "displayName": "Rana mostafa",
      "photoUrl": "https://lh3.googleusercontent.com/a-/AOh14GhpLWLhJYcXKOOp7sprSKwnxN-x9hYM61yh__9kww=s64",
      "userId": "07598775866819373078"
     },
     "user_tz": -120
    },
    "id": "kmqMIf6s_MI8",
    "outputId": "f2eafd18-f26e-4d64-9cab-cabacdd3e13d"
   },
   "outputs": [],
   "source": [
    "RunCatal('data/LOTO/UTD-MHAD1_1s.npz')"
   ]
  },
  {
   "cell_type": "code",
   "execution_count": null,
   "metadata": {
    "colab": {
     "base_uri": "https://localhost:8080/",
     "height": 434
    },
    "colab_type": "code",
    "executionInfo": {
     "elapsed": 679269,
     "status": "ok",
     "timestamp": 1584726224879,
     "user": {
      "displayName": "Rana mostafa",
      "photoUrl": "https://lh3.googleusercontent.com/a-/AOh14GhpLWLhJYcXKOOp7sprSKwnxN-x9hYM61yh__9kww=s64",
      "userId": "07598775866819373078"
     },
     "user_tz": -120
    },
    "id": "US4zOOAp_NlJ",
    "outputId": "ff4695df-1c99-4d3f-b4d5-a4fa46070037"
   },
   "outputs": [],
   "source": [
    "RunCatal('data/LOTO/UTD-MHAD2_1s.npz')"
   ]
  },
  {
   "cell_type": "code",
   "execution_count": null,
   "metadata": {
    "colab": {
     "base_uri": "https://localhost:8080/",
     "height": 434
    },
    "colab_type": "code",
    "executionInfo": {
     "elapsed": 42148,
     "status": "ok",
     "timestamp": 1584726917692,
     "user": {
      "displayName": "Rana mostafa",
      "photoUrl": "https://lh3.googleusercontent.com/a-/AOh14GhpLWLhJYcXKOOp7sprSKwnxN-x9hYM61yh__9kww=s64",
      "userId": "07598775866819373078"
     },
     "user_tz": -120
    },
    "id": "L3vkwSSWFMfJ",
    "outputId": "1359c005-96c7-470a-aedd-96279e66857b"
   },
   "outputs": [],
   "source": [
    "RunCatal('data/LOTO/WHARF.npz')"
   ]
  },
  {
   "cell_type": "code",
   "execution_count": null,
   "metadata": {
    "colab": {
     "base_uri": "https://localhost:8080/",
     "height": 434
    },
    "colab_type": "code",
    "executionInfo": {
     "elapsed": 815945,
     "status": "ok",
     "timestamp": 1584726361562,
     "user": {
      "displayName": "Rana mostafa",
      "photoUrl": "https://lh3.googleusercontent.com/a-/AOh14GhpLWLhJYcXKOOp7sprSKwnxN-x9hYM61yh__9kww=s64",
      "userId": "07598775866819373078"
     },
     "user_tz": -120
    },
    "id": "kTSIs-Wj_Own",
    "outputId": "8df785f8-a3f6-41fe-86b5-42cdc64340fd"
   },
   "outputs": [],
   "source": [
    "RunCatal('data/LOTO/WISDM.npz')"
   ]
  },
  {
   "cell_type": "code",
   "execution_count": null,
   "metadata": {
    "colab": {
     "base_uri": "https://localhost:8080/",
     "height": 434
    },
    "colab_type": "code",
    "executionInfo": {
     "elapsed": 852058,
     "status": "ok",
     "timestamp": 1584726397680,
     "user": {
      "displayName": "Rana mostafa",
      "photoUrl": "https://lh3.googleusercontent.com/a-/AOh14GhpLWLhJYcXKOOp7sprSKwnxN-x9hYM61yh__9kww=s64",
      "userId": "07598775866819373078"
     },
     "user_tz": -120
    },
    "id": "jVSqsZ4x-22B",
    "outputId": "e26236b7-e89f-4762-e2e2-912a51a4d322"
   },
   "outputs": [],
   "source": [
    "RunCatal('data/FNOW/MHEALTH.npz')"
   ]
  },
  {
   "cell_type": "code",
   "execution_count": null,
   "metadata": {
    "colab": {
     "base_uri": "https://localhost:8080/",
     "height": 434
    },
    "colab_type": "code",
    "executionInfo": {
     "elapsed": 918532,
     "status": "ok",
     "timestamp": 1584726464158,
     "user": {
      "displayName": "Rana mostafa",
      "photoUrl": "https://lh3.googleusercontent.com/a-/AOh14GhpLWLhJYcXKOOp7sprSKwnxN-x9hYM61yh__9kww=s64",
      "userId": "07598775866819373078"
     },
     "user_tz": -120
    },
    "id": "AiRMfvP5_P-s",
    "outputId": "6de9fe2a-3626-4fd4-bb2e-99e16569844b"
   },
   "outputs": [],
   "source": [
    "RunCatal('data/FNOW/USCHAD.npz')"
   ]
  },
  {
   "cell_type": "code",
   "execution_count": null,
   "metadata": {
    "colab": {
     "base_uri": "https://localhost:8080/",
     "height": 434
    },
    "colab_type": "code",
    "executionInfo": {
     "elapsed": 961134,
     "status": "ok",
     "timestamp": 1584726506765,
     "user": {
      "displayName": "Rana mostafa",
      "photoUrl": "https://lh3.googleusercontent.com/a-/AOh14GhpLWLhJYcXKOOp7sprSKwnxN-x9hYM61yh__9kww=s64",
      "userId": "07598775866819373078"
     },
     "user_tz": -120
    },
    "id": "LV8wjPQy_SHK",
    "outputId": "aed5a206-f618-43f6-8382-addd8631c2a7"
   },
   "outputs": [],
   "source": [
    "RunCatal('data/FNOW/UTD-MHAD1_1s.npz')"
   ]
  },
  {
   "cell_type": "code",
   "execution_count": null,
   "metadata": {
    "colab": {
     "base_uri": "https://localhost:8080/",
     "height": 434
    },
    "colab_type": "code",
    "executionInfo": {
     "elapsed": 970296,
     "status": "ok",
     "timestamp": 1584726515932,
     "user": {
      "displayName": "Rana mostafa",
      "photoUrl": "https://lh3.googleusercontent.com/a-/AOh14GhpLWLhJYcXKOOp7sprSKwnxN-x9hYM61yh__9kww=s64",
      "userId": "07598775866819373078"
     },
     "user_tz": -120
    },
    "id": "zChNQvQe_TMj",
    "outputId": "fc80666a-ee25-4919-fc8b-fe50071bc419"
   },
   "outputs": [],
   "source": [
    "RunCatal('data/FNOW/UTD-MHAD2_1s.npz')"
   ]
  },
  {
   "cell_type": "code",
   "execution_count": null,
   "metadata": {
    "colab": {
     "base_uri": "https://localhost:8080/",
     "height": 434
    },
    "colab_type": "code",
    "executionInfo": {
     "elapsed": 57466,
     "status": "ok",
     "timestamp": 1584726935240,
     "user": {
      "displayName": "Rana mostafa",
      "photoUrl": "https://lh3.googleusercontent.com/a-/AOh14GhpLWLhJYcXKOOp7sprSKwnxN-x9hYM61yh__9kww=s64",
      "userId": "07598775866819373078"
     },
     "user_tz": -120
    },
    "id": "BZxdIZWTFRJY",
    "outputId": "442662b5-59fa-434d-9f97-8880f5d6c015"
   },
   "outputs": [],
   "source": [
    "RunCatal('data/FNOW/WHARF.npz')"
   ]
  },
  {
   "cell_type": "code",
   "execution_count": null,
   "metadata": {
    "colab": {
     "base_uri": "https://localhost:8080/",
     "height": 434
    },
    "colab_type": "code",
    "executionInfo": {
     "elapsed": 1044788,
     "status": "ok",
     "timestamp": 1584726590431,
     "user": {
      "displayName": "Rana mostafa",
      "photoUrl": "https://lh3.googleusercontent.com/a-/AOh14GhpLWLhJYcXKOOp7sprSKwnxN-x9hYM61yh__9kww=s64",
      "userId": "07598775866819373078"
     },
     "user_tz": -120
    },
    "id": "rAbRlh4t_UjT",
    "outputId": "d0fd2438-717f-449a-997f-b2e78ee256b4"
   },
   "outputs": [],
   "source": [
    "RunCatal('data/FNOW/WISDM.npz')"
   ]
  }
 ],
 "metadata": {
  "accelerator": "GPU",
  "colab": {
   "authorship_tag": "ABX9TyM8DafF4/KuQxL0rgi0PX+a",
   "collapsed_sections": [],
   "name": "Catal_2015_Paper.ipynb",
   "provenance": []
  },
  "kernelspec": {
   "display_name": "Python 3",
   "language": "python",
   "name": "python3"
  },
  "language_info": {
   "codemirror_mode": {
    "name": "ipython",
    "version": 3
   },
   "file_extension": ".py",
   "mimetype": "text/x-python",
   "name": "python",
   "nbconvert_exporter": "python",
   "pygments_lexer": "ipython3",
   "version": "3.6.8"
  }
 },
 "nbformat": 4,
 "nbformat_minor": 1
}
