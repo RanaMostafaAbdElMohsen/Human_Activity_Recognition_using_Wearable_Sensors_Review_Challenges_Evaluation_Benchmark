{
 "cells": [
  {
   "cell_type": "code",
   "execution_count": null,
   "metadata": {
    "colab": {},
    "colab_type": "code",
    "id": "C4Zlm5O0uQbO"
   },
   "outputs": [],
   "source": [
    "# Important note: In section 3 (data collection) in our paper, the term running is mistakenly used for the jogging. So please only consider the jogging activity.\n",
    "\n",
    "# In the data collection experiments, we collected data for seven physical activities. These are walking, sitting, standing, jogging, biking, walking upstairs and walking downstairs, which are mainly used in the related studies and they are the basic motion activities in daily life. There were ten participants involved in our data collection experiment who performed each of these activities for 3-4 minutes. All ten participants were male, between the ages of 25 and 30. The experiments were carried out indoors in one of the university buildings, except biking. For walking, and jogging, the department corridor was used. For walking upstairs and downstairs, a 5-floor building with stairs was used. Each of these participants was equipped with five smartphones on five body positions: \n",
    "# 1.\tOne in their right jeans pocket. \n",
    "# 2.\tOne in their left jeans pocket.\n",
    "# 3.\tOne on belt position towards the right leg using a belt clipper.\n",
    "# 4.\tOne on the right upper arm. \n",
    "# 5.\tOne on the right wrist. \n",
    "# The first three positions are commonly used by people carrying smartphones. The fourth position is usually used when activities like jogging are performed. However, we used this position for all activities to see its role on the performance.  A smart-watch was simulated with the fifth position as smart-watches are coming into the market these days.  For these experiments, we used Samsung Galaxy SII (i9100) smartphones. \n",
    "#   The orientation of the smartphones was portrait for the upper arm, wrist, and two pockets, and landscape for the belt position. The data was recorded for all five positions at the same time for each activity and it was collected at a rate of 50 samples per second. This sampling rate (50 samples per second) is enough to recognize human physical activities, as we show in our previous study . Moreover, in the state of the art, frequencies lower than 50 samples per second have been shown to be sufficient for activity recognition.\n",
    "# For data collection, we adapted our own data collection app from our previous study by adding the linear acceleration sensor. The data was collected for an accelerometer, a gyroscope, a magnetometer, and a linear acceleration sensor. \n",
    "\n",
    "# Each excel file contains data for each participant's seven physical activities for all five positions. \n",
    "\n",
    "# Notation in these files: \n",
    "\n",
    "# Accelerometer ( Ax = x-axis, Ay = y-axis, Az= Z-aixs)   \n",
    "# Linear Acceleration Sensor ( Lx = x-axis, Ly = y axis, Lz= Z-aixs) \n",
    "# Gyroscope ( Gx = x-axis, Gy = y-axis, Gz= Z-aixs) \n",
    "# Magnetometer ( Mx = x-axis, My = y-axis, Mz= Z-aixs) "
   ]
  },
  {
   "cell_type": "code",
   "execution_count": null,
   "metadata": {
    "colab": {},
    "colab_type": "code",
    "id": "j6PswTtPU_5f"
   },
   "outputs": [],
   "source": [
    "## Libraries Prequisities\n",
    "!pip install scikit-learn\n",
    "!pip install numpy==1.16.1"
   ]
  },
  {
   "cell_type": "code",
   "execution_count": null,
   "metadata": {
    "colab": {
     "base_uri": "https://localhost:8080/",
     "height": 124
    },
    "colab_type": "code",
    "executionInfo": {
     "elapsed": 52616,
     "status": "ok",
     "timestamp": 1585402268774,
     "user": {
      "displayName": "Rana mostafa",
      "photoUrl": "https://lh3.googleusercontent.com/a-/AOh14GhpLWLhJYcXKOOp7sprSKwnxN-x9hYM61yh__9kww=s64",
      "userId": "07598775866819373078"
     },
     "user_tz": -120
    },
    "id": "nlGEAKgGVfUp",
    "outputId": "08d83c1b-744a-4751-e21d-e66cbd7b16f1"
   },
   "outputs": [],
   "source": [
    "from google.colab import drive\n",
    "drive.mount('/content/drive')"
   ]
  },
  {
   "cell_type": "code",
   "execution_count": null,
   "metadata": {
    "colab": {
     "base_uri": "https://localhost:8080/",
     "height": 34
    },
    "colab_type": "code",
    "executionInfo": {
     "elapsed": 3937,
     "status": "ok",
     "timestamp": 1585402309423,
     "user": {
      "displayName": "Rana mostafa",
      "photoUrl": "https://lh3.googleusercontent.com/a-/AOh14GhpLWLhJYcXKOOp7sprSKwnxN-x9hYM61yh__9kww=s64",
      "userId": "07598775866819373078"
     },
     "user_tz": -120
    },
    "id": "buyhUpZCVspZ",
    "outputId": "949c5d26-0036-41e6-84fb-4cfb47f1f17d"
   },
   "outputs": [],
   "source": [
    "import os\n",
    "os.chdir(\"/content/drive/\")\n",
    "!ls\n",
    "import os\n",
    "os.chdir(\"My Drive/Computer_Vision_Masters/Wearable_Sensors_Code/\")"
   ]
  },
  {
   "cell_type": "code",
   "execution_count": null,
   "metadata": {
    "colab": {},
    "colab_type": "code",
    "id": "PA4qRsbaWO9i"
   },
   "outputs": [],
   "source": [
    "## Libraries\n",
    "import numpy as np\n",
    "from sklearn.ensemble import RandomForestClassifier, VotingClassifier\n",
    "from sklearn.metrics.classification import accuracy_score, recall_score, f1_score\n",
    "from sklearn.model_selection import train_test_split\n",
    "import pandas as pd\n",
    "from pandas import ExcelWriter\n",
    "from pandas import ExcelFile\n",
    "import scipy.stats as st\n",
    "import sys\n",
    "import warnings\n",
    "warnings.filterwarnings('ignore')\n",
    "np.random.seed(12227)"
   ]
  },
  {
   "cell_type": "code",
   "execution_count": null,
   "metadata": {
    "colab": {},
    "colab_type": "code",
    "id": "73U9w1nhWZqg"
   },
   "outputs": [],
   "source": [
    "# Classical Machine Learning Algos\n",
    "def train_j48(X, y):\n",
    "    from sklearn import tree\n",
    "    clf = tree.DecisionTreeClassifier()\n",
    "    #clf = clf.fit(X, y)\n",
    "    return clf\n",
    "\n",
    "def train_mlp(X, y):\n",
    "    from sklearn.neural_network import MLPClassifier\n",
    "    a = int((X.shape[1] + np.amax(y)) / 2 )#Default param of weka, amax(y) gets the number of classes\n",
    "    clf = MLPClassifier(solver='lbfgs', alpha=1e-5, hidden_layer_sizes = (a,),\n",
    "                        learning_rate_init=0.3, momentum=0.2, max_iter=500, #Default param of weka\n",
    "                        )\n",
    "    #clf.fit(X, y)\n",
    "    return clf\n",
    "\n",
    "def train_logistic_regression(X, y):\n",
    "    from sklearn.linear_model import LogisticRegression\n",
    "    clf = LogisticRegression(multi_class='ovr')\n",
    "    #clf.fit(X, y)\n",
    "    return clf"
   ]
  },
  {
   "cell_type": "code",
   "execution_count": null,
   "metadata": {
    "colab": {},
    "colab_type": "code",
    "id": "kFO1U1hOWyT4"
   },
   "outputs": [],
   "source": [
    "def DataPreparation(data_input_file):\n",
    "    print('FUSMPA 2014 Activity DataSet using Catal_2015 Approach {}'.format(data_input_file))\n",
    "    df = pd.read_csv(data_input_file)\n",
    "    X = df.loc[:,['LPAx','LPAy','LPAz','LPLx','LPLy','LPLz','LPGx','LPGy','LPGz','LPMx','LPMy','LPMz',\n",
    "                 'RPAx','RPAy','RPAz','RPLx','RPLy','RPLz','RPGx','RPGy','RPGz','RPMx','RPMy','RPMz',\n",
    "                 'Wax','Way','Waz','Wlx','Wly','Wlz','Wgx','Wgy','Wgz','Wmx','WMy','Wmz',\n",
    "                 'UAAx','UAAy','UAAz','UALx','UALy','UALz','UAGx','UAGy','UAGz','UAMx','UAMy','UAMz',\n",
    "                 'Bax','Bay','Baz','Blx','Bly','BLz','Bgx','Bgy','Bgz','BMx','Bmy','Bmz']]\n",
    "    Y = df['Activity_Label']\n",
    "    Y[Y=='walking']=0\n",
    "    Y[Y=='standing']=1\n",
    "    Y[Y=='jogging']=2\n",
    "    Y[Y=='sitting']=3\n",
    "    Y[Y=='biking']=4\n",
    "    Y[Y=='upstairs']=5\n",
    "    Y[Y=='downstairs']=5\n",
    "    Y=Y.astype('int')\n",
    "    X_train, X_test, Y_train, Y_test = train_test_split(X, np.array(Y), test_size=0.2, random_state=42)\n",
    "    return X_train, Y_train, X_test, Y_test"
   ]
  },
  {
   "cell_type": "code",
   "execution_count": null,
   "metadata": {},
   "outputs": [],
   "source": [
    "def DataPreparationLeaveOneOut():\n",
    "    print('FUSMPA 2014 Activity DataSet using Catal_2015 Approach')\n",
    "    X_train_total=[]\n",
    "    Y_train_total=[]\n",
    "    \n",
    "    X_test=[]\n",
    "    Y_test=[]\n",
    "    \n",
    "    TrainFiles=['Participant_1.csv','Participant_2.csv', 'Participant_3.csv', 'Participant_4.csv','Participant_5.csv',\n",
    "           'Participant_6.csv','Participant_7.csv','Participant_8.csv','Participant_9.csv']\n",
    "    TestFile='Participant_10.csv'\n",
    "    \n",
    "    for file in TrainFiles:\n",
    "        df = pd.read_csv('FUSMPA-2014/'+ file)\n",
    "        X = df.loc[:,['LPAx','LPAy','LPAz','LPLx','LPLy','LPLz','LPGx','LPGy','LPGz','LPMx','LPMy','LPMz',\n",
    "                     'RPAx','RPAy','RPAz','RPLx','RPLy','RPLz','RPGx','RPGy','RPGz','RPMx','RPMy','RPMz',\n",
    "                     'Wax','Way','Waz','Wlx','Wly','Wlz','Wgx','Wgy','Wgz','Wmx','WMy','Wmz',\n",
    "                     'UAAx','UAAy','UAAz','UALx','UALy','UALz','UAGx','UAGy','UAGz','UAMx','UAMy','UAMz',\n",
    "                     'Bax','Bay','Baz','Blx','Bly','BLz','Bgx','Bgy','Bgz','BMx','Bmy','Bmz']]\n",
    "        Y = df['Activity_Label']\n",
    "        Y[Y=='walking']=0\n",
    "        Y[Y=='standing']=1\n",
    "        Y[Y=='jogging']=2\n",
    "        Y[Y=='sitting']=3\n",
    "        Y[Y=='biking']=4\n",
    "        Y[Y=='upstairs']=5\n",
    "        Y[Y=='downstairs']=5\n",
    "        Y=Y.astype('int')\n",
    "        X=np.array(X)\n",
    "        for i in range(len(X)):\n",
    "            X_train_total.append(X[i])\n",
    "            Y_train_total.append(Y[i])\n",
    "    \n",
    "    df = pd.read_csv('FUSMPA-2014/'+ TestFile)\n",
    "    X=[]\n",
    "    Y=[]\n",
    "    X = df.loc[:,['LPAx','LPAy','LPAz','LPLx','LPLy','LPLz','LPGx','LPGy','LPGz','LPMx','LPMy','LPMz',\n",
    "                 'RPAx','RPAy','RPAz','RPLx','RPLy','RPLz','RPGx','RPGy','RPGz','RPMx','RPMy','RPMz',\n",
    "                 'Wax','Way','Waz','Wlx','Wly','Wlz','Wgx','Wgy','Wgz','Wmx','WMy','Wmz',\n",
    "                 'UAAx','UAAy','UAAz','UALx','UALy','UALz','UAGx','UAGy','UAGz','UAMx','UAMy','UAMz',\n",
    "                 'Bax','Bay','Baz','Blx','Bly','BLz','Bgx','Bgy','Bgz','BMx','Bmy','Bmz']]\n",
    "    Y = df['Activity_Label']\n",
    "    Y[Y=='walking']=0\n",
    "    Y[Y=='standing']=1\n",
    "    Y[Y=='jogging']=2\n",
    "    Y[Y=='sitting']=3\n",
    "    Y[Y=='biking']=4\n",
    "    Y[Y=='upstairs']=5\n",
    "    Y[Y=='downstairs']=5\n",
    "    Y=Y.astype('int')\n",
    "    X=np.array(X)\n",
    "    for i in range(len(X)):\n",
    "        X_test.append(X[i])\n",
    "        Y_test.append(Y[i])\n",
    "        \n",
    "        \n",
    "    return np.array(X_train_total), np.array(Y_train_total),np.array(X_test), np.array(Y_test)"
   ]
  },
  {
   "cell_type": "code",
   "execution_count": null,
   "metadata": {
    "colab": {},
    "colab_type": "code",
    "id": "yqDBvbIFh7ML"
   },
   "outputs": [],
   "source": [
    "def RunCatal2015Model(X_train, Y_train, X_test, Y_test):\n",
    "    j_48 = train_j48(X_train, Y_train)\n",
    "    mlp = train_mlp(X_train, Y_train)\n",
    "    logistic_regression = train_logistic_regression(X_train, Y_train)\n",
    "\n",
    "    majority_voting = VotingClassifier(estimators=[('dt', j_48), ('mlp', mlp), ('lr', logistic_regression)], voting='soft')\n",
    "    majority_voting.fit(X_train, Y_train)\n",
    "    tmp = majority_voting.predict(X_test)\n",
    "\n",
    "    acc_fold = accuracy_score(Y_test, tmp)\n",
    "\n",
    "    recall_fold = recall_score(Y_test, tmp, average='macro')\n",
    "\n",
    "    f1_fold  = f1_score(Y_test, tmp, average='macro')\n",
    "\n",
    "    print('Accuracy[{:.4f}] Recall[{:.4f}] F1[{:.4f}]'.format(acc_fold, recall_fold, f1_fold))\n",
    "    print('________________________________________________________________')"
   ]
  },
  {
   "cell_type": "code",
   "execution_count": null,
   "metadata": {
    "colab": {},
    "colab_type": "code",
    "id": "JojGCPjAkidF"
   },
   "outputs": [],
   "source": [
    "def Run(data_input_file):\n",
    "    X_train, Y_train, X_test, Y_test = DataPreparation(data_input_file)\n",
    "    RunCatal2015Model(X_train, Y_train, X_test, Y_test)"
   ]
  },
  {
   "cell_type": "code",
   "execution_count": null,
   "metadata": {},
   "outputs": [],
   "source": [
    "def RunLeaveOneParticipantOut():\n",
    "    X_train, Y_train, X_test, Y_test=DataPreparationLeaveOneOut()\n",
    "    print(X_train.shape,Y_train.shape)\n",
    "    print(X_test.shape,Y_test.shape)\n",
    "    RunCatal2015Model(X_train, Y_train, X_test, Y_test)"
   ]
  },
  {
   "cell_type": "code",
   "execution_count": null,
   "metadata": {},
   "outputs": [],
   "source": [
    "RunLeaveOneParticipantOut()"
   ]
  },
  {
   "cell_type": "code",
   "execution_count": null,
   "metadata": {
    "colab": {
     "base_uri": "https://localhost:8080/",
     "height": 69
    },
    "colab_type": "code",
    "executionInfo": {
     "elapsed": 85595,
     "status": "ok",
     "timestamp": 1585406371463,
     "user": {
      "displayName": "Rana mostafa",
      "photoUrl": "https://lh3.googleusercontent.com/a-/AOh14GhpLWLhJYcXKOOp7sprSKwnxN-x9hYM61yh__9kww=s64",
      "userId": "07598775866819373078"
     },
     "user_tz": -120
    },
    "id": "6rPP01Hzk_FI",
    "outputId": "89a67fb5-a350-40d0-fe5d-d4660c6f052e"
   },
   "outputs": [],
   "source": [
    "Run('FUSMPA-2014/Participant_1.csv')"
   ]
  },
  {
   "cell_type": "code",
   "execution_count": null,
   "metadata": {},
   "outputs": [],
   "source": [
    "Run('FUSMPA-2014/Participant_2.csv')"
   ]
  },
  {
   "cell_type": "code",
   "execution_count": null,
   "metadata": {},
   "outputs": [],
   "source": [
    "Run('FUSMPA-2014/Participant_3.csv')"
   ]
  },
  {
   "cell_type": "code",
   "execution_count": null,
   "metadata": {},
   "outputs": [],
   "source": [
    "Run('FUSMPA-2014/Participant_4.csv')"
   ]
  },
  {
   "cell_type": "code",
   "execution_count": null,
   "metadata": {},
   "outputs": [],
   "source": [
    "Run('FUSMPA-2014/Participant_5.csv')"
   ]
  },
  {
   "cell_type": "code",
   "execution_count": null,
   "metadata": {},
   "outputs": [],
   "source": [
    "Run('FUSMPA-2014/Participant_6.csv')"
   ]
  },
  {
   "cell_type": "code",
   "execution_count": null,
   "metadata": {},
   "outputs": [],
   "source": [
    "Run('FUSMPA-2014/Participant_7.csv')"
   ]
  },
  {
   "cell_type": "code",
   "execution_count": null,
   "metadata": {},
   "outputs": [],
   "source": [
    "Run('FUSMPA-2014/Participant_8.csv')"
   ]
  },
  {
   "cell_type": "code",
   "execution_count": null,
   "metadata": {},
   "outputs": [],
   "source": [
    "Run('FUSMPA-2014/Participant_9.csv')"
   ]
  },
  {
   "cell_type": "code",
   "execution_count": null,
   "metadata": {},
   "outputs": [],
   "source": [
    "Run('FUSMPA-2014/Participant_10.csv')"
   ]
  }
 ],
 "metadata": {
  "colab": {
   "authorship_tag": "ABX9TyMt0/+FxNIfe5n9lvQ3KxD0",
   "collapsed_sections": [],
   "name": "Shoaib_2013_Using_Catal.ipynb",
   "provenance": []
  },
  "kernelspec": {
   "display_name": "Python 3",
   "language": "python",
   "name": "python3"
  },
  "language_info": {
   "codemirror_mode": {
    "name": "ipython",
    "version": 3
   },
   "file_extension": ".py",
   "mimetype": "text/x-python",
   "name": "python",
   "nbconvert_exporter": "python",
   "pygments_lexer": "ipython3",
   "version": "3.6.8"
  }
 },
 "nbformat": 4,
 "nbformat_minor": 1
}
