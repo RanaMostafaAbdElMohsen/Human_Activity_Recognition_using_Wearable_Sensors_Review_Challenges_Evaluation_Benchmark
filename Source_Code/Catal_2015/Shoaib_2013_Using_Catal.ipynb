{
 "cells": [
  {
   "cell_type": "code",
   "execution_count": null,
   "metadata": {
    "colab": {},
    "colab_type": "code",
    "id": "C4Zlm5O0uQbO"
   },
   "outputs": [],
   "source": [
    "# Shoaib DataSet Link : https://www.utwente.nl/en/eemcs/ps/dataset-folder/activity-recognition-dataset-shoaib.rar\n",
    "\n",
    "# 1 Data Collection Procedure \n",
    "\n",
    "# We used four Samsung Galaxy S2 smartphones in our experiments for data collection. Using these smartphones, we collected data for six different physical activities. They are walking, running, sitting, standing, walking upstairs and downstairs. We asked four participants to perform these six activities for a few minutes. As these are repetitive activities, so the amount of time for each activity was kept between 3-5 minutes per participant which gave us enough examples for our evaluations. The activities were carried out indoor in one of our university buildings. For walking, and running, the department's corridor was used. For sitting activity, participants offices were used when they were using their computers. For standing activity, coffee area was used where some participants stood for few minutes while involved in a conversation with others. For walking upstairs and downstairs, 5-floor stairs were used. It is important to mention that these stairs had short walks at each floor for switching between stairs (2-3 steps) but there were only four such switches in the whole walking upstairs and downstairs activities. We could not find one single continuous stair from first till 5th floor. Each of these participants was provided with four smartphones on four body positions: right jeans pocket, belt, arm, and wrist. The data was recorded for all four positions at the same time for each activity. All the four participants were male, between the age of 25 and 30. They signed a consent form before taking part in the activities\n",
    "\n",
    "# 2 Datafile Formats \n",
    "# Arm.xlsx (Sensor data on arm position for all four participants)\n",
    "# Belt.xlsx (Sensor data on Belt position for all four participants)\n",
    "# Wrist.xlsx (Sensor data on Wrist position for all four participants)\n",
    "# Pocket.xlsx (Sensor data on Pocket position for all four participants)\n",
    "\n",
    "# 3 Raw Data Columns within these files: \n",
    "\n",
    "# Timestamp \n",
    "# Ax (Accelerometer X-axis) \n",
    "# Ay (Accelerometer Y-axis)\n",
    "# Az (Accelerometer Z-axis)\n",
    "# Gx (Gyroscope X-axis)\n",
    "# Gy (Gyroscope Y-axis)\n",
    "# Gz (Gyroscope Z-axis)\n",
    "# Mx (Magnetometer X-axis)\n",
    "# My (Magnetometer Y-axis)\n",
    "# Mz (Magnetometer Z-axis)\n",
    "# Activity Label \n",
    "\n",
    "# 4 Data Labelling \n",
    "# All data samples in these files are properly labelled with our six acitivities. \n",
    "\n",
    "# Citation: This dataset can only be used with citing the following paper. \n",
    "# Shoaib, Muhammad,  \"Human Activity Recognition Using Hetrogenious Sensors\" Appears in the Adjunct Proceedings of UbiComp  2013.\n"
   ]
  },
  {
   "cell_type": "code",
   "execution_count": null,
   "metadata": {
    "colab": {},
    "colab_type": "code",
    "id": "j6PswTtPU_5f"
   },
   "outputs": [],
   "source": [
    "## Libraries Prequisities\n",
    "!pip install scikit-learn\n",
    "!pip install numpy==1.16.1"
   ]
  },
  {
   "cell_type": "code",
   "execution_count": null,
   "metadata": {
    "colab": {
     "base_uri": "https://localhost:8080/",
     "height": 124
    },
    "colab_type": "code",
    "executionInfo": {
     "elapsed": 52616,
     "status": "ok",
     "timestamp": 1585402268774,
     "user": {
      "displayName": "Rana mostafa",
      "photoUrl": "https://lh3.googleusercontent.com/a-/AOh14GhpLWLhJYcXKOOp7sprSKwnxN-x9hYM61yh__9kww=s64",
      "userId": "07598775866819373078"
     },
     "user_tz": -120
    },
    "id": "nlGEAKgGVfUp",
    "outputId": "08d83c1b-744a-4751-e21d-e66cbd7b16f1"
   },
   "outputs": [],
   "source": [
    "from google.colab import drive\n",
    "drive.mount('/content/drive')"
   ]
  },
  {
   "cell_type": "code",
   "execution_count": null,
   "metadata": {
    "colab": {
     "base_uri": "https://localhost:8080/",
     "height": 34
    },
    "colab_type": "code",
    "executionInfo": {
     "elapsed": 3937,
     "status": "ok",
     "timestamp": 1585402309423,
     "user": {
      "displayName": "Rana mostafa",
      "photoUrl": "https://lh3.googleusercontent.com/a-/AOh14GhpLWLhJYcXKOOp7sprSKwnxN-x9hYM61yh__9kww=s64",
      "userId": "07598775866819373078"
     },
     "user_tz": -120
    },
    "id": "buyhUpZCVspZ",
    "outputId": "949c5d26-0036-41e6-84fb-4cfb47f1f17d"
   },
   "outputs": [],
   "source": [
    "import os\n",
    "os.chdir(\"/content/drive/\")\n",
    "!ls\n",
    "import os\n",
    "os.chdir(\"My Drive/Computer_Vision_Masters/Wearable_Sensors_Code/\")"
   ]
  },
  {
   "cell_type": "code",
   "execution_count": null,
   "metadata": {
    "colab": {},
    "colab_type": "code",
    "id": "PA4qRsbaWO9i"
   },
   "outputs": [],
   "source": [
    "## Libraries\n",
    "import numpy as np\n",
    "from sklearn.ensemble import RandomForestClassifier, VotingClassifier\n",
    "from sklearn.metrics.classification import accuracy_score, recall_score, f1_score\n",
    "from sklearn.model_selection import train_test_split\n",
    "import pandas as pd\n",
    "from pandas import ExcelWriter\n",
    "from pandas import ExcelFile\n",
    "import scipy.stats as st\n",
    "import sys\n",
    "import warnings\n",
    "warnings.filterwarnings('ignore')\n",
    "np.random.seed(12227)"
   ]
  },
  {
   "cell_type": "code",
   "execution_count": null,
   "metadata": {
    "colab": {},
    "colab_type": "code",
    "id": "73U9w1nhWZqg"
   },
   "outputs": [],
   "source": [
    "# Classical Machine Learning Algos\n",
    "def train_j48(X, y):\n",
    "    from sklearn import tree\n",
    "    clf = tree.DecisionTreeClassifier()\n",
    "    #clf = clf.fit(X, y)\n",
    "    return clf\n",
    "\n",
    "def train_mlp(X, y):\n",
    "    from sklearn.neural_network import MLPClassifier\n",
    "    a = int((X.shape[1] + np.amax(y)) / 2 )#Default param of weka, amax(y) gets the number of classes\n",
    "    clf = MLPClassifier(solver='lbfgs', alpha=1e-5, hidden_layer_sizes = (a,),\n",
    "                        learning_rate_init=0.3, momentum=0.2, max_iter=500, #Default param of weka\n",
    "                        )\n",
    "    #clf.fit(X, y)\n",
    "    return clf\n",
    "\n",
    "def train_logistic_regression(X, y):\n",
    "    from sklearn.linear_model import LogisticRegression\n",
    "    clf = LogisticRegression(multi_class='ovr')\n",
    "    #clf.fit(X, y)\n",
    "    return clf"
   ]
  },
  {
   "cell_type": "code",
   "execution_count": null,
   "metadata": {
    "colab": {},
    "colab_type": "code",
    "id": "kFO1U1hOWyT4"
   },
   "outputs": [],
   "source": [
    "def DataPreparation(data_input_file):\n",
    "  print('Shoaib Human Activity DataSet using Catal_2015 Approach {}'.format(data_input_file))\n",
    "  df = pd.read_excel(data_input_file)\n",
    "  X = df.loc[:,['Ax','Ay','Az','Gx','Gy','Gz','Mx','My','Mz']]\n",
    "  Y = df['Activity_Label']\t\n",
    "  Y[Y=='Downstairs']=0\n",
    "  Y[Y=='Running']=1\n",
    "  Y[Y=='Sitting']=2\n",
    "  Y[Y=='Standing']=3\n",
    "  Y[Y=='Upstairs']=4\n",
    "  Y[Y=='Walking']=5\n",
    "  Y=Y.astype('int')\n",
    "  X_train, X_test, Y_train, Y_test = train_test_split(X, np.array(Y), test_size=0.2, random_state=42)\n",
    "  return X_train, Y_train, X_test, Y_test"
   ]
  },
  {
   "cell_type": "code",
   "execution_count": null,
   "metadata": {
    "colab": {},
    "colab_type": "code",
    "id": "yqDBvbIFh7ML"
   },
   "outputs": [],
   "source": [
    "def RunCatal2015Model(X_train, Y_train, X_test, Y_test):\n",
    "    j_48 = train_j48(X_train, Y_train)\n",
    "    mlp = train_mlp(X_train, Y_train)\n",
    "    logistic_regression = train_logistic_regression(X_train, Y_train)\n",
    "\n",
    "    majority_voting = VotingClassifier(estimators=[('dt', j_48), ('mlp', mlp), ('lr', logistic_regression)], voting='soft')\n",
    "    majority_voting.fit(X_train, Y_train)\n",
    "    tmp = majority_voting.predict(X_test)\n",
    "\n",
    "    acc_fold = accuracy_score(Y_test, tmp)\n",
    "\n",
    "    recall_fold = recall_score(Y_test, tmp, average='macro')\n",
    "\n",
    "    f1_fold  = f1_score(Y_test, tmp, average='macro')\n",
    "\n",
    "    print('Accuracy[{:.4f}] Recall[{:.4f}] F1[{:.4f}]'.format(acc_fold, recall_fold, f1_fold))\n",
    "    print('________________________________________________________________')"
   ]
  },
  {
   "cell_type": "code",
   "execution_count": null,
   "metadata": {
    "colab": {},
    "colab_type": "code",
    "id": "JojGCPjAkidF"
   },
   "outputs": [],
   "source": [
    "def Run(data_input_file):\n",
    "  X_train, Y_train, X_test, Y_test = DataPreparation(data_input_file)\n",
    "  RunCatal2015Model(X_train, Y_train, X_test, Y_test)"
   ]
  },
  {
   "cell_type": "code",
   "execution_count": null,
   "metadata": {
    "colab": {
     "base_uri": "https://localhost:8080/",
     "height": 69
    },
    "colab_type": "code",
    "executionInfo": {
     "elapsed": 85595,
     "status": "ok",
     "timestamp": 1585406371463,
     "user": {
      "displayName": "Rana mostafa",
      "photoUrl": "https://lh3.googleusercontent.com/a-/AOh14GhpLWLhJYcXKOOp7sprSKwnxN-x9hYM61yh__9kww=s64",
      "userId": "07598775866819373078"
     },
     "user_tz": -120
    },
    "id": "6rPP01Hzk_FI",
    "outputId": "89a67fb5-a350-40d0-fe5d-d4660c6f052e"
   },
   "outputs": [],
   "source": [
    "Run('data/SHOAIB/Arm.xlsx')"
   ]
  },
  {
   "cell_type": "code",
   "execution_count": null,
   "metadata": {
    "colab": {
     "base_uri": "https://localhost:8080/",
     "height": 69
    },
    "colab_type": "code",
    "executionInfo": {
     "elapsed": 32813,
     "status": "ok",
     "timestamp": 1585406506039,
     "user": {
      "displayName": "Rana mostafa",
      "photoUrl": "https://lh3.googleusercontent.com/a-/AOh14GhpLWLhJYcXKOOp7sprSKwnxN-x9hYM61yh__9kww=s64",
      "userId": "07598775866819373078"
     },
     "user_tz": -120
    },
    "id": "kSYF-OYllqYS",
    "outputId": "bbc53f1a-7381-4a57-d807-f33f3d00c2ac"
   },
   "outputs": [],
   "source": [
    "Run('data/SHOAIB/Belt.xlsx')"
   ]
  },
  {
   "cell_type": "code",
   "execution_count": null,
   "metadata": {
    "colab": {
     "base_uri": "https://localhost:8080/",
     "height": 69
    },
    "colab_type": "code",
    "executionInfo": {
     "elapsed": 88893,
     "status": "ok",
     "timestamp": 1585406630746,
     "user": {
      "displayName": "Rana mostafa",
      "photoUrl": "https://lh3.googleusercontent.com/a-/AOh14GhpLWLhJYcXKOOp7sprSKwnxN-x9hYM61yh__9kww=s64",
      "userId": "07598775866819373078"
     },
     "user_tz": -120
    },
    "id": "0trQC1B7l32T",
    "outputId": "a50c65c3-e100-4c62-83f5-aa0bfa70b132"
   },
   "outputs": [],
   "source": [
    "Run('data/SHOAIB/Wrist.xlsx')"
   ]
  },
  {
   "cell_type": "code",
   "execution_count": null,
   "metadata": {
    "colab": {
     "base_uri": "https://localhost:8080/",
     "height": 69
    },
    "colab_type": "code",
    "executionInfo": {
     "elapsed": 96179,
     "status": "ok",
     "timestamp": 1585407133022,
     "user": {
      "displayName": "Rana mostafa",
      "photoUrl": "https://lh3.googleusercontent.com/a-/AOh14GhpLWLhJYcXKOOp7sprSKwnxN-x9hYM61yh__9kww=s64",
      "userId": "07598775866819373078"
     },
     "user_tz": -120
    },
    "id": "-OiLTGI7mC9v",
    "outputId": "634e0703-5b21-4aa0-bd79-b4b131491e5e"
   },
   "outputs": [],
   "source": [
    "Run('data/SHOAIB/Pocket.xlsx')"
   ]
  }
 ],
 "metadata": {
  "colab": {
   "authorship_tag": "ABX9TyMt0/+FxNIfe5n9lvQ3KxD0",
   "collapsed_sections": [],
   "name": "Shoaib_2013_Using_Catal.ipynb",
   "provenance": []
  },
  "kernelspec": {
   "display_name": "Python 3",
   "language": "python",
   "name": "python3"
  },
  "language_info": {
   "codemirror_mode": {
    "name": "ipython",
    "version": 3
   },
   "file_extension": ".py",
   "mimetype": "text/x-python",
   "name": "python",
   "nbconvert_exporter": "python",
   "pygments_lexer": "ipython3",
   "version": "3.6.8"
  }
 },
 "nbformat": 4,
 "nbformat_minor": 1
}
