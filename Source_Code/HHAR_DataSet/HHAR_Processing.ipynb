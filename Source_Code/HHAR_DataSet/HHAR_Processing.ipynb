{
  "nbformat": 4,
  "nbformat_minor": 0,
  "metadata": {
    "colab": {
      "name": "HHAR_Processing.ipynb",
      "provenance": [],
      "collapsed_sections": [],
      "toc_visible": true
    },
    "kernelspec": {
      "name": "python3",
      "display_name": "Python 3"
    }
  },
  "cells": [
    {
      "cell_type": "code",
      "metadata": {
        "id": "V1uBlDElhz-g",
        "colab_type": "code",
        "colab": {}
      },
      "source": [
        "import os\n",
        "import numpy as np\n",
        "import pandas as pd\n",
        "import matplotlib.pyplot as plt\n",
        "import time\n",
        "import random"
      ],
      "execution_count": 0,
      "outputs": []
    },
    {
      "cell_type": "code",
      "metadata": {
        "id": "CrsIPbAJJuOf",
        "colab_type": "code",
        "colab": {}
      },
      "source": [
        ""
      ],
      "execution_count": 0,
      "outputs": []
    },
    {
      "cell_type": "code",
      "metadata": {
        "id": "IWPd8EHYh2Bb",
        "colab_type": "code",
        "outputId": "9fcae429-7d0f-411f-e4fa-bbe4c223f1e5",
        "colab": {
          "base_uri": "https://localhost:8080/",
          "height": 124
        }
      },
      "source": [
        "from google.colab import drive\n",
        "drive.mount('/content/drive')"
      ],
      "execution_count": 0,
      "outputs": [
        {
          "output_type": "stream",
          "text": [
            "Go to this URL in a browser: https://accounts.google.com/o/oauth2/auth?client_id=947318989803-6bn6qk8qdgf4n4g3pfee6491hc0brc4i.apps.googleusercontent.com&redirect_uri=urn%3aietf%3awg%3aoauth%3a2.0%3aoob&response_type=code&scope=email%20https%3a%2f%2fwww.googleapis.com%2fauth%2fdocs.test%20https%3a%2f%2fwww.googleapis.com%2fauth%2fdrive%20https%3a%2f%2fwww.googleapis.com%2fauth%2fdrive.photos.readonly%20https%3a%2f%2fwww.googleapis.com%2fauth%2fpeopleapi.readonly\n",
            "\n",
            "Enter your authorization code:\n",
            "··········\n",
            "Mounted at /content/drive\n"
          ],
          "name": "stdout"
        }
      ]
    },
    {
      "cell_type": "code",
      "metadata": {
        "id": "7raeSyD1yLRK",
        "colab_type": "code",
        "outputId": "934cd4b1-5f36-498f-bf8c-810e3700ab01",
        "colab": {
          "base_uri": "https://localhost:8080/",
          "height": 245
        }
      },
      "source": [
        "!unzip '/content/drive/My Drive/Computer_vision_project/data/UCI_Heterogeneity /Activity_recognition_exp.zip' -d '/content/drive/My Drive/Computer_vision_project/data/UCI_Heterogeneity /'"
      ],
      "execution_count": 0,
      "outputs": [
        {
          "output_type": "stream",
          "text": [
            "Archive:  /content/drive/My Drive/Computer_vision_project/data/UCI_Heterogeneity /Activity_recognition_exp.zip\n",
            "   creating: /content/drive/My Drive/Computer_vision_project/data/UCI_Heterogeneity /Activity recognition exp/\n",
            "  inflating: /content/drive/My Drive/Computer_vision_project/data/UCI_Heterogeneity /Activity recognition exp/.DS_Store  \n",
            "   creating: /content/drive/My Drive/Computer_vision_project/data/UCI_Heterogeneity /__MACOSX/\n",
            "   creating: /content/drive/My Drive/Computer_vision_project/data/UCI_Heterogeneity /__MACOSX/Activity recognition exp/\n",
            "  inflating: /content/drive/My Drive/Computer_vision_project/data/UCI_Heterogeneity /__MACOSX/Activity recognition exp/._.DS_Store  \n",
            "  inflating: /content/drive/My Drive/Computer_vision_project/data/UCI_Heterogeneity /Activity recognition exp/Phones_accelerometer.csv  \n",
            "  inflating: /content/drive/My Drive/Computer_vision_project/data/UCI_Heterogeneity /Activity recognition exp/Phones_gyroscope.csv  \n",
            "  inflating: /content/drive/My Drive/Computer_vision_project/data/UCI_Heterogeneity /Activity recognition exp/readme.txt  \n",
            "  inflating: /content/drive/My Drive/Computer_vision_project/data/UCI_Heterogeneity /__MACOSX/Activity recognition exp/._readme.txt  \n",
            "  inflating: /content/drive/My Drive/Computer_vision_project/data/UCI_Heterogeneity /Activity recognition exp/Watch_accelerometer.csv  \n",
            "  inflating: /content/drive/My Drive/Computer_vision_project/data/UCI_Heterogeneity /Activity recognition exp/Watch_gyroscope.csv  \n"
          ],
          "name": "stdout"
        }
      ]
    },
    {
      "cell_type": "code",
      "metadata": {
        "id": "VNbYHjxBiNrF",
        "colab_type": "code",
        "colab": {}
      },
      "source": [
        "data1 = pd.read_csv('/content/drive/My Drive/Computer_vision_project/data/UCI_Heterogeneity /Activity recognition exp/Phones_accelerometer.csv')\t\t#Loading Accelerometer data\n",
        "data2 = pd.read_csv('/content/drive/My Drive/Computer_vision_project/data/UCI_Heterogeneity /Activity recognition exp/Phones_accelerometer.csv')\t\t\t#Loading Gyroscope data"
      ],
      "execution_count": 0,
      "outputs": []
    },
    {
      "cell_type": "code",
      "metadata": {
        "id": "PTBQ8J3xiUFn",
        "colab_type": "code",
        "colab": {}
      },
      "source": [
        "length1 = len(data1)\n",
        "length2 = len(data2)\n",
        "length = min(length1, length2)\t\t\t\t\t\t#To make the length of the merged data equal to minimum of the two data \n"
      ],
      "execution_count": 0,
      "outputs": []
    },
    {
      "cell_type": "code",
      "metadata": {
        "id": "ASSMyiFLiYyJ",
        "colab_type": "code",
        "colab": {}
      },
      "source": [
        "data1 = data1.drop(labels = ['Arrival_Time','Creation_Time','Index', 'User'], axis=1)\t\t#Dropping the unnecessary fields\n",
        "data2 = data2.drop(labels = ['Arrival_Time','Creation_Time','Index', 'User','Model','Device'], axis=1)\n"
      ],
      "execution_count": 0,
      "outputs": []
    },
    {
      "cell_type": "code",
      "metadata": {
        "id": "FkjN6KEZ0WpR",
        "colab_type": "code",
        "colab": {}
      },
      "source": [
        "data2.columns = ['x1', 'y1', 'z1', 'gt1']"
      ],
      "execution_count": 0,
      "outputs": []
    },
    {
      "cell_type": "markdown",
      "metadata": {
        "id": "a3dFPDttifAE",
        "colab_type": "text"
      },
      "source": [
        ""
      ]
    },
    {
      "cell_type": "code",
      "metadata": {
        "id": "0ipqEuRAiiKf",
        "colab_type": "code",
        "colab": {}
      },
      "source": [
        "data = pd.concat([data1, data2], axis=1)"
      ],
      "execution_count": 0,
      "outputs": []
    },
    {
      "cell_type": "code",
      "metadata": {
        "id": "ik0BjWGn0QHY",
        "colab_type": "code",
        "outputId": "4b2682de-804c-45d1-9731-251cf368a726",
        "colab": {
          "base_uri": "https://localhost:8080/",
          "height": 260
        }
      },
      "source": [
        "data.head"
      ],
      "execution_count": 0,
      "outputs": [
        {
          "output_type": "execute_result",
          "data": {
            "text/plain": [
              "<bound method NDFrame.head of                  x         y         z  ...        y1        z1    gt1\n",
              "0        -5.958191  0.688065  8.135345  ...  0.688065  8.135345  stand\n",
              "1        -5.952240  0.670212  8.136536  ...  0.670212  8.136536  stand\n",
              "2        -5.995087  0.653549  8.204376  ...  0.653549  8.204376  stand\n",
              "3        -5.942718  0.676163  8.128204  ...  0.676163  8.128204  stand\n",
              "4        -5.991516  0.641647  8.135345  ...  0.641647  8.135345  stand\n",
              "...            ...       ...       ...  ...       ...       ...    ...\n",
              "13062470  1.379043  0.153227  9.959755  ...  0.153227  9.959755   bike\n",
              "13062471  1.379043  0.153227  9.806528  ...  0.153227  9.806528   bike\n",
              "13062472  1.532270  0.153227  9.806528  ...  0.153227  9.806528   bike\n",
              "13062473  1.532270  0.000000  9.959755  ...  0.000000  9.959755   bike\n",
              "13062474  1.379043  0.000000  9.959755  ...  0.000000  9.959755   bike\n",
              "\n",
              "[13062475 rows x 10 columns]>"
            ]
          },
          "metadata": {
            "tags": []
          },
          "execution_count": 9
        }
      ]
    },
    {
      "cell_type": "code",
      "metadata": {
        "id": "IXlP7iwzikeo",
        "colab_type": "code",
        "colab": {}
      },
      "source": [
        "to_drop = ['null']\t\t\t\t\t\t\t\t\t#To drop the null values fro both data1 and data2\n",
        "data = data[~data['gt'].isin(to_drop)]\n",
        "data = data[~data['gt1'].isin(to_drop)]"
      ],
      "execution_count": 0,
      "outputs": []
    },
    {
      "cell_type": "code",
      "metadata": {
        "id": "-u4NfEZViogE",
        "colab_type": "code",
        "colab": {}
      },
      "source": [
        "data = data.drop(labels = ['gt1'], axis=1)"
      ],
      "execution_count": 0,
      "outputs": []
    },
    {
      "cell_type": "code",
      "metadata": {
        "id": "IzS2SCToirsC",
        "colab_type": "code",
        "colab": {}
      },
      "source": [
        "cols_to_norm = ['x','y','z', 'x1','y1','z1']\t\t#Normalizing the columns\n",
        "data[cols_to_norm] = data[cols_to_norm].apply(lambda x: (x - x.mean()) / (x.max() - x.min()))"
      ],
      "execution_count": 0,
      "outputs": []
    },
    {
      "cell_type": "code",
      "metadata": {
        "id": "Z7MY-C8wivsB",
        "colab_type": "code",
        "colab": {}
      },
      "source": [
        "y = data[['gt']]\t\t\t\t\t\t\t\t\t#Extracting only the action values\n",
        "y= pd.get_dummies(y)\n",
        "# data = data.drop(labels = ['gt'], axis = 1)"
      ],
      "execution_count": 0,
      "outputs": []
    },
    {
      "cell_type": "code",
      "metadata": {
        "id": "Br3z7L6KjF_w",
        "colab_type": "code",
        "colab": {}
      },
      "source": [
        "sample_rate = 50  # number of observation per second based on dataset documentation\n",
        "\n",
        "sliding_size = int(.2 * sample_rate)  # number of skipped datapoints to start next window\n",
        "win_size=128"
      ],
      "execution_count": 0,
      "outputs": []
    },
    {
      "cell_type": "code",
      "metadata": {
        "id": "B9NyPWzXSITH",
        "colab_type": "code",
        "outputId": "f9fed03b-00b8-4536-bab8-341662094556",
        "colab": {
          "base_uri": "https://localhost:8080/",
          "height": 35
        }
      },
      "source": [
        "data.columns"
      ],
      "execution_count": 0,
      "outputs": [
        {
          "output_type": "execute_result",
          "data": {
            "text/plain": [
              "Index(['x', 'y', 'z', 'Model', 'Device', 'gt', 'x1', 'y1', 'z1'], dtype='object')"
            ]
          },
          "metadata": {
            "tags": []
          },
          "execution_count": 15
        }
      ]
    },
    {
      "cell_type": "code",
      "metadata": {
        "id": "GlN2FZwrkr80",
        "colab_type": "code",
        "colab": {}
      },
      "source": [
        "def sliding_window(overlap=False):\n",
        " \n",
        "  if overlap:\n",
        "        step_size = sliding_size  # for Overlapping technique\n",
        "  else:\n",
        "\n",
        "    step_size = win_size  # for Non-overlapping technique\n",
        "  y_list=[]\n",
        "  x_list=[]      \n",
        "  for i in range(0, data.shape[0], step_size):\n",
        "    start = i\n",
        "    end = start + step_size\n",
        "    if end<data.shape[0]:\n",
        "      \n",
        "      label = data.loc[i]['gt']\n",
        "      X_point = np.zeros((step_size,6))\n",
        "      # acc_x = data[i: i + N_TIME_STEPS, 'x']\n",
        "      # acc_y = data[i: i + N_TIME_STEPS, 'y']\n",
        "      # acc_z = data[i: i + N_TIME_STEPS, 'z']\n",
        "      # gyr_x = data[i: i + N_TIME_STEPS, 'x1']\n",
        "      # gyr_y = data[i: i + N_TIME_STEPS, 'y1']\n",
        "      # gyr_z = data[i: i + N_TIME_STEPS, 'z1']\n",
        "      # print(data.iloc[i: i + step_size, 0])\n",
        "      X_point[:,0] = data.iloc[i: i + step_size, 0]\n",
        "      X_point[:,1] = data.iloc[i: i + step_size, 1]\n",
        "      X_point[:,2] = data.iloc[i: i + step_size, 2]\n",
        "      X_point[:,3] = data.iloc[i: i + step_size, 6]\n",
        "      X_point[:,4] = data.iloc[i: i + step_size, 7]\n",
        "      X_point[:,5] = data.iloc[i: i + step_size, 8]\n",
        "      x_list.append(X_point)\n",
        "      y_list.append(label)\n",
        "    # print(acc_x)\n",
        "    # break\n",
        "    # while until <= segment_end:\n",
        "    #   X_point = np.zeros((win_size,6))\n",
        "    #   # print(acc_x[segment_start:until])\n",
        "    #   X_point[:,0] = acc_x[segment_start:until]\n",
        "    #   X_point[:,1] = acc_y[segment_start:until]\n",
        "    #   X_point[:,2] = acc_z[segment_start:until]\n",
        "    #   X_point[:,3] = gyr_x[segment_start:until]\n",
        "    #   X_point[:,4] = gyr_y[segment_start:until]\n",
        "    #   X_point[:,5] = gyr_z[segment_start:until]\n",
        "    #   x_list.append(X_point)\n",
        "    #   print('xpoint',X_point)\n",
        "    #   print('xlist',x_list)\n",
        "\n",
        "\n",
        "    #   segment_start+=step_size\n",
        "    #   until+=step_size\n",
        "    #   y_list.append(label) \n",
        "  return y_list,  x_list \n",
        "\n",
        "\n",
        "         "
      ],
      "execution_count": 0,
      "outputs": []
    },
    {
      "cell_type": "code",
      "metadata": {
        "id": "eBW0wyFsS6zj",
        "colab_type": "code",
        "colab": {}
      },
      "source": [
        "overlap=True\n",
        "step_size=None\n",
        "if overlap:\n",
        "        step_size = sliding_size  # for Overlapping technique\n",
        "else:\n",
        "  step_size = win_size  # for Non-overlapping technique"
      ],
      "execution_count": 0,
      "outputs": []
    },
    {
      "cell_type": "code",
      "metadata": {
        "id": "9VvrlVVK0jar",
        "colab_type": "code",
        "colab": {}
      },
      "source": [
        "Y,X=sliding_window(overlap)"
      ],
      "execution_count": 0,
      "outputs": []
    },
    {
      "cell_type": "code",
      "metadata": {
        "id": "CDR5RE2CcHh-",
        "colab_type": "code",
        "colab": {}
      },
      "source": [
        "X_train = np.zeros((len(Y),step_size,6))\n",
        "X_train[:,:]=[x for x in X]"
      ],
      "execution_count": 0,
      "outputs": []
    },
    {
      "cell_type": "code",
      "metadata": {
        "id": "FZEXvtDFEwEb",
        "colab_type": "code",
        "outputId": "0e215fb4-6681-449a-84cd-7a3b696fca31",
        "colab": {
          "base_uri": "https://localhost:8080/",
          "height": 35
        }
      },
      "source": [
        "X_train.shape"
      ],
      "execution_count": 0,
      "outputs": [
        {
          "output_type": "execute_result",
          "data": {
            "text/plain": [
              "(1306247, 10, 6)"
            ]
          },
          "metadata": {
            "tags": []
          },
          "execution_count": 20
        }
      ]
    },
    {
      "cell_type": "code",
      "metadata": {
        "id": "rK6NI6nLcSpp",
        "colab_type": "code",
        "outputId": "831fc3b2-7a7f-4ad8-fca8-64e92a8aa429",
        "colab": {
          "base_uri": "https://localhost:8080/",
          "height": 35
        }
      },
      "source": [
        "type(Y)"
      ],
      "execution_count": 0,
      "outputs": [
        {
          "output_type": "execute_result",
          "data": {
            "text/plain": [
              "list"
            ]
          },
          "metadata": {
            "tags": []
          },
          "execution_count": 45
        }
      ]
    },
    {
      "cell_type": "code",
      "metadata": {
        "id": "BBmUnIGIdq4f",
        "colab_type": "code",
        "colab": {}
      },
      "source": [
        "y_df=df = pd.DataFrame(Y)"
      ],
      "execution_count": 0,
      "outputs": []
    },
    {
      "cell_type": "code",
      "metadata": {
        "id": "nkxn43CAduWV",
        "colab_type": "code",
        "colab": {}
      },
      "source": [
        "y_dummy= pd.get_dummies(y_df)"
      ],
      "execution_count": 0,
      "outputs": []
    },
    {
      "cell_type": "code",
      "metadata": {
        "id": "ORkzK36fdy_R",
        "colab_type": "code",
        "colab": {}
      },
      "source": [
        "y_np = np.array(y_dummy)"
      ],
      "execution_count": 0,
      "outputs": []
    },
    {
      "cell_type": "code",
      "metadata": {
        "id": "yyyNOoHVd8wl",
        "colab_type": "code",
        "outputId": "945b2dd5-085e-4495-cefa-a2e1a38da56e",
        "colab": {
          "base_uri": "https://localhost:8080/",
          "height": 139
        }
      },
      "source": [
        "y_np"
      ],
      "execution_count": 0,
      "outputs": [
        {
          "output_type": "execute_result",
          "data": {
            "text/plain": [
              "array([[0, 0, 0, 0, 1, 0],\n",
              "       [0, 0, 0, 0, 1, 0],\n",
              "       [0, 0, 0, 0, 1, 0],\n",
              "       ...,\n",
              "       [1, 0, 0, 0, 0, 0],\n",
              "       [1, 0, 0, 0, 0, 0],\n",
              "       [1, 0, 0, 0, 0, 0]], dtype=uint8)"
            ]
          },
          "metadata": {
            "tags": []
          },
          "execution_count": 24
        }
      ]
    },
    {
      "cell_type": "code",
      "metadata": {
        "id": "UlcXd51WcI_T",
        "colab_type": "code",
        "outputId": "9f603c89-69cd-437a-beae-4ab7aa9dc791",
        "colab": {
          "base_uri": "https://localhost:8080/",
          "height": 1000
        }
      },
      "source": [
        "Y_train=np.zeros(len(Y))\n",
        "for y in y_np:\n",
        "   index=np.where(y == 1)\n",
        "   print(index)\n",
        "   Y_train[:]=index\n",
        "\n"
      ],
      "execution_count": 0,
      "outputs": [
        {
          "output_type": "stream",
          "text": [
            "(array([4]),)\n",
            "(array([4]),)\n",
            "(array([4]),)\n",
            "(array([4]),)\n",
            "(array([4]),)\n",
            "(array([4]),)\n",
            "(array([4]),)\n",
            "(array([4]),)\n",
            "(array([4]),)\n",
            "(array([4]),)\n",
            "(array([4]),)\n",
            "(array([4]),)\n",
            "(array([4]),)\n",
            "(array([4]),)\n",
            "(array([4]),)\n",
            "(array([4]),)\n",
            "(array([4]),)\n",
            "(array([4]),)\n",
            "(array([4]),)\n",
            "(array([4]),)\n",
            "(array([4]),)\n",
            "(array([4]),)\n",
            "(array([4]),)\n",
            "(array([4]),)\n",
            "(array([4]),)\n",
            "(array([4]),)\n",
            "(array([4]),)\n",
            "(array([4]),)\n",
            "(array([4]),)\n",
            "(array([4]),)\n",
            "(array([4]),)\n",
            "(array([4]),)\n",
            "(array([4]),)\n",
            "(array([4]),)\n",
            "(array([4]),)\n",
            "(array([4]),)\n",
            "(array([4]),)\n",
            "(array([4]),)\n",
            "(array([4]),)\n",
            "(array([4]),)\n",
            "(array([4]),)\n",
            "(array([4]),)\n",
            "(array([4]),)\n",
            "(array([4]),)\n",
            "(array([4]),)\n",
            "(array([4]),)\n",
            "(array([4]),)\n",
            "(array([4]),)\n",
            "(array([4]),)\n",
            "(array([4]),)\n",
            "(array([4]),)\n",
            "(array([4]),)\n",
            "(array([4]),)\n",
            "(array([4]),)\n",
            "(array([4]),)\n",
            "(array([4]),)\n",
            "(array([4]),)\n",
            "(array([4]),)\n",
            "(array([4]),)\n",
            "(array([4]),)\n",
            "(array([4]),)\n",
            "(array([4]),)\n",
            "(array([4]),)\n",
            "(array([4]),)\n",
            "(array([4]),)\n",
            "(array([4]),)\n",
            "(array([4]),)\n",
            "(array([4]),)\n",
            "(array([4]),)\n",
            "(array([4]),)\n",
            "(array([4]),)\n",
            "(array([4]),)\n",
            "(array([4]),)\n",
            "(array([4]),)\n",
            "(array([4]),)\n",
            "(array([4]),)\n",
            "(array([4]),)\n",
            "(array([4]),)\n",
            "(array([4]),)\n",
            "(array([4]),)\n",
            "(array([4]),)\n",
            "(array([4]),)\n",
            "(array([4]),)\n",
            "(array([4]),)\n",
            "(array([4]),)\n",
            "(array([4]),)\n",
            "(array([4]),)\n",
            "(array([4]),)\n",
            "(array([4]),)\n",
            "(array([4]),)\n",
            "(array([4]),)\n",
            "(array([4]),)\n",
            "(array([4]),)\n",
            "(array([4]),)\n",
            "(array([4]),)\n",
            "(array([4]),)\n",
            "(array([4]),)\n",
            "(array([4]),)\n",
            "(array([4]),)\n",
            "(array([4]),)\n",
            "(array([4]),)\n",
            "(array([4]),)\n",
            "(array([4]),)\n",
            "(array([4]),)\n",
            "(array([4]),)\n",
            "(array([4]),)\n",
            "(array([4]),)\n",
            "(array([4]),)\n",
            "(array([4]),)\n",
            "(array([4]),)\n",
            "(array([4]),)\n",
            "(array([4]),)\n",
            "(array([4]),)\n",
            "(array([4]),)\n",
            "(array([4]),)\n",
            "(array([4]),)\n",
            "(array([4]),)\n",
            "(array([4]),)\n",
            "(array([4]),)\n",
            "(array([4]),)\n",
            "(array([4]),)\n",
            "(array([4]),)\n",
            "(array([4]),)\n",
            "(array([4]),)\n",
            "(array([4]),)\n",
            "(array([4]),)\n",
            "(array([4]),)\n",
            "(array([4]),)\n",
            "(array([4]),)\n",
            "(array([4]),)\n",
            "(array([4]),)\n",
            "(array([4]),)\n",
            "(array([4]),)\n",
            "(array([4]),)\n",
            "(array([4]),)\n",
            "(array([4]),)\n",
            "(array([4]),)\n",
            "(array([4]),)\n",
            "(array([4]),)\n",
            "(array([4]),)\n",
            "(array([4]),)\n",
            "(array([4]),)\n",
            "(array([4]),)\n",
            "(array([4]),)\n",
            "(array([4]),)\n",
            "(array([4]),)\n",
            "(array([4]),)\n",
            "(array([4]),)\n",
            "(array([4]),)\n",
            "(array([4]),)\n",
            "(array([4]),)\n",
            "(array([4]),)\n",
            "(array([4]),)\n",
            "(array([4]),)\n",
            "(array([4]),)\n",
            "(array([4]),)\n",
            "(array([4]),)\n",
            "(array([4]),)\n",
            "(array([4]),)\n",
            "(array([4]),)\n",
            "(array([4]),)\n",
            "(array([4]),)\n",
            "(array([4]),)\n",
            "(array([4]),)\n",
            "(array([4]),)\n",
            "(array([4]),)\n",
            "(array([4]),)\n",
            "(array([4]),)\n",
            "(array([4]),)\n",
            "(array([4]),)\n",
            "(array([4]),)\n",
            "(array([4]),)\n",
            "(array([4]),)\n",
            "(array([4]),)\n",
            "(array([4]),)\n",
            "(array([4]),)\n",
            "(array([4]),)\n",
            "(array([4]),)\n",
            "(array([4]),)\n",
            "(array([4]),)\n",
            "(array([4]),)\n",
            "(array([4]),)\n",
            "(array([4]),)\n",
            "(array([4]),)\n",
            "(array([4]),)\n",
            "(array([4]),)\n",
            "(array([4]),)\n",
            "(array([4]),)\n",
            "(array([4]),)\n",
            "(array([4]),)\n",
            "(array([4]),)\n",
            "(array([4]),)\n",
            "(array([4]),)\n",
            "(array([4]),)\n",
            "(array([4]),)\n",
            "(array([4]),)\n",
            "(array([4]),)\n",
            "(array([4]),)\n",
            "(array([4]),)\n",
            "(array([4]),)\n",
            "(array([4]),)\n",
            "(array([4]),)\n",
            "(array([4]),)\n",
            "(array([4]),)\n",
            "(array([4]),)\n",
            "(array([4]),)\n",
            "(array([4]),)\n",
            "(array([4]),)\n",
            "(array([4]),)\n",
            "(array([4]),)\n",
            "(array([4]),)\n",
            "(array([4]),)\n",
            "(array([4]),)\n",
            "(array([4]),)\n",
            "(array([4]),)\n",
            "(array([4]),)\n",
            "(array([4]),)\n",
            "(array([4]),)\n",
            "(array([4]),)\n",
            "(array([4]),)\n",
            "(array([4]),)\n",
            "(array([4]),)\n",
            "(array([4]),)\n",
            "(array([4]),)\n",
            "(array([4]),)\n",
            "(array([4]),)\n",
            "(array([4]),)\n",
            "(array([4]),)\n",
            "(array([4]),)\n",
            "(array([4]),)\n",
            "(array([4]),)\n",
            "(array([4]),)\n",
            "(array([4]),)\n",
            "(array([4]),)\n",
            "(array([4]),)\n",
            "(array([4]),)\n",
            "(array([4]),)\n",
            "(array([4]),)\n",
            "(array([4]),)\n",
            "(array([4]),)\n",
            "(array([4]),)\n",
            "(array([4]),)\n",
            "(array([4]),)\n",
            "(array([4]),)\n",
            "(array([4]),)\n",
            "(array([4]),)\n",
            "(array([4]),)\n",
            "(array([4]),)\n",
            "(array([4]),)\n",
            "(array([4]),)\n",
            "(array([4]),)\n",
            "(array([4]),)\n",
            "(array([4]),)\n",
            "(array([4]),)\n",
            "(array([4]),)\n",
            "(array([4]),)\n",
            "(array([4]),)\n",
            "(array([4]),)\n",
            "(array([4]),)\n",
            "(array([4]),)\n",
            "(array([4]),)\n",
            "(array([4]),)\n",
            "(array([4]),)\n",
            "(array([4]),)\n",
            "(array([4]),)\n",
            "(array([4]),)\n",
            "(array([4]),)\n",
            "(array([4]),)\n",
            "(array([4]),)\n",
            "(array([4]),)\n",
            "(array([4]),)\n",
            "(array([4]),)\n",
            "(array([4]),)\n",
            "(array([4]),)\n",
            "(array([4]),)\n",
            "(array([4]),)\n",
            "(array([4]),)\n",
            "(array([4]),)\n",
            "(array([4]),)\n",
            "(array([4]),)\n",
            "(array([4]),)\n",
            "(array([4]),)\n",
            "(array([4]),)\n",
            "(array([4]),)\n",
            "(array([4]),)\n",
            "(array([4]),)\n",
            "(array([4]),)\n",
            "(array([4]),)\n",
            "(array([4]),)\n",
            "(array([4]),)\n",
            "(array([4]),)\n",
            "(array([4]),)\n",
            "(array([4]),)\n",
            "(array([4]),)\n",
            "(array([4]),)\n",
            "(array([4]),)\n",
            "(array([4]),)\n",
            "(array([4]),)\n",
            "(array([4]),)\n",
            "(array([4]),)\n",
            "(array([4]),)\n",
            "(array([4]),)\n",
            "(array([4]),)\n",
            "(array([4]),)\n",
            "(array([4]),)\n",
            "(array([4]),)\n",
            "(array([4]),)\n",
            "(array([4]),)\n",
            "(array([4]),)\n",
            "(array([4]),)\n",
            "(array([4]),)\n",
            "(array([4]),)\n",
            "(array([4]),)\n",
            "(array([4]),)\n",
            "(array([4]),)\n",
            "(array([4]),)\n",
            "(array([4]),)\n",
            "(array([4]),)\n",
            "(array([4]),)\n",
            "(array([4]),)\n",
            "(array([4]),)\n",
            "(array([4]),)\n",
            "(array([4]),)\n",
            "(array([4]),)\n",
            "(array([4]),)\n",
            "(array([4]),)\n",
            "(array([4]),)\n",
            "(array([4]),)\n",
            "(array([4]),)\n",
            "(array([4]),)\n",
            "(array([4]),)\n",
            "(array([4]),)\n",
            "(array([4]),)\n",
            "(array([4]),)\n",
            "(array([4]),)\n",
            "(array([4]),)\n",
            "(array([4]),)\n",
            "(array([4]),)\n",
            "(array([4]),)\n",
            "(array([4]),)\n",
            "(array([4]),)\n",
            "(array([4]),)\n",
            "(array([4]),)\n",
            "(array([4]),)\n",
            "(array([4]),)\n",
            "(array([4]),)\n",
            "(array([4]),)\n",
            "(array([4]),)\n",
            "(array([4]),)\n",
            "(array([4]),)\n",
            "(array([4]),)\n",
            "(array([4]),)\n",
            "(array([4]),)\n",
            "(array([4]),)\n",
            "(array([4]),)\n",
            "(array([4]),)\n",
            "(array([4]),)\n",
            "(array([4]),)\n",
            "(array([4]),)\n",
            "(array([4]),)\n",
            "(array([4]),)\n",
            "(array([4]),)\n",
            "(array([4]),)\n",
            "(array([4]),)\n",
            "(array([4]),)\n",
            "(array([4]),)\n",
            "(array([4]),)\n",
            "(array([4]),)\n",
            "(array([4]),)\n",
            "(array([4]),)\n",
            "(array([4]),)\n",
            "(array([4]),)\n",
            "(array([4]),)\n",
            "(array([4]),)\n",
            "(array([4]),)\n",
            "(array([4]),)\n",
            "(array([4]),)\n",
            "(array([4]),)\n",
            "(array([4]),)\n",
            "(array([4]),)\n",
            "(array([4]),)\n",
            "(array([4]),)\n",
            "(array([4]),)\n",
            "(array([4]),)\n",
            "(array([4]),)\n",
            "(array([4]),)\n",
            "(array([4]),)\n",
            "(array([4]),)\n",
            "(array([4]),)\n",
            "(array([4]),)\n",
            "(array([4]),)\n",
            "(array([4]),)\n",
            "(array([4]),)\n",
            "(array([4]),)\n",
            "(array([4]),)\n",
            "(array([4]),)\n",
            "(array([4]),)\n",
            "(array([4]),)\n",
            "(array([4]),)\n",
            "(array([4]),)\n",
            "(array([4]),)\n",
            "(array([4]),)\n",
            "(array([4]),)\n",
            "(array([4]),)\n",
            "(array([4]),)\n",
            "(array([4]),)\n",
            "(array([4]),)\n",
            "(array([4]),)\n",
            "(array([4]),)\n",
            "(array([4]),)\n",
            "(array([4]),)\n",
            "(array([4]),)\n",
            "(array([4]),)\n",
            "(array([4]),)\n",
            "(array([4]),)\n",
            "(array([4]),)\n",
            "(array([4]),)\n",
            "(array([4]),)\n",
            "(array([4]),)\n",
            "(array([4]),)\n",
            "(array([4]),)\n",
            "(array([4]),)\n",
            "(array([4]),)\n",
            "(array([4]),)\n",
            "(array([4]),)\n",
            "(array([4]),)\n",
            "(array([4]),)\n",
            "(array([4]),)\n",
            "(array([4]),)\n",
            "(array([4]),)\n",
            "(array([4]),)\n",
            "(array([], dtype=int64),)\n"
          ],
          "name": "stdout"
        },
        {
          "output_type": "error",
          "ename": "ValueError",
          "evalue": "ignored",
          "traceback": [
            "\u001b[0;31m---------------------------------------------------------------------------\u001b[0m",
            "\u001b[0;31mTypeError\u001b[0m                                 Traceback (most recent call last)",
            "\u001b[0;31mTypeError\u001b[0m: only size-1 arrays can be converted to Python scalars",
            "\nThe above exception was the direct cause of the following exception:\n",
            "\u001b[0;31mValueError\u001b[0m                                Traceback (most recent call last)",
            "\u001b[0;32m<ipython-input-25-4fe4641ed8e9>\u001b[0m in \u001b[0;36m<module>\u001b[0;34m()\u001b[0m\n\u001b[1;32m      3\u001b[0m    \u001b[0mindex\u001b[0m\u001b[0;34m=\u001b[0m\u001b[0mnp\u001b[0m\u001b[0;34m.\u001b[0m\u001b[0mwhere\u001b[0m\u001b[0;34m(\u001b[0m\u001b[0my\u001b[0m \u001b[0;34m==\u001b[0m \u001b[0;36m1\u001b[0m\u001b[0;34m)\u001b[0m\u001b[0;34m\u001b[0m\u001b[0;34m\u001b[0m\u001b[0m\n\u001b[1;32m      4\u001b[0m    \u001b[0mprint\u001b[0m\u001b[0;34m(\u001b[0m\u001b[0mindex\u001b[0m\u001b[0;34m)\u001b[0m\u001b[0;34m\u001b[0m\u001b[0;34m\u001b[0m\u001b[0m\n\u001b[0;32m----> 5\u001b[0;31m    \u001b[0mY_train\u001b[0m\u001b[0;34m[\u001b[0m\u001b[0;34m:\u001b[0m\u001b[0;34m]\u001b[0m\u001b[0;34m=\u001b[0m\u001b[0mindex\u001b[0m\u001b[0;34m\u001b[0m\u001b[0;34m\u001b[0m\u001b[0m\n\u001b[0m\u001b[1;32m      6\u001b[0m \u001b[0;34m\u001b[0m\u001b[0m\n",
            "\u001b[0;31mValueError\u001b[0m: setting an array element with a sequence."
          ]
        }
      ]
    },
    {
      "cell_type": "code",
      "metadata": {
        "id": "iTSsdONKhCYF",
        "colab_type": "code",
        "outputId": "493167a0-889c-46d6-ad5d-99a4ebf27c74",
        "colab": {
          "base_uri": "https://localhost:8080/",
          "height": 35
        }
      },
      "source": [
        "Y_train"
      ],
      "execution_count": 0,
      "outputs": [
        {
          "output_type": "execute_result",
          "data": {
            "text/plain": [
              "array([4., 4., 4., ..., 4., 4., 4.])"
            ]
          },
          "metadata": {
            "tags": []
          },
          "execution_count": 28
        }
      ]
    },
    {
      "cell_type": "code",
      "metadata": {
        "id": "GUhoOBRce4rm",
        "colab_type": "code",
        "colab": {}
      },
      "source": [
        ""
      ],
      "execution_count": 0,
      "outputs": []
    },
    {
      "cell_type": "code",
      "metadata": {
        "id": "rKfK1IZTdBPJ",
        "colab_type": "code",
        "colab": {}
      },
      "source": [
        "np.savez_compressed('/content/drive/My Drive/Computer_vision_project/data/UCI_Heterogeneity /UCI_HHAR_X.npz', X_train)"
      ],
      "execution_count": 0,
      "outputs": []
    },
    {
      "cell_type": "code",
      "metadata": {
        "id": "cRd5z7Nc1WVG",
        "colab_type": "code",
        "colab": {}
      },
      "source": [
        "np.savez_compressed('/content/drive/My Drive/Computer_vision_project/data/UCI_Heterogeneity /UCI_HHAR_Y.npz', y_np)"
      ],
      "execution_count": 0,
      "outputs": []
    }
  ]
}