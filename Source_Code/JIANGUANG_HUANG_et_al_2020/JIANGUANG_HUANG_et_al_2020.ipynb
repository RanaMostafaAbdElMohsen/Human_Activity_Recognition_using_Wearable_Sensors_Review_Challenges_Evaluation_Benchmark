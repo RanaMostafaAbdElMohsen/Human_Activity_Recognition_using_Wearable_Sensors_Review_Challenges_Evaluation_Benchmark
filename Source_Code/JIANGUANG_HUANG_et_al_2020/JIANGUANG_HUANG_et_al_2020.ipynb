{
 "cells": [
  {
   "cell_type": "code",
   "execution_count": null,
   "metadata": {
    "colab": {
     "base_uri": "https://localhost:8080/",
     "height": 367
    },
    "colab_type": "code",
    "id": "6M7j__CZS7OM",
    "outputId": "8933c408-5d9b-420f-ae43-2fae2f2982c8"
   },
   "outputs": [],
   "source": [
    "## Libraries Prequisities\n",
    "!pip install scikit-learn\n",
    "!pip install numpy==1.16.1"
   ]
  },
  {
   "cell_type": "markdown",
   "metadata": {
    "colab": {},
    "colab_type": "code",
    "id": "wAAuL0_NnbqO"
   },
   "source": [
    "https://ieeexplore.ieee.org/document/9043535?denied=\n",
    "LSTM-CNN Architecture for Human Activity Recognition\n"
   ]
  },
  {
   "cell_type": "code",
   "execution_count": null,
   "metadata": {
    "colab": {
     "base_uri": "https://localhost:8080/",
     "height": 72
    },
    "colab_type": "code",
    "id": "UTzZYqu_Kx3c",
    "outputId": "968d7ccb-91c1-4342-afa7-11b6a52c5e6b"
   },
   "outputs": [],
   "source": [
    "import numpy as np\n",
    "import random\n",
    "from sklearn.ensemble import RandomForestClassifier, VotingClassifier\n",
    "from sklearn.metrics.classification import accuracy_score, recall_score, f1_score\n",
    "import scipy.stats as st"
   ]
  },
  {
   "cell_type": "code",
   "execution_count": null,
   "metadata": {
    "colab": {
     "base_uri": "https://localhost:8080/",
     "height": 69
    },
    "colab_type": "code",
    "id": "GpRFTEdONBc_",
    "outputId": "b73efebd-7bff-4ba8-c5e5-89797e4aa872"
   },
   "outputs": [],
   "source": [
    "%tensorflow_version 2.x\n",
    "import tensorflow as tf\n",
    "print(tf.__version__)\n",
    "print(tf.test.gpu_device_name())\n",
    "print(\"Num GPUs Available: \", len(tf.config.experimental.list_physical_devices('GPU')))"
   ]
  },
  {
   "cell_type": "code",
   "execution_count": null,
   "metadata": {
    "colab": {},
    "colab_type": "code",
    "id": "jkYtMrQISOGf"
   },
   "outputs": [],
   "source": [
    "from tensorflow.keras.callbacks import Callback"
   ]
  },
  {
   "cell_type": "code",
   "execution_count": null,
   "metadata": {
    "colab": {
     "base_uri": "https://localhost:8080/",
     "height": 124
    },
    "colab_type": "code",
    "id": "BZXksEzNMLGi",
    "outputId": "c84316ca-9f1c-4ac6-ee0b-ceed6208595c"
   },
   "outputs": [],
   "source": [
    "from google.colab import drive\n",
    "drive.mount('/content/drive')"
   ]
  },
  {
   "cell_type": "code",
   "execution_count": null,
   "metadata": {
    "colab": {},
    "colab_type": "code",
    "id": "TcmYyXJIMlaF"
   },
   "outputs": [],
   "source": [
    "np.random.seed(12227)"
   ]
  },
  {
   "cell_type": "code",
   "execution_count": null,
   "metadata": {
    "colab": {},
    "colab_type": "code",
    "id": "QT2MTWZdNioZ"
   },
   "outputs": [],
   "source": [
    "def DataPreparation(data_input_file):\n",
    "  print('JIANGUANG HUANG et al. 2019 {}'.format(data_input_file))\n",
    "  data = np.load(data_input_file)\n",
    "  X = data['X']\n",
    "  X = X[:, 0, :, :]\n",
    "  Y = data['y']\n",
    "  folds = data['folds']\n",
    " \n",
    "  return X,Y,folds"
   ]
  },
  {
   "cell_type": "code",
   "execution_count": null,
   "metadata": {
    "colab": {},
    "colab_type": "code",
    "id": "THpEIkgVN6NG"
   },
   "outputs": [],
   "source": [
    "def ReportAccuracies(avg_acc, avg_recall,avg_f1):\n",
    "  ic_acc = st.t.interval(0.9, len(avg_acc) - 1, loc=np.mean(avg_acc), scale=st.sem(avg_acc))\n",
    "  ic_recall = st.t.interval(0.9, len(avg_recall) - 1, loc=np.mean(avg_recall), scale=st.sem(avg_recall))\n",
    "  ic_f1 = st.t.interval(0.9, len(avg_f1) - 1, loc=np.mean(avg_f1), scale=st.sem(avg_f1))\n",
    "  print('Mean Accuracy[{:.4f}] IC [{:.4f}, {:.4f}]'.format(np.mean(avg_acc), ic_acc[0], ic_acc[1]))\n",
    "  print('Mean Recall[{:.4f}] IC [{:.4f}, {:.4f}]'.format(np.mean(avg_recall), ic_recall[0], ic_recall[1]))\n",
    "  print('Mean F1[{:.4f}] IC [{:.4f}, {:.4f}]'.format(np.mean(avg_f1), ic_f1[0], ic_f1[1]))"
   ]
  },
  {
   "cell_type": "code",
   "execution_count": null,
   "metadata": {
    "colab": {},
    "colab_type": "code",
    "id": "aIfBC1PYN93C"
   },
   "outputs": [],
   "source": [
    "def Run_JIANGUANG_HUANG(data_input_file):\n",
    "  X,Y,folds,= DataPreparation(data_input_file)\n",
    "\n",
    "  avg_acc, avg_recall,avg_f1= Train(X,Y,folds)\n",
    "  ReportAccuracies(avg_acc, avg_recall,avg_f1 )"
   ]
  },
  {
   "cell_type": "code",
   "execution_count": null,
   "metadata": {
    "colab": {},
    "colab_type": "code",
    "id": "vXZ9PFNIgnfO"
   },
   "outputs": [],
   "source": [
    "def build_model(row,col,num_classes):\n",
    "\n",
    "  \n",
    " \n",
    "  layers = [\n",
    "    \n",
    "       tf.keras.layers.TimeDistributed(tf.keras.layers.Flatten()),\n",
    "     \n",
    "     \n",
    "        \n",
    "        tf.keras.layers.LSTM(64,return_sequences=True,  input_shape=(row, col)),\n",
    "        tf.keras.layers.LSTM(64,return_sequences=True), \n",
    "        tf.keras.layers.Conv1D(filters=64,kernel_size=5,strides=2),\n",
    "        tf.keras.layers.MaxPool1D(pool_size=2,strides = 2),\n",
    "        tf.keras.layers.Conv1D(filters=128,kernel_size= 3,strides=1),\n",
    "        tf.keras.layers.GlobalAveragePooling1D(),        \n",
    "        tf.keras.layers.BatchNormalization(),  \n",
    "                       \n",
    "\n",
    "       \n",
    "        \n",
    "       \n",
    "        tf.keras.layers.Dense(num_classes, activation = 'softmax')\n",
    "    ]\n",
    "    \n",
    "  model = tf.keras.Sequential(layers)\n",
    "  return model"
   ]
  },
  {
   "cell_type": "code",
   "execution_count": null,
   "metadata": {
    "colab": {},
    "colab_type": "code",
    "id": "mCn_7_plP-VC"
   },
   "outputs": [],
   "source": [
    "def Train(X,y,folds):\n",
    "  avg_acc = []\n",
    "  avg_recall = []\n",
    "  avg_f1 = []\n",
    "  n_class = y.shape[1]  \n",
    "  _,img_rows, img_cols = X.shape\n",
    "  X=X.reshape(X.shape[0],img_rows,img_cols,1)\n",
    "  _,_,img_rows, img_cols = X.shape\n",
    "  \n",
    "  for i in range(0, len(folds)):\n",
    "    train_idx = folds[i][0]\n",
    "    test_idx = folds[i][1]\n",
    "    X_train = X[train_idx]\n",
    "    X_test = X[test_idx]\n",
    "    model=build_model(img_rows,img_cols,n_class)\n",
    "    \n",
    "    model.compile(loss='categorical_crossentropy', metrics=['accuracy'], optimizer='ADAM')\n",
    "    model.fit(X_train, y[train_idx], batch_size=192, epochs=200,verbose=1)\n",
    "    y_pred = model.predict(X_test)\n",
    "    y_pred = np.argmax(y_pred, axis=1)\n",
    "    y_true = np.argmax(y[test_idx], axis=1)\n",
    "    acc_fold = accuracy_score(y_true, y_pred)\n",
    "    avg_acc.append(acc_fold)\n",
    "    recall_fold = recall_score(y_true, y_pred, average='macro')\n",
    "    avg_recall.append(recall_fold)\n",
    "    f1_fold = f1_score(y_true, y_pred, average='macro')\n",
    "    avg_f1.append(f1_fold)\n",
    "    print('Accuracy[{:.4f}] Recall[{:.4f}] F1[{:.4f}] at fold[{}]'.format(acc_fold, recall_fold, f1_fold ,i+1))\n",
    "    print('________________________________________________________________')\n",
    "    \n",
    "  return avg_acc, avg_recall,avg_f1"
   ]
  },
  {
   "cell_type": "code",
   "execution_count": null,
   "metadata": {
    "colab": {},
    "colab_type": "code",
    "id": "j1sMAq8YzDoI"
   },
   "outputs": [],
   "source": [
    "tf.keras.backend.set_image_data_format('channels_first')"
   ]
  },
  {
   "cell_type": "code",
   "execution_count": null,
   "metadata": {
    "colab": {
     "base_uri": "https://localhost:8080/",
     "height": 1000
    },
    "colab_type": "code",
    "id": "LI4qcHRkRtVV",
    "outputId": "a91a40ba-b53c-4898-fa23-59a94619400d"
   },
   "outputs": [],
   "source": [
    "Run_JIANGUANG_HUANG('/content/drive/My Drive/Computer_vision_project/data/LOSO/MHEALTH.npz')"
   ]
  },
  {
   "cell_type": "code",
   "execution_count": null,
   "metadata": {
    "colab": {
     "base_uri": "https://localhost:8080/",
     "height": 1000
    },
    "colab_type": "code",
    "id": "kh9k4ViIS6EV",
    "outputId": "083740e4-aebe-4249-d505-a868dd23d1b8"
   },
   "outputs": [],
   "source": [
    "Run_JIANGUANG_HUANG('/content/drive/My Drive/Computer_vision_project/data/LOSO/USCHAD.npz')"
   ]
  },
  {
   "cell_type": "code",
   "execution_count": null,
   "metadata": {
    "colab": {
     "base_uri": "https://localhost:8080/",
     "height": 1000
    },
    "colab_type": "code",
    "id": "9qmQMNcn4u8V",
    "outputId": "79ef28df-706e-47f8-cdec-bf1dbf7ac64a"
   },
   "outputs": [],
   "source": [
    "Run_JIANGUANG_HUANG('/content/drive/My Drive/Computer_vision_project/data/LOSO/UTD-MHAD1_1s.npz')"
   ]
  },
  {
   "cell_type": "code",
   "execution_count": null,
   "metadata": {
    "colab": {
     "base_uri": "https://localhost:8080/",
     "height": 1000
    },
    "colab_type": "code",
    "id": "mITIKvXg4x11",
    "outputId": "901005fe-c994-4f93-ab32-ed9f4289d1b8"
   },
   "outputs": [],
   "source": [
    "Run_JIANGUANG_HUANG('/content/drive/My Drive/Computer_vision_project/data/LOSO/UTD-MHAD2_1s.npz')"
   ]
  },
  {
   "cell_type": "code",
   "execution_count": null,
   "metadata": {
    "colab": {
     "base_uri": "https://localhost:8080/",
     "height": 1000
    },
    "colab_type": "code",
    "id": "OStpFZLw4yLK",
    "outputId": "3b643b0b-3246-4ffc-afcb-10c547b0ab15"
   },
   "outputs": [],
   "source": [
    "Run_JIANGUANG_HUANG('/content/drive/My Drive/Computer_vision_project/data/LOSO/WHARF.npz')"
   ]
  },
  {
   "cell_type": "code",
   "execution_count": null,
   "metadata": {
    "colab": {
     "base_uri": "https://localhost:8080/",
     "height": 1000
    },
    "colab_type": "code",
    "id": "EwaSYcAE4yhc",
    "outputId": "76b75896-e6ff-4069-ea52-d7641d7b0df7"
   },
   "outputs": [],
   "source": [
    "Run_JIANGUANG_HUANG('/content/drive/My Drive/Computer_vision_project/data/LOSO/WISDM.npz')"
   ]
  },
  {
   "cell_type": "code",
   "execution_count": null,
   "metadata": {
    "colab": {
     "base_uri": "https://localhost:8080/",
     "height": 1000
    },
    "colab_type": "code",
    "id": "y-0xZXye_hEV",
    "outputId": "3409e960-3578-489d-add8-732c98aba76e"
   },
   "outputs": [],
   "source": [
    "Run_JIANGUANG_HUANG('/content/drive/My Drive/Computer_vision_project/data/FNOW/MHEALTH.npz')"
   ]
  },
  {
   "cell_type": "code",
   "execution_count": null,
   "metadata": {
    "colab": {
     "base_uri": "https://localhost:8080/",
     "height": 1000
    },
    "colab_type": "code",
    "id": "tzmz_tMkejpc",
    "outputId": "5f3a74ac-021a-40b8-e336-003196632bb8"
   },
   "outputs": [],
   "source": [
    "Run_JIANGUANG_HUANG('/content/drive/My Drive/Computer_vision_project/data/FNOW/USCHAD.npz')"
   ]
  },
  {
   "cell_type": "code",
   "execution_count": null,
   "metadata": {
    "colab": {
     "base_uri": "https://localhost:8080/",
     "height": 1000
    },
    "colab_type": "code",
    "id": "rPWWF1D0Qwho",
    "outputId": "f4450e5a-dbe5-41fd-8870-24bcd19cbf76"
   },
   "outputs": [],
   "source": [
    "Run_JIANGUANG_HUANG('/content/drive/My Drive/Computer_vision_project/data/FNOW/UTD-MHAD1_1s.npz')"
   ]
  },
  {
   "cell_type": "code",
   "execution_count": null,
   "metadata": {
    "colab": {
     "base_uri": "https://localhost:8080/",
     "height": 1000
    },
    "colab_type": "code",
    "id": "SZ-GDwSlak_T",
    "outputId": "b5f268b8-730c-42b8-f45b-b08382209791"
   },
   "outputs": [],
   "source": [
    "Run_JIANGUANG_HUANG('/content/drive/My Drive/Computer_vision_project/data/FNOW/UTD-MHAD2_1s.npz')"
   ]
  },
  {
   "cell_type": "code",
   "execution_count": null,
   "metadata": {
    "colab": {
     "base_uri": "https://localhost:8080/",
     "height": 1000
    },
    "colab_type": "code",
    "id": "PWFcyjl4eckl",
    "outputId": "cebaf157-13e1-4ed2-8029-a343ac27a48f"
   },
   "outputs": [],
   "source": [
    "Run_JIANGUANG_HUANG('/content/drive/My Drive/Computer_vision_project/data/FNOW/WHARF.npz')"
   ]
  },
  {
   "cell_type": "code",
   "execution_count": null,
   "metadata": {
    "colab": {
     "base_uri": "https://localhost:8080/",
     "height": 1000
    },
    "colab_type": "code",
    "id": "wEI5j9eYER66",
    "outputId": "65739923-7b76-436f-86d4-554168a9bd33"
   },
   "outputs": [],
   "source": [
    "Run_JIANGUANG_HUANG('/content/drive/My Drive/Computer_vision_project/data/FNOW/WISDM.npz')"
   ]
  },
  {
   "cell_type": "code",
   "execution_count": null,
   "metadata": {
    "colab": {
     "base_uri": "https://localhost:8080/",
     "height": 1000
    },
    "colab_type": "code",
    "id": "ujb39eeyh8pa",
    "outputId": "a15687be-063e-4812-eded-70e7451325a7"
   },
   "outputs": [],
   "source": [
    "Run_JIANGUANG_HUANG('/content/drive/My Drive/Computer_vision_project/data/LOTO/MHEALTH.npz')"
   ]
  },
  {
   "cell_type": "code",
   "execution_count": null,
   "metadata": {
    "colab": {
     "base_uri": "https://localhost:8080/",
     "height": 1000
    },
    "colab_type": "code",
    "id": "Y80dDi9get3f",
    "outputId": "f1c76ffc-82b5-4c09-8b4f-8071a06b216a"
   },
   "outputs": [],
   "source": [
    "Run_JIANGUANG_HUANG('/content/drive/My Drive/Computer_vision_project/data/LOTO/USCHAD.npz')"
   ]
  },
  {
   "cell_type": "code",
   "execution_count": null,
   "metadata": {
    "colab": {
     "base_uri": "https://localhost:8080/",
     "height": 1000
    },
    "colab_type": "code",
    "id": "1i6T4_zyqzRd",
    "outputId": "5a8b7ed0-14d2-4eb2-c5e9-bce01032f3ff"
   },
   "outputs": [],
   "source": [
    "Run_JIANGUANG_HUANG('/content/drive/My Drive/Computer_vision_project/data/LOTO/UTD-MHAD1_1s.npz')"
   ]
  },
  {
   "cell_type": "code",
   "execution_count": null,
   "metadata": {
    "colab": {
     "base_uri": "https://localhost:8080/",
     "height": 1000
    },
    "colab_type": "code",
    "id": "FQ3hJQUby3r3",
    "outputId": "420c6fbc-18c0-497d-f721-460cc2c8d837"
   },
   "outputs": [],
   "source": [
    "Run_JIANGUANG_HUANG('/content/drive/My Drive/Computer_vision_project/data/LOTO/UTD-MHAD2_1s.npz')"
   ]
  },
  {
   "cell_type": "code",
   "execution_count": null,
   "metadata": {
    "colab": {
     "base_uri": "https://localhost:8080/",
     "height": 1000
    },
    "colab_type": "code",
    "id": "usC0R_SV3YqH",
    "outputId": "571d1e82-e021-4a8e-e4af-ff9729297799"
   },
   "outputs": [],
   "source": [
    "Run_JIANGUANG_HUANG('/content/drive/My Drive/Computer_vision_project/data/LOTO/WHARF.npz')"
   ]
  },
  {
   "cell_type": "code",
   "execution_count": null,
   "metadata": {
    "colab": {
     "base_uri": "https://localhost:8080/",
     "height": 1000
    },
    "colab_type": "code",
    "id": "BSos97oXfCBI",
    "outputId": "59f7a71b-f854-47e5-eb9f-31836b04d2d9"
   },
   "outputs": [],
   "source": [
    "Run_JIANGUANG_HUANG('/content/drive/My Drive/Computer_vision_project/data/LOTO/WISDM.npz')"
   ]
  },
  {
   "cell_type": "code",
   "execution_count": null,
   "metadata": {
    "colab": {
     "base_uri": "https://localhost:8080/",
     "height": 1000
    },
    "colab_type": "code",
    "id": "OcfUTnTvJmy2",
    "outputId": "8936667c-5855-4e45-cb05-f85176220c84"
   },
   "outputs": [],
   "source": [
    "Run_JIANGUANG_HUANG('/content/drive/My Drive/Computer_vision_project/data/SNOW/MHEALTH.npz')"
   ]
  },
  {
   "cell_type": "code",
   "execution_count": null,
   "metadata": {
    "colab": {
     "base_uri": "https://localhost:8080/",
     "height": 1000
    },
    "colab_type": "code",
    "id": "gPt3SlztJozz",
    "outputId": "3e3745e6-a296-4c09-cc6e-0b41a343d5e0"
   },
   "outputs": [],
   "source": [
    "Run_JIANGUANG_HUANG('/content/drive/My Drive/Computer_vision_project/data/SNOW/USCHAD.npz')"
   ]
  },
  {
   "cell_type": "code",
   "execution_count": null,
   "metadata": {
    "colab": {
     "base_uri": "https://localhost:8080/",
     "height": 1000
    },
    "colab_type": "code",
    "id": "wkD7CWprJpLu",
    "outputId": "dd40b478-cdfd-4fc8-a27b-28bce8adbf0b"
   },
   "outputs": [],
   "source": [
    "Run_JIANGUANG_HUANG('/content/drive/My Drive/Computer_vision_project/data/SNOW/UTD-MHAD1_1s.npz')"
   ]
  },
  {
   "cell_type": "code",
   "execution_count": null,
   "metadata": {
    "colab": {
     "base_uri": "https://localhost:8080/",
     "height": 1000
    },
    "colab_type": "code",
    "id": "9CAG9fpNJphV",
    "outputId": "48332766-a56d-4ce5-b8d9-cd65325eb6db"
   },
   "outputs": [],
   "source": [
    "Run_JIANGUANG_HUANG('/content/drive/My Drive/Computer_vision_project/data/SNOW/UTD-MHAD2_1s.npz')"
   ]
  },
  {
   "cell_type": "code",
   "execution_count": null,
   "metadata": {
    "colab": {
     "base_uri": "https://localhost:8080/",
     "height": 1000
    },
    "colab_type": "code",
    "id": "L4yMApfZDZWh",
    "outputId": "24e110c2-85e5-4785-ecd8-c03b2ec97632"
   },
   "outputs": [],
   "source": [
    "Run_JIANGUANG_HUANG('/content/drive/My Drive/Computer_vision_project/data/SNOW/WHARF.npz')"
   ]
  },
  {
   "cell_type": "code",
   "execution_count": null,
   "metadata": {
    "colab": {
     "base_uri": "https://localhost:8080/",
     "height": 1000
    },
    "colab_type": "code",
    "id": "9uH-QuATfdGC",
    "outputId": "70287481-0f4c-485f-e9c9-5b3a31f2b5c8"
   },
   "outputs": [],
   "source": [
    "Run_JIANGUANG_HUANG('/content/drive/My Drive/Computer_vision_project/data/SNOW/WISDM.npz')"
   ]
  }
 ],
 "metadata": {
  "accelerator": "GPU",
  "colab": {
   "collapsed_sections": [],
   "name": "JIANGUANG_HUANG_et_al_2020.ipynb",
   "provenance": []
  },
  "kernelspec": {
   "display_name": "Python 3",
   "language": "python",
   "name": "python3"
  },
  "language_info": {
   "codemirror_mode": {
    "name": "ipython",
    "version": 3
   },
   "file_extension": ".py",
   "mimetype": "text/x-python",
   "name": "python",
   "nbconvert_exporter": "python",
   "pygments_lexer": "ipython3",
   "version": "3.7.6"
  }
 },
 "nbformat": 4,
 "nbformat_minor": 1
}
