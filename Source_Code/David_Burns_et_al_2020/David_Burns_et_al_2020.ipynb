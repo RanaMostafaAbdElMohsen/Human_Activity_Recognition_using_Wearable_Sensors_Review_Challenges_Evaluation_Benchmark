{
 "cells": [
  {
   "cell_type": "code",
   "execution_count": null,
   "metadata": {
    "colab": {},
    "colab_type": "code",
    "id": "6M7j__CZS7OM"
   },
   "outputs": [],
   "source": [
    "\n",
    "## Libraries Prequisities\n",
    "!pip install scikit-learn\n",
    "!pip install numpy==1.16.1"
   ]
  },
  {
   "cell_type": "code",
   "execution_count": null,
   "metadata": {
    "colab": {},
    "colab_type": "code",
    "id": "UTzZYqu_Kx3c"
   },
   "outputs": [],
   "source": [
    "import numpy as np\n",
    "import random\n",
    "from sklearn.ensemble import RandomForestClassifier, VotingClassifier\n",
    "from sklearn.metrics.classification import accuracy_score, recall_score, f1_score\n",
    "import scipy.stats as st"
   ]
  },
  {
   "cell_type": "code",
   "execution_count": null,
   "metadata": {
    "colab": {
     "base_uri": "https://localhost:8080/",
     "height": 69
    },
    "colab_type": "code",
    "executionInfo": {
     "elapsed": 9461,
     "status": "ok",
     "timestamp": 1586689766037,
     "user": {
      "displayName": "Rana mostafa",
      "photoUrl": "https://lh3.googleusercontent.com/a-/AOh14GhpLWLhJYcXKOOp7sprSKwnxN-x9hYM61yh__9kww=s64",
      "userId": "07598775866819373078"
     },
     "user_tz": -120
    },
    "id": "GpRFTEdONBc_",
    "outputId": "14dd487c-e360-47a9-89c8-1c8f684c1e8e"
   },
   "outputs": [],
   "source": [
    "%tensorflow_version 2.x\n",
    "import tensorflow as tf\n",
    "print(tf.__version__)\n",
    "print(tf.test.gpu_device_name())\n",
    "print(\"Num GPUs Available: \", len(tf.config.experimental.list_physical_devices('GPU')))"
   ]
  },
  {
   "cell_type": "code",
   "execution_count": null,
   "metadata": {
    "colab": {},
    "colab_type": "code",
    "id": "jkYtMrQISOGf"
   },
   "outputs": [],
   "source": [
    "from tensorflow.keras.callbacks import Callback"
   ]
  },
  {
   "cell_type": "code",
   "execution_count": null,
   "metadata": {
    "colab": {
     "base_uri": "https://localhost:8080/",
     "height": 141
    },
    "colab_type": "code",
    "executionInfo": {
     "elapsed": 31308,
     "status": "ok",
     "timestamp": 1586689829094,
     "user": {
      "displayName": "Rana mostafa",
      "photoUrl": "https://lh3.googleusercontent.com/a-/AOh14GhpLWLhJYcXKOOp7sprSKwnxN-x9hYM61yh__9kww=s64",
      "userId": "07598775866819373078"
     },
     "user_tz": -120
    },
    "id": "BZXksEzNMLGi",
    "outputId": "1b583f68-94ba-4474-95ba-871de468c46f"
   },
   "outputs": [],
   "source": [
    "from google.colab import drive\n",
    "drive.mount('/content/drive')\n",
    "import os\n",
    "os.chdir(\"/content/drive/\")\n",
    "!ls\n",
    "import os\n",
    "os.chdir(\"My Drive/Computer_Vision_Masters/Wearable_Sensors_Code/\")"
   ]
  },
  {
   "cell_type": "code",
   "execution_count": null,
   "metadata": {
    "colab": {},
    "colab_type": "code",
    "id": "TcmYyXJIMlaF"
   },
   "outputs": [],
   "source": [
    "np.random.seed(12227)"
   ]
  },
  {
   "cell_type": "code",
   "execution_count": null,
   "metadata": {
    "colab": {},
    "colab_type": "code",
    "id": "QT2MTWZdNioZ"
   },
   "outputs": [],
   "source": [
    "def DataPreparation(data_input_file):\n",
    "  print('David M Burns et al. 2018 {}'.format(data_input_file))\n",
    "  data = np.load(data_input_file)\n",
    "  X = data['X']\n",
    "  X = X[:, 0, :, :]\n",
    "  Y = data['y']\n",
    "  folds = data['folds']\n",
    " \n",
    "  return X,Y,folds"
   ]
  },
  {
   "cell_type": "code",
   "execution_count": null,
   "metadata": {
    "colab": {
     "base_uri": "https://localhost:8080/",
     "height": 35
    },
    "colab_type": "code",
    "executionInfo": {
     "elapsed": 707,
     "status": "ok",
     "timestamp": 1584825512224,
     "user": {
      "displayName": "brain pinky",
      "photoUrl": "https://lh3.googleusercontent.com/a-/AOh14GjSJ-MfHyLlQ17ipaf3IqBsqmMEcsDxuSrwhgT_Ng=s64",
      "userId": "06438107502629971890"
     },
     "user_tz": -120
    },
    "id": "sN_pkbTR9I9H",
    "outputId": "d6a307a0-bb25-49c5-e9e1-d8622f6e176a"
   },
   "outputs": [],
   "source": [
    "x,y,f=DataPreparation('/content/drive/My Drive/Computer_vision_project/data/LOSO/WHARF.npz')"
   ]
  },
  {
   "cell_type": "code",
   "execution_count": null,
   "metadata": {
    "colab": {},
    "colab_type": "code",
    "id": "THpEIkgVN6NG"
   },
   "outputs": [],
   "source": [
    "def ReportAccuracies(avg_acc, avg_recall,avg_f1):\n",
    "  ic_acc = st.t.interval(0.9, len(avg_acc) - 1, loc=np.mean(avg_acc), scale=st.sem(avg_acc))\n",
    "  ic_recall = st.t.interval(0.9, len(avg_recall) - 1, loc=np.mean(avg_recall), scale=st.sem(avg_recall))\n",
    "  ic_f1 = st.t.interval(0.9, len(avg_f1) - 1, loc=np.mean(avg_f1), scale=st.sem(avg_f1))\n",
    "  print('Mean Accuracy[{:.4f}] IC [{:.4f}, {:.4f}]'.format(np.mean(avg_acc), ic_acc[0], ic_acc[1]))\n",
    "  print('Mean Recall[{:.4f}] IC [{:.4f}, {:.4f}]'.format(np.mean(avg_recall), ic_recall[0], ic_recall[1]))\n",
    "  print('Mean F1[{:.4f}] IC [{:.4f}, {:.4f}]'.format(np.mean(avg_f1), ic_f1[0], ic_f1[1]))"
   ]
  },
  {
   "cell_type": "code",
   "execution_count": null,
   "metadata": {
    "colab": {},
    "colab_type": "code",
    "id": "aIfBC1PYN93C"
   },
   "outputs": [],
   "source": [
    "def Run_David_Burns(data_input_file):\n",
    "  X,Y,folds,= DataPreparation(data_input_file)\n",
    " \n",
    "  avg_acc, avg_recall,avg_f1= Train(X,Y,folds)\n",
    "  ReportAccuracies(avg_acc, avg_recall,avg_f1 )"
   ]
  },
  {
   "cell_type": "code",
   "execution_count": null,
   "metadata": {
    "colab": {},
    "colab_type": "code",
    "id": "48VLEY_cX_H1"
   },
   "outputs": [],
   "source": [
    "from tensorflow.keras.layers import Lambda"
   ]
  },
  {
   "cell_type": "code",
   "execution_count": null,
   "metadata": {
    "colab": {},
    "colab_type": "code",
    "id": "IblrtnbuRnj2"
   },
   "outputs": [],
   "source": [
    "def fcn(input_shape, num_classes, conv_layers=({'f': 128, 'k': 8, 's': 1}, {'f': 256, 'k': 5, 's': 1}, {'f': 128, 'k': 3, 's': 1}),\n",
    "        dropout=0.3, normalize=True, embedding_size=None):\n",
    "    \"\"\"\n",
    "    Creates fully convolutional neural (FCN) network architecture described in: https://arxiv.org/abs/2001.05517\n",
    "    :param input_shape: tuple (2)\n",
    "        segment shape (width, n_channels)\n",
    "    :param conv_layers: tuple of dicts\n",
    "        describe conv layers with f: filters, k: kernel size, s: stride\n",
    "    :param dropout: float\n",
    "        dropout ratio applied at each layer\n",
    "    :param normalize: bool\n",
    "        apply l2 normalization\n",
    "    :param embedding_size: integer, optional\n",
    "        defines embedding size (number of filters for last CNN layer)\n",
    "    :return: keras model\n",
    "        the fcn model\n",
    "    \"\"\"\n",
    "\n",
    "    input_layer = tf.keras.Input(shape=input_shape)\n",
    "    layer = input_layer\n",
    "\n",
    "    if embedding_size:\n",
    "        conv_layers[-1]['f'] = embedding_size\n",
    "\n",
    "    for lp in conv_layers:\n",
    "        layer = tf.keras.layers.Conv1D(filters=lp['f'], kernel_size=lp['k'], strides=lp['s'], padding='same')(layer)\n",
    "        layer = tf.keras.layers.BatchNormalization()(layer)\n",
    "        layer = tf.keras.layers.Activation('relu')(layer)\n",
    "\n",
    "        if dropout:\n",
    "            layer = tf.keras.layers.Dropout(rate=dropout)(layer)\n",
    "\n",
    "    layer = tf.keras.layers.GlobalAveragePooling1D()(layer)\n",
    "\n",
    "    if normalize:\n",
    "        layer = Lambda(lambda x: tf.keras.backend.l2_normalize(x, axis=1))(layer)\n",
    "    layer= tf.keras.layers.Dense(num_classes, activation = 'softmax')   (layer) \n",
    "\n",
    "    return tf.keras.Model(inputs=input_layer, outputs=layer)"
   ]
  },
  {
   "cell_type": "code",
   "execution_count": null,
   "metadata": {
    "colab": {},
    "colab_type": "code",
    "id": "mCn_7_plP-VC"
   },
   "outputs": [],
   "source": [
    "def Train(X,y,folds):\n",
    "  avg_acc = []\n",
    "  avg_recall = []\n",
    "  avg_f1 = []\n",
    "  n_class = y.shape[1]\n",
    "  _,img_rows, img_cols = X.shape\n",
    "  for i in range(0, len(folds)):\n",
    "    train_idx = folds[i][0]\n",
    "    test_idx = folds[i][1]\n",
    "    X_train = X[train_idx]\n",
    "    X_test = X[test_idx]\n",
    "    model=fcn((img_rows,img_cols),n_class)\n",
    "    model.compile(loss='categorical_crossentropy', metrics=['accuracy'], optimizer='SGD')\n",
    "    model.fit(X_train, y[train_idx], batch_size=64, epochs=150)\n",
    "    y_pred = model.predict(X_test)\n",
    "    y_pred = np.argmax(y_pred, axis=1)\n",
    "    y_true = np.argmax(y[test_idx], axis=1)\n",
    "    acc_fold = accuracy_score(y_true, y_pred)\n",
    "    avg_acc.append(acc_fold)\n",
    "    recall_fold = recall_score(y_true, y_pred, average='macro')\n",
    "    avg_recall.append(recall_fold)\n",
    "    f1_fold = f1_score(y_true, y_pred, average='macro')\n",
    "    avg_f1.append(f1_fold)\n",
    "    print('Accuracy[{:.4f}] Recall[{:.4f}] F1[{:.4f}] at fold[{}]'.format(acc_fold, recall_fold, f1_fold ,i+1))\n",
    "    print('________________________________________________________________')\n",
    "    \n",
    "  return avg_acc, avg_recall,avg_f1"
   ]
  },
  {
   "cell_type": "code",
   "execution_count": null,
   "metadata": {
    "colab": {},
    "colab_type": "code",
    "id": "j1sMAq8YzDoI"
   },
   "outputs": [],
   "source": [
    "tf.keras.backend.set_image_data_format('channels_first')"
   ]
  },
  {
   "cell_type": "code",
   "execution_count": null,
   "metadata": {
    "colab": {
     "base_uri": "https://localhost:8080/",
     "height": 1000
    },
    "colab_type": "code",
    "executionInfo": {
     "elapsed": 764339,
     "status": "ok",
     "timestamp": 1586628561901,
     "user": {
      "displayName": "brain pinky",
      "photoUrl": "https://lh3.googleusercontent.com/a-/AOh14GjSJ-MfHyLlQ17ipaf3IqBsqmMEcsDxuSrwhgT_Ng=s64",
      "userId": "06438107502629971890"
     },
     "user_tz": -120
    },
    "id": "LI4qcHRkRtVV",
    "outputId": "782ae6e7-ea04-4acf-d3bf-da2e0ea18576"
   },
   "outputs": [],
   "source": [
    "Run_David_Burns('/content/drive/My Drive/Computer_vision_project/data/LOSO/MHEALTH.npz')"
   ]
  },
  {
   "cell_type": "code",
   "execution_count": null,
   "metadata": {
    "colab": {
     "base_uri": "https://localhost:8080/",
     "height": 1000
    },
    "colab_type": "code",
    "executionInfo": {
     "elapsed": 370622,
     "status": "ok",
     "timestamp": 1586636887736,
     "user": {
      "displayName": "brain pinky",
      "photoUrl": "https://lh3.googleusercontent.com/a-/AOh14GjSJ-MfHyLlQ17ipaf3IqBsqmMEcsDxuSrwhgT_Ng=s64",
      "userId": "06438107502629971890"
     },
     "user_tz": -120
    },
    "id": "9qmQMNcn4u8V",
    "outputId": "bcc28474-6b78-48bf-f34e-6a9cee481825"
   },
   "outputs": [],
   "source": [
    "Run_David_Burns('/content/drive/My Drive/Computer_vision_project/data/LOSO/UTD-MHAD1_1s.npz')"
   ]
  },
  {
   "cell_type": "code",
   "execution_count": null,
   "metadata": {
    "colab": {
     "base_uri": "https://localhost:8080/",
     "height": 1000
    },
    "colab_type": "code",
    "executionInfo": {
     "elapsed": 125750,
     "status": "ok",
     "timestamp": 1586637166800,
     "user": {
      "displayName": "brain pinky",
      "photoUrl": "https://lh3.googleusercontent.com/a-/AOh14GjSJ-MfHyLlQ17ipaf3IqBsqmMEcsDxuSrwhgT_Ng=s64",
      "userId": "06438107502629971890"
     },
     "user_tz": -120
    },
    "id": "mITIKvXg4x11",
    "outputId": "968ac9ff-a97d-4084-b03c-ef06c5d8af2d"
   },
   "outputs": [],
   "source": [
    "Run_David_Burns('/content/drive/My Drive/Computer_vision_project/data/LOSO/UTD-MHAD2_1s.npz')"
   ]
  },
  {
   "cell_type": "code",
   "execution_count": null,
   "metadata": {
    "colab": {
     "base_uri": "https://localhost:8080/",
     "height": 1000
    },
    "colab_type": "code",
    "executionInfo": {
     "elapsed": 1201202,
     "status": "ok",
     "timestamp": 1586638485250,
     "user": {
      "displayName": "brain pinky",
      "photoUrl": "https://lh3.googleusercontent.com/a-/AOh14GjSJ-MfHyLlQ17ipaf3IqBsqmMEcsDxuSrwhgT_Ng=s64",
      "userId": "06438107502629971890"
     },
     "user_tz": -120
    },
    "id": "OStpFZLw4yLK",
    "outputId": "83afe247-cdeb-48ab-e5d9-56beeb4087a4"
   },
   "outputs": [],
   "source": [
    "Run_David_Burns('/content/drive/My Drive/Computer_vision_project/data/LOSO/WHARF.npz')"
   ]
  },
  {
   "cell_type": "code",
   "execution_count": null,
   "metadata": {
    "colab": {
     "base_uri": "https://localhost:8080/",
     "height": 1000
    },
    "colab_type": "code",
    "executionInfo": {
     "elapsed": 3620950,
     "status": "ok",
     "timestamp": 1586701378744,
     "user": {
      "displayName": "Rana mostafa",
      "photoUrl": "https://lh3.googleusercontent.com/a-/AOh14GhpLWLhJYcXKOOp7sprSKwnxN-x9hYM61yh__9kww=s64",
      "userId": "07598775866819373078"
     },
     "user_tz": -120
    },
    "id": "Y8Bf3I-Q9iMF",
    "outputId": "a9a029d5-eef2-4747-d5d8-979c28296a8d"
   },
   "outputs": [],
   "source": [
    "Run_David_Burns('data/LOSO/WISDM.npz')"
   ]
  },
  {
   "cell_type": "code",
   "execution_count": null,
   "metadata": {
    "colab": {
     "base_uri": "https://localhost:8080/",
     "height": 1000
    },
    "colab_type": "code",
    "executionInfo": {
     "elapsed": 369919,
     "status": "ok",
     "timestamp": 1586702503503,
     "user": {
      "displayName": "Rana mostafa",
      "photoUrl": "https://lh3.googleusercontent.com/a-/AOh14GhpLWLhJYcXKOOp7sprSKwnxN-x9hYM61yh__9kww=s64",
      "userId": "07598775866819373078"
     },
     "user_tz": -120
    },
    "id": "y-0xZXye_hEV",
    "outputId": "f9a8f26c-95d3-48d0-e7c3-fc2132adc3f2"
   },
   "outputs": [],
   "source": [
    "Run_David_Burns('data/FNOW/MHEALTH.npz')"
   ]
  },
  {
   "cell_type": "code",
   "execution_count": null,
   "metadata": {
    "colab": {
     "base_uri": "https://localhost:8080/",
     "height": 1000
    },
    "colab_type": "code",
    "executionInfo": {
     "elapsed": 256283,
     "status": "ok",
     "timestamp": 1586703005458,
     "user": {
      "displayName": "Rana mostafa",
      "photoUrl": "https://lh3.googleusercontent.com/a-/AOh14GhpLWLhJYcXKOOp7sprSKwnxN-x9hYM61yh__9kww=s64",
      "userId": "07598775866819373078"
     },
     "user_tz": -120
    },
    "id": "rPWWF1D0Qwho",
    "outputId": "5595ded7-84bf-414c-cd39-7d5e90def515"
   },
   "outputs": [],
   "source": [
    "Run_David_Burns('data/FNOW/UTD-MHAD1_1s.npz')"
   ]
  },
  {
   "cell_type": "code",
   "execution_count": null,
   "metadata": {
    "colab": {
     "base_uri": "https://localhost:8080/",
     "height": 1000
    },
    "colab_type": "code",
    "executionInfo": {
     "elapsed": 92627,
     "status": "ok",
     "timestamp": 1586703098115,
     "user": {
      "displayName": "Rana mostafa",
      "photoUrl": "https://lh3.googleusercontent.com/a-/AOh14GhpLWLhJYcXKOOp7sprSKwnxN-x9hYM61yh__9kww=s64",
      "userId": "07598775866819373078"
     },
     "user_tz": -120
    },
    "id": "SZ-GDwSlak_T",
    "outputId": "68461494-7291-41ba-8c95-3d2643a5c8e8"
   },
   "outputs": [],
   "source": [
    "Run_David_Burns('data/FNOW/UTD-MHAD2_1s.npz')"
   ]
  },
  {
   "cell_type": "code",
   "execution_count": null,
   "metadata": {
    "colab": {
     "base_uri": "https://localhost:8080/",
     "height": 1000
    },
    "colab_type": "code",
    "executionInfo": {
     "elapsed": 414183,
     "status": "ok",
     "timestamp": 1586703677744,
     "user": {
      "displayName": "Rana mostafa",
      "photoUrl": "https://lh3.googleusercontent.com/a-/AOh14GhpLWLhJYcXKOOp7sprSKwnxN-x9hYM61yh__9kww=s64",
      "userId": "07598775866819373078"
     },
     "user_tz": -120
    },
    "id": "PWFcyjl4eckl",
    "outputId": "97b71584-da2a-4d06-d069-1b2e49b2338b"
   },
   "outputs": [],
   "source": [
    "Run_David_Burns('data/FNOW/WHARF.npz')"
   ]
  },
  {
   "cell_type": "code",
   "execution_count": null,
   "metadata": {
    "colab": {
     "base_uri": "https://localhost:8080/",
     "height": 1000
    },
    "colab_type": "code",
    "executionInfo": {
     "elapsed": 1505030,
     "status": "ok",
     "timestamp": 1586705182791,
     "user": {
      "displayName": "Rana mostafa",
      "photoUrl": "https://lh3.googleusercontent.com/a-/AOh14GhpLWLhJYcXKOOp7sprSKwnxN-x9hYM61yh__9kww=s64",
      "userId": "07598775866819373078"
     },
     "user_tz": -120
    },
    "id": "wEI5j9eYER66",
    "outputId": "f4cce562-a349-4419-e117-c35347adb587"
   },
   "outputs": [],
   "source": [
    "Run_David_Burns('data/FNOW/WISDM.npz')"
   ]
  },
  {
   "cell_type": "code",
   "execution_count": null,
   "metadata": {
    "colab": {
     "base_uri": "https://localhost:8080/",
     "height": 1000
    },
    "colab_type": "code",
    "executionInfo": {
     "elapsed": 2197431,
     "status": "ok",
     "timestamp": 1586705875219,
     "user": {
      "displayName": "Rana mostafa",
      "photoUrl": "https://lh3.googleusercontent.com/a-/AOh14GhpLWLhJYcXKOOp7sprSKwnxN-x9hYM61yh__9kww=s64",
      "userId": "07598775866819373078"
     },
     "user_tz": -120
    },
    "id": "ujb39eeyh8pa",
    "outputId": "f53951cd-a332-4520-8218-e81af3f67c1b"
   },
   "outputs": [],
   "source": [
    "Run_David_Burns('data/LOTO/MHEALTH.npz')"
   ]
  },
  {
   "cell_type": "code",
   "execution_count": null,
   "metadata": {
    "colab": {
     "base_uri": "https://localhost:8080/",
     "height": 1000
    },
    "colab_type": "code",
    "executionInfo": {
     "elapsed": 2655073,
     "status": "ok",
     "timestamp": 1586706332879,
     "user": {
      "displayName": "Rana mostafa",
      "photoUrl": "https://lh3.googleusercontent.com/a-/AOh14GhpLWLhJYcXKOOp7sprSKwnxN-x9hYM61yh__9kww=s64",
      "userId": "07598775866819373078"
     },
     "user_tz": -120
    },
    "id": "1i6T4_zyqzRd",
    "outputId": "bef46931-be39-4c14-8b4c-989193317226"
   },
   "outputs": [],
   "source": [
    "Run_David_Burns('data/LOTO/UTD-MHAD1_1s.npz')"
   ]
  },
  {
   "cell_type": "code",
   "execution_count": null,
   "metadata": {
    "colab": {
     "base_uri": "https://localhost:8080/",
     "height": 1000
    },
    "colab_type": "code",
    "executionInfo": {
     "elapsed": 156933,
     "status": "ok",
     "timestamp": 1586707743207,
     "user": {
      "displayName": "Rana mostafa",
      "photoUrl": "https://lh3.googleusercontent.com/a-/AOh14GhpLWLhJYcXKOOp7sprSKwnxN-x9hYM61yh__9kww=s64",
      "userId": "07598775866819373078"
     },
     "user_tz": -120
    },
    "id": "FQ3hJQUby3r3",
    "outputId": "9df10015-c0a6-45c5-94b9-202f20ce14cc"
   },
   "outputs": [],
   "source": [
    "Run_David_Burns('data/LOTO/UTD-MHAD2_1s.npz')"
   ]
  },
  {
   "cell_type": "code",
   "execution_count": null,
   "metadata": {
    "colab": {
     "base_uri": "https://localhost:8080/",
     "height": 1000
    },
    "colab_type": "code",
    "executionInfo": {
     "elapsed": 719518,
     "status": "ok",
     "timestamp": 1586708462754,
     "user": {
      "displayName": "Rana mostafa",
      "photoUrl": "https://lh3.googleusercontent.com/a-/AOh14GhpLWLhJYcXKOOp7sprSKwnxN-x9hYM61yh__9kww=s64",
      "userId": "07598775866819373078"
     },
     "user_tz": -120
    },
    "id": "usC0R_SV3YqH",
    "outputId": "46b9da5f-8fd6-4669-f251-f8efbb69becb"
   },
   "outputs": [],
   "source": [
    "Run_David_Burns('data/LOTO/WHARF.npz')"
   ]
  },
  {
   "cell_type": "code",
   "execution_count": null,
   "metadata": {
    "colab": {
     "base_uri": "https://localhost:8080/",
     "height": 1000
    },
    "colab_type": "code",
    "executionInfo": {
     "elapsed": 692753,
     "status": "ok",
     "timestamp": 1586713112601,
     "user": {
      "displayName": "Rana mostafa",
      "photoUrl": "https://lh3.googleusercontent.com/a-/AOh14GhpLWLhJYcXKOOp7sprSKwnxN-x9hYM61yh__9kww=s64",
      "userId": "07598775866819373078"
     },
     "user_tz": -120
    },
    "id": "OcfUTnTvJmy2",
    "outputId": "871ceba6-f110-458a-b12a-3b74ed54d7e4"
   },
   "outputs": [],
   "source": [
    "Run_David_Burns('data/SNOW/MHEALTH.npz')"
   ]
  },
  {
   "cell_type": "code",
   "execution_count": null,
   "metadata": {
    "colab": {
     "base_uri": "https://localhost:8080/",
     "height": 1000
    },
    "colab_type": "code",
    "executionInfo": {
     "elapsed": 466957,
     "status": "ok",
     "timestamp": 1586717564771,
     "user": {
      "displayName": "Rana mostafa",
      "photoUrl": "https://lh3.googleusercontent.com/a-/AOh14GhpLWLhJYcXKOOp7sprSKwnxN-x9hYM61yh__9kww=s64",
      "userId": "07598775866819373078"
     },
     "user_tz": -120
    },
    "id": "wkD7CWprJpLu",
    "outputId": "f3635513-9a00-4012-d1a8-5ecf04c55fa0"
   },
   "outputs": [],
   "source": [
    "Run_David_Burns('data/SNOW/UTD-MHAD1_1s.npz')"
   ]
  },
  {
   "cell_type": "code",
   "execution_count": null,
   "metadata": {
    "colab": {
     "base_uri": "https://localhost:8080/",
     "height": 1000
    },
    "colab_type": "code",
    "executionInfo": {
     "elapsed": 159188,
     "status": "ok",
     "timestamp": 1586717723949,
     "user": {
      "displayName": "Rana mostafa",
      "photoUrl": "https://lh3.googleusercontent.com/a-/AOh14GhpLWLhJYcXKOOp7sprSKwnxN-x9hYM61yh__9kww=s64",
      "userId": "07598775866819373078"
     },
     "user_tz": -120
    },
    "id": "9CAG9fpNJphV",
    "outputId": "0d0b7094-d3dc-4d23-be3c-9a9a5eff937c"
   },
   "outputs": [],
   "source": [
    "Run_David_Burns('data/SNOW/UTD-MHAD2_1s.npz')"
   ]
  },
  {
   "cell_type": "code",
   "execution_count": null,
   "metadata": {
    "colab": {
     "base_uri": "https://localhost:8080/",
     "height": 1000
    },
    "colab_type": "code",
    "executionInfo": {
     "elapsed": 731142,
     "status": "ok",
     "timestamp": 1586718455077,
     "user": {
      "displayName": "Rana mostafa",
      "photoUrl": "https://lh3.googleusercontent.com/a-/AOh14GhpLWLhJYcXKOOp7sprSKwnxN-x9hYM61yh__9kww=s64",
      "userId": "07598775866819373078"
     },
     "user_tz": -120
    },
    "id": "8DJfOOmBJ47t",
    "outputId": "b2a727a7-3dde-4a2f-be5d-1f315c7576b7"
   },
   "outputs": [],
   "source": [
    "Run_David_Burns('data/SNOW/WHARF.npz')"
   ]
  },
  {
   "cell_type": "code",
   "execution_count": null,
   "metadata": {
    "colab": {
     "base_uri": "https://localhost:8080/",
     "height": 1000
    },
    "colab_type": "code",
    "executionInfo": {
     "elapsed": 3922719,
     "status": "ok",
     "timestamp": 1586721433352,
     "user": {
      "displayName": "Rana mostafa",
      "photoUrl": "https://lh3.googleusercontent.com/a-/AOh14GhpLWLhJYcXKOOp7sprSKwnxN-x9hYM61yh__9kww=s64",
      "userId": "07598775866819373078"
     },
     "user_tz": -120
    },
    "id": "qu9JcZ1PJ88o",
    "outputId": "67b1ee95-1db9-4bc7-ad58-9cab7e18daea"
   },
   "outputs": [],
   "source": [
    "Run_David_Burns('data/SNOW/WISDM.npz')"
   ]
  }
 ],
 "metadata": {
  "accelerator": "GPU",
  "colab": {
   "collapsed_sections": [],
   "name": "David_Burns_et_al_2020.ipynb",
   "provenance": [
    {
     "file_id": "1ivMfQ1RZMluoXrx2HlzJr2OMq9Vj6S71",
     "timestamp": 1586689533614
    }
   ]
  },
  "kernelspec": {
   "display_name": "Python 3",
   "language": "python",
   "name": "python3"
  },
  "language_info": {
   "codemirror_mode": {
    "name": "ipython",
    "version": 3
   },
   "file_extension": ".py",
   "mimetype": "text/x-python",
   "name": "python",
   "nbconvert_exporter": "python",
   "pygments_lexer": "ipython3",
   "version": "3.7.6"
  }
 },
 "nbformat": 4,
 "nbformat_minor": 1
}
