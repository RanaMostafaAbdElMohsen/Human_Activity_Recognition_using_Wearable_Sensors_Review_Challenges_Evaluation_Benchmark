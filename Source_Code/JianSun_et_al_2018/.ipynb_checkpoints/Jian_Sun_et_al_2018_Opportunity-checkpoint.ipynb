{
 "cells": [
  {
   "cell_type": "code",
   "execution_count": null,
   "metadata": {
    "colab": {
     "base_uri": "https://localhost:8080/",
     "height": 1000
    },
    "colab_type": "code",
    "executionInfo": {
     "elapsed": 16741,
     "status": "ok",
     "timestamp": 1585827873902,
     "user": {
      "displayName": "brain pinky",
      "photoUrl": "https://lh3.googleusercontent.com/a-/AOh14GjSJ-MfHyLlQ17ipaf3IqBsqmMEcsDxuSrwhgT_Ng=s64",
      "userId": "06438107502629971890"
     },
     "user_tz": -120
    },
    "id": "6M7j__CZS7OM",
    "outputId": "4c60c9e2-c80f-4833-d275-028275bc00c1"
   },
   "outputs": [],
   "source": [
    "\n",
    "## Libraries Prequisities\n",
    "!pip install scikit-learn\n",
    "!pip install numpy==1.16.1"
   ]
  },
  {
   "cell_type": "code",
   "execution_count": null,
   "metadata": {
    "colab": {
     "base_uri": "https://localhost:8080/",
     "height": 173
    },
    "colab_type": "code",
    "executionInfo": {
     "elapsed": 6813,
     "status": "ok",
     "timestamp": 1585828056033,
     "user": {
      "displayName": "brain pinky",
      "photoUrl": "https://lh3.googleusercontent.com/a-/AOh14GjSJ-MfHyLlQ17ipaf3IqBsqmMEcsDxuSrwhgT_Ng=s64",
      "userId": "06438107502629971890"
     },
     "user_tz": -120
    },
    "id": "AG1IYekfzp9A",
    "outputId": "f5d7d5a7-0e7f-4d14-c9fd-f4c2f38b034c"
   },
   "outputs": [],
   "source": [
    "!pip install hpelm"
   ]
  },
  {
   "cell_type": "code",
   "execution_count": null,
   "metadata": {
    "colab": {},
    "colab_type": "code",
    "id": "ss4oCHUzz0GT"
   },
   "outputs": [],
   "source": [
    "import hpelm"
   ]
  },
  {
   "cell_type": "code",
   "execution_count": null,
   "metadata": {
    "colab": {},
    "colab_type": "code",
    "id": "UTzZYqu_Kx3c"
   },
   "outputs": [],
   "source": [
    "import numpy as np\n",
    "import random\n",
    "from sklearn.ensemble import RandomForestClassifier, VotingClassifier\n",
    "from sklearn.metrics.classification import accuracy_score, recall_score, f1_score\n",
    "import scipy.stats as st"
   ]
  },
  {
   "cell_type": "code",
   "execution_count": null,
   "metadata": {
    "colab": {
     "base_uri": "https://localhost:8080/",
     "height": 69
    },
    "colab_type": "code",
    "executionInfo": {
     "elapsed": 2077,
     "status": "ok",
     "timestamp": 1585828060226,
     "user": {
      "displayName": "brain pinky",
      "photoUrl": "https://lh3.googleusercontent.com/a-/AOh14GjSJ-MfHyLlQ17ipaf3IqBsqmMEcsDxuSrwhgT_Ng=s64",
      "userId": "06438107502629971890"
     },
     "user_tz": -120
    },
    "id": "GpRFTEdONBc_",
    "outputId": "ab9a5c52-a4b6-4bc3-fb1a-58c13fe847d8"
   },
   "outputs": [],
   "source": [
    "%tensorflow_version 2.x\n",
    "import tensorflow as tf\n",
    "print(tf.__version__)\n",
    "print(tf.test.gpu_device_name())\n",
    "print(\"Num GPUs Available: \", len(tf.config.experimental.list_physical_devices('GPU')))"
   ]
  },
  {
   "cell_type": "code",
   "execution_count": null,
   "metadata": {
    "colab": {},
    "colab_type": "code",
    "id": "jkYtMrQISOGf"
   },
   "outputs": [],
   "source": [
    "from tensorflow.keras.callbacks import Callback"
   ]
  },
  {
   "cell_type": "code",
   "execution_count": null,
   "metadata": {
    "colab": {
     "base_uri": "https://localhost:8080/",
     "height": 35
    },
    "colab_type": "code",
    "executionInfo": {
     "elapsed": 1718,
     "status": "ok",
     "timestamp": 1585828061987,
     "user": {
      "displayName": "brain pinky",
      "photoUrl": "https://lh3.googleusercontent.com/a-/AOh14GjSJ-MfHyLlQ17ipaf3IqBsqmMEcsDxuSrwhgT_Ng=s64",
      "userId": "06438107502629971890"
     },
     "user_tz": -120
    },
    "id": "BZXksEzNMLGi",
    "outputId": "d8a6b01d-4e65-4eb2-e932-ad5ff49c42a2"
   },
   "outputs": [],
   "source": [
    "from google.colab import drive\n",
    "drive.mount('/content/drive')"
   ]
  },
  {
   "cell_type": "code",
   "execution_count": null,
   "metadata": {
    "colab": {},
    "colab_type": "code",
    "id": "TcmYyXJIMlaF"
   },
   "outputs": [],
   "source": [
    "np.random.seed(12227)"
   ]
  },
  {
   "cell_type": "code",
   "execution_count": null,
   "metadata": {
    "colab": {},
    "colab_type": "code",
    "id": "QT2MTWZdNioZ"
   },
   "outputs": [],
   "source": [
    "def DataPreparation(data_input_file,data_target_file,test_file,test_target_file):\n",
    "  print('Jian Sun et al. 2018 {}'.format(data_input_file))\n",
    "\n",
    "  X=np.load(data_input_file)\n",
    "  \n",
    "  Y = np.load(data_target_file)\n",
    "\n",
    "  X_test=np.load(test_file)\n",
    "  Y_test=np.load(test_target_file)\n",
    "  return X.f.arr_0,Y.f.arr_0, X_test.f.arr_0,Y_test.f.arr_0"
   ]
  },
  {
   "cell_type": "code",
   "execution_count": null,
   "metadata": {
    "colab": {
     "base_uri": "https://localhost:8080/",
     "height": 35
    },
    "colab_type": "code",
    "executionInfo": {
     "elapsed": 707,
     "status": "ok",
     "timestamp": 1584825512224,
     "user": {
      "displayName": "brain pinky",
      "photoUrl": "https://lh3.googleusercontent.com/a-/AOh14GjSJ-MfHyLlQ17ipaf3IqBsqmMEcsDxuSrwhgT_Ng=s64",
      "userId": "06438107502629971890"
     },
     "user_tz": -120
    },
    "id": "sN_pkbTR9I9H",
    "outputId": "d6a307a0-bb25-49c5-e9e1-d8622f6e176a"
   },
   "outputs": [],
   "source": [
    "x,y,f=DataPreparation('/content/drive/My Drive/Computer_vision_project/data/LOSO/WHARF.npz')"
   ]
  },
  {
   "cell_type": "code",
   "execution_count": null,
   "metadata": {
    "colab": {},
    "colab_type": "code",
    "id": "THpEIkgVN6NG"
   },
   "outputs": [],
   "source": [
    "def ReportAccuracies(avg_acc, avg_recall,avg_f1):\n",
    "  ic_acc = st.t.interval(0.9, len(avg_acc) - 1, loc=np.mean(avg_acc), scale=st.sem(avg_acc))\n",
    "  ic_recall = st.t.interval(0.9, len(avg_recall) - 1, loc=np.mean(avg_recall), scale=st.sem(avg_recall))\n",
    "  ic_f1 = st.t.interval(0.9, len(avg_f1) - 1, loc=np.mean(avg_f1), scale=st.sem(avg_f1))\n",
    "  print('Mean Accuracy[{:.4f}] IC [{:.4f}, {:.4f}]'.format(np.mean(avg_acc), ic_acc[0], ic_acc[1]))\n",
    "  print('Mean Recall[{:.4f}] IC [{:.4f}, {:.4f}]'.format(np.mean(avg_recall), ic_recall[0], ic_recall[1]))\n",
    "  print('Mean F1[{:.4f}] IC [{:.4f}, {:.4f}]'.format(np.mean(avg_f1), ic_f1[0], ic_f1[1]))"
   ]
  },
  {
   "cell_type": "code",
   "execution_count": null,
   "metadata": {
    "colab": {},
    "colab_type": "code",
    "id": "aIfBC1PYN93C"
   },
   "outputs": [],
   "source": [
    "def RunJian_Sun(data_input_file,data_target_file,test_file,test_target_file):\n",
    "  X,Y,X_test,Y_test= DataPreparation(data_input_file,data_target_file,test_file,test_target_file)\n",
    "\n",
    "  avg_acc, avg_recall,avg_f1= Train(X,Y,X_test,Y_test)\n",
    "  ReportAccuracies(avg_acc, avg_recall,avg_f1 )"
   ]
  },
  {
   "cell_type": "code",
   "execution_count": null,
   "metadata": {
    "colab": {},
    "colab_type": "code",
    "id": "fT5fu_jkZgta"
   },
   "outputs": [],
   "source": [
    "def RunJian_Sun_ELM(data_input_file,data_target_file,test_file,test_target_file):\n",
    "  X,Y,X_test,Y_test= DataPreparation(data_input_file,data_target_file,test_file,test_target_file)\n",
    "  \n",
    "  avg_acc, avg_recall,avg_f1= Train_ELM(X,Y,X_test,Y_test)\n",
    "  ReportAccuracies(avg_acc, avg_recall,avg_f1 )"
   ]
  },
  {
   "cell_type": "code",
   "execution_count": null,
   "metadata": {
    "colab": {},
    "colab_type": "code",
    "id": "vXZ9PFNIgnfO"
   },
   "outputs": [],
   "source": [
    "def build_model_1(row,col,num_classes):\n",
    "\n",
    "  \n",
    " \n",
    "  layers = [\n",
    "       tf.keras.layers.Conv2D(filters=1,kernel_size=(5, 1),strides=1),\n",
    "       tf.keras.layers.Conv2D(filters=1,kernel_size=(5, 1), strides=1),\n",
    "        tf.keras.layers.Conv2D(filters=1,kernel_size=(5, 1), strides=1),\n",
    "       tf.keras.layers.Conv2D(filters=1,kernel_size=(5, 1), strides=1),\n",
    "       tf.keras.layers.TimeDistributed(tf.keras.layers.Flatten()),\n",
    "      #  tf.keras.layers.Reshape((col,row)),\n",
    "     \n",
    "        \n",
    "        tf.keras.layers.LSTM(128,return_sequences=True),\n",
    "        tf.keras.layers.LSTM(128),      \n",
    "                  \n",
    "\n",
    "       \n",
    "\n",
    "       \n",
    "        \n",
    "       \n",
    "        tf.keras.layers.Dense(num_classes, activation = 'softmax')\n",
    "    ]\n",
    "    \n",
    "  model = tf.keras.Sequential(layers)\n",
    "  return model"
   ]
  },
  {
   "cell_type": "code",
   "execution_count": null,
   "metadata": {
    "colab": {},
    "colab_type": "code",
    "id": "mUBZu5y7VGEJ"
   },
   "outputs": [],
   "source": [
    "# ELM from https://github.com/sasayabaku/cnn-elm/blob/master/elm_cnn_mnist.py\n",
    "def hidden_layer_generate(cnn_model,X):\n",
    "\n",
    "    \"\"\"\n",
    "    CNNの中間層の出力を取得するモデルの構築\n",
    "    :param cnn_model: CNNモデル\n",
    "    :return:\n",
    "    \"\"\"\n",
    "\n",
    "    layer_name = 'flatten_1'\n",
    "    hidden_layer_model = tf.keras.models.Model(inputs=cnn_model.input, outputs=cnn_model.layers[6].output)\n",
    "\n",
    "    cnn_train_result = hidden_layer_model.predict(X)\n",
    "\n",
    "    return hidden_layer_model, cnn_train_result\n",
    "def elm_model_generate(hidden_layer_cnn_lstm, y,x,num_classes):\n",
    "\n",
    "    \"\"\"\n",
    "    ELMモデルの構築\n",
    "    \"\"\"\n",
    "\n",
    "    target_train_oh = tf.keras.utils.to_categorical(y, num_classes)\n",
    "    print(target_train_oh.shape)\n",
    "\n",
    "    elm_model = hpelm.elm.ELM(hidden_layer_cnn_lstm.shape[1], num_classes)\n",
    "    print(hidden_layer_cnn_lstm.shape)\n",
    "    elm_model.add_neurons(128, func='sigm')\n",
    "\n",
    "    elm_model.train(hidden_layer_cnn_lstm, y, 'c')\n",
    "\n",
    "    return elm_model"
   ]
  },
  {
   "cell_type": "code",
   "execution_count": null,
   "metadata": {
    "colab": {},
    "colab_type": "code",
    "id": "aaOPBeeJYkT2"
   },
   "outputs": [],
   "source": [
    "def predict_ELM(cnn_part, elm_part, X):\n",
    "\n",
    "  \n",
    "\n",
    "  cnn_result = cnn_part.predict(X)\n",
    "  elm_result = elm_part.predict(cnn_result)\n",
    "  return elm_result\n",
    "\n",
    "  "
   ]
  },
  {
   "cell_type": "code",
   "execution_count": null,
   "metadata": {
    "colab": {},
    "colab_type": "code",
    "id": "wIRZRZ4KquQX"
   },
   "outputs": [],
   "source": [
    "from sklearn.model_selection import KFold, StratifiedKFold\n",
    "from sklearn.model_selection import train_test_split"
   ]
  },
  {
   "cell_type": "code",
   "execution_count": null,
   "metadata": {
    "colab": {},
    "colab_type": "code",
    "id": "xbPvK-rXXPF5"
   },
   "outputs": [],
   "source": [
    "def Train_ELM(X,y,X_test,Y_test):\n",
    "  avg_acc = []\n",
    "  avg_recall = []\n",
    "  avg_f1 = []\n",
    "  n_class = y.shape[1]\n",
    "  _, img_rows, img_cols = X.shape\n",
    "  X=X.reshape(X.shape[0],img_rows,img_cols,1)\n",
    "  _,img_rows_, img_cols_ = X_test.shape\n",
    "  X_test=X_test.reshape(X_test.shape[0],img_rows_,img_cols_,1)\n",
    "  print(X.shape)\n",
    "  n_folds=1\n",
    "  kf = KFold(n_splits=5, random_state=1442, shuffle=True)\n",
    "  kf.get_n_splits(X)\n",
    "  for train_ids_indx, valid_ids_indx in kf.split(X):\n",
    "    X_train = X[train_ids_indx]\n",
    "    X_valid = X[valid_ids_indx]\n",
    "    y_train= y[train_ids_indx]\n",
    "    y_valid=y[valid_ids_indx]\n",
    "\n",
    "    model=build_model_2(img_rows,img_cols,n_class)\n",
    "    print(model.summary)\n",
    "    model.compile(loss='categorical_crossentropy', metrics=['accuracy'], optimizer='SGD')\n",
    "    model.fit(X_train, y_train, batch_size=64, epochs=300,validation_data=(X_valid, y_valid),verbose=1 )\n",
    "    hidden_layer_model, cnn_train_result=hidden_layer_generate(model,X_train)\n",
    "    elm_model=elm_model_generate(cnn_train_result,y_train,X_train,n_class)\n",
    "    \n",
    "    \n",
    "    y_pred = predict_ELM(hidden_layer_model,elm_model,X_test)\n",
    "    y_pred = np.argmax(y_pred, axis=1)\n",
    "    y_true = np.argmax(Y_test, axis=1)\n",
    "    acc_fold = accuracy_score(y_true, y_pred)\n",
    "    avg_acc.append(acc_fold)\n",
    "    recall_fold = recall_score(y_true, y_pred, average='macro')\n",
    "    avg_recall.append(recall_fold)\n",
    "    f1_fold = f1_score(y_true, y_pred, average='macro')\n",
    "    avg_f1.append(f1_fold)\n",
    "    print('Accuracy[{:.4f}] Recall[{:.4f}] F1[{:.4f}] at fold[{}]'.format(acc_fold, recall_fold, f1_fold ,n_folds))\n",
    "    print('________________________________________________________________')\n",
    "    n_folds+=1\n",
    "    \n",
    "  return avg_acc, avg_recall,avg_f1"
   ]
  },
  {
   "cell_type": "code",
   "execution_count": null,
   "metadata": {
    "colab": {},
    "colab_type": "code",
    "id": "mCn_7_plP-VC"
   },
   "outputs": [],
   "source": [
    "def Train(X,y,X_test,Y_test):\n",
    "  avg_acc = []\n",
    "  avg_recall = []\n",
    "  avg_f1 = []\n",
    "  n_class = y.shape[1]\n",
    "  _,img_rows, img_cols = X.shape\n",
    "  print(X.shape)\n",
    "  X=X.reshape(X.shape[0],img_rows,img_cols,1)\n",
    "  _,img_rows_, img_cols_ = X_test.shape\n",
    "  X_test=X_test.reshape(X_test.shape[0],img_rows_,img_cols_,1)\n",
    "  print(X.shape)\n",
    "  n_folds=1\n",
    "  kf = KFold(n_splits=5, random_state=1442, shuffle=True)\n",
    "  kf.get_n_splits(X)\n",
    "  for train_ids_indx, valid_ids_indx in kf.split(X):\n",
    "    X_train = X[train_ids_indx]\n",
    "    X_valid = X[valid_ids_indx]\n",
    "    y_train= y[train_ids_indx]\n",
    "    y_valid=y[valid_ids_indx]\n",
    "\n",
    "    model=build_model_1(img_rows,img_cols,n_class)\n",
    "    print(model.summary)\n",
    "    model.compile(loss='categorical_crossentropy', metrics=['accuracy'], optimizer='SGD')\n",
    "    model.fit(X_train, y_train, batch_size=64, epochs=300,validation_data=(X_valid, y_valid),verbose=1 )\n",
    "    y_pred = model.predict(X_test)\n",
    "    y_pred = np.argmax(y_pred, axis=1)\n",
    "    y_true = np.argmax(Y_test, axis=1)\n",
    "    acc_fold = accuracy_score(y_true, y_pred)\n",
    "    avg_acc.append(acc_fold)\n",
    "    recall_fold = recall_score(y_true, y_pred, average='macro')\n",
    "    avg_recall.append(recall_fold)\n",
    "    f1_fold = f1_score(y_true, y_pred, average='macro')\n",
    "    avg_f1.append(f1_fold)\n",
    "    print('Accuracy[{:.4f}] Recall[{:.4f}] F1[{:.4f}] at fold[{}]'.format(acc_fold, recall_fold, f1_fold ,n_folds))\n",
    "    print('________________________________________________________________')\n",
    "    n_folds+=1\n",
    "    \n",
    "  return avg_acc, avg_recall,avg_f1"
   ]
  },
  {
   "cell_type": "code",
   "execution_count": null,
   "metadata": {
    "colab": {},
    "colab_type": "code",
    "id": "JVYnizQ73vAU"
   },
   "outputs": [],
   "source": [
    "def build_model_2(row,col,num_classes):\n",
    "\n",
    "  \n",
    " \n",
    "  layers = [\n",
    "       tf.keras.layers.Conv2D(filters=1,kernel_size=(5, 1),strides=1, input_shape=(row,col,1)),\n",
    "       tf.keras.layers.Conv2D(filters=1,kernel_size=(5, 1), strides=1),\n",
    "        tf.keras.layers.Conv2D(filters=1,kernel_size=(5, 1), strides=1),\n",
    "       tf.keras.layers.Conv2D(filters=1,kernel_size=(5, 1), strides=1),\n",
    "       tf.keras.layers.TimeDistributed(tf.keras.layers.Flatten()),\n",
    "     \n",
    "     \n",
    "        \n",
    "        tf.keras.layers.LSTM(128,return_sequences=True),\n",
    "        tf.keras.layers.LSTM(128),      \n",
    "                  \n",
    "\n",
    "       \n",
    "\n",
    "       \n",
    "        \n",
    "       \n",
    "        tf.keras.layers.Dense(num_classes, activation = 'softmax')\n",
    "    ]\n",
    "    \n",
    "  model = tf.keras.Sequential(layers)\n",
    "  return model"
   ]
  },
  {
   "cell_type": "code",
   "execution_count": null,
   "metadata": {
    "colab": {},
    "colab_type": "code",
    "id": "j1sMAq8YzDoI"
   },
   "outputs": [],
   "source": [
    "tf.keras.backend.set_image_data_format('channels_first')"
   ]
  },
  {
   "cell_type": "code",
   "execution_count": null,
   "metadata": {
    "colab": {
     "base_uri": "https://localhost:8080/",
     "height": 1000
    },
    "colab_type": "code",
    "executionInfo": {
     "elapsed": 5684038,
     "status": "ok",
     "timestamp": 1585840331789,
     "user": {
      "displayName": "brain pinky",
      "photoUrl": "https://lh3.googleusercontent.com/a-/AOh14GjSJ-MfHyLlQ17ipaf3IqBsqmMEcsDxuSrwhgT_Ng=s64",
      "userId": "06438107502629971890"
     },
     "user_tz": -120
    },
    "id": "LI4qcHRkRtVV",
    "outputId": "7bd54066-eb81-4506-b3dc-b9eca2b324f7"
   },
   "outputs": [],
   "source": [
    "RunJian_Sun('/content/drive/My Drive/Computer_vision_project/data/Opportunity/Opportunity_train_X.npz','/content/drive/My Drive/Computer_vision_project/data/Opportunity/Opportunity_train_y.npz','/content/drive/My Drive/Computer_vision_project/data/Opportunity/Opportunity_test_X.npz','/content/drive/My Drive/Computer_vision_project/data/Opportunity/Opportunity_test_Y.npz')"
   ]
  },
  {
   "cell_type": "code",
   "execution_count": null,
   "metadata": {
    "colab": {
     "base_uri": "https://localhost:8080/",
     "height": 1000
    },
    "colab_type": "code",
    "executionInfo": {
     "elapsed": 5833007,
     "status": "ok",
     "timestamp": 1585855873393,
     "user": {
      "displayName": "brain pinky",
      "photoUrl": "https://lh3.googleusercontent.com/a-/AOh14GjSJ-MfHyLlQ17ipaf3IqBsqmMEcsDxuSrwhgT_Ng=s64",
      "userId": "06438107502629971890"
     },
     "user_tz": -120
    },
    "id": "DzugLMGus0Vn",
    "outputId": "fcfefec9-1a93-4c22-8f98-91f60030253b"
   },
   "outputs": [],
   "source": [
    "RunJian_Sun_ELM('/content/drive/My Drive/Computer_vision_project/data/Opportunity/Opportunity_train_X.npz','/content/drive/My Drive/Computer_vision_project/data/Opportunity/Opportunity_train_y.npz','/content/drive/My Drive/Computer_vision_project/data/Opportunity/Opportunity_test_X.npz','/content/drive/My Drive/Computer_vision_project/data/Opportunity/Opportunity_test_Y.npz')"
   ]
  }
 ],
 "metadata": {
  "accelerator": "GPU",
  "colab": {
   "authorship_tag": "ABX9TyMh9AxHvSHZyM0i0jn8/tCN",
   "collapsed_sections": [],
   "name": "Jian_Sun_et_al_2018_Opportunity.ipynb",
   "provenance": []
  },
  "kernelspec": {
   "display_name": "Python 3",
   "language": "python",
   "name": "python3"
  },
  "language_info": {
   "codemirror_mode": {
    "name": "ipython",
    "version": 3
   },
   "file_extension": ".py",
   "mimetype": "text/x-python",
   "name": "python",
   "nbconvert_exporter": "python",
   "pygments_lexer": "ipython3",
   "version": "3.7.6"
  }
 },
 "nbformat": 4,
 "nbformat_minor": 1
}
