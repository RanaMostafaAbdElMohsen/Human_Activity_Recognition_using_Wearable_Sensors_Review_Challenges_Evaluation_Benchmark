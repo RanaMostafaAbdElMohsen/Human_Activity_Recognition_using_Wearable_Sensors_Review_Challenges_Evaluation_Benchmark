{
 "cells": [
  {
   "cell_type": "code",
   "execution_count": null,
   "metadata": {
    "colab": {
     "base_uri": "https://localhost:8080/",
     "height": 419
    },
    "colab_type": "code",
    "executionInfo": {
     "elapsed": 16814,
     "status": "ok",
     "timestamp": 1584962527403,
     "user": {
      "displayName": "brain pinky",
      "photoUrl": "https://lh3.googleusercontent.com/a-/AOh14GjSJ-MfHyLlQ17ipaf3IqBsqmMEcsDxuSrwhgT_Ng=s64",
      "userId": "06438107502629971890"
     },
     "user_tz": -120
    },
    "id": "6M7j__CZS7OM",
    "outputId": "f3522dd9-9071-45c5-8115-e0031e5190d3"
   },
   "outputs": [],
   "source": [
    "\n",
    "## Libraries Prequisities\n",
    "!pip install scikit-learn\n",
    "!pip install numpy==1.16.1"
   ]
  },
  {
   "cell_type": "code",
   "execution_count": null,
   "metadata": {
    "colab": {
     "base_uri": "https://localhost:8080/",
     "height": 332
    },
    "colab_type": "code",
    "executionInfo": {
     "elapsed": 7323,
     "status": "ok",
     "timestamp": 1584962544035,
     "user": {
      "displayName": "brain pinky",
      "photoUrl": "https://lh3.googleusercontent.com/a-/AOh14GjSJ-MfHyLlQ17ipaf3IqBsqmMEcsDxuSrwhgT_Ng=s64",
      "userId": "06438107502629971890"
     },
     "user_tz": -120
    },
    "id": "AG1IYekfzp9A",
    "outputId": "94407afb-c1ab-4f98-8656-31b218271e55"
   },
   "outputs": [],
   "source": [
    "!pip install hpelm"
   ]
  },
  {
   "cell_type": "code",
   "execution_count": null,
   "metadata": {
    "colab": {},
    "colab_type": "code",
    "id": "ss4oCHUzz0GT"
   },
   "outputs": [],
   "source": [
    "import hpelm"
   ]
  },
  {
   "cell_type": "code",
   "execution_count": null,
   "metadata": {
    "colab": {
     "base_uri": "https://localhost:8080/",
     "height": 72
    },
    "colab_type": "code",
    "executionInfo": {
     "elapsed": 1678,
     "status": "ok",
     "timestamp": 1584962546900,
     "user": {
      "displayName": "brain pinky",
      "photoUrl": "https://lh3.googleusercontent.com/a-/AOh14GjSJ-MfHyLlQ17ipaf3IqBsqmMEcsDxuSrwhgT_Ng=s64",
      "userId": "06438107502629971890"
     },
     "user_tz": -120
    },
    "id": "UTzZYqu_Kx3c",
    "outputId": "76d6830e-e225-4ef8-9e85-0739e835c4e7"
   },
   "outputs": [],
   "source": [
    "import numpy as np\n",
    "import random\n",
    "from sklearn.ensemble import RandomForestClassifier, VotingClassifier\n",
    "from sklearn.metrics.classification import accuracy_score, recall_score, f1_score\n",
    "import scipy.stats as st"
   ]
  },
  {
   "cell_type": "code",
   "execution_count": null,
   "metadata": {
    "colab": {
     "base_uri": "https://localhost:8080/",
     "height": 87
    },
    "colab_type": "code",
    "executionInfo": {
     "elapsed": 2971,
     "status": "ok",
     "timestamp": 1584962549261,
     "user": {
      "displayName": "brain pinky",
      "photoUrl": "https://lh3.googleusercontent.com/a-/AOh14GjSJ-MfHyLlQ17ipaf3IqBsqmMEcsDxuSrwhgT_Ng=s64",
      "userId": "06438107502629971890"
     },
     "user_tz": -120
    },
    "id": "GpRFTEdONBc_",
    "outputId": "8c48e4bc-0af2-451b-dbe5-bda80d806d04"
   },
   "outputs": [],
   "source": [
    "%tensorflow_version 2.x\n",
    "import tensorflow as tf\n",
    "print(tf.__version__)\n",
    "print(tf.test.gpu_device_name())\n",
    "print(\"Num GPUs Available: \", len(tf.config.experimental.list_physical_devices('GPU')))"
   ]
  },
  {
   "cell_type": "code",
   "execution_count": null,
   "metadata": {
    "colab": {},
    "colab_type": "code",
    "id": "jkYtMrQISOGf"
   },
   "outputs": [],
   "source": [
    "from tensorflow.keras.callbacks import Callback"
   ]
  },
  {
   "cell_type": "code",
   "execution_count": null,
   "metadata": {
    "colab": {
     "base_uri": "https://localhost:8080/",
     "height": 124
    },
    "colab_type": "code",
    "executionInfo": {
     "elapsed": 26260,
     "status": "ok",
     "timestamp": 1584962577346,
     "user": {
      "displayName": "brain pinky",
      "photoUrl": "https://lh3.googleusercontent.com/a-/AOh14GjSJ-MfHyLlQ17ipaf3IqBsqmMEcsDxuSrwhgT_Ng=s64",
      "userId": "06438107502629971890"
     },
     "user_tz": -120
    },
    "id": "BZXksEzNMLGi",
    "outputId": "2cac748e-f1ff-457d-8f2d-51d88a9a5525"
   },
   "outputs": [],
   "source": [
    "from google.colab import drive\n",
    "drive.mount('/content/drive')"
   ]
  },
  {
   "cell_type": "code",
   "execution_count": null,
   "metadata": {
    "colab": {},
    "colab_type": "code",
    "id": "TcmYyXJIMlaF"
   },
   "outputs": [],
   "source": [
    "np.random.seed(12227)"
   ]
  },
  {
   "cell_type": "code",
   "execution_count": null,
   "metadata": {
    "colab": {},
    "colab_type": "code",
    "id": "QT2MTWZdNioZ"
   },
   "outputs": [],
   "source": [
    "def DataPreparation(data_input_file):\n",
    "  print('Jian Sun et al. 2018 {}'.format(data_input_file))\n",
    "  data = np.load(data_input_file)\n",
    "  X = data['X']\n",
    "  # X = X[:, 0, :, :]\n",
    "  Y = data['y']\n",
    "  folds = data['folds']\n",
    "  # classes_number = Y.shape[1]\n",
    "  # Y = np.argmax(Y, axis=1)\n",
    "  return X,Y,folds"
   ]
  },
  {
   "cell_type": "code",
   "execution_count": null,
   "metadata": {
    "colab": {
     "base_uri": "https://localhost:8080/",
     "height": 35
    },
    "colab_type": "code",
    "executionInfo": {
     "elapsed": 707,
     "status": "ok",
     "timestamp": 1584825512224,
     "user": {
      "displayName": "brain pinky",
      "photoUrl": "https://lh3.googleusercontent.com/a-/AOh14GjSJ-MfHyLlQ17ipaf3IqBsqmMEcsDxuSrwhgT_Ng=s64",
      "userId": "06438107502629971890"
     },
     "user_tz": -120
    },
    "id": "sN_pkbTR9I9H",
    "outputId": "d6a307a0-bb25-49c5-e9e1-d8622f6e176a"
   },
   "outputs": [],
   "source": [
    "x,y,f=DataPreparation('/content/drive/My Drive/Computer_vision_project/data/LOSO/WHARF.npz')"
   ]
  },
  {
   "cell_type": "code",
   "execution_count": null,
   "metadata": {
    "colab": {},
    "colab_type": "code",
    "id": "THpEIkgVN6NG"
   },
   "outputs": [],
   "source": [
    "def ReportAccuracies(avg_acc, avg_recall,avg_f1):\n",
    "  ic_acc = st.t.interval(0.9, len(avg_acc) - 1, loc=np.mean(avg_acc), scale=st.sem(avg_acc))\n",
    "  ic_recall = st.t.interval(0.9, len(avg_recall) - 1, loc=np.mean(avg_recall), scale=st.sem(avg_recall))\n",
    "  ic_f1 = st.t.interval(0.9, len(avg_f1) - 1, loc=np.mean(avg_f1), scale=st.sem(avg_f1))\n",
    "  print('Mean Accuracy[{:.4f}] IC [{:.4f}, {:.4f}]'.format(np.mean(avg_acc), ic_acc[0], ic_acc[1]))\n",
    "  print('Mean Recall[{:.4f}] IC [{:.4f}, {:.4f}]'.format(np.mean(avg_recall), ic_recall[0], ic_recall[1]))\n",
    "  print('Mean F1[{:.4f}] IC [{:.4f}, {:.4f}]'.format(np.mean(avg_f1), ic_f1[0], ic_f1[1]))"
   ]
  },
  {
   "cell_type": "code",
   "execution_count": null,
   "metadata": {
    "colab": {},
    "colab_type": "code",
    "id": "aIfBC1PYN93C"
   },
   "outputs": [],
   "source": [
    "def RunJian_Sun(data_input_file):\n",
    "  X,Y,folds,= DataPreparation(data_input_file)\n",
    "\n",
    "  avg_acc, avg_recall,avg_f1= Train(X,Y,folds)\n",
    "  ReportAccuracies(avg_acc, avg_recall,avg_f1 )"
   ]
  },
  {
   "cell_type": "code",
   "execution_count": null,
   "metadata": {
    "colab": {},
    "colab_type": "code",
    "id": "fT5fu_jkZgta"
   },
   "outputs": [],
   "source": [
    "def RunJian_Sun_ELM(data_input_file):\n",
    "  X,Y,folds,= DataPreparation(data_input_file)\n",
    "\n",
    "  avg_acc, avg_recall,avg_f1= Train_ELM(X,Y,folds)\n",
    "  ReportAccuracies(avg_acc, avg_recall,avg_f1 )"
   ]
  },
  {
   "cell_type": "code",
   "execution_count": null,
   "metadata": {
    "colab": {},
    "colab_type": "code",
    "id": "vXZ9PFNIgnfO"
   },
   "outputs": [],
   "source": [
    "def build_model_1(row,col,num_classes):\n",
    "\n",
    "  \n",
    " \n",
    "  layers = [\n",
    "       tf.keras.layers.Conv2D(filters=1,kernel_size=(5, 1),strides=1, input_shape=(1,row,col)),\n",
    "       tf.keras.layers.Conv2D(filters=1,kernel_size=(5, 1), strides=1),\n",
    "        tf.keras.layers.Conv2D(filters=1,kernel_size=(5, 1), strides=1),\n",
    "       tf.keras.layers.Conv2D(filters=1,kernel_size=(5, 1), strides=1),\n",
    "       tf.keras.layers.TimeDistributed(tf.keras.layers.Flatten()),\n",
    "      #  tf.keras.layers.Reshape((col,row)),\n",
    "     \n",
    "        \n",
    "        tf.keras.layers.LSTM(128,return_sequences=True),\n",
    "        tf.keras.layers.LSTM(128),      \n",
    "                  \n",
    "\n",
    "       \n",
    "\n",
    "       \n",
    "        \n",
    "       \n",
    "        tf.keras.layers.Dense(num_classes, activation = 'softmax')\n",
    "    ]\n",
    "    \n",
    "  model = tf.keras.Sequential(layers)\n",
    "  return model"
   ]
  },
  {
   "cell_type": "code",
   "execution_count": null,
   "metadata": {
    "colab": {},
    "colab_type": "code",
    "id": "mUBZu5y7VGEJ"
   },
   "outputs": [],
   "source": [
    "# ELM from https://github.com/sasayabaku/cnn-elm/blob/master/elm_cnn_mnist.py\n",
    "def hidden_layer_generate(cnn_model,X):\n",
    "\n",
    "    \"\"\"\n",
    "    CNNの中間層の出力を取得するモデルの構築\n",
    "    :param cnn_model: CNNモデル\n",
    "    :return:\n",
    "    \"\"\"\n",
    "\n",
    "    layer_name = 'flatten_1'\n",
    "    hidden_layer_model = tf.keras.models.Model(inputs=cnn_model.input, outputs=cnn_model.layers[6].output)\n",
    "\n",
    "    cnn_train_result = hidden_layer_model.predict(X)\n",
    "\n",
    "    return hidden_layer_model, cnn_train_result\n",
    "def elm_model_generate(hidden_layer_cnn_lstm, y,x,num_classes):\n",
    "\n",
    "    \"\"\"\n",
    "    ELMモデルの構築\n",
    "    \"\"\"\n",
    "\n",
    "    target_train_oh = tf.keras.utils.to_categorical(y, num_classes)\n",
    "    print(target_train_oh.shape)\n",
    "\n",
    "    elm_model = hpelm.elm.ELM(hidden_layer_cnn_lstm.shape[1], num_classes)\n",
    "    print(hidden_layer_cnn_lstm.shape)\n",
    "    elm_model.add_neurons(128, func='sigm')\n",
    "\n",
    "    elm_model.train(hidden_layer_cnn_lstm, y, 'c')\n",
    "\n",
    "    return elm_model"
   ]
  },
  {
   "cell_type": "code",
   "execution_count": null,
   "metadata": {
    "colab": {},
    "colab_type": "code",
    "id": "aaOPBeeJYkT2"
   },
   "outputs": [],
   "source": [
    "def predict_ELM(cnn_part, elm_part, X):\n",
    "\n",
    "  \n",
    "\n",
    "  cnn_result = cnn_part.predict(X)\n",
    "  elm_result = elm_part.predict(cnn_result)\n",
    "  return elm_result\n",
    "\n",
    "  "
   ]
  },
  {
   "cell_type": "code",
   "execution_count": null,
   "metadata": {
    "colab": {},
    "colab_type": "code",
    "id": "xbPvK-rXXPF5"
   },
   "outputs": [],
   "source": [
    "def Train_ELM(X,y,folds):\n",
    "  avg_acc = []\n",
    "  avg_recall = []\n",
    "  avg_f1 = []\n",
    "  n_class = y.shape[1]\n",
    "  _,_, img_rows, img_cols = X.shape\n",
    "  print(X.shape)\n",
    "  for i in range(0, len(folds)):\n",
    "    train_idx = folds[i][0]\n",
    "    test_idx = folds[i][1]\n",
    "    X_train = X[train_idx]\n",
    "    X_test = X[test_idx]\n",
    "    model=build_model_1(img_rows,img_cols,n_class)\n",
    "    # print(model.summary)\n",
    "    model.compile(loss='categorical_crossentropy', metrics=['accuracy'], optimizer='SGD')\n",
    "    model.fit(X_train, y[train_idx], batch_size=64, epochs=300)\n",
    "    hidden_layer_model, cnn_train_result=hidden_layer_generate(model,X_train)\n",
    "    elm_model=elm_model_generate(cnn_train_result,y[train_idx],X_train,n_class)\n",
    "    \n",
    "    \n",
    "    y_pred = predict_ELM(hidden_layer_model,elm_model,X_test)\n",
    "    y_pred = np.argmax(y_pred, axis=1)\n",
    "    y_true = np.argmax(y[test_idx], axis=1)\n",
    "    acc_fold = accuracy_score(y_true, y_pred)\n",
    "    avg_acc.append(acc_fold)\n",
    "    recall_fold = recall_score(y_true, y_pred, average='macro')\n",
    "    avg_recall.append(recall_fold)\n",
    "    f1_fold = f1_score(y_true, y_pred, average='macro')\n",
    "    avg_f1.append(f1_fold)\n",
    "    print('Accuracy[{:.4f}] Recall[{:.4f}] F1[{:.4f}] at fold[{}]'.format(acc_fold, recall_fold, f1_fold ,i+1))\n",
    "    print('________________________________________________________________')\n",
    "    \n",
    "  return avg_acc, avg_recall,avg_f1"
   ]
  },
  {
   "cell_type": "code",
   "execution_count": null,
   "metadata": {
    "colab": {},
    "colab_type": "code",
    "id": "mCn_7_plP-VC"
   },
   "outputs": [],
   "source": [
    "def Train(X,y,folds):\n",
    "  avg_acc = []\n",
    "  avg_recall = []\n",
    "  avg_f1 = []\n",
    "  n_class = y.shape[1]\n",
    "  _,_,img_rows, img_cols = X.shape\n",
    "  print(X.shape)\n",
    "  for i in range(0, len(folds)):\n",
    "    train_idx = folds[i][0]\n",
    "    test_idx = folds[i][1]\n",
    "    X_train = X[train_idx]\n",
    "    X_test = X[test_idx]\n",
    "    model=build_model_1(img_rows,img_cols,n_class)\n",
    "    print(model.summary)\n",
    "    model.compile(loss='categorical_crossentropy', metrics=['accuracy'], optimizer='SGD')\n",
    "    model.fit(X_train, y[train_idx], batch_size=64, epochs=300)\n",
    "    y_pred = model.predict(X_test)\n",
    "    y_pred = np.argmax(y_pred, axis=1)\n",
    "    y_true = np.argmax(y[test_idx], axis=1)\n",
    "    acc_fold = accuracy_score(y_true, y_pred)\n",
    "    avg_acc.append(acc_fold)\n",
    "    recall_fold = recall_score(y_true, y_pred, average='macro')\n",
    "    avg_recall.append(recall_fold)\n",
    "    f1_fold = f1_score(y_true, y_pred, average='macro')\n",
    "    avg_f1.append(f1_fold)\n",
    "    print('Accuracy[{:.4f}] Recall[{:.4f}] F1[{:.4f}] at fold[{}]'.format(acc_fold, recall_fold, f1_fold ,i+1))\n",
    "    print('________________________________________________________________')\n",
    "    \n",
    "  return avg_acc, avg_recall,avg_f1"
   ]
  },
  {
   "cell_type": "code",
   "execution_count": null,
   "metadata": {
    "colab": {},
    "colab_type": "code",
    "id": "j1sMAq8YzDoI"
   },
   "outputs": [],
   "source": [
    "tf.keras.backend.set_image_data_format('channels_first')"
   ]
  },
  {
   "cell_type": "code",
   "execution_count": null,
   "metadata": {
    "colab": {
     "base_uri": "https://localhost:8080/",
     "height": 1000
    },
    "colab_type": "code",
    "executionInfo": {
     "elapsed": 1289173,
     "status": "ok",
     "timestamp": 1584822292930,
     "user": {
      "displayName": "brain pinky",
      "photoUrl": "https://lh3.googleusercontent.com/a-/AOh14GjSJ-MfHyLlQ17ipaf3IqBsqmMEcsDxuSrwhgT_Ng=s64",
      "userId": "06438107502629971890"
     },
     "user_tz": -120
    },
    "id": "LI4qcHRkRtVV",
    "outputId": "23fc742f-caf5-4193-ddba-15c8c059fd7c"
   },
   "outputs": [],
   "source": [
    "RunJian_Sun('/content/drive/My Drive/Computer_vision_project/data/LOSO/MHEALTH.npz')"
   ]
  },
  {
   "cell_type": "code",
   "execution_count": null,
   "metadata": {
    "colab": {
     "base_uri": "https://localhost:8080/",
     "height": 1000
    },
    "colab_type": "code",
    "executionInfo": {
     "elapsed": 1292617,
     "status": "ok",
     "timestamp": 1584827993105,
     "user": {
      "displayName": "brain pinky",
      "photoUrl": "https://lh3.googleusercontent.com/a-/AOh14GjSJ-MfHyLlQ17ipaf3IqBsqmMEcsDxuSrwhgT_Ng=s64",
      "userId": "06438107502629971890"
     },
     "user_tz": -120
    },
    "id": "DzugLMGus0Vn",
    "outputId": "9d88ead3-46e6-44b3-daec-6003453535a7"
   },
   "outputs": [],
   "source": [
    "RunJian_Sun_ELM('/content/drive/My Drive/Computer_vision_project/data/LOSO/MHEALTH.npz')"
   ]
  },
  {
   "cell_type": "code",
   "execution_count": null,
   "metadata": {
    "colab": {
     "base_uri": "https://localhost:8080/",
     "height": 1000
    },
    "colab_type": "code",
    "executionInfo": {
     "elapsed": 4997408,
     "status": "ok",
     "timestamp": 1584833461610,
     "user": {
      "displayName": "brain pinky",
      "photoUrl": "https://lh3.googleusercontent.com/a-/AOh14GjSJ-MfHyLlQ17ipaf3IqBsqmMEcsDxuSrwhgT_Ng=s64",
      "userId": "06438107502629971890"
     },
     "user_tz": -120
    },
    "id": "kh9k4ViIS6EV",
    "outputId": "4a79d713-9148-4738-85b9-0d5c4cbd3f3b"
   },
   "outputs": [],
   "source": [
    "RunJian_Sun('/content/drive/My Drive/Computer_vision_project/data/LOSO/USCHAD.npz')"
   ]
  },
  {
   "cell_type": "code",
   "execution_count": null,
   "metadata": {
    "colab": {},
    "colab_type": "code",
    "id": "xp01klY7I25Q"
   },
   "outputs": [],
   "source": [
    "RunJian_Sun_ELM('/content/drive/My Drive/Computer_vision_project/data/LOSO/USCHAD.npz')"
   ]
  },
  {
   "cell_type": "code",
   "execution_count": null,
   "metadata": {
    "colab": {
     "base_uri": "https://localhost:8080/",
     "height": 1000
    },
    "colab_type": "code",
    "executionInfo": {
     "elapsed": 713018,
     "status": "ok",
     "timestamp": 1584876709777,
     "user": {
      "displayName": "brain pinky",
      "photoUrl": "https://lh3.googleusercontent.com/a-/AOh14GjSJ-MfHyLlQ17ipaf3IqBsqmMEcsDxuSrwhgT_Ng=s64",
      "userId": "06438107502629971890"
     },
     "user_tz": -120
    },
    "id": "9qmQMNcn4u8V",
    "outputId": "cfed135b-1a77-48cb-dc71-71c7c8527296"
   },
   "outputs": [],
   "source": [
    "RunJian_Sun('/content/drive/My Drive/Computer_vision_project/data/LOSO/UTD-MHAD1_1s.npz')"
   ]
  },
  {
   "cell_type": "code",
   "execution_count": null,
   "metadata": {
    "colab": {
     "base_uri": "https://localhost:8080/",
     "height": 1000
    },
    "colab_type": "code",
    "executionInfo": {
     "elapsed": 17249,
     "status": "ok",
     "timestamp": 1584874874645,
     "user": {
      "displayName": "brain pinky",
      "photoUrl": "https://lh3.googleusercontent.com/a-/AOh14GjSJ-MfHyLlQ17ipaf3IqBsqmMEcsDxuSrwhgT_Ng=s64",
      "userId": "06438107502629971890"
     },
     "user_tz": -120
    },
    "id": "WAoCWg7rJCmw",
    "outputId": "50868254-6066-4276-a1cf-287bd5d080b9"
   },
   "outputs": [],
   "source": [
    "RunJian_Sun_ELM('/content/drive/My Drive/Computer_vision_project/data/LOSO/UTD-MHAD1_1s.npz')"
   ]
  },
  {
   "cell_type": "code",
   "execution_count": null,
   "metadata": {
    "colab": {
     "base_uri": "https://localhost:8080/",
     "height": 1000
    },
    "colab_type": "code",
    "executionInfo": {
     "elapsed": 248671,
     "status": "ok",
     "timestamp": 1584877688014,
     "user": {
      "displayName": "brain pinky",
      "photoUrl": "https://lh3.googleusercontent.com/a-/AOh14GjSJ-MfHyLlQ17ipaf3IqBsqmMEcsDxuSrwhgT_Ng=s64",
      "userId": "06438107502629971890"
     },
     "user_tz": -120
    },
    "id": "mITIKvXg4x11",
    "outputId": "373677a1-2aee-443f-c38f-ab001df4bceb"
   },
   "outputs": [],
   "source": [
    "RunJian_Sun('/content/drive/My Drive/Computer_vision_project/data/LOSO/UTD-MHAD2_1s.npz')"
   ]
  },
  {
   "cell_type": "code",
   "execution_count": null,
   "metadata": {
    "colab": {
     "base_uri": "https://localhost:8080/",
     "height": 1000
    },
    "colab_type": "code",
    "executionInfo": {
     "elapsed": 3176,
     "status": "ok",
     "timestamp": 1584879521608,
     "user": {
      "displayName": "brain pinky",
      "photoUrl": "https://lh3.googleusercontent.com/a-/AOh14GjSJ-MfHyLlQ17ipaf3IqBsqmMEcsDxuSrwhgT_Ng=s64",
      "userId": "06438107502629971890"
     },
     "user_tz": -120
    },
    "id": "znouBHgFJFFv",
    "outputId": "8d833b11-2900-411f-d98d-2b9f51eae01b"
   },
   "outputs": [],
   "source": [
    "RunJian_Sun_ELM('/content/drive/My Drive/Computer_vision_project/data/LOSO/UTD-MHAD2_1s.npz')"
   ]
  },
  {
   "cell_type": "code",
   "execution_count": null,
   "metadata": {
    "colab": {
     "base_uri": "https://localhost:8080/",
     "height": 1000
    },
    "colab_type": "code",
    "executionInfo": {
     "elapsed": 1176969,
     "status": "ok",
     "timestamp": 1584880698260,
     "user": {
      "displayName": "brain pinky",
      "photoUrl": "https://lh3.googleusercontent.com/a-/AOh14GjSJ-MfHyLlQ17ipaf3IqBsqmMEcsDxuSrwhgT_Ng=s64",
      "userId": "06438107502629971890"
     },
     "user_tz": -120
    },
    "id": "OStpFZLw4yLK",
    "outputId": "c0dadcad-a9a2-4fc1-feb7-45049699c3a7"
   },
   "outputs": [],
   "source": [
    "RunJian_Sun('/content/drive/My Drive/Computer_vision_project/data/LOSO/WHARF.npz')"
   ]
  },
  {
   "cell_type": "code",
   "execution_count": null,
   "metadata": {
    "colab": {
     "base_uri": "https://localhost:8080/",
     "height": 1000
    },
    "colab_type": "code",
    "executionInfo": {
     "elapsed": 1635588,
     "status": "ok",
     "timestamp": 1584882530987,
     "user": {
      "displayName": "brain pinky",
      "photoUrl": "https://lh3.googleusercontent.com/a-/AOh14GjSJ-MfHyLlQ17ipaf3IqBsqmMEcsDxuSrwhgT_Ng=s64",
      "userId": "06438107502629971890"
     },
     "user_tz": -120
    },
    "id": "OilYqSRrKSqA",
    "outputId": "d0322f6f-6a25-4946-ff52-932a0ebbe216"
   },
   "outputs": [],
   "source": [
    "RunJian_Sun_ELM('/content/drive/My Drive/Computer_vision_project/data/LOSO/WHARF.npz')"
   ]
  },
  {
   "cell_type": "code",
   "execution_count": null,
   "metadata": {
    "colab": {
     "base_uri": "https://localhost:8080/",
     "height": 166
    },
    "colab_type": "code",
    "executionInfo": {
     "elapsed": 722,
     "status": "error",
     "timestamp": 1584817474471,
     "user": {
      "displayName": "brain pinky",
      "photoUrl": "https://lh3.googleusercontent.com/a-/AOh14GjSJ-MfHyLlQ17ipaf3IqBsqmMEcsDxuSrwhgT_Ng=s64",
      "userId": "06438107502629971890"
     },
     "user_tz": -120
    },
    "id": "EwaSYcAE4yhc",
    "outputId": "408c47df-913b-4bfc-f177-bf4e69fe2ec6"
   },
   "outputs": [],
   "source": [
    "RunJian_Sun('/content/drive/My Drive/Computer_vision_project/data/LOSO/WISDM.npz')"
   ]
  },
  {
   "cell_type": "code",
   "execution_count": null,
   "metadata": {
    "colab": {
     "base_uri": "https://localhost:8080/",
     "height": 1000
    },
    "colab_type": "code",
    "executionInfo": {
     "elapsed": 60735,
     "status": "error",
     "timestamp": 1584895866626,
     "user": {
      "displayName": "brain pinky",
      "photoUrl": "https://lh3.googleusercontent.com/a-/AOh14GjSJ-MfHyLlQ17ipaf3IqBsqmMEcsDxuSrwhgT_Ng=s64",
      "userId": "06438107502629971890"
     },
     "user_tz": -120
    },
    "id": "yc3Ua0wWKZbg",
    "outputId": "22019917-3957-4fda-d398-2cc6a4b2df03"
   },
   "outputs": [],
   "source": [
    "RunJian_Sun_ELM('/content/drive/My Drive/Computer_vision_project/data/LOSO/WISDM.npz')"
   ]
  },
  {
   "cell_type": "code",
   "execution_count": null,
   "metadata": {
    "colab": {
     "base_uri": "https://localhost:8080/",
     "height": 451
    },
    "colab_type": "code",
    "executionInfo": {
     "elapsed": 214679,
     "status": "ok",
     "timestamp": 1584809472410,
     "user": {
      "displayName": "brain pinky",
      "photoUrl": "https://lh3.googleusercontent.com/a-/AOh14GjSJ-MfHyLlQ17ipaf3IqBsqmMEcsDxuSrwhgT_Ng=s64",
      "userId": "06438107502629971890"
     },
     "user_tz": -120
    },
    "id": "y-0xZXye_hEV",
    "outputId": "c9f2bd51-2937-40e2-cb3d-5a6acf58895e"
   },
   "outputs": [],
   "source": [
    "RunJian_Sun('/content/drive/My Drive/Computer_vision_project/data/FNOW/MHEALTH.npz')"
   ]
  },
  {
   "cell_type": "code",
   "execution_count": null,
   "metadata": {
    "colab": {
     "base_uri": "https://localhost:8080/",
     "height": 1000
    },
    "colab_type": "code",
    "executionInfo": {
     "elapsed": 610279,
     "status": "ok",
     "timestamp": 1584963220674,
     "user": {
      "displayName": "brain pinky",
      "photoUrl": "https://lh3.googleusercontent.com/a-/AOh14GjSJ-MfHyLlQ17ipaf3IqBsqmMEcsDxuSrwhgT_Ng=s64",
      "userId": "06438107502629971890"
     },
     "user_tz": -120
    },
    "id": "Y1xlGaLNKcLq",
    "outputId": "e5ca71a7-af0b-42d2-c92d-60d6000b6842"
   },
   "outputs": [],
   "source": [
    "RunJian_Sun_ELM('/content/drive/My Drive/Computer_vision_project/data/FNOW/MHEALTH.npz')"
   ]
  },
  {
   "cell_type": "code",
   "execution_count": null,
   "metadata": {
    "colab": {
     "base_uri": "https://localhost:8080/",
     "height": 1000
    },
    "colab_type": "code",
    "executionInfo": {
     "elapsed": 669924,
     "status": "ok",
     "timestamp": 1584965455588,
     "user": {
      "displayName": "brain pinky",
      "photoUrl": "https://lh3.googleusercontent.com/a-/AOh14GjSJ-MfHyLlQ17ipaf3IqBsqmMEcsDxuSrwhgT_Ng=s64",
      "userId": "06438107502629971890"
     },
     "user_tz": -120
    },
    "id": "rPWWF1D0Qwho",
    "outputId": "0dc94636-58f6-4dff-82ea-47dcc3ab3d94"
   },
   "outputs": [],
   "source": [
    "RunJian_Sun_ELM('/content/drive/My Drive/Computer_vision_project/data/FNOW/UTD-MHAD1_1s.npz')"
   ]
  },
  {
   "cell_type": "code",
   "execution_count": null,
   "metadata": {
    "colab": {
     "base_uri": "https://localhost:8080/",
     "height": 1000
    },
    "colab_type": "code",
    "executionInfo": {
     "elapsed": 276877,
     "status": "ok",
     "timestamp": 1584967666532,
     "user": {
      "displayName": "brain pinky",
      "photoUrl": "https://lh3.googleusercontent.com/a-/AOh14GjSJ-MfHyLlQ17ipaf3IqBsqmMEcsDxuSrwhgT_Ng=s64",
      "userId": "06438107502629971890"
     },
     "user_tz": -120
    },
    "id": "SZ-GDwSlak_T",
    "outputId": "c630b68e-56af-4347-c91d-1cd39bd89587"
   },
   "outputs": [],
   "source": [
    "RunJian_Sun_ELM('/content/drive/My Drive/Computer_vision_project/data/FNOW/UTD-MHAD2_1s.npz')"
   ]
  },
  {
   "cell_type": "code",
   "execution_count": null,
   "metadata": {
    "colab": {
     "base_uri": "https://localhost:8080/",
     "height": 1000
    },
    "colab_type": "code",
    "executionInfo": {
     "elapsed": 787843,
     "status": "ok",
     "timestamp": 1584969159625,
     "user": {
      "displayName": "brain pinky",
      "photoUrl": "https://lh3.googleusercontent.com/a-/AOh14GjSJ-MfHyLlQ17ipaf3IqBsqmMEcsDxuSrwhgT_Ng=s64",
      "userId": "06438107502629971890"
     },
     "user_tz": -120
    },
    "id": "PWFcyjl4eckl",
    "outputId": "8ad7e347-febe-4587-c628-93acf3cebcf7"
   },
   "outputs": [],
   "source": [
    "RunJian_Sun_ELM('/content/drive/My Drive/Computer_vision_project/data/FNOW/WHARF.npz')"
   ]
  },
  {
   "cell_type": "code",
   "execution_count": null,
   "metadata": {
    "colab": {
     "base_uri": "https://localhost:8080/",
     "height": 1000
    },
    "colab_type": "code",
    "executionInfo": {
     "elapsed": 625112,
     "status": "ok",
     "timestamp": 1584988995838,
     "user": {
      "displayName": "brain pinky",
      "photoUrl": "https://lh3.googleusercontent.com/a-/AOh14GjSJ-MfHyLlQ17ipaf3IqBsqmMEcsDxuSrwhgT_Ng=s64",
      "userId": "06438107502629971890"
     },
     "user_tz": -120
    },
    "id": "vtuzXu6dqqsu",
    "outputId": "12282178-8632-4501-8182-710c5c61c5af"
   },
   "outputs": [],
   "source": [
    "RunJian_Sun('/content/drive/My Drive/Computer_vision_project/data/FNOW/MHEALTH.npz')"
   ]
  },
  {
   "cell_type": "code",
   "execution_count": null,
   "metadata": {
    "colab": {
     "base_uri": "https://localhost:8080/",
     "height": 1000
    },
    "colab_type": "code",
    "executionInfo": {
     "elapsed": 718909,
     "status": "ok",
     "timestamp": 1584991825273,
     "user": {
      "displayName": "brain pinky",
      "photoUrl": "https://lh3.googleusercontent.com/a-/AOh14GjSJ-MfHyLlQ17ipaf3IqBsqmMEcsDxuSrwhgT_Ng=s64",
      "userId": "06438107502629971890"
     },
     "user_tz": -120
    },
    "id": "7IyH4Z49DdXl",
    "outputId": "44356ae9-3e26-4d7e-cafc-9030d35ab6de"
   },
   "outputs": [],
   "source": [
    "RunJian_Sun('/content/drive/My Drive/Computer_vision_project/data/FNOW/UTD-MHAD1_1s.npz')"
   ]
  },
  {
   "cell_type": "code",
   "execution_count": null,
   "metadata": {
    "colab": {
     "base_uri": "https://localhost:8080/",
     "height": 1000
    },
    "colab_type": "code",
    "executionInfo": {
     "elapsed": 269575,
     "status": "ok",
     "timestamp": 1584992651204,
     "user": {
      "displayName": "brain pinky",
      "photoUrl": "https://lh3.googleusercontent.com/a-/AOh14GjSJ-MfHyLlQ17ipaf3IqBsqmMEcsDxuSrwhgT_Ng=s64",
      "userId": "06438107502629971890"
     },
     "user_tz": -120
    },
    "id": "ktQ8pgyTD0s_",
    "outputId": "2c7ebda6-fa1a-4131-fb06-18744774b629"
   },
   "outputs": [],
   "source": [
    "RunJian_Sun('/content/drive/My Drive/Computer_vision_project/data/FNOW/UTD-MHAD2_1s.npz')"
   ]
  },
  {
   "cell_type": "code",
   "execution_count": null,
   "metadata": {
    "colab": {
     "base_uri": "https://localhost:8080/",
     "height": 1000
    },
    "colab_type": "code",
    "executionInfo": {
     "elapsed": 768088,
     "status": "ok",
     "timestamp": 1584994149436,
     "user": {
      "displayName": "brain pinky",
      "photoUrl": "https://lh3.googleusercontent.com/a-/AOh14GjSJ-MfHyLlQ17ipaf3IqBsqmMEcsDxuSrwhgT_Ng=s64",
      "userId": "06438107502629971890"
     },
     "user_tz": -120
    },
    "id": "GeyLHP4MESDZ",
    "outputId": "def54b8c-eb5d-4f6a-8c12-a939d76b27c5"
   },
   "outputs": [],
   "source": [
    "RunJian_Sun('/content/drive/My Drive/Computer_vision_project/data/FNOW/WHARF.npz')"
   ]
  },
  {
   "cell_type": "code",
   "execution_count": null,
   "metadata": {
    "colab": {},
    "colab_type": "code",
    "id": "wEI5j9eYER66"
   },
   "outputs": [],
   "source": [
    "RunJian_Sun('/content/drive/My Drive/Computer_vision_project/data/FNOW/WISDM.npz')"
   ]
  },
  {
   "cell_type": "code",
   "execution_count": null,
   "metadata": {
    "colab": {
     "base_uri": "https://localhost:8080/",
     "height": 1000
    },
    "colab_type": "code",
    "executionInfo": {
     "elapsed": 1187440,
     "status": "ok",
     "timestamp": 1584970477610,
     "user": {
      "displayName": "brain pinky",
      "photoUrl": "https://lh3.googleusercontent.com/a-/AOh14GjSJ-MfHyLlQ17ipaf3IqBsqmMEcsDxuSrwhgT_Ng=s64",
      "userId": "06438107502629971890"
     },
     "user_tz": -120
    },
    "id": "ujb39eeyh8pa",
    "outputId": "a982a657-02c9-44a1-a749-1e14cabc5f05"
   },
   "outputs": [],
   "source": [
    "RunJian_Sun_ELM('/content/drive/My Drive/Computer_vision_project/data/LOTO/MHEALTH.npz')"
   ]
  },
  {
   "cell_type": "code",
   "execution_count": null,
   "metadata": {
    "colab": {
     "base_uri": "https://localhost:8080/",
     "height": 1000
    },
    "colab_type": "code",
    "executionInfo": {
     "elapsed": 1283662,
     "status": "ok",
     "timestamp": 1584972887733,
     "user": {
      "displayName": "brain pinky",
      "photoUrl": "https://lh3.googleusercontent.com/a-/AOh14GjSJ-MfHyLlQ17ipaf3IqBsqmMEcsDxuSrwhgT_Ng=s64",
      "userId": "06438107502629971890"
     },
     "user_tz": -120
    },
    "id": "1i6T4_zyqzRd",
    "outputId": "ba6cdd7f-baa3-4d65-b398-0315d6570a4c"
   },
   "outputs": [],
   "source": [
    "RunJian_Sun_ELM('/content/drive/My Drive/Computer_vision_project/data/LOTO/UTD-MHAD1_1s.npz')"
   ]
  },
  {
   "cell_type": "code",
   "execution_count": null,
   "metadata": {
    "colab": {
     "base_uri": "https://localhost:8080/",
     "height": 1000
    },
    "colab_type": "code",
    "executionInfo": {
     "elapsed": 456719,
     "status": "ok",
     "timestamp": 1584974192432,
     "user": {
      "displayName": "brain pinky",
      "photoUrl": "https://lh3.googleusercontent.com/a-/AOh14GjSJ-MfHyLlQ17ipaf3IqBsqmMEcsDxuSrwhgT_Ng=s64",
      "userId": "06438107502629971890"
     },
     "user_tz": -120
    },
    "id": "FQ3hJQUby3r3",
    "outputId": "c78fb6f4-0082-408b-ab05-c07f81bc022e"
   },
   "outputs": [],
   "source": [
    "RunJian_Sun_ELM('/content/drive/My Drive/Computer_vision_project/data/LOTO/UTD-MHAD2_1s.npz')"
   ]
  },
  {
   "cell_type": "code",
   "execution_count": null,
   "metadata": {
    "colab": {
     "base_uri": "https://localhost:8080/",
     "height": 1000
    },
    "colab_type": "code",
    "executionInfo": {
     "elapsed": 1372482,
     "status": "ok",
     "timestamp": 1584976274229,
     "user": {
      "displayName": "brain pinky",
      "photoUrl": "https://lh3.googleusercontent.com/a-/AOh14GjSJ-MfHyLlQ17ipaf3IqBsqmMEcsDxuSrwhgT_Ng=s64",
      "userId": "06438107502629971890"
     },
     "user_tz": -120
    },
    "id": "usC0R_SV3YqH",
    "outputId": "372d626d-9b14-4473-998b-ba8f7b1a8b80"
   },
   "outputs": [],
   "source": [
    "RunJian_Sun_ELM('/content/drive/My Drive/Computer_vision_project/data/LOTO/WHARF.npz')"
   ]
  },
  {
   "cell_type": "code",
   "execution_count": null,
   "metadata": {
    "colab": {
     "base_uri": "https://localhost:8080/",
     "height": 1000
    },
    "colab_type": "code",
    "executionInfo": {
     "elapsed": 1221648,
     "status": "ok",
     "timestamp": 1584979318275,
     "user": {
      "displayName": "brain pinky",
      "photoUrl": "https://lh3.googleusercontent.com/a-/AOh14GjSJ-MfHyLlQ17ipaf3IqBsqmMEcsDxuSrwhgT_Ng=s64",
      "userId": "06438107502629971890"
     },
     "user_tz": -120
    },
    "id": "Ba3UChmaDSUe",
    "outputId": "301e7afa-d63b-4623-d68a-aa39b1ca6cf6"
   },
   "outputs": [],
   "source": [
    "RunJian_Sun_ELM('/content/drive/My Drive/Computer_vision_project/data/SNOW/MHEALTH.npz')"
   ]
  },
  {
   "cell_type": "code",
   "execution_count": null,
   "metadata": {
    "colab": {
     "base_uri": "https://localhost:8080/",
     "height": 398
    },
    "colab_type": "code",
    "executionInfo": {
     "elapsed": 7890,
     "status": "error",
     "timestamp": 1584982463722,
     "user": {
      "displayName": "brain pinky",
      "photoUrl": "https://lh3.googleusercontent.com/a-/AOh14GjSJ-MfHyLlQ17ipaf3IqBsqmMEcsDxuSrwhgT_Ng=s64",
      "userId": "06438107502629971890"
     },
     "user_tz": -120
    },
    "id": "VrtUV-F4DYJ8",
    "outputId": "973512db-aab6-4044-c7bd-1e5018bf4e64"
   },
   "outputs": [],
   "source": [
    "RunJian_Sun_ELM('/content/drive/My Drive/Computer_vision_project/data/SNOW/USCHAD.npz')"
   ]
  },
  {
   "cell_type": "code",
   "execution_count": null,
   "metadata": {
    "colab": {
     "base_uri": "https://localhost:8080/",
     "height": 1000
    },
    "colab_type": "code",
    "executionInfo": {
     "elapsed": 1271553,
     "status": "ok",
     "timestamp": 1584983741738,
     "user": {
      "displayName": "brain pinky",
      "photoUrl": "https://lh3.googleusercontent.com/a-/AOh14GjSJ-MfHyLlQ17ipaf3IqBsqmMEcsDxuSrwhgT_Ng=s64",
      "userId": "06438107502629971890"
     },
     "user_tz": -120
    },
    "id": "cKkPiJRxDYoe",
    "outputId": "ea6d0af3-9278-4229-dcc3-85d6c3aa71f8"
   },
   "outputs": [],
   "source": [
    "RunJian_Sun_ELM('/content/drive/My Drive/Computer_vision_project/data/SNOW/UTD-MHAD1_1s.npz')"
   ]
  },
  {
   "cell_type": "code",
   "execution_count": null,
   "metadata": {
    "colab": {
     "base_uri": "https://localhost:8080/",
     "height": 1000
    },
    "colab_type": "code",
    "executionInfo": {
     "elapsed": 420192,
     "status": "ok",
     "timestamp": 1584985213301,
     "user": {
      "displayName": "brain pinky",
      "photoUrl": "https://lh3.googleusercontent.com/a-/AOh14GjSJ-MfHyLlQ17ipaf3IqBsqmMEcsDxuSrwhgT_Ng=s64",
      "userId": "06438107502629971890"
     },
     "user_tz": -120
    },
    "id": "wQsYYrA7DZBF",
    "outputId": "ec96a00a-567c-4476-c2a7-14424efd9b9c"
   },
   "outputs": [],
   "source": [
    "RunJian_Sun_ELM('/content/drive/My Drive/Computer_vision_project/data/SNOW/UTD-MHAD2_1s.npz')"
   ]
  },
  {
   "cell_type": "code",
   "execution_count": null,
   "metadata": {
    "colab": {
     "base_uri": "https://localhost:8080/",
     "height": 1000
    },
    "colab_type": "code",
    "executionInfo": {
     "elapsed": 1317516,
     "status": "ok",
     "timestamp": 1584987946830,
     "user": {
      "displayName": "brain pinky",
      "photoUrl": "https://lh3.googleusercontent.com/a-/AOh14GjSJ-MfHyLlQ17ipaf3IqBsqmMEcsDxuSrwhgT_Ng=s64",
      "userId": "06438107502629971890"
     },
     "user_tz": -120
    },
    "id": "L4yMApfZDZWh",
    "outputId": "a516e9c4-31e6-4924-ebb7-d0551f0581bf"
   },
   "outputs": [],
   "source": [
    "RunJian_Sun_ELM('/content/drive/My Drive/Computer_vision_project/data/SNOW/WHARF.npz')"
   ]
  },
  {
   "cell_type": "code",
   "execution_count": null,
   "metadata": {
    "colab": {
     "base_uri": "https://localhost:8080/",
     "height": 1000
    },
    "colab_type": "code",
    "executionInfo": {
     "elapsed": 1156888,
     "status": "ok",
     "timestamp": 1584997292600,
     "user": {
      "displayName": "brain pinky",
      "photoUrl": "https://lh3.googleusercontent.com/a-/AOh14GjSJ-MfHyLlQ17ipaf3IqBsqmMEcsDxuSrwhgT_Ng=s64",
      "userId": "06438107502629971890"
     },
     "user_tz": -120
    },
    "id": "YFukZStQDZu3",
    "outputId": "c655a657-b58c-4627-cb73-e55aaef3c71a"
   },
   "outputs": [],
   "source": [
    "RunJian_Sun('/content/drive/My Drive/Computer_vision_project/data/LOTO/MHEALTH.npz')"
   ]
  },
  {
   "cell_type": "code",
   "execution_count": null,
   "metadata": {
    "colab": {
     "base_uri": "https://localhost:8080/",
     "height": 1000
    },
    "colab_type": "code",
    "executionInfo": {
     "elapsed": 2393554,
     "status": "ok",
     "timestamp": 1584998531046,
     "user": {
      "displayName": "brain pinky",
      "photoUrl": "https://lh3.googleusercontent.com/a-/AOh14GjSJ-MfHyLlQ17ipaf3IqBsqmMEcsDxuSrwhgT_Ng=s64",
      "userId": "06438107502629971890"
     },
     "user_tz": -120
    },
    "id": "OgVnVllzIO7m",
    "outputId": "ab639adc-ab9b-46bd-9905-1a353c51ed44"
   },
   "outputs": [],
   "source": [
    "RunJian_Sun('/content/drive/My Drive/Computer_vision_project/data/LOTO/UTD-MHAD1_1s.npz')"
   ]
  },
  {
   "cell_type": "code",
   "execution_count": null,
   "metadata": {
    "colab": {
     "base_uri": "https://localhost:8080/",
     "height": 1000
    },
    "colab_type": "code",
    "id": "429vpscVIPVw",
    "outputId": "84ac29ac-0c85-4d00-bd9a-99216117cc29"
   },
   "outputs": [],
   "source": [
    "RunJian_Sun('/content/drive/My Drive/Computer_vision_project/data/LOTO/UTD-MHAD2_1s.npz')"
   ]
  },
  {
   "cell_type": "code",
   "execution_count": null,
   "metadata": {
    "colab": {},
    "colab_type": "code",
    "id": "rcYluccEIPsG"
   },
   "outputs": [],
   "source": [
    "RunJian_Sun('/content/drive/My Drive/Computer_vision_project/data/LOTO/WHARF.npz')"
   ]
  }
 ],
 "metadata": {
  "accelerator": "GPU",
  "colab": {
   "authorship_tag": "ABX9TyPtlI6nVrHtvl7opvKMQ6EY",
   "collapsed_sections": [],
   "name": "Jian_Sun_et_al_2018.ipynb",
   "provenance": []
  },
  "kernelspec": {
   "display_name": "Python 3",
   "language": "python",
   "name": "python3"
  },
  "language_info": {
   "codemirror_mode": {
    "name": "ipython",
    "version": 3
   },
   "file_extension": ".py",
   "mimetype": "text/x-python",
   "name": "python",
   "nbconvert_exporter": "python",
   "pygments_lexer": "ipython3",
   "version": "3.7.6"
  }
 },
 "nbformat": 4,
 "nbformat_minor": 1
}
