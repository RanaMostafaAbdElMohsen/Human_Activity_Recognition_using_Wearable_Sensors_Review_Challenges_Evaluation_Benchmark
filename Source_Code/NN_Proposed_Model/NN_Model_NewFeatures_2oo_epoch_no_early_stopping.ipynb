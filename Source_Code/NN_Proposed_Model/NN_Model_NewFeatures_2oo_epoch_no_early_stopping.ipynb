{
 "cells": [
  {
   "cell_type": "code",
   "execution_count": null,
   "metadata": {
    "colab": {},
    "colab_type": "code",
    "id": "M5Og3H8FFILH"
   },
   "outputs": [],
   "source": [
    "!pip install scikit-learn\n",
    "!pip install numpy==1.16.1"
   ]
  },
  {
   "cell_type": "code",
   "execution_count": null,
   "metadata": {
    "colab": {
     "base_uri": "https://localhost:8080/",
     "height": 141
    },
    "colab_type": "code",
    "id": "0jmX2-KSEVJN",
    "outputId": "1ea67b43-1a06-4ca3-9b4d-fb4fe3113261"
   },
   "outputs": [],
   "source": [
    "from google.colab import drive\n",
    "drive.mount('/content/drive')\n",
    "import os\n",
    "os.chdir('/content/drive/')\n",
    "!ls\n",
    "os.chdir('My Drive/Computer_Vision_Masters/Wearable_Sensors_Code/')"
   ]
  },
  {
   "cell_type": "code",
   "execution_count": null,
   "metadata": {
    "colab": {
     "base_uri": "https://localhost:8080/",
     "height": 72
    },
    "colab_type": "code",
    "id": "duwI_DqZFW1l",
    "outputId": "9e7951be-1cb9-40aa-dc66-e995759f0d3e"
   },
   "outputs": [],
   "source": [
    "## Libraries\n",
    "import numpy as np\n",
    "from sklearn.ensemble import RandomForestClassifier, VotingClassifier\n",
    "from sklearn.metrics.classification import accuracy_score, recall_score, f1_score\n",
    "import scipy.stats as st\n",
    "import sys\n",
    "import warnings\n",
    "warnings.filterwarnings('ignore')\n",
    "np.random.seed(12227)"
   ]
  },
  {
   "cell_type": "code",
   "execution_count": null,
   "metadata": {
    "colab": {},
    "colab_type": "code",
    "id": "ssyUFG6j9hWV"
   },
   "outputs": [],
   "source": [
    "import scipy.stats as st\n",
    "from scipy.fftpack import fft, fftfreq \n",
    "from scipy.signal import argrelextrema\n",
    "import operator"
   ]
  },
  {
   "cell_type": "code",
   "execution_count": null,
   "metadata": {
    "colab": {},
    "colab_type": "code",
    "id": "KGmIj-IdGHjJ"
   },
   "outputs": [],
   "source": [
    "def DataPreparation(data_input_file):\n",
    "  print('Proposed Model {}'.format(data_input_file))\n",
    "  data = np.load(data_input_file)\n",
    "  X = data['X']\n",
    "  X = X[:, 0, :, :]\n",
    "  Y = data['y']\n",
    "  folds = data['folds']\n",
    "  classes_number = Y.shape[1]\n",
    "  print(classes_number)\n",
    "  Y = np.argmax(Y, axis=1)\n",
    "  return X,Y,folds,classes_number"
   ]
  },
  {
   "cell_type": "code",
   "execution_count": null,
   "metadata": {
    "colab": {},
    "colab_type": "code",
    "id": "la5tsBTD9ilT"
   },
   "outputs": [],
   "source": [
    "def mean_ts(sample, Te=1.0):\n",
    "  feat = []\n",
    "  for col in range(0,sample.shape[1]):\n",
    "    # print(sample[:,col].shape)\n",
    "    average = np.mean(sample[:,col])\n",
    "    feat.append(average)\n",
    "\n",
    "  return feat\n",
    "\n",
    "def max_ts(sample, Te=1.0):\n",
    "   \n",
    "  feat = []\n",
    "  for col in range(0,sample.shape[1]):\n",
    "      average = np.amax(sample[:,col])\n",
    "      feat.append(average)\n",
    "\n",
    "  return feat\n",
    "\n",
    "def min_ts(sample, Te=1.0): \n",
    "  feat = []\n",
    "  for col in range(0,sample.shape[1]):\n",
    "      average = np.amin(sample[:,col]) # min\n",
    "      feat.append(average)\n",
    "\n",
    "  return feat \n",
    "\n",
    "def skew_ts(sample, Te=1.0):    \n",
    "  feat = []\n",
    "  for col in range(0,sample.shape[1]):\n",
    "      average = st.skew(sample[:,col]) # skew\n",
    "      feat.append(average)\n",
    "\n",
    "  return feat\n",
    "\n",
    "def kurtosis_ts(sample, Te=1.0):  \n",
    "  feat = []\n",
    "  for col in range(0,sample.shape[1]):\n",
    "      average = st.kurtosis(sample[:,col]) # kurtosis \n",
    "      feat.append(average)\n",
    "\n",
    "  return feat\n",
    " \n",
    "def iqr_ts(sample, Te=1.0):  \n",
    "  feat = []\n",
    "  for col in range(0,sample.shape[1]):\n",
    "      average = st.iqr(sample[:,col]) # interquartile rante\n",
    "      feat.append(average)\n",
    "\n",
    "  return feat\n",
    "\n",
    "def mad_ts(sample, Te=1.0):  \n",
    "  feat = []\n",
    "  for col in range(0,sample.shape[1]):\n",
    "      average = np.median(np.sort(abs(sample[:,col] - np.median(sample[:,col]))))\n",
    "      feat.append(average)\n",
    "\n",
    "  return feat\n",
    "\n",
    "def area_ts(sample, Te=1.0):  \n",
    "  feat = []\n",
    "  for col in range(0,sample.shape[1]):\n",
    "      average = np.trapz(sample[:,col], dx=Te)\n",
    "      feat.append(average)\n",
    "\n",
    "  return feat                            \n",
    " \n",
    "\n",
    "def sq_area_ts(sample, Te=1.0):\n",
    "  feat = []\n",
    "  for col in range(0,sample.shape[1]):\n",
    "      average = np.trapz(sample[:,col] ** 2, dx=Te)\n",
    "      feat.append(average)\n",
    "\n",
    "  return feat\n",
    "def energy_measure(sample):\n",
    "  \"\"\"Calculates energy measures\"\"\"\n",
    "  feat = []\n",
    "  for col in range(0,sample.shape[1]):\n",
    "\n",
    "    em_x = np.mean(np.square(sample[:,col] ))\n",
    "    feat.append(em_x)\n",
    "  return feat  \n",
    "\n",
    "\n",
    "\n"
   ]
  },
  {
   "cell_type": "code",
   "execution_count": null,
   "metadata": {
    "colab": {},
    "colab_type": "code",
    "id": "33fAVNWs-x4x"
   },
   "outputs": [],
   "source": [
    "def stat_area_features(x, Te=1.0):\n",
    "\n",
    "    mean_ts = np.mean(x, axis=1).reshape(-1,1) # mean\n",
    "    max_ts = np.amax(x, axis=1).reshape(-1,1) # max\n",
    "    min_ts = np.amin(x, axis=1).reshape(-1,1) # min\n",
    "    std_ts = np.std(x, axis=1).reshape(-1,1) # std\n",
    "    skew_ts = st.skew(x, axis=1).reshape(-1,1) # skew\n",
    "    kurtosis_ts = st.kurtosis(x, axis=1).reshape(-1,1) # kurtosis \n",
    "    iqr_ts = st.iqr(x, axis=1).reshape(-1,1) # interquartile rante\n",
    "    mad_ts = np.median(np.sort(abs(x - np.median(x, axis=1).reshape(-1,1)),\n",
    "                               axis=1), axis=1).reshape(-1,1) # median absolute deviation\n",
    "    area_ts = np.trapz(x, axis=1, dx=Te).reshape(-1,1) # area under curve\n",
    "    sq_area_ts = np.trapz(x ** 2, axis=1, dx=Te).reshape(-1,1) # area under curve ** 2\n",
    "\n",
    "    return np.concatenate((mean_ts,max_ts,min_ts,std_ts,skew_ts,kurtosis_ts,\n",
    "                           iqr_ts,mad_ts,area_ts,sq_area_ts), axis=1)\n",
    "def frequency_domain_features(x, Te=1.0):\n",
    "  feat=[]\n",
    "\n",
    "  # As the DFT coefficients and their corresponding frequencies are symetrical arrays\n",
    "  # with respect to the middle of the array we need to know if the number of readings \n",
    "  # in x is even or odd to then split the arrays...\n",
    "  if x.shape[1]%2 == 0:\n",
    "      N = int(x.shape[1]/2)\n",
    "  else:\n",
    "      N = int(x.shape[1]/2) - 1\n",
    "  xf = np.repeat(fftfreq(x.shape[1],d=Te)[:N].reshape(1,-1), x.shape[0], axis=0) # frequencies\n",
    "  dft = np.abs(fft(x, axis=1))[:,:N] # DFT coefficients   \n",
    "  \n",
    "  # statistical and area features\n",
    "  # dft_features = stat_area_features(dft, Te=1.0)\n",
    "  # weighted mean frequency\n",
    "  dft_weighted_mean_f = np.average(xf, axis=1, weights=dft).reshape(-1,1)\n",
    "  # 5 first DFT coefficients \n",
    "  dft_first_coef = dft[:,:5]    \n",
    "  # 5 first local maxima of DFT coefficients and their corresponding frequencies\n",
    "  dft_max_coef = np.zeros((x.shape[0],5))\n",
    "  dft_max_coef_f = np.zeros((x.shape[0],5))\n",
    "  for row in range(x.shape[0]):\n",
    "      # finds all local maximas indexes\n",
    "      extrema_ind = argrelextrema(dft[row,:], np.greater, axis=0) \n",
    "      # makes a list of tuples (DFT_i, f_i) of all the local maxima\n",
    "      # and keeps the 5 biggest...\n",
    "      extrema_row = sorted([(dft[row,:][j],xf[row,j]) for j in extrema_ind[0]],\n",
    "                            key=operator.itemgetter(0), reverse=True)[:5] \n",
    "      for i, ext in enumerate(extrema_row):\n",
    "          dft_max_coef[row,i] = ext[0]\n",
    "          dft_max_coef_f[row,i] = ext[1]  \n",
    "\n",
    "  feat.append(np.concatenate((dft_weighted_mean_f,dft_first_coef, dft_max_coef,dft_max_coef_f), axis=1).tolist() )\n",
    "  # print(len(feat))\n",
    "  # print(feat)\n",
    "  return feat"
   ]
  },
  {
   "cell_type": "code",
   "execution_count": null,
   "metadata": {
    "colab": {},
    "colab_type": "code",
    "id": "wlENEKDc37f8"
   },
   "outputs": [],
   "source": [
    "def A(sample):\n",
    "    feat = []\n",
    "    for col in range(0,sample.shape[1]):\n",
    "        average = np.average(sample[:,col])\n",
    "        feat.append(average)\n",
    "\n",
    "    return feat\n",
    "\n",
    "def SD(sample):\n",
    "    feat = []\n",
    "    for col in range(0, sample.shape[1]):\n",
    "        std = np.std(sample[:, col])\n",
    "        feat.append(std)\n",
    "\n",
    "    return feat\n",
    "\n",
    "def AAD(sample):\n",
    "    feat = []\n",
    "    for col in range(0, sample.shape[1]):\n",
    "        data = sample[:, col]\n",
    "        add = np.mean(np.absolute(data - np.mean(data)))\n",
    "        feat.append(add)\n",
    "\n",
    "    return feat\n",
    "\n",
    "def ARA(sample):\n",
    "    #Average Resultant Acceleration[1]:\n",
    "    # Average of the square roots of the sum of the values of each axis squared √(xi^2 + yi^2+ zi^2) over the ED\n",
    "    feat = []\n",
    "    sum_square = 0\n",
    "    sample = np.power(sample, 2)\n",
    "    for col in range(0, sample.shape[1]):\n",
    "        sum_square = sum_square + sample[:, col]\n",
    "\n",
    "    sample = np.sqrt(sum_square)\n",
    "    average = np.average(sample)\n",
    "    feat.append(average)\n",
    "    return feat\n",
    "\n",
    "def TBP(sample):\n",
    "    from scipy import signal\n",
    "    feat = []\n",
    "    sum_of_time = 0\n",
    "    for col in range(0, sample.shape[1]):\n",
    "        data = sample[:, col]\n",
    "        peaks = signal.find_peaks_cwt(data, np.arange(1,4))\n",
    "\n",
    "        feat.append(peaks.tolist())\n",
    "\n",
    "    return feat"
   ]
  },
  {
   "cell_type": "code",
   "execution_count": null,
   "metadata": {
    "colab": {},
    "colab_type": "code",
    "id": "TizmsRLP3_Zr"
   },
   "outputs": [],
   "source": [
    "## Feature Extraction\n",
    "\n",
    "def feature_extraction(X):\n",
    "    # Extracts the features, as mentioned by Catal et al. 2015\n",
    "    # Average - A,\n",
    "    # Standard Deviation - SD,\n",
    "    # Average Absolute Difference - AAD,\n",
    "    # Average Resultant Acceleration - ARA(1),\n",
    "    # Time Between Peaks - TBP\n",
    "    X_tmp = []\n",
    "   \n",
    "    for sample in X:\n",
    "        features = A(sample)\n",
    "        features = np.hstack((features, A(sample)))\n",
    "        features = np.hstack((features, SD(sample)))\n",
    "        features = np.hstack((features, AAD(sample)))\n",
    "        features = np.hstack((features, ARA(sample)))\n",
    "        features = np.hstack((features, mean_ts(sample)))\n",
    "        features = np.hstack((features, max_ts(sample)))\n",
    "        features = np.hstack((features, min_ts(sample)))\n",
    "        features = np.hstack((features, kurtosis_ts(sample)))\n",
    "        features = np.hstack((features, iqr_ts(sample)))\n",
    "        features = np.hstack((features, skew_ts(sample)))\n",
    "        features = np.hstack((features, area_ts(sample)))\n",
    "        features = np.hstack((features, sq_area_ts(sample)))\n",
    "        features = np.hstack((features, mad_ts(sample)))\n",
    "        features = np.hstack((features, mean_ts(sample[:,1:]-sample[:,:-1],1)))\n",
    "        features = np.hstack((features, max_ts(sample[:,1:]-sample[:,:-1],1)))\n",
    "        features = np.hstack((features, min_ts(sample[:,1:]-sample[:,:-1],1)))\n",
    "        features = np.hstack((features, kurtosis_ts(sample[:,1:]-sample[:,:-1],1)))\n",
    "        features = np.hstack((features, iqr_ts(sample[:,1:]-sample[:,:-1],1)))\n",
    "        features = np.hstack((features, skew_ts(sample[:,1:]-sample[:,:-1],1)))\n",
    "        features = np.hstack((features, area_ts(sample[:,1:]-sample[:,:-1],1)))\n",
    "        features = np.hstack((features, sq_area_ts(sample[:,1:]-sample[:,:-1],1)))\n",
    "        features = np.hstack((features, mad_ts(sample[:,1:]-sample[:,:-1],1)))\n",
    "       \n",
    "        X_tmp.append(features)\n",
    "       \n",
    "    X = np.array(X_tmp)\n",
    "    \n",
    "    return X"
   ]
  },
  {
   "cell_type": "code",
   "execution_count": null,
   "metadata": {
    "colab": {
     "base_uri": "https://localhost:8080/",
     "height": 69
    },
    "colab_type": "code",
    "id": "HX-x9KLxKfzb",
    "outputId": "a0b7b012-6ed2-4f1b-df92-b3824d28a49f"
   },
   "outputs": [],
   "source": [
    "import tensorflow as tf\n",
    "print(tf.__version__)\n",
    "print(tf.test.gpu_device_name())\n",
    "print(\"Num GPUs Available: \", len(tf.config.experimental.list_physical_devices('GPU')))"
   ]
  },
  {
   "cell_type": "markdown",
   "metadata": {
    "colab_type": "text",
    "id": "UhCEiq-AvT8I"
   },
   "source": []
  },
  {
   "cell_type": "code",
   "execution_count": null,
   "metadata": {
    "colab": {},
    "colab_type": "code",
    "id": "6qd1sPMlvUdC"
   },
   "outputs": [],
   "source": [
    "def Model(num_classes):\n",
    "  layers = [\n",
    "           \n",
    "      tf.keras.layers.Dense(128, activation =tf.nn.leaky_relu),\n",
    "      tf.keras.layers.Dense(64, activation =tf.nn.leaky_relu),\n",
    "      tf.keras.layers.Dense(32, activation = tf.nn.leaky_relu),\n",
    "      tf.keras.layers.Dense(num_classes, activation = 'softmax')\n",
    "  ]\n",
    "  model = tf.keras.Sequential(layers)\n",
    "  return model"
   ]
  },
  {
   "cell_type": "code",
   "execution_count": null,
   "metadata": {
    "colab": {},
    "colab_type": "code",
    "id": "-cgdGhUMiqnT"
   },
   "outputs": [],
   "source": [
    "from sklearn.model_selection import KFold, StratifiedKFold\n",
    "from sklearn.model_selection import train_test_split\n"
   ]
  },
  {
   "cell_type": "code",
   "execution_count": null,
   "metadata": {
    "colab": {},
    "colab_type": "code",
    "id": "z8GsEozpQ9qx"
   },
   "outputs": [],
   "source": [
    "from tensorflow.keras.callbacks import EarlyStopping\n",
    "def TrainAndReportAccuracy(X,Y,folds,num_classes):\n",
    "  avg_acc = []\n",
    "  X_train, X_test, y_train, y_test=train_test_split( X, Y, test_size=0.33, random_state=42)\n",
    "  X_train = feature_extraction(X_train)\n",
    "  X_test = feature_extraction(X_test)\n",
    "  from sklearn.preprocessing import StandardScaler\n",
    "  from sklearn.decomposition import PCA\n",
    "\n",
    "\n",
    "  scaler = StandardScaler()\n",
    "  scaler.fit(X_train)\n",
    "  X_train = scaler.transform(X_train)\n",
    "  X_test = scaler.transform(X_test)\n",
    "  pca = PCA(.95)\n",
    "  pca.fit(X_train)\n",
    "  X_train = pca.transform(X_train)\n",
    "  X_test = pca.transform(X_test)\n",
    "  print(X_train.shape, y_train.shape)\n",
    "  print(X_test.shape,y_test.shape)\n",
    "  print(X_train.shape)\n",
    "\n",
    "  model = Model(num_classes)\n",
    "  model.compile(optimizer='adam',\n",
    "                loss='sparse_categorical_crossentropy',\n",
    "                metrics=[tf.keras.metrics.sparse_categorical_accuracy])\n",
    "  history = model.fit(X_train, y_train, batch_size=64, epochs=200)\n",
    "  _,acc=model.evaluate(X_test,y_test)\n",
    "  avg_acc.append(acc)\n",
    "  print('________________________________________________________________')\n",
    "  print('Mean Accuracy[{:.4f}] '.format(np.mean(avg_acc)))\n",
    "  "
   ]
  },
  {
   "cell_type": "code",
   "execution_count": null,
   "metadata": {
    "colab": {},
    "colab_type": "code",
    "id": "CgNRi6boUtMo"
   },
   "outputs": [],
   "source": [
    "def Run(data_input_file):\n",
    "  X,Y,folds,num_classes=DataPreparation(data_input_file)\n",
    "  TrainAndReportAccuracy(X,Y,folds,num_classes)"
   ]
  },
  {
   "cell_type": "code",
   "execution_count": null,
   "metadata": {
    "colab": {},
    "colab_type": "code",
    "id": "1n_DWbcb5eQo"
   },
   "outputs": [],
   "source": [
    "def OpportunityDataSetAnalysis():\n",
    "  X_train=np.load('data/Opportunity/Opportunity_train_X.npz')['arr_0']\n",
    "  X_test=np.load('data/Opportunity/Opportunity_test_X.npz')['arr_0']\n",
    "  Y_train=np.load('data/Opportunity/Opportunity_train_y.npz')['arr_0']\n",
    "  Y_test=np.load('data/Opportunity/Opportunity_test_Y.npz')['arr_0']\n",
    "  classes_number = Y_train.shape[1]\n",
    "  Y_train = np.argmax(Y_train, axis=1)\n",
    "  Y_test = np.argmax(Y_test, axis=1)\n",
    "  return X_train,Y_train,X_test,Y_test,classes_number"
   ]
  },
  {
   "cell_type": "code",
   "execution_count": null,
   "metadata": {
    "colab": {},
    "colab_type": "code",
    "id": "2U8ep-oI5hty"
   },
   "outputs": [],
   "source": [
    "def TrainAndReportAccuracyOpportunity(X_train,Y_train,X_test,Y_test,num_classes):\n",
    "  avg_acc = []\n",
    "  from sklearn.preprocessing import StandardScaler\n",
    "  from sklearn.decomposition import PCA\n",
    "\n",
    "\n",
    "  scaler = StandardScaler()\n",
    "  scaler.fit(X_train)\n",
    "  X_train = scaler.transform(X_train)\n",
    "  X_test = scaler.transform(X_test)\n",
    "  pca = PCA(.95)\n",
    "  pca.fit(X_train)\n",
    "  X_train = pca.transform(X_train)\n",
    "  X_test = pca.transform(X_test)\n",
    "  print(X_train.shape, Y_train.shape)\n",
    "  print(X_test.shape,Y_test.shape)\n",
    "  print(X_train.shape)\n",
    "\n",
    "  model = Model(num_classes)\n",
    "  model.compile(optimizer='adam',\n",
    "                loss='sparse_categorical_crossentropy',\n",
    "                metrics=[tf.keras.metrics.sparse_categorical_accuracy])\n",
    "  history = model.fit(X_train, Y_train, batch_size=32, epochs=200)\n",
    "  _,acc=model.evaluate(X_test,Y_test)\n",
    "  avg_acc.append(acc)\n",
    "  print('________________________________________________________________')\n",
    "  print('Mean Accuracy[{:.4f}] '.format(np.mean(avg_acc)))"
   ]
  },
  {
   "cell_type": "code",
   "execution_count": null,
   "metadata": {
    "colab": {},
    "colab_type": "code",
    "id": "C54ot7gn5rPV"
   },
   "outputs": [],
   "source": [
    "X_train,Y_train,X_test,Y_test,num_classes=OpportunityDataSetAnalysis()"
   ]
  },
  {
   "cell_type": "code",
   "execution_count": null,
   "metadata": {
    "colab": {},
    "colab_type": "code",
    "id": "lxucmAyOOtXJ"
   },
   "outputs": [],
   "source": [
    "X_train = feature_extraction(X_train)\n",
    "X_test = feature_extraction(X_test)"
   ]
  },
  {
   "cell_type": "code",
   "execution_count": null,
   "metadata": {
    "colab": {
     "base_uri": "https://localhost:8080/",
     "height": 1000
    },
    "colab_type": "code",
    "id": "ilv4gPQo5s41",
    "outputId": "094aa3a7-8e28-4601-e87d-9dafb8ac765f"
   },
   "outputs": [],
   "source": [
    "TrainAndReportAccuracyOpportunity(X_train,Y_train,X_test,Y_test,num_classes)"
   ]
  },
  {
   "cell_type": "code",
   "execution_count": null,
   "metadata": {
    "colab": {
     "base_uri": "https://localhost:8080/",
     "height": 1000
    },
    "colab_type": "code",
    "id": "QK5o5qA3WEP3",
    "outputId": "bd94d69f-91e5-4cc8-97cd-a9fe377df83b"
   },
   "outputs": [],
   "source": [
    "Run('data/LOSO/MHEALTH.npz')"
   ]
  },
  {
   "cell_type": "code",
   "execution_count": null,
   "metadata": {
    "colab": {
     "base_uri": "https://localhost:8080/",
     "height": 1000
    },
    "colab_type": "code",
    "id": "kZRPRu7LXdxQ",
    "outputId": "c4b40368-b0e8-4c4e-8e52-ab4cc3a9f0b6"
   },
   "outputs": [],
   "source": [
    "Run('data/LOTO/MHEALTH.npz')"
   ]
  },
  {
   "cell_type": "code",
   "execution_count": null,
   "metadata": {
    "colab": {
     "base_uri": "https://localhost:8080/",
     "height": 1000
    },
    "colab_type": "code",
    "id": "DF7Gw6X3ZYEz",
    "outputId": "8cbe6b0f-8961-4c3b-f363-7b6e6b46b212"
   },
   "outputs": [],
   "source": [
    "Run('data/FNOW/MHEALTH.npz')"
   ]
  },
  {
   "cell_type": "code",
   "execution_count": null,
   "metadata": {
    "colab": {
     "base_uri": "https://localhost:8080/",
     "height": 1000
    },
    "colab_type": "code",
    "id": "-jS08uVoaYFU",
    "outputId": "5dbc0a49-5b52-41dc-c545-a84dea967fc3"
   },
   "outputs": [],
   "source": [
    "Run('data/SNOW/MHEALTH.npz')"
   ]
  },
  {
   "cell_type": "code",
   "execution_count": null,
   "metadata": {
    "colab": {
     "base_uri": "https://localhost:8080/",
     "height": 1000
    },
    "colab_type": "code",
    "id": "DLc8wEseKfWh",
    "outputId": "b237cbed-1e31-46ad-97ba-650b77861348"
   },
   "outputs": [],
   "source": [
    "Run('data/LOTO/USCHAD.npz')"
   ]
  },
  {
   "cell_type": "code",
   "execution_count": null,
   "metadata": {
    "colab": {
     "base_uri": "https://localhost:8080/",
     "height": 1000
    },
    "colab_type": "code",
    "id": "AVrFVj--nRXr",
    "outputId": "f5784ecd-b992-46ad-928f-e34335a5a260"
   },
   "outputs": [],
   "source": [
    "Run('data/LOSO/USCHAD.npz')"
   ]
  },
  {
   "cell_type": "code",
   "execution_count": null,
   "metadata": {
    "colab": {
     "base_uri": "https://localhost:8080/",
     "height": 1000
    },
    "colab_type": "code",
    "id": "5Q-H_iBlNF6n",
    "outputId": "2cfa1563-fb19-4251-fa7d-43cf30d7bf5c"
   },
   "outputs": [],
   "source": [
    "Run('data/FNOW/USCHAD.npz')"
   ]
  },
  {
   "cell_type": "code",
   "execution_count": null,
   "metadata": {
    "colab": {
     "base_uri": "https://localhost:8080/",
     "height": 1000
    },
    "colab_type": "code",
    "id": "vFxK51tluys1",
    "outputId": "d570c007-e670-4f02-b7fa-f628e4cdcee9"
   },
   "outputs": [],
   "source": [
    "Run('data/SNOW/USCHAD.npz')"
   ]
  },
  {
   "cell_type": "code",
   "execution_count": null,
   "metadata": {
    "colab": {
     "base_uri": "https://localhost:8080/",
     "height": 1000
    },
    "colab_type": "code",
    "id": "WrJV9jkKbw0L",
    "outputId": "4163efae-d580-40da-c1eb-10c1cca367a8"
   },
   "outputs": [],
   "source": [
    "Run('data/LOTO/WHARF.npz')"
   ]
  },
  {
   "cell_type": "code",
   "execution_count": null,
   "metadata": {
    "colab": {
     "base_uri": "https://localhost:8080/",
     "height": 1000
    },
    "colab_type": "code",
    "id": "iDEEwtrt1l_5",
    "outputId": "94b63e72-1dbf-4b14-81a9-74d3775462fa"
   },
   "outputs": [],
   "source": [
    "Run('data/LOSO/WHARF.npz')"
   ]
  },
  {
   "cell_type": "code",
   "execution_count": null,
   "metadata": {
    "colab": {
     "base_uri": "https://localhost:8080/",
     "height": 1000
    },
    "colab_type": "code",
    "id": "9l2hJgLF36oz",
    "outputId": "0f5da89c-4f1a-437d-f17d-de29993ff05b"
   },
   "outputs": [],
   "source": [
    "Run('data/SNOW/WHARF.npz')"
   ]
  },
  {
   "cell_type": "code",
   "execution_count": null,
   "metadata": {
    "colab": {
     "base_uri": "https://localhost:8080/",
     "height": 1000
    },
    "colab_type": "code",
    "id": "tvFosOnw4cRW",
    "outputId": "374be3a2-47de-40b1-bf6a-bcb3ed7ef0ce"
   },
   "outputs": [],
   "source": [
    "Run('data/FNOW/WHARF.npz')"
   ]
  },
  {
   "cell_type": "code",
   "execution_count": null,
   "metadata": {
    "colab": {
     "base_uri": "https://localhost:8080/",
     "height": 1000
    },
    "colab_type": "code",
    "id": "l3Djyhij411d",
    "outputId": "5286b33f-ef04-43b6-fc8d-cfc80904fe59"
   },
   "outputs": [],
   "source": [
    "Run('data/LOTO/WISDM.npz')"
   ]
  },
  {
   "cell_type": "code",
   "execution_count": null,
   "metadata": {
    "colab": {
     "base_uri": "https://localhost:8080/",
     "height": 1000
    },
    "colab_type": "code",
    "id": "sKDBnSeV80RW",
    "outputId": "b7883e7e-aff1-4c8e-e805-d8a33b5bd731"
   },
   "outputs": [],
   "source": [
    "Run('data/LOSO/WISDM.npz')"
   ]
  },
  {
   "cell_type": "code",
   "execution_count": null,
   "metadata": {
    "colab": {
     "base_uri": "https://localhost:8080/",
     "height": 1000
    },
    "colab_type": "code",
    "id": "ODtQ1mXpAaG5",
    "outputId": "ccd1a212-06d3-42b1-a878-aa4c9ccee562"
   },
   "outputs": [],
   "source": [
    "Run('data/SNOW/WISDM.npz')"
   ]
  },
  {
   "cell_type": "code",
   "execution_count": null,
   "metadata": {
    "colab": {
     "base_uri": "https://localhost:8080/",
     "height": 1000
    },
    "colab_type": "code",
    "id": "A3Spv5vJAbtg",
    "outputId": "8bbd87e9-ccfb-4a3e-9aef-b7944d6172e5"
   },
   "outputs": [],
   "source": [
    "Run('data/FNOW/WISDM.npz')"
   ]
  },
  {
   "cell_type": "code",
   "execution_count": null,
   "metadata": {
    "colab": {
     "base_uri": "https://localhost:8080/",
     "height": 1000
    },
    "colab_type": "code",
    "id": "_ix10GZtJGCh",
    "outputId": "38cff600-d436-4e2f-9c53-178195ceb3bb"
   },
   "outputs": [],
   "source": [
    "Run('data/LOTO/UTD-MHAD2_1s.npz')"
   ]
  },
  {
   "cell_type": "code",
   "execution_count": null,
   "metadata": {
    "colab": {
     "base_uri": "https://localhost:8080/",
     "height": 1000
    },
    "colab_type": "code",
    "id": "GiHqQI7BJN0R",
    "outputId": "135df5b7-92b5-43c4-929f-bd587dc30813"
   },
   "outputs": [],
   "source": [
    "Run('data/LOSO/UTD-MHAD2_1s.npz')"
   ]
  },
  {
   "cell_type": "code",
   "execution_count": null,
   "metadata": {
    "colab": {
     "base_uri": "https://localhost:8080/",
     "height": 1000
    },
    "colab_type": "code",
    "id": "_6Hn72mrJP9j",
    "outputId": "d1626c02-0233-45da-b657-3cd848578c02"
   },
   "outputs": [],
   "source": [
    "Run('data/FNOW/UTD-MHAD2_1s.npz')"
   ]
  },
  {
   "cell_type": "code",
   "execution_count": null,
   "metadata": {
    "colab": {
     "base_uri": "https://localhost:8080/",
     "height": 1000
    },
    "colab_type": "code",
    "id": "44qVfo0aJSsV",
    "outputId": "465850aa-93e5-4205-bd8b-8e06ef247362"
   },
   "outputs": [],
   "source": [
    "Run('data/SNOW/UTD-MHAD2_1s.npz')"
   ]
  },
  {
   "cell_type": "code",
   "execution_count": null,
   "metadata": {
    "colab": {
     "base_uri": "https://localhost:8080/",
     "height": 1000
    },
    "colab_type": "code",
    "id": "wmAnYm4jJXAT",
    "outputId": "11759ebd-4987-4b56-89f0-b6cf3b78abb8"
   },
   "outputs": [],
   "source": [
    "Run('data/LOTO/UTD-MHAD1_1s.npz')"
   ]
  },
  {
   "cell_type": "code",
   "execution_count": null,
   "metadata": {
    "colab": {
     "base_uri": "https://localhost:8080/",
     "height": 1000
    },
    "colab_type": "code",
    "id": "Q8rF6zb1JYum",
    "outputId": "6ed1003e-9795-419e-d21a-29aee03f7df5"
   },
   "outputs": [],
   "source": [
    "Run('data/LOSO/UTD-MHAD1_1s.npz')"
   ]
  },
  {
   "cell_type": "code",
   "execution_count": null,
   "metadata": {
    "colab": {
     "base_uri": "https://localhost:8080/",
     "height": 1000
    },
    "colab_type": "code",
    "id": "IzrlvM0-JbZb",
    "outputId": "8d114d36-5661-4a87-9298-339897d4a978"
   },
   "outputs": [],
   "source": [
    "Run('data/SNOW/UTD-MHAD1_1s.npz')"
   ]
  },
  {
   "cell_type": "code",
   "execution_count": null,
   "metadata": {
    "colab": {
     "base_uri": "https://localhost:8080/",
     "height": 1000
    },
    "colab_type": "code",
    "id": "5LAVu3VHJeYK",
    "outputId": "16adf44b-2b8f-419a-a0b1-2217cbef8106"
   },
   "outputs": [],
   "source": [
    "Run('data/FNOW/UTD-MHAD1_1s.npz')"
   ]
  }
 ],
 "metadata": {
  "accelerator": "GPU",
  "colab": {
   "collapsed_sections": [],
   "name": "NN_Model_NewFeatures_2oo_epoch_no_early_stopping.ipynb",
   "provenance": []
  },
  "kernelspec": {
   "display_name": "Python 3",
   "language": "python",
   "name": "python3"
  },
  "language_info": {
   "codemirror_mode": {
    "name": "ipython",
    "version": 3
   },
   "file_extension": ".py",
   "mimetype": "text/x-python",
   "name": "python",
   "nbconvert_exporter": "python",
   "pygments_lexer": "ipython3",
   "version": "3.7.6"
  }
 },
 "nbformat": 4,
 "nbformat_minor": 1
}
