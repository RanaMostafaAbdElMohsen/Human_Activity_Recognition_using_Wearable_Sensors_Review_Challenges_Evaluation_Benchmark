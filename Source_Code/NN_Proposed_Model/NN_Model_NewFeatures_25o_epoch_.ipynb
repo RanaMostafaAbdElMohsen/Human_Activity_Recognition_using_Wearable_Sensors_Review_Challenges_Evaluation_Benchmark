{
 "cells": [
  {
   "cell_type": "code",
   "execution_count": null,
   "metadata": {
    "colab": {},
    "colab_type": "code",
    "id": "M5Og3H8FFILH"
   },
   "outputs": [],
   "source": [
    "!pip install scikit-learn\n",
    "!pip install numpy==1.16.1"
   ]
  },
  {
   "cell_type": "code",
   "execution_count": null,
   "metadata": {
    "colab": {
     "base_uri": "https://localhost:8080/",
     "height": 141
    },
    "colab_type": "code",
    "id": "0jmX2-KSEVJN",
    "outputId": "05f33c13-7cba-401c-8127-b5ba72a39438"
   },
   "outputs": [],
   "source": [
    "from google.colab import drive\n",
    "drive.mount('/content/drive')\n",
    "import os\n",
    "os.chdir('/content/drive/')\n",
    "!ls\n",
    "os.chdir('My Drive/Computer_Vision_Masters/Wearable_Sensors_Code/')"
   ]
  },
  {
   "cell_type": "code",
   "execution_count": null,
   "metadata": {
    "colab": {},
    "colab_type": "code",
    "id": "duwI_DqZFW1l"
   },
   "outputs": [],
   "source": [
    "## Libraries\n",
    "import numpy as np\n",
    "from sklearn.ensemble import RandomForestClassifier, VotingClassifier\n",
    "from sklearn.metrics.classification import accuracy_score, recall_score, f1_score\n",
    "import scipy.stats as st\n",
    "import sys\n",
    "import warnings\n",
    "warnings.filterwarnings('ignore')\n",
    "np.random.seed(12227)"
   ]
  },
  {
   "cell_type": "code",
   "execution_count": null,
   "metadata": {
    "colab": {},
    "colab_type": "code",
    "id": "ssyUFG6j9hWV"
   },
   "outputs": [],
   "source": [
    "import scipy.stats as st\n",
    "from scipy.fftpack import fft, fftfreq \n",
    "from scipy.signal import argrelextrema\n",
    "import operator"
   ]
  },
  {
   "cell_type": "code",
   "execution_count": null,
   "metadata": {
    "colab": {},
    "colab_type": "code",
    "id": "KGmIj-IdGHjJ"
   },
   "outputs": [],
   "source": [
    "def DataPreparation(data_input_file):\n",
    "  print('Proposed Model {}'.format(data_input_file))\n",
    "  data = np.load(data_input_file)\n",
    "  X = data['X']\n",
    "  X = X[:, 0, :, :]\n",
    "  Y = data['y']\n",
    "  folds = data['folds']\n",
    "  classes_number = Y.shape[1]\n",
    "  print(classes_number)\n",
    "  Y = np.argmax(Y, axis=1)\n",
    "  return X,Y,folds,classes_number"
   ]
  },
  {
   "cell_type": "code",
   "execution_count": null,
   "metadata": {
    "colab": {},
    "colab_type": "code",
    "id": "la5tsBTD9ilT"
   },
   "outputs": [],
   "source": [
    "def mean_ts(sample, Te=1.0):\n",
    "  feat = []\n",
    "  for col in range(0,sample.shape[1]):\n",
    "    average = np.mean(sample[:,col])\n",
    "    feat.append(average)\n",
    "\n",
    "  return feat\n",
    "\n",
    "def max_ts(sample, Te=1.0):\n",
    "   \n",
    "  feat = []\n",
    "  for col in range(0,sample.shape[1]):\n",
    "      average = np.amax(sample[:,col])\n",
    "      feat.append(average)\n",
    "\n",
    "  return feat\n",
    "\n",
    "def min_ts(sample, Te=1.0): \n",
    "  feat = []\n",
    "  for col in range(0,sample.shape[1]):\n",
    "      average = np.amin(sample[:,col]) # min\n",
    "      feat.append(average)\n",
    "\n",
    "  return feat \n",
    "\n",
    "def skew_ts(sample, Te=1.0):    \n",
    "  feat = []\n",
    "  for col in range(0,sample.shape[1]):\n",
    "      average = st.skew(sample[:,col]) # skew\n",
    "      feat.append(average)\n",
    "\n",
    "  return feat\n",
    "\n",
    "def kurtosis_ts(sample, Te=1.0):  \n",
    "  feat = []\n",
    "  for col in range(0,sample.shape[1]):\n",
    "      average = st.kurtosis(sample[:,col]) # kurtosis \n",
    "      feat.append(average)\n",
    "\n",
    "  return feat\n",
    " \n",
    "def iqr_ts(sample, Te=1.0):  \n",
    "  feat = []\n",
    "  for col in range(0,sample.shape[1]):\n",
    "      average = st.iqr(sample[:,col]) # interquartile rante\n",
    "      feat.append(average)\n",
    "\n",
    "  return feat\n",
    "\n",
    "def mad_ts(sample, Te=1.0):  \n",
    "  feat = []\n",
    "  for col in range(0,sample.shape[1]):\n",
    "      average = np.median(np.sort(abs(sample[:,col] - np.median(sample[:,col]))))\n",
    "      feat.append(average)\n",
    "\n",
    "  return feat\n",
    "\n",
    "def area_ts(sample, Te=1.0):  \n",
    "  feat = []\n",
    "  for col in range(0,sample.shape[1]):\n",
    "      average = np.trapz(sample[:,col], dx=Te)\n",
    "      feat.append(average)\n",
    "\n",
    "  return feat                            \n",
    " \n",
    "\n",
    "def sq_area_ts(sample, Te=1.0):\n",
    "  feat = []\n",
    "  for col in range(0,sample.shape[1]):\n",
    "      average = np.trapz(sample[:,col] ** 2, dx=Te)\n",
    "      feat.append(average)\n",
    "\n",
    "  return feat\n",
    "def energy_measure(sample):\n",
    "  \"\"\"Calculates energy measures\"\"\"\n",
    "  feat = []\n",
    "  for col in range(0,sample.shape[1]):\n",
    "\n",
    "    em_x = np.mean(np.square(sample[:,col] ))\n",
    "    feat.append(em_x)\n",
    "  return feat  \n",
    "\n",
    "\n",
    "\n"
   ]
  },
  {
   "cell_type": "code",
   "execution_count": null,
   "metadata": {
    "colab": {},
    "colab_type": "code",
    "id": "33fAVNWs-x4x"
   },
   "outputs": [],
   "source": [
    "def stat_area_features(x, Te=1.0):\n",
    "\n",
    "    mean_ts = np.mean(x, axis=1).reshape(-1,1) # mean\n",
    "    max_ts = np.amax(x, axis=1).reshape(-1,1) # max\n",
    "    min_ts = np.amin(x, axis=1).reshape(-1,1) # min\n",
    "    std_ts = np.std(x, axis=1).reshape(-1,1) # std\n",
    "    skew_ts = st.skew(x, axis=1).reshape(-1,1) # skew\n",
    "    kurtosis_ts = st.kurtosis(x, axis=1).reshape(-1,1) # kurtosis \n",
    "    iqr_ts = st.iqr(x, axis=1).reshape(-1,1) # interquartile rante\n",
    "    mad_ts = np.median(np.sort(abs(x - np.median(x, axis=1).reshape(-1,1)),\n",
    "                               axis=1), axis=1).reshape(-1,1) # median absolute deviation\n",
    "    area_ts = np.trapz(x, axis=1, dx=Te).reshape(-1,1) # area under curve\n",
    "    sq_area_ts = np.trapz(x ** 2, axis=1, dx=Te).reshape(-1,1) # area under curve ** 2\n",
    "\n",
    "    return np.concatenate((mean_ts,max_ts,min_ts,std_ts,skew_ts,kurtosis_ts,\n",
    "                           iqr_ts,mad_ts,area_ts,sq_area_ts), axis=1)\n",
    "def frequency_domain_features(x, Te=1.0):\n",
    "  feat=[]\n",
    "\n",
    "  # As the DFT coefficients and their corresponding frequencies are symetrical arrays\n",
    "  # with respect to the middle of the array we need to know if the number of readings \n",
    "  # in x is even or odd to then split the arrays...\n",
    "  if x.shape[1]%2 == 0:\n",
    "      N = int(x.shape[1]/2)\n",
    "  else:\n",
    "      N = int(x.shape[1]/2) - 1\n",
    "  xf = np.repeat(fftfreq(x.shape[1],d=Te)[:N].reshape(1,-1), x.shape[0], axis=0) # frequencies\n",
    "  dft = np.abs(fft(x, axis=1))[:,:N] # DFT coefficients   \n",
    "  \n",
    "  # statistical and area features\n",
    "  # dft_features = stat_area_features(dft, Te=1.0)\n",
    "  # weighted mean frequency\n",
    "  dft_weighted_mean_f = np.average(xf, axis=1, weights=dft).reshape(-1,1)\n",
    "  # 5 first DFT coefficients \n",
    "  dft_first_coef = dft[:,:5]    \n",
    "  # 5 first local maxima of DFT coefficients and their corresponding frequencies\n",
    "  dft_max_coef = np.zeros((x.shape[0],5))\n",
    "  dft_max_coef_f = np.zeros((x.shape[0],5))\n",
    "  for row in range(x.shape[0]):\n",
    "      # finds all local maximas indexes\n",
    "      extrema_ind = argrelextrema(dft[row,:], np.greater, axis=0) \n",
    "      # makes a list of tuples (DFT_i, f_i) of all the local maxima\n",
    "      # and keeps the 5 biggest...\n",
    "      extrema_row = sorted([(dft[row,:][j],xf[row,j]) for j in extrema_ind[0]],\n",
    "                            key=operator.itemgetter(0), reverse=True)[:5] \n",
    "      for i, ext in enumerate(extrema_row):\n",
    "          dft_max_coef[row,i] = ext[0]\n",
    "          dft_max_coef_f[row,i] = ext[1]  \n",
    "\n",
    "  feat.append(np.concatenate((dft_weighted_mean_f,dft_first_coef, dft_max_coef,dft_max_coef_f), axis=1).tolist() )\n",
    "  # print(len(feat))\n",
    "  # print(feat)\n",
    "  return feat"
   ]
  },
  {
   "cell_type": "code",
   "execution_count": null,
   "metadata": {
    "colab": {},
    "colab_type": "code",
    "id": "wlENEKDc37f8"
   },
   "outputs": [],
   "source": [
    "def A(sample):\n",
    "    feat = []\n",
    "    for col in range(0,sample.shape[1]):\n",
    "        average = np.average(sample[:,col])\n",
    "        feat.append(average)\n",
    "\n",
    "    return feat\n",
    "\n",
    "def SD(sample):\n",
    "    feat = []\n",
    "    for col in range(0, sample.shape[1]):\n",
    "        std = np.std(sample[:, col])\n",
    "        feat.append(std)\n",
    "\n",
    "    return feat\n",
    "\n",
    "def AAD(sample):\n",
    "    feat = []\n",
    "    for col in range(0, sample.shape[1]):\n",
    "        data = sample[:, col]\n",
    "        add = np.mean(np.absolute(data - np.mean(data)))\n",
    "        feat.append(add)\n",
    "\n",
    "    return feat\n",
    "\n",
    "def ARA(sample):\n",
    "    #Average Resultant Acceleration[1]:\n",
    "    # Average of the square roots of the sum of the values of each axis squared √(xi^2 + yi^2+ zi^2) over the ED\n",
    "    feat = []\n",
    "    sum_square = 0\n",
    "    sample = np.power(sample, 2)\n",
    "    for col in range(0, sample.shape[1]):\n",
    "        sum_square = sum_square + sample[:, col]\n",
    "\n",
    "    sample = np.sqrt(sum_square)\n",
    "    average = np.average(sample)\n",
    "    feat.append(average)\n",
    "    return feat\n",
    "\n",
    "def TBP(sample):\n",
    "    from scipy import signal\n",
    "    feat = []\n",
    "    sum_of_time = 0\n",
    "    for col in range(0, sample.shape[1]):\n",
    "        data = sample[:, col]\n",
    "        peaks = signal.find_peaks_cwt(data, np.arange(1,4))\n",
    "\n",
    "        feat.append(peaks.tolist())\n",
    "\n",
    "    return feat"
   ]
  },
  {
   "cell_type": "code",
   "execution_count": null,
   "metadata": {
    "colab": {},
    "colab_type": "code",
    "id": "TizmsRLP3_Zr"
   },
   "outputs": [],
   "source": [
    "## Feature Extraction\n",
    "\n",
    "def feature_extraction(X):\n",
    "    # Extracts the features, as mentioned by Catal et al. 2015\n",
    "    # Average - A,\n",
    "    # Standard Deviation - SD,\n",
    "    # Average Absolute Difference - AAD,\n",
    "    # Average Resultant Acceleration - ARA(1),\n",
    "    # Time Between Peaks - TBP\n",
    "    X_tmp = []\n",
    "    \n",
    "    for sample in X:\n",
    "        features = A(sample)\n",
    "        features = np.hstack((features, A(sample)))\n",
    "        features = np.hstack((features, SD(sample)))\n",
    "        features = np.hstack((features, AAD(sample)))\n",
    "        features = np.hstack((features, ARA(sample)))\n",
    "        features = np.hstack((features, mean_ts(sample)))\n",
    "        features = np.hstack((features, max_ts(sample)))\n",
    "        features = np.hstack((features, min_ts(sample)))\n",
    "        features = np.hstack((features, kurtosis_ts(sample)))\n",
    "        features = np.hstack((features, iqr_ts(sample)))\n",
    "        features = np.hstack((features, skew_ts(sample)))\n",
    "        features = np.hstack((features, area_ts(sample)))\n",
    "        features = np.hstack((features, sq_area_ts(sample)))\n",
    "        features = np.hstack((features, mad_ts(sample)))\n",
    "        features = np.hstack((features, mean_ts(sample[:,1:]-sample[:,:-1],1)))\n",
    "        features = np.hstack((features, max_ts(sample[:,1:]-sample[:,:-1],1)))\n",
    "        features = np.hstack((features, min_ts(sample[:,1:]-sample[:,:-1],1)))\n",
    "        features = np.hstack((features, kurtosis_ts(sample[:,1:]-sample[:,:-1],1)))\n",
    "        features = np.hstack((features, iqr_ts(sample[:,1:]-sample[:,:-1],1)))\n",
    "        features = np.hstack((features, skew_ts(sample[:,1:]-sample[:,:-1],1)))\n",
    "        features = np.hstack((features, area_ts(sample[:,1:]-sample[:,:-1],1)))\n",
    "        features = np.hstack((features, sq_area_ts(sample[:,1:]-sample[:,:-1],1)))\n",
    "        features = np.hstack((features, mad_ts(sample[:,1:]-sample[:,:-1],1)))\n",
    "       \n",
    "        X_tmp.append(features)\n",
    "       \n",
    "    X = np.array(X_tmp)\n",
    "    \n",
    "    return X"
   ]
  },
  {
   "cell_type": "code",
   "execution_count": null,
   "metadata": {
    "colab": {
     "base_uri": "https://localhost:8080/",
     "height": 69
    },
    "colab_type": "code",
    "id": "HX-x9KLxKfzb",
    "outputId": "e7fc4fe9-7e3a-4f74-cba4-b3ea62e6da2c"
   },
   "outputs": [],
   "source": [
    "import tensorflow as tf\n",
    "print(tf.__version__)\n",
    "print(tf.test.gpu_device_name())\n",
    "print(\"Num GPUs Available: \", len(tf.config.experimental.list_physical_devices('GPU')))"
   ]
  },
  {
   "cell_type": "code",
   "execution_count": null,
   "metadata": {
    "colab": {},
    "colab_type": "code",
    "id": "6qd1sPMlvUdC"
   },
   "outputs": [],
   "source": [
    "def Model(num_classes):\n",
    "  layers = [\n",
    "            \n",
    "\n",
    "      tf.keras.layers.Dense(128, activation =tf.nn.leaky_relu),\n",
    "     \n",
    "      tf.keras.layers.Dense(64, activation =tf.nn.leaky_relu),\n",
    "      \n",
    "      tf.keras.layers.Dense(32, activation = tf.nn.leaky_relu),\n",
    "     \n",
    "      tf.keras.layers.Dense(num_classes, activation = 'softmax')\n",
    "  ]\n",
    "  model = tf.keras.Sequential(layers)\n",
    "  return model"
   ]
  },
  {
   "cell_type": "code",
   "execution_count": null,
   "metadata": {
    "colab": {},
    "colab_type": "code",
    "id": "-cgdGhUMiqnT"
   },
   "outputs": [],
   "source": [
    "from sklearn.model_selection import KFold, StratifiedKFold\n",
    "from sklearn.model_selection import train_test_split\n"
   ]
  },
  {
   "cell_type": "code",
   "execution_count": null,
   "metadata": {
    "colab": {},
    "colab_type": "code",
    "id": "z8GsEozpQ9qx"
   },
   "outputs": [],
   "source": [
    "from tensorflow.keras.callbacks import EarlyStopping\n",
    "def TrainAndReportAccuracy(X,Y,folds,num_classes):\n",
    "  avg_acc = []\n",
    "  X_train, X_test, y_train, y_test=train_test_split( X, Y, test_size=0.33, random_state=42)\n",
    "  X_train = feature_extraction(X_train)\n",
    "  X_test = feature_extraction(X_test)\n",
    " \n",
    "  from sklearn.preprocessing import StandardScaler\n",
    "  from sklearn.decomposition import PCA\n",
    " \n",
    "\n",
    "\n",
    "  scaler = StandardScaler()\n",
    "  scaler.fit(X_train)\n",
    "  X_train = scaler.transform(X_train)\n",
    "  X_test = scaler.transform(X_test)\n",
    "  pca = PCA(.95)\n",
    "  pca.fit(X_train)\n",
    "  X_train = pca.transform(X_train)\n",
    "  X_test = pca.transform(X_test)\n",
    " \n",
    "\n",
    "  model = Model(num_classes)\n",
    "  es = EarlyStopping(monitor='sparse_categorical_accuracy', mode='max', verbose=1, patience=100)\n",
    "  \n",
    "\n",
    "  model.compile(optimizer='adam',\n",
    "                loss='sparse_categorical_crossentropy',\n",
    "                metrics=[tf.keras.metrics.sparse_categorical_accuracy])\n",
    "  history = model.fit(X_train, y_train, batch_size=64, epochs=250)\n",
    "  _,acc=model.evaluate(X_test,y_test)\n",
    "  avg_acc.append(acc)\n",
    "  print('________________________________________________________________')\n",
    "  print('Mean Accuracy[{:.4f}] '.format(np.mean(avg_acc)))\n",
    "  "
   ]
  },
  {
   "cell_type": "code",
   "execution_count": null,
   "metadata": {
    "colab": {},
    "colab_type": "code",
    "id": "CgNRi6boUtMo"
   },
   "outputs": [],
   "source": [
    "def Run(data_input_file):\n",
    "  X,Y,folds,num_classes=DataPreparation(data_input_file)\n",
    "  TrainAndReportAccuracy(X,Y,folds,num_classes)"
   ]
  },
  {
   "cell_type": "code",
   "execution_count": null,
   "metadata": {
    "colab": {},
    "colab_type": "code",
    "id": "7ro044sP3GkA"
   },
   "outputs": [],
   "source": [
    "def TrainAndReportAccuracyOpportunity(X_train,Y_train,X_test,Y_test,num_classes):\n",
    "  avg_acc = []\n",
    "  from sklearn.preprocessing import StandardScaler\n",
    "  from sklearn.decomposition import PCA\n",
    "\n",
    "\n",
    "  scaler = StandardScaler()\n",
    "  scaler.fit(X_train)\n",
    "  X_train = scaler.transform(X_train)\n",
    "  X_test = scaler.transform(X_test)\n",
    "  pca = PCA(.95)\n",
    "  pca.fit(X_train)\n",
    "  X_train = pca.transform(X_train)\n",
    "  X_test = pca.transform(X_test)\n",
    "  print(X_train.shape, Y_train.shape)\n",
    "  print(X_test.shape,Y_test.shape)\n",
    "\n",
    "  model = Model(num_classes)\n",
    "  model.compile(optimizer='adam',\n",
    "                loss='sparse_categorical_crossentropy',\n",
    "                metrics=[tf.keras.metrics.sparse_categorical_accuracy])\n",
    "  history = model.fit(X_train, Y_train, batch_size=32, epochs=250)\n",
    "  _,acc=model.evaluate(X_test,Y_test)\n",
    "  avg_acc.append(acc)\n",
    "  print('________________________________________________________________')\n",
    "  print('Mean Accuracy[{:.4f}] '.format(np.mean(avg_acc)))"
   ]
  },
  {
   "cell_type": "code",
   "execution_count": null,
   "metadata": {
    "colab": {},
    "colab_type": "code",
    "id": "DOfocptW3xrJ"
   },
   "outputs": [],
   "source": [
    "def OpportunityDataSetAnalysis():\n",
    "  X_train=np.load('data/Opportunity/Opportunity_train_X.npz')['arr_0']\n",
    "  X_test=np.load('data/Opportunity/Opportunity_test_X.npz')['arr_0']\n",
    "  Y_train=np.load('data/Opportunity/Opportunity_train_y.npz')['arr_0']\n",
    "  Y_test=np.load('data/Opportunity/Opportunity_test_Y.npz')['arr_0']\n",
    "  classes_number = Y_train.shape[1]\n",
    "  Y_train = np.argmax(Y_train, axis=1)\n",
    "  Y_test = np.argmax(Y_test, axis=1)\n",
    "  return X_train,Y_train,X_test,Y_test,classes_number"
   ]
  },
  {
   "cell_type": "code",
   "execution_count": null,
   "metadata": {
    "colab": {},
    "colab_type": "code",
    "id": "7xxJ35AU31xp"
   },
   "outputs": [],
   "source": [
    "X_train,Y_train,X_test,Y_test,num_classes=OpportunityDataSetAnalysis()\n",
    "  "
   ]
  },
  {
   "cell_type": "code",
   "execution_count": null,
   "metadata": {
    "colab": {},
    "colab_type": "code",
    "id": "rmpBB2g4TJXw"
   },
   "outputs": [],
   "source": [
    "X_train = feature_extraction(X_train)\n",
    "X_test = feature_extraction(X_test)"
   ]
  },
  {
   "cell_type": "code",
   "execution_count": null,
   "metadata": {
    "colab": {
     "base_uri": "https://localhost:8080/",
     "height": 1000
    },
    "colab_type": "code",
    "id": "KBLLzMd5THbC",
    "outputId": "67c42c93-4b37-4d95-9f1e-8f6b5431393c"
   },
   "outputs": [],
   "source": [
    "TrainAndReportAccuracyOpportunity(X_train,Y_train,X_test,Y_test,num_classes)"
   ]
  },
  {
   "cell_type": "code",
   "execution_count": null,
   "metadata": {
    "colab": {
     "base_uri": "https://localhost:8080/",
     "height": 1000
    },
    "colab_type": "code",
    "id": "2nSt8DZZ33Og",
    "outputId": "b8360be7-b799-441b-d97f-dafbb328513b"
   },
   "outputs": [],
   "source": [
    "RunOpportunity()"
   ]
  },
  {
   "cell_type": "code",
   "execution_count": null,
   "metadata": {
    "colab": {
     "base_uri": "https://localhost:8080/",
     "height": 1000
    },
    "colab_type": "code",
    "id": "QK5o5qA3WEP3",
    "outputId": "2bcb93dc-86f7-46af-80e9-7979cbf2e7ef"
   },
   "outputs": [],
   "source": [
    "Run('data/LOSO/MHEALTH.npz')"
   ]
  },
  {
   "cell_type": "code",
   "execution_count": null,
   "metadata": {
    "colab": {
     "base_uri": "https://localhost:8080/",
     "height": 1000
    },
    "colab_type": "code",
    "id": "kZRPRu7LXdxQ",
    "outputId": "0f216ffc-2936-4dc0-bc9b-88b1f9244d73"
   },
   "outputs": [],
   "source": [
    "Run('data/LOTO/MHEALTH.npz')"
   ]
  },
  {
   "cell_type": "code",
   "execution_count": null,
   "metadata": {
    "colab": {
     "base_uri": "https://localhost:8080/",
     "height": 1000
    },
    "colab_type": "code",
    "id": "DF7Gw6X3ZYEz",
    "outputId": "579d9de1-4e7d-420b-97b9-d47c3546ca76"
   },
   "outputs": [],
   "source": [
    "Run('data/FNOW/MHEALTH.npz')"
   ]
  },
  {
   "cell_type": "code",
   "execution_count": null,
   "metadata": {
    "colab": {
     "base_uri": "https://localhost:8080/",
     "height": 1000
    },
    "colab_type": "code",
    "id": "-jS08uVoaYFU",
    "outputId": "a07e75ec-cadf-4d76-f46c-8dc66b12254e"
   },
   "outputs": [],
   "source": [
    "Run('data/SNOW/MHEALTH.npz')"
   ]
  },
  {
   "cell_type": "code",
   "execution_count": null,
   "metadata": {
    "colab": {
     "base_uri": "https://localhost:8080/",
     "height": 1000
    },
    "colab_type": "code",
    "id": "DLc8wEseKfWh",
    "outputId": "a81199f3-074e-4f31-9136-92cdf9b7cddc"
   },
   "outputs": [],
   "source": [
    "Run('data/LOTO/USCHAD.npz')"
   ]
  },
  {
   "cell_type": "code",
   "execution_count": null,
   "metadata": {
    "colab": {
     "base_uri": "https://localhost:8080/",
     "height": 1000
    },
    "colab_type": "code",
    "id": "AVrFVj--nRXr",
    "outputId": "562d5d93-8cfe-4c54-cac0-1db2351fc6fc"
   },
   "outputs": [],
   "source": [
    "Run('data/LOSO/USCHAD.npz')"
   ]
  },
  {
   "cell_type": "code",
   "execution_count": null,
   "metadata": {
    "colab": {
     "base_uri": "https://localhost:8080/",
     "height": 1000
    },
    "colab_type": "code",
    "id": "5Q-H_iBlNF6n",
    "outputId": "926eb842-e60d-49a1-c7fb-75d7e67f24d8"
   },
   "outputs": [],
   "source": [
    "Run('data/FNOW/USCHAD.npz')"
   ]
  },
  {
   "cell_type": "code",
   "execution_count": null,
   "metadata": {
    "colab": {
     "base_uri": "https://localhost:8080/",
     "height": 1000
    },
    "colab_type": "code",
    "id": "vFxK51tluys1",
    "outputId": "3b0f5df1-16d1-43c0-971b-497f7471ec2a"
   },
   "outputs": [],
   "source": [
    "Run('data/SNOW/USCHAD.npz')"
   ]
  },
  {
   "cell_type": "code",
   "execution_count": null,
   "metadata": {
    "colab": {
     "base_uri": "https://localhost:8080/",
     "height": 1000
    },
    "colab_type": "code",
    "id": "WrJV9jkKbw0L",
    "outputId": "5014e2da-d3d4-4eb1-d55d-c65e92712f70"
   },
   "outputs": [],
   "source": [
    "Run('data/LOTO/WHARF.npz')"
   ]
  },
  {
   "cell_type": "code",
   "execution_count": null,
   "metadata": {
    "colab": {
     "base_uri": "https://localhost:8080/",
     "height": 1000
    },
    "colab_type": "code",
    "id": "iDEEwtrt1l_5",
    "outputId": "a01675e8-1634-47a5-fca0-27d1d77cebd6"
   },
   "outputs": [],
   "source": [
    "Run('data/LOSO/WHARF.npz')"
   ]
  },
  {
   "cell_type": "code",
   "execution_count": null,
   "metadata": {
    "colab": {
     "base_uri": "https://localhost:8080/",
     "height": 1000
    },
    "colab_type": "code",
    "id": "9l2hJgLF36oz",
    "outputId": "d9cc2007-3953-4c71-ce87-613078836b21"
   },
   "outputs": [],
   "source": [
    "Run('data/SNOW/WHARF.npz')"
   ]
  },
  {
   "cell_type": "code",
   "execution_count": null,
   "metadata": {
    "colab": {
     "base_uri": "https://localhost:8080/",
     "height": 1000
    },
    "colab_type": "code",
    "id": "tvFosOnw4cRW",
    "outputId": "e0c37a0e-36bd-43da-beae-14896895beaf"
   },
   "outputs": [],
   "source": [
    "Run('data/FNOW/WHARF.npz')"
   ]
  },
  {
   "cell_type": "code",
   "execution_count": null,
   "metadata": {
    "colab": {
     "base_uri": "https://localhost:8080/",
     "height": 1000
    },
    "colab_type": "code",
    "id": "l3Djyhij411d",
    "outputId": "ca0d0b28-82be-45c0-c740-6c837b956339"
   },
   "outputs": [],
   "source": [
    "Run('data/LOTO/WISDM.npz')"
   ]
  },
  {
   "cell_type": "code",
   "execution_count": null,
   "metadata": {
    "colab": {
     "base_uri": "https://localhost:8080/",
     "height": 1000
    },
    "colab_type": "code",
    "id": "sKDBnSeV80RW",
    "outputId": "297f3dd2-216b-4681-d695-5d1ad334b729"
   },
   "outputs": [],
   "source": [
    "Run('data/LOSO/WISDM.npz')"
   ]
  },
  {
   "cell_type": "code",
   "execution_count": null,
   "metadata": {
    "colab": {
     "base_uri": "https://localhost:8080/",
     "height": 1000
    },
    "colab_type": "code",
    "id": "ODtQ1mXpAaG5",
    "outputId": "6bca8bbb-0633-44fe-f9c8-cd1aaa0a07f3"
   },
   "outputs": [],
   "source": [
    "Run('data/SNOW/WISDM.npz')"
   ]
  },
  {
   "cell_type": "code",
   "execution_count": null,
   "metadata": {
    "colab": {
     "base_uri": "https://localhost:8080/",
     "height": 1000
    },
    "colab_type": "code",
    "id": "A3Spv5vJAbtg",
    "outputId": "c6d6271e-a8c9-4c45-cfa4-73aa134a0b8f"
   },
   "outputs": [],
   "source": [
    "Run('data/FNOW/WISDM.npz')"
   ]
  },
  {
   "cell_type": "code",
   "execution_count": null,
   "metadata": {
    "colab": {
     "base_uri": "https://localhost:8080/",
     "height": 1000
    },
    "colab_type": "code",
    "id": "_ix10GZtJGCh",
    "outputId": "a17543f6-3d86-4368-c0b8-50db3a565263"
   },
   "outputs": [],
   "source": [
    "Run('data/LOTO/UTD-MHAD2_1s.npz')"
   ]
  },
  {
   "cell_type": "code",
   "execution_count": null,
   "metadata": {
    "colab": {
     "base_uri": "https://localhost:8080/",
     "height": 1000
    },
    "colab_type": "code",
    "id": "GiHqQI7BJN0R",
    "outputId": "b724a716-8dc5-4971-f3ed-8939843b54e7"
   },
   "outputs": [],
   "source": [
    "Run('data/LOSO/UTD-MHAD2_1s.npz')"
   ]
  },
  {
   "cell_type": "code",
   "execution_count": null,
   "metadata": {
    "colab": {
     "base_uri": "https://localhost:8080/",
     "height": 1000
    },
    "colab_type": "code",
    "id": "_6Hn72mrJP9j",
    "outputId": "8a353268-fac6-418e-a74e-7ea52e46b590"
   },
   "outputs": [],
   "source": [
    "Run('data/FNOW/UTD-MHAD2_1s.npz')"
   ]
  },
  {
   "cell_type": "code",
   "execution_count": null,
   "metadata": {
    "colab": {
     "base_uri": "https://localhost:8080/",
     "height": 1000
    },
    "colab_type": "code",
    "id": "44qVfo0aJSsV",
    "outputId": "bd8f4cc6-90ed-4bd0-aaa2-03b655b90c5a"
   },
   "outputs": [],
   "source": [
    "Run('data/SNOW/UTD-MHAD2_1s.npz')"
   ]
  },
  {
   "cell_type": "code",
   "execution_count": null,
   "metadata": {
    "colab": {
     "base_uri": "https://localhost:8080/",
     "height": 1000
    },
    "colab_type": "code",
    "id": "wmAnYm4jJXAT",
    "outputId": "d66d4bd3-4537-4997-cae6-557bb9d806d7"
   },
   "outputs": [],
   "source": [
    "Run('data/LOTO/UTD-MHAD1_1s.npz')"
   ]
  },
  {
   "cell_type": "code",
   "execution_count": null,
   "metadata": {
    "colab": {
     "base_uri": "https://localhost:8080/",
     "height": 1000
    },
    "colab_type": "code",
    "id": "Q8rF6zb1JYum",
    "outputId": "ef157c25-c8b4-4450-9f3d-5ff84640007f"
   },
   "outputs": [],
   "source": [
    "Run('data/LOSO/UTD-MHAD1_1s.npz')"
   ]
  },
  {
   "cell_type": "code",
   "execution_count": null,
   "metadata": {
    "colab": {
     "base_uri": "https://localhost:8080/",
     "height": 1000
    },
    "colab_type": "code",
    "id": "IzrlvM0-JbZb",
    "outputId": "29725889-73fe-4cb9-afc0-e205f31b8d57"
   },
   "outputs": [],
   "source": [
    "Run('data/SNOW/UTD-MHAD1_1s.npz')"
   ]
  },
  {
   "cell_type": "code",
   "execution_count": null,
   "metadata": {
    "colab": {
     "base_uri": "https://localhost:8080/",
     "height": 1000
    },
    "colab_type": "code",
    "id": "5LAVu3VHJeYK",
    "outputId": "2e612874-edc5-4fd3-b081-9873d37838dc"
   },
   "outputs": [],
   "source": [
    "Run('data/FNOW/UTD-MHAD1_1s.npz')"
   ]
  }
 ],
 "metadata": {
  "accelerator": "GPU",
  "colab": {
   "collapsed_sections": [],
   "name": "NN_Model_NewFeatures_25o_epoch_.ipynb",
   "provenance": []
  },
  "kernelspec": {
   "display_name": "Python 3",
   "language": "python",
   "name": "python3"
  },
  "language_info": {
   "codemirror_mode": {
    "name": "ipython",
    "version": 3
   },
   "file_extension": ".py",
   "mimetype": "text/x-python",
   "name": "python",
   "nbconvert_exporter": "python",
   "pygments_lexer": "ipython3",
   "version": "3.7.6"
  }
 },
 "nbformat": 4,
 "nbformat_minor": 1
}
