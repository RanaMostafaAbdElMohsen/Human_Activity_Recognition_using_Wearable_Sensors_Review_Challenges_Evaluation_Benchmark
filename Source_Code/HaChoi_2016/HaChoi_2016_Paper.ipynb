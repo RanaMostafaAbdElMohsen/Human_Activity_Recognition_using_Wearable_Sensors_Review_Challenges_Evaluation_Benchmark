{
 "cells": [
  {
   "cell_type": "code",
   "execution_count": null,
   "metadata": {
    "colab": {},
    "colab_type": "code",
    "id": "ma0B8-JvDUAR"
   },
   "outputs": [],
   "source": [
    "36## Ha Choi 2016 Paper\n",
    "## Doi : 10.1109/IJCNN.2016.7727224"
   ]
  },
  {
   "cell_type": "code",
   "execution_count": null,
   "metadata": {
    "colab": {},
    "colab_type": "code",
    "id": "x0i_S4fSHNlV"
   },
   "outputs": [],
   "source": [
    "##Libraries\n",
    "import sys\n",
    "import numpy as np\n",
    "import random\n",
    "from sklearn.ensemble import RandomForestClassifier, VotingClassifier\n",
    "from sklearn.metrics.classification import accuracy_score, recall_score, f1_score\n",
    "import scipy.stats as st\n",
    "\n",
    "from keras.layers import Input, Dense, Dropout, Conv2D, Flatten, MaxPooling2D, Activation, concatenate, merge\n",
    "from keras.callbacks import ReduceLROnPlateau, EarlyStopping, Callback\n",
    "from keras.models import Model\n",
    "from keras import backend as K\n",
    "K.set_image_data_format('channels_first')\n",
    "import warnings\n",
    "warnings.filterwarnings('ignore')"
   ]
  },
  {
   "cell_type": "code",
   "execution_count": null,
   "metadata": {
    "colab": {},
    "colab_type": "code",
    "id": "MyMm9X7Vieu4"
   },
   "outputs": [],
   "source": [
    "!pip install tensorflow==1.5"
   ]
  },
  {
   "cell_type": "code",
   "execution_count": null,
   "metadata": {
    "colab": {},
    "colab_type": "code",
    "id": "uIM8m6yfIqRd"
   },
   "outputs": [],
   "source": [
    "!pip install numpy==1.16.1\n",
    "!pip install keras==2.1.2"
   ]
  },
  {
   "cell_type": "code",
   "execution_count": null,
   "metadata": {
    "colab": {
     "base_uri": "https://localhost:8080/",
     "height": 124
    },
    "colab_type": "code",
    "id": "ziG0oowHIRtz",
    "outputId": "1abeaa2d-7d98-488b-a2b0-a506440e8e3d"
   },
   "outputs": [],
   "source": [
    "from google.colab import drive\n",
    "drive.mount('/content/drive')"
   ]
  },
  {
   "cell_type": "code",
   "execution_count": null,
   "metadata": {
    "colab": {
     "base_uri": "https://localhost:8080/",
     "height": 34
    },
    "colab_type": "code",
    "id": "gT_QEBACIUDB",
    "outputId": "6f0fa278-b5ba-4fd8-c35a-2652be6b9690"
   },
   "outputs": [],
   "source": [
    "import os\n",
    "os.chdir(\"/content/drive/\")\n",
    "!ls"
   ]
  },
  {
   "cell_type": "code",
   "execution_count": null,
   "metadata": {
    "colab": {},
    "colab_type": "code",
    "id": "Gtqu-f8JIWZ1"
   },
   "outputs": [],
   "source": [
    "import os\n",
    "os.chdir(\"My Drive/Computer_Vision_Masters/Wearable_Sensors_Code/\")"
   ]
  },
  {
   "cell_type": "code",
   "execution_count": null,
   "metadata": {
    "colab": {},
    "colab_type": "code",
    "id": "1-_A0DPqHz8K"
   },
   "outputs": [],
   "source": [
    "def custom_model(X, idx_modalities, n_classes):\n",
    "    img_cols1 = idx_modalities[0]\n",
    "    img_cols2 = idx_modalities[1] - idx_modalities[0]\n",
    "    img_cols3 = idx_modalities[2] - idx_modalities[1]\n",
    "    img_cols4 = X.shape[3] - idx_modalities[2]\n",
    "\n",
    "    _, _, img_rows, img_cols = X.shape\n",
    "    inp_modality1 = Input((1, img_rows, img_cols1))\n",
    "    inp_modality2 = Input((1, img_rows, img_cols2))\n",
    "    inp_modality3 = Input((1, img_rows, img_cols3))\n",
    "    inp_modality4 = Input((1, img_rows, img_cols4))\n",
    "\n",
    "    H1 = Conv2D(filters=5, kernel_size=(5, 5))(inp_modality1)\n",
    "    H1 = Activation('relu')(H1)\n",
    "    H1 = MaxPooling2D(pool_size=(4, 4))(H1)\n",
    "\n",
    "    H2 = Conv2D(filters=5, kernel_size=(5, 5))(inp_modality2)\n",
    "    H2 = Activation('relu')(H2)\n",
    "    H2 = MaxPooling2D(pool_size=(4, 4))(H2)\n",
    "\n",
    "    H3 = Conv2D(filters=5, kernel_size=(5, 5))(inp_modality3)\n",
    "    H3 = Activation('relu')(H3)\n",
    "    H3 = MaxPooling2D(pool_size=(4, 4))(H3)\n",
    "\n",
    "    # H4 = Conv2D(filters=5, kernel_size=(5, 3))(inp_modality4)#For PAMAP\n",
    "    H4 = Conv2D(filters=5, kernel_size=(5, 2))(inp_modality4)  # For MEHEALTH\n",
    "    H4 = Activation('relu')(H4)\n",
    "    H4 = MaxPooling2D(pool_size=(4, 1))(H4)\n",
    "\n",
    "    shape_1 = int(H2.shape[1].value)\n",
    "    shape_2 = int(H2.shape[2].value)\n",
    "    shape_3 = int(H2.shape[3].value)\n",
    "    inp_zeros = Input((shape_1, shape_2, shape_3))  # Here is the features map shape\n",
    "\n",
    "    H = concatenate([H1, inp_zeros, H2, inp_zeros, H3, inp_zeros, H4], axis=3)\n",
    "\n",
    "    H = Conv2D(filters=10, kernel_size=(5, 5))(H)\n",
    "    H = Activation('relu')(H)\n",
    "    H = MaxPooling2D(pool_size=(2, 2))(H)\n",
    "\n",
    "    H = Flatten()(H)\n",
    "    H = Dense(120)(H)\n",
    "    H = Activation('relu')(H)\n",
    "\n",
    "    H = Dense(n_classes)(H)\n",
    "    H = Activation('softmax')(H)\n",
    "\n",
    "    model = Model([inp_modality1, inp_modality2, inp_modality3, inp_modality4, inp_zeros], H)\n",
    "\n",
    "    return model, (shape_1, shape_2, shape_3)"
   ]
  },
  {
   "cell_type": "code",
   "execution_count": null,
   "metadata": {
    "colab": {},
    "colab_type": "code",
    "id": "Tb_3xdyEH501"
   },
   "outputs": [],
   "source": [
    "def zero_padding_MHEALTH(X):\n",
    "    # Groups the heterogenous sensors for MHEALTH\n",
    "    idx_modalities = []\n",
    "    idx_acc = [0, 1, 2, 5, 6, 7, 14, 15, 16]\n",
    "    idx_gyro = [8, 9, 10, 17, 18, 19]\n",
    "    idx_mag = [11, 12, 13, 20, 21, 22]\n",
    "    idx_ele = [3, 4]\n",
    "    X_acc = X[:, :, :, idx_acc]\n",
    "    X_gyro = X[:, :, :, idx_gyro]\n",
    "    X_mag = X[:, :, :, idx_mag]\n",
    "    X_ele = X[:, :, :, idx_ele]\n",
    "    X_zeros = np.zeros((X.shape[0], X.shape[1], X.shape[2], 2))  # Vertical Kernel-1 = 2\n",
    "\n",
    "    X = X_acc\n",
    "    X = np.concatenate((X, X_zeros), axis=3)\n",
    "    idx_modalities.append(X.shape[3])\n",
    "\n",
    "    X = np.concatenate((X, X_gyro), axis=3)\n",
    "    X = np.concatenate((X, X_zeros),axis=3)\n",
    "    idx_modalities.append(X.shape[3])\n",
    "\n",
    "    X = np.concatenate((X, X_mag),axis=3)\n",
    "    X = np.concatenate((X, X_zeros),axis=3)\n",
    "    idx_modalities.append(X.shape[3])\n",
    "    X = np.concatenate((X, X_ele),axis=3)\n",
    "\n",
    "    return X, idx_modalities\n"
   ]
  },
  {
   "cell_type": "code",
   "execution_count": null,
   "metadata": {
    "colab": {},
    "colab_type": "code",
    "id": "T6LxK13QH_go"
   },
   "outputs": [],
   "source": [
    "def split_X(X, idx_modalities, zeros):\n",
    "    X_tmp = []\n",
    "    X_tmp.append(X[:, :, :, 0:idx_modalities[0]])\n",
    "    X_tmp.append(X[:, :, :, idx_modalities[0]:idx_modalities[1]])\n",
    "    X_tmp.append(X[:, :, :, idx_modalities[1]:idx_modalities[2]])\n",
    "    X_tmp.append(X[:, :, :, idx_modalities[2]:X.shape[3]])\n",
    "    X_tmp.append(zeros)\n",
    "    return X_tmp"
   ]
  },
  {
   "cell_type": "code",
   "execution_count": null,
   "metadata": {
    "colab": {},
    "colab_type": "code",
    "id": "HHJ-NT1EJkOj"
   },
   "outputs": [],
   "source": [
    "def custom_stopping(value=0.5, verbose=0):\n",
    "    early = EarlyStoppingByLossVal(monitor='val_loss', value=value, verbose=verbose)\n",
    "    return early\n",
    "\n",
    "class EarlyStoppingByLossVal(Callback):\n",
    "    def __init__(self, monitor='val_acc', value=0.95, verbose=0):\n",
    "        super(Callback, self).__init__()\n",
    "        self.monitor = monitor\n",
    "        self.value = value\n",
    "        self.verbose = verbose\n",
    "\n",
    "    def on_epoch_end(self, epoch, logs={}):\n",
    "        current = logs.get(self.monitor)\n",
    "        # if current is None:\n",
    "        # warnings.warn(\"Early stopping requires %s available!\" % self.monitor, RuntimeWarning)\n",
    "\n",
    "        if current < self.value:\n",
    "            if self.verbose > 0:\n",
    "                print(\"Epoch %05d: early stopping THR\" % epoch)\n",
    "            self.model.stop_training = True"
   ]
  },
  {
   "cell_type": "code",
   "execution_count": null,
   "metadata": {
    "colab": {},
    "colab_type": "code",
    "id": "rQxQC9JSIBH0"
   },
   "outputs": [],
   "source": [
    "def DataPreparation(data_input_file):\n",
    "  np.random.seed(12227)\n",
    "\n",
    "  tmp = np.load(data_input_file)\n",
    "  X = tmp['X']\n",
    "  y = tmp['y']\n",
    "  folds = tmp['folds']\n",
    "\n",
    "  n_class = y.shape[1]\n",
    "\n",
    "  X, idx_modalities = zero_padding_MHEALTH(X)\n",
    "\n",
    "  _, _, img_rows, img_cols = X.shape\n",
    "  return X, y, folds, idx_modalities,n_class"
   ]
  },
  {
   "cell_type": "code",
   "execution_count": null,
   "metadata": {
    "colab": {},
    "colab_type": "code",
    "id": "GqJa3JcrINzT"
   },
   "outputs": [],
   "source": [
    "def TrainAndReportAccuracies(X,y,folds,idx_modalities,n_class):\n",
    "  avg_acc = []\n",
    "  avg_recall = []\n",
    "  avg_f1 = []\n",
    "  for i in range(0, len(folds)):\n",
    "      train_idx = folds[i][0]\n",
    "      test_idx = folds[i][1]\n",
    "\n",
    "      X_train = X[train_idx]\n",
    "      X_test = X[test_idx]\n",
    "\n",
    "      model, inp_zeros = custom_model(X, idx_modalities, n_classes=n_class)\n",
    "\n",
    "      zeros_mat = np.zeros((X_train.shape[0], inp_zeros[0], inp_zeros[1], inp_zeros[2]))\n",
    "      model.compile(loss='categorical_crossentropy', metrics=['accuracy'], optimizer='Adadelta')\n",
    "\n",
    "      X_train = split_X(X_train, idx_modalities, zeros_mat)\n",
    "      print(\"Start Training\")\n",
    "      model.fit(X_train, y[train_idx], batch_size=100, epochs=60,\n",
    "                verbose=1, callbacks=[custom_stopping(value=0.2, verbose=1)], validation_data=(X_train, y[train_idx]))\n",
    "\n",
    "      X_test = split_X(X_test, idx_modalities, zeros_mat)\n",
    "\n",
    "      y_pred = model.predict(X_test)\n",
    "      y_pred = np.argmax(y_pred, axis=1)\n",
    "\n",
    "      y_true = np.argmax(y[test_idx], axis=1)\n",
    "\n",
    "      acc_fold = accuracy_score(y_true, y_pred)\n",
    "      avg_acc.append(acc_fold)\n",
    "\n",
    "      recall_fold = recall_score(y_true, y_pred, average='macro')\n",
    "      avg_recall.append(recall_fold)\n",
    "\n",
    "      f1_fold = f1_score(y_true, y_pred, average='macro')\n",
    "      avg_f1.append(f1_fold)\n",
    "\n",
    "      print('Accuracy[{:.4f}] Recall[{:.4f}] F1[{:.4f}] at fold[{}]'.format(acc_fold, recall_fold, f1_fold, i))\n",
    "      print('______________________________________________________')\n",
    "      del model\n",
    "  ic_acc = st.t.interval(0.9, len(avg_acc) - 1, loc=np.mean(avg_acc), scale=st.sem(avg_acc))\n",
    "  ic_recall = st.t.interval(0.9, len(avg_recall) - 1, loc=np.mean(avg_recall), scale=st.sem(avg_recall))\n",
    "  ic_f1 = st.t.interval(0.9, len(avg_f1) - 1, loc=np.mean(avg_f1), scale=st.sem(avg_f1))\n",
    "  print('Mean Accuracy[{:.4f}] IC [{:.4f}, {:.4f}]'.format(np.mean(avg_acc), ic_acc[0], ic_acc[1]))\n",
    "  print('Mean Recall[{:.4f}] IC [{:.4f}, {:.4f}]'.format(np.mean(avg_recall), ic_recall[0], ic_recall[1]))\n",
    "  print('Mean F1[{:.4f}] IC [{:.4f}, {:.4f}]'.format(np.mean(avg_f1), ic_f1[0], ic_f1[1]))"
   ]
  },
  {
   "cell_type": "code",
   "execution_count": null,
   "metadata": {
    "colab": {},
    "colab_type": "code",
    "id": "HmuDoc-zPZSv"
   },
   "outputs": [],
   "source": [
    "def Run(data_input_file):\n",
    "  X, y, folds, idx_modalities,n_class= DataPreparation(data_input_file)\n",
    "  TrainAndReportAccuracies(X,y,folds,idx_modalities,n_class)"
   ]
  },
  {
   "cell_type": "code",
   "execution_count": null,
   "metadata": {
    "colab": {},
    "colab_type": "code",
    "id": "LkwqOpe_0nOu"
   },
   "outputs": [],
   "source": [
    "def WisdomDataPreparation(data_input_file):\n",
    "    np.random.seed(12227)\n",
    "\n",
    "    tmp = np.load(data_input_file)\n",
    "    X = tmp['X']\n",
    "    y = tmp['y']\n",
    "    folds = tmp['folds']\n",
    "\n",
    "    n_class = y.shape[1]\n",
    "    print(n_class)\n",
    "    print(X.shape)\n",
    "    print(y.shape)\n",
    "    X=np.pad(X, ((0,0),(0,0), (150,0), (26, 0)), 'constant')\n",
    "    print(X.shape)\n",
    "    train_idx = folds[0][0]\n",
    "    test_idx = folds[0][1]\n",
    "\n",
    "    X_train = X[train_idx]\n",
    "    X_test = X[test_idx]\n",
    "    print(X_train.shape)\n",
    "    print(X_test.shape)\n",
    "    idx_modalities=[11,19,27]\n",
    "    print(idx_modalities)\n",
    "    return X,y,folds,idx_modalities,n_class"
   ]
  },
  {
   "cell_type": "code",
   "execution_count": null,
   "metadata": {
    "colab": {},
    "colab_type": "code",
    "id": "9SmJW6D9hDb9"
   },
   "outputs": [],
   "source": [
    "def RunWisdom(data_input_file):\n",
    "  X,y,folds,idx_modalities,n_class=WisdomDataPreparation(data_input_file)\n",
    "  TrainAndReportAccuracies(X,y,folds,idx_modalities,n_class)"
   ]
  },
  {
   "cell_type": "markdown",
   "metadata": {
    "colab_type": "text",
    "id": "GCBoAH9Ul4nW"
   },
   "source": []
  },
  {
   "cell_type": "code",
   "execution_count": null,
   "metadata": {
    "colab": {},
    "colab_type": "code",
    "id": "qPhY2p6i2YlU"
   },
   "outputs": [],
   "source": [
    "def WHARFDataPreparation(data_input_file):\n",
    "    np.random.seed(12227)\n",
    "    tmp = np.load(data_input_file)\n",
    "    X = tmp['X']\n",
    "    y = tmp['y']\n",
    "    folds = tmp['folds']\n",
    "    X=np.pad(X, ((0,0),(0,0),(90,0), (26, 0)), 'constant')\n",
    "    n_class = y.shape[1]\n",
    "    print(n_class)\n",
    "    print(X.shape)\n",
    "    print(y.shape)\n",
    "\n",
    "    train_idx = folds[0][0]\n",
    "    test_idx = folds[0][1]\n",
    "\n",
    "    X_train = X[train_idx]\n",
    "    X_test = X[test_idx]\n",
    "    print(X_train.shape)\n",
    "    print(X_test.shape)\n",
    "\n",
    "    idx_modalities=[11,19,27]\n",
    "    print(idx_modalities)\n",
    "    return X,y,folds,idx_modalities,n_class"
   ]
  },
  {
   "cell_type": "code",
   "execution_count": null,
   "metadata": {
    "colab": {},
    "colab_type": "code",
    "id": "jna3ZQPh6EUI"
   },
   "outputs": [],
   "source": [
    "def RunWHARF(data_input_file):\n",
    "  # Batch size 100\n",
    "  X,y,folds,idx_modalities,n_class=WHARFDataPreparation(data_input_file)\n",
    "  TrainAndReportAccuracies(X,y,folds,idx_modalities,n_class)"
   ]
  },
  {
   "cell_type": "code",
   "execution_count": null,
   "metadata": {
    "colab": {},
    "colab_type": "code",
    "id": "LLTOVhmcyXh-"
   },
   "outputs": [],
   "source": [
    "def MHAD2_1sDataPreparation(data_input_file):\n",
    "    np.random.seed(12227)\n",
    "    tmp = np.load(data_input_file)\n",
    "    X = tmp['X']\n",
    "    y = tmp['y']\n",
    "    folds = tmp['folds']\n",
    "    X=np.pad(X, ((0,0),(0,0),(200,0), (23, 0)), 'constant')\n",
    "    n_class = y.shape[1]\n",
    "    print(n_class)\n",
    "    print(X.shape)\n",
    "    print(y.shape)\n",
    "\n",
    "    train_idx = folds[0][0]\n",
    "    test_idx = folds[0][1]\n",
    "\n",
    "    X_train = X[train_idx]\n",
    "    X_test = X[test_idx]\n",
    "    print(X_train.shape)\n",
    "    print(X_test.shape)\n",
    "\n",
    "    idx_modalities=[11,19,27]\n",
    "    print(idx_modalities)\n",
    "    return X,y,folds,idx_modalities,n_class"
   ]
  },
  {
   "cell_type": "code",
   "execution_count": null,
   "metadata": {
    "colab": {},
    "colab_type": "code",
    "id": "5ZqNlA7Kz38L"
   },
   "outputs": [],
   "source": [
    "def RunMHAD2_1s(data_input_file):\n",
    "  # Batch size 100\n",
    "  X,y,folds,idx_modalities,n_class=MHAD2_1sDataPreparation(data_input_file)\n",
    "  TrainAndReportAccuracies(X,y,folds,idx_modalities,n_class)"
   ]
  },
  {
   "cell_type": "code",
   "execution_count": null,
   "metadata": {
    "colab": {
     "base_uri": "https://localhost:8080/",
     "height": 1000
    },
    "colab_type": "code",
    "id": "xUJKeFLdza8y",
    "outputId": "b7a704e9-afef-4dee-f6ce-d30a0b7de094"
   },
   "outputs": [],
   "source": [
    "RunMHAD2_1s('data/LOSO/UTD-MHAD1_1s.npz')"
   ]
  },
  {
   "cell_type": "code",
   "execution_count": null,
   "metadata": {
    "colab": {
     "base_uri": "https://localhost:8080/",
     "height": 1000
    },
    "colab_type": "code",
    "id": "blncHgpj2vnR",
    "outputId": "1a4bbcd7-4612-4b5d-9083-f79633943a26"
   },
   "outputs": [],
   "source": [
    "RunMHAD2_1s('data/LOTO/UTD-MHAD1_1s.npz')"
   ]
  },
  {
   "cell_type": "code",
   "execution_count": null,
   "metadata": {
    "colab": {
     "base_uri": "https://localhost:8080/",
     "height": 1000
    },
    "colab_type": "code",
    "id": "xO6TZxxw2ycw",
    "outputId": "63b42304-a68d-4168-fa12-2cb98f038d6d"
   },
   "outputs": [],
   "source": [
    "RunMHAD2_1s('data/SNOW/UTD-MHAD1_1s.npz')"
   ]
  },
  {
   "cell_type": "code",
   "execution_count": null,
   "metadata": {
    "colab": {
     "base_uri": "https://localhost:8080/",
     "height": 1000
    },
    "colab_type": "code",
    "id": "_AkMiskh20PK",
    "outputId": "a1399dab-844f-4439-d872-626d4fcd61da"
   },
   "outputs": [],
   "source": [
    "RunMHAD2_1s('data/FNOW/UTD-MHAD1_1s.npz')"
   ]
  },
  {
   "cell_type": "code",
   "execution_count": null,
   "metadata": {
    "colab": {
     "base_uri": "https://localhost:8080/",
     "height": 1000
    },
    "colab_type": "code",
    "id": "sbcAd7me0Hkp",
    "outputId": "c542e09e-caed-4995-bc73-caba5e6be119"
   },
   "outputs": [],
   "source": [
    "RunMHAD2_1s('data/LOSO/UTD-MHAD2_1s.npz')"
   ]
  },
  {
   "cell_type": "code",
   "execution_count": null,
   "metadata": {
    "colab": {
     "base_uri": "https://localhost:8080/",
     "height": 1000
    },
    "colab_type": "code",
    "id": "CSuzT2Y5FyWV",
    "outputId": "b2938794-836e-4678-de2b-c3cf8d9766f8"
   },
   "outputs": [],
   "source": [
    "RunMHAD2_1s('data/LOTO/UTD-MHAD2_1s.npz')"
   ]
  },
  {
   "cell_type": "code",
   "execution_count": null,
   "metadata": {
    "colab": {
     "base_uri": "https://localhost:8080/",
     "height": 1000
    },
    "colab_type": "code",
    "id": "Pjhk4GjzIQRy",
    "outputId": "b5be6665-4c22-4740-f536-192e16f73079"
   },
   "outputs": [],
   "source": [
    "RunMHAD2_1s('data/FNOW/UTD-MHAD2_1s.npz')"
   ]
  },
  {
   "cell_type": "code",
   "execution_count": null,
   "metadata": {
    "colab": {
     "base_uri": "https://localhost:8080/",
     "height": 1000
    },
    "colab_type": "code",
    "id": "vHzN7mlwIS4B",
    "outputId": "ebba328f-04a1-4783-d1a3-b74a6b606b72"
   },
   "outputs": [],
   "source": [
    "RunMHAD2_1s('data/SNOW/UTD-MHAD2_1s.npz')"
   ]
  },
  {
   "cell_type": "code",
   "execution_count": null,
   "metadata": {
    "colab": {
     "base_uri": "https://localhost:8080/",
     "height": 1000
    },
    "colab_type": "code",
    "id": "d2hujj0R6Wnx",
    "outputId": "c98e012c-025f-4630-8234-b966dac1dbfb"
   },
   "outputs": [],
   "source": [
    "RunWHARF('data/LOSO/WHARF.npz')"
   ]
  },
  {
   "cell_type": "code",
   "execution_count": null,
   "metadata": {
    "colab": {
     "base_uri": "https://localhost:8080/",
     "height": 1000
    },
    "colab_type": "code",
    "id": "du_uR3jI7pcP",
    "outputId": "24da7ab0-61db-4f24-d973-70b91deaa1a1"
   },
   "outputs": [],
   "source": [
    "RunWHARF('data/LOTO/WHARF.npz')"
   ]
  },
  {
   "cell_type": "code",
   "execution_count": null,
   "metadata": {
    "colab": {
     "base_uri": "https://localhost:8080/",
     "height": 1000
    },
    "colab_type": "code",
    "id": "3WCA-5Zd7weR",
    "outputId": "8df14ce3-5b48-4fbb-feaa-26ebd189ee70"
   },
   "outputs": [],
   "source": [
    "RunWHARF('data/FNOW/WHARF.npz')"
   ]
  },
  {
   "cell_type": "code",
   "execution_count": null,
   "metadata": {
    "colab": {
     "base_uri": "https://localhost:8080/",
     "height": 1000
    },
    "colab_type": "code",
    "id": "Hq-nPwpH7ydi",
    "outputId": "bbf7346e-186b-4c0a-a3e2-eb4edf1d2c1c"
   },
   "outputs": [],
   "source": [
    "RunWHARF('data/SNOW/WHARF.npz')"
   ]
  },
  {
   "cell_type": "code",
   "execution_count": null,
   "metadata": {
    "colab": {
     "base_uri": "https://localhost:8080/",
     "height": 1000
    },
    "colab_type": "code",
    "id": "3wgqVJNdhc9P",
    "outputId": "cb5199c7-2cb4-49c8-8d15-0eced6817f7d"
   },
   "outputs": [],
   "source": [
    "RunWisdom('data/LOSO/WISDM.npz')"
   ]
  },
  {
   "cell_type": "code",
   "execution_count": null,
   "metadata": {
    "colab": {
     "base_uri": "https://localhost:8080/",
     "height": 1000
    },
    "colab_type": "code",
    "id": "WpEGQ6F3lFVs",
    "outputId": "2110baf3-9fdf-4b2d-fe6c-66ce3378c987"
   },
   "outputs": [],
   "source": [
    "RunWisdom('data/LOTO/WISDM.npz')"
   ]
  },
  {
   "cell_type": "code",
   "execution_count": null,
   "metadata": {
    "colab": {
     "base_uri": "https://localhost:8080/",
     "height": 1000
    },
    "colab_type": "code",
    "id": "2E8PVrdclIs0",
    "outputId": "4c872fc3-389e-4591-b257-7e6a2d7043e3"
   },
   "outputs": [],
   "source": [
    "RunWisdom('data/SNOW/WISDM.npz')"
   ]
  },
  {
   "cell_type": "code",
   "execution_count": null,
   "metadata": {
    "colab": {
     "base_uri": "https://localhost:8080/",
     "height": 1000
    },
    "colab_type": "code",
    "id": "oZX1qx9NlKph",
    "outputId": "2fa66cc5-21aa-4a30-eb67-1eb115ddb031"
   },
   "outputs": [],
   "source": [
    "RunWisdom('data/FNOW/WISDM.npz')"
   ]
  },
  {
   "cell_type": "code",
   "execution_count": null,
   "metadata": {
    "colab": {
     "base_uri": "https://localhost:8080/",
     "height": 712
    },
    "colab_type": "code",
    "id": "8oZD9INcegNT",
    "outputId": "dbc0e2bf-94da-4a37-e934-eb0291eb654d"
   },
   "outputs": [],
   "source": [
    "Run('data/LOSO/MHEALTH.npz')"
   ]
  },
  {
   "cell_type": "code",
   "execution_count": null,
   "metadata": {
    "colab": {
     "base_uri": "https://localhost:8080/",
     "height": 625
    },
    "colab_type": "code",
    "id": "1Wo4mPGQSTcL",
    "outputId": "4e302e2e-d9c0-467e-eb42-acbd8c0f8d30"
   },
   "outputs": [],
   "source": [
    "Run('data/LOTO/MHEALTH.npz')"
   ]
  },
  {
   "cell_type": "code",
   "execution_count": null,
   "metadata": {
    "colab": {
     "base_uri": "https://localhost:8080/",
     "height": 746
    },
    "colab_type": "code",
    "id": "vSbkzIfEdYmI",
    "outputId": "d3ef7e98-4899-4675-8ec5-d98a73be3c4e"
   },
   "outputs": [],
   "source": [
    "Run('data/SNOW/MHEALTH.npz')"
   ]
  },
  {
   "cell_type": "code",
   "execution_count": null,
   "metadata": {
    "colab": {
     "base_uri": "https://localhost:8080/",
     "height": 625
    },
    "colab_type": "code",
    "id": "eemWhQfcdcp2",
    "outputId": "44ca8e3d-a231-4c69-91dc-7bafe53b92af"
   },
   "outputs": [],
   "source": [
    "Run('data/FNOW/MHEALTH.npz')"
   ]
  }
 ],
 "metadata": {
  "colab": {
   "collapsed_sections": [],
   "name": "HaChoi_2016_Paper.ipynb",
   "provenance": []
  },
  "kernelspec": {
   "display_name": "Python 3",
   "language": "python",
   "name": "python3"
  },
  "language_info": {
   "codemirror_mode": {
    "name": "ipython",
    "version": 3
   },
   "file_extension": ".py",
   "mimetype": "text/x-python",
   "name": "python",
   "nbconvert_exporter": "python",
   "pygments_lexer": "ipython3",
   "version": "3.6.8"
  }
 },
 "nbformat": 4,
 "nbformat_minor": 1
}
