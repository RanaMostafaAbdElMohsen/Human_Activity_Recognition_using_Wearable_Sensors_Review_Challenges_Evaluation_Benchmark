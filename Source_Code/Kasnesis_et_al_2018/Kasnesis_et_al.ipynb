{
 "cells": [
  {
   "cell_type": "code",
   "execution_count": null,
   "metadata": {
    "colab": {
     "base_uri": "https://localhost:8080/",
     "height": 367
    },
    "colab_type": "code",
    "id": "6M7j__CZS7OM",
    "outputId": "32b14eb2-e543-47f8-f8e8-17073a0e2324"
   },
   "outputs": [],
   "source": [
    "\n",
    "## Libraries Prequisities\n",
    "!pip install scikit-learn\n",
    "!pip install numpy==1.16.1"
   ]
  },
  {
   "cell_type": "code",
   "execution_count": null,
   "metadata": {
    "colab": {
     "base_uri": "https://localhost:8080/",
     "height": 72
    },
    "colab_type": "code",
    "id": "UTzZYqu_Kx3c",
    "outputId": "d5504c1a-5dc2-439b-e4a7-c6e2e5b69563"
   },
   "outputs": [],
   "source": [
    "import numpy as np\n",
    "import random\n",
    "from sklearn.ensemble import RandomForestClassifier, VotingClassifier\n",
    "from sklearn.metrics.classification import accuracy_score, recall_score, f1_score\n",
    "import scipy.stats as st"
   ]
  },
  {
   "cell_type": "code",
   "execution_count": null,
   "metadata": {
    "colab": {
     "base_uri": "https://localhost:8080/",
     "height": 69
    },
    "colab_type": "code",
    "id": "GpRFTEdONBc_",
    "outputId": "b6cd7e84-8fa6-42b7-b1b5-83b5d94bf138"
   },
   "outputs": [],
   "source": [
    "%tensorflow_version 2.x\n",
    "import tensorflow as tf\n",
    "print(tf.__version__)\n",
    "print(tf.test.gpu_device_name())\n",
    "print(\"Num GPUs Available: \", len(tf.config.experimental.list_physical_devices('GPU')))"
   ]
  },
  {
   "cell_type": "code",
   "execution_count": null,
   "metadata": {
    "colab": {},
    "colab_type": "code",
    "id": "jkYtMrQISOGf"
   },
   "outputs": [],
   "source": [
    "from tensorflow.keras.callbacks import Callback"
   ]
  },
  {
   "cell_type": "code",
   "execution_count": null,
   "metadata": {
    "colab": {
     "base_uri": "https://localhost:8080/",
     "height": 124
    },
    "colab_type": "code",
    "id": "BZXksEzNMLGi",
    "outputId": "e662ee01-2a6c-4609-f56e-00166d2ffa5e"
   },
   "outputs": [],
   "source": [
    "from google.colab import drive\n",
    "drive.mount('/content/drive')"
   ]
  },
  {
   "cell_type": "code",
   "execution_count": null,
   "metadata": {
    "colab": {},
    "colab_type": "code",
    "id": "TcmYyXJIMlaF"
   },
   "outputs": [],
   "source": [
    "np.random.seed(12227)"
   ]
  },
  {
   "cell_type": "code",
   "execution_count": null,
   "metadata": {
    "colab": {},
    "colab_type": "code",
    "id": "Qed4kWWBOaW0"
   },
   "outputs": [],
   "source": [
    "n_ep = 200\n",
    "loss = 0.2\n",
    "bs = 1000"
   ]
  },
  {
   "cell_type": "code",
   "execution_count": null,
   "metadata": {
    "colab": {},
    "colab_type": "code",
    "id": "D7k2QY9_ObD3"
   },
   "outputs": [],
   "source": [
    "def custom_stopping(value=0.5, verbose=0):\n",
    "    early = EarlyStoppingByLossVal(monitor='val_loss', value=value, verbose=verbose)\n",
    "    return early\n",
    "\n",
    "class EarlyStoppingByLossVal(Callback):\n",
    "    def __init__(self, monitor='val_acc', value=0.95, verbose=0):\n",
    "        super(Callback, self).__init__()\n",
    "        self.monitor = monitor\n",
    "        self.value = value\n",
    "        self.verbose = verbose\n",
    "\n",
    "    def on_epoch_end(self, epoch, logs={}):\n",
    "        current = logs.get(self.monitor)\n",
    "        # if current is None:\n",
    "        # warnings.warn(\"Early stopping requires %s available!\" % self.monitor, RuntimeWarning)\n",
    "\n",
    "        if current < self.value:\n",
    "            if self.verbose > 0:\n",
    "                print(\"Epoch %05d: early stopping THR\" % epoch)\n",
    "            self.model.stop_training = True"
   ]
  },
  {
   "cell_type": "code",
   "execution_count": null,
   "metadata": {
    "colab": {},
    "colab_type": "code",
    "id": "QT2MTWZdNioZ"
   },
   "outputs": [],
   "source": [
    "def DataPreparation(data_input_file):\n",
    "  print('Kasnesis  et al. 2018 {}'.format(data_input_file))\n",
    "  data = np.load(data_input_file)\n",
    "  X = data['X']\n",
    "  Y = data['y']\n",
    "  folds = data['folds']\n",
    " \n",
    "  return X,Y,folds"
   ]
  },
  {
   "cell_type": "code",
   "execution_count": null,
   "metadata": {
    "colab": {
     "base_uri": "https://localhost:8080/",
     "height": 35
    },
    "colab_type": "code",
    "id": "eWh0JIgOsbkM",
    "outputId": "436381a6-2bb1-46fc-ad2a-688ee94568fd"
   },
   "outputs": [],
   "source": [
    "X,Y,f=DataPreparation('/content/drive/My Drive/Computer_vision_project/data/LOSO/MHEALTH.npz')"
   ]
  },
  {
   "cell_type": "code",
   "execution_count": null,
   "metadata": {
    "colab": {},
    "colab_type": "code",
    "id": "THpEIkgVN6NG"
   },
   "outputs": [],
   "source": [
    "def ReportAccuracies(avg_acc, avg_recall,avg_f1):\n",
    "  ic_acc = st.t.interval(0.9, len(avg_acc) - 1, loc=np.mean(avg_acc), scale=st.sem(avg_acc))\n",
    "  ic_recall = st.t.interval(0.9, len(avg_recall) - 1, loc=np.mean(avg_recall), scale=st.sem(avg_recall))\n",
    "  ic_f1 = st.t.interval(0.9, len(avg_f1) - 1, loc=np.mean(avg_f1), scale=st.sem(avg_f1))\n",
    "  print('Mean Accuracy[{:.4f}] IC [{:.4f}, {:.4f}]'.format(np.mean(avg_acc), ic_acc[0], ic_acc[1]))\n",
    "  print('Mean Recall[{:.4f}] IC [{:.4f}, {:.4f}]'.format(np.mean(avg_recall), ic_recall[0], ic_recall[1]))\n",
    "  print('Mean F1[{:.4f}] IC [{:.4f}, {:.4f}]'.format(np.mean(avg_f1), ic_f1[0], ic_f1[1]))"
   ]
  },
  {
   "cell_type": "code",
   "execution_count": null,
   "metadata": {
    "colab": {},
    "colab_type": "code",
    "id": "aIfBC1PYN93C"
   },
   "outputs": [],
   "source": [
    "def RunKasnesis(data_input_file):\n",
    "  X,Y,folds,= DataPreparation(data_input_file)\n",
    "  avg_acc, avg_recall,avg_f1= Train(X,Y,folds)\n",
    "  ReportAccuracies(avg_acc, avg_recall,avg_f1 )"
   ]
  },
  {
   "cell_type": "code",
   "execution_count": null,
   "metadata": {
    "colab": {},
    "colab_type": "code",
    "id": "JFIkIcYUviga"
   },
   "outputs": [],
   "source": [
    "def perception_net(input_dim, num_classes, filters=(48, 96, 96), dilation=False, separate_modalities=False):\n",
    "    \"\"\" PerceptionNet Model.\n",
    "    See paper: https://arxiv.org/abs/1811.00170\n",
    "    Arguments:\n",
    "        input_dim: 2D input array, where the first value is the number of signals\n",
    "            and the second the time steps.\n",
    "        num_classes: Number of classes to predicts.\n",
    "        filters: Optional, amount of feature maps employed by the convolutions.\n",
    "        dilation: Optional, true whether dilation should be employed in the\n",
    "            1D Conv blocks.\n",
    "    \"\"\"\n",
    "\n",
    "    if dilation:\n",
    "        kernel_width = 8\n",
    "        dilation_rate = 2\n",
    "    else:\n",
    "        kernel_width = 15\n",
    "        dilation_rate = 1\n",
    "\n",
    "    input_tensor = tf.keras.Input(shape=(1,input_dim[0], input_dim[1]))\n",
    "    x = tf.keras.layers.Reshape(target_shape=(1,input_dim[0], input_dim[1]))(input_tensor)\n",
    "\n",
    "    # First \"Conv1D\" block\n",
    "    x = tf.keras.layers.Conv2D(filters=filters[0],\n",
    "               kernel_size=(1,kernel_width), # height, width\n",
    "               dilation_rate=dilation_rate,\n",
    "               kernel_initializer='random_uniform',\n",
    "               padding=\"same\")(x)\n",
    "    x = tf.keras.layers.Activation('relu')(x)\n",
    "    x = tf.keras.layers.MaxPool2D(pool_size=(1,2),\n",
    "                  strides=(1,2))(x)\n",
    "    x = tf.keras.layers.Dropout(rate=0.4)(x)\n",
    "\n",
    "    # Second \"Conv1D\" block\n",
    "    x = tf.keras.layers.Conv2D(filters=filters[1],\n",
    "               kernel_size=(1,kernel_width), #height, width\n",
    "               dilation_rate=dilation_rate,\n",
    "               kernel_initializer='random_uniform',\n",
    "               padding=\"same\")(x)\n",
    "    x = tf.keras.layers.Activation('relu')(x)\n",
    "    x = tf.keras.layers.MaxPool2D(pool_size=(1,2),\n",
    "                  strides=(1,2))(x)\n",
    "    x = tf.keras.layers.Dropout(rate=0.4)(x)\n",
    "\n",
    "    # Late sensor fusion\n",
    "    x = tf.keras.layers.Conv2D(filters=filters[2],\n",
    "               kernel_size=(3,15),\n",
    "               strides=(3,1),\n",
    "               kernel_initializer='random_uniform',\n",
    "               padding=\"same\")(x)\n",
    "    x = tf.keras.layers.Activation('relu')(x)\n",
    "    x = tf.keras.layers.GlobalAveragePooling2D()(x)\n",
    "    x = tf.keras.layers.Dropout(rate=0.4)(x)\n",
    "\n",
    "    # Classification\n",
    "    x = tf.keras.layers.Dense(units=num_classes, activation='softmax')(x)\n",
    "\n",
    "    return tf.keras.Model(input_tensor, x, name='PerceptionNet')\n"
   ]
  },
  {
   "cell_type": "code",
   "execution_count": null,
   "metadata": {
    "colab": {},
    "colab_type": "code",
    "id": "C4lTjymFwYzB"
   },
   "outputs": [],
   "source": [
    "batch_size = 64\n",
    "epochs = 2000\n",
    "validation_split = 0.15\n",
    "stopping_patience = 100\n",
    "model_save_frequency = 50\n",
    "# AdaDelta parameters\n",
    "learning_rate = 1.0\n",
    "rho = 0.95\n",
    "epsilon = 1e-08\n"
   ]
  },
  {
   "cell_type": "code",
   "execution_count": null,
   "metadata": {
    "colab": {},
    "colab_type": "code",
    "id": "mCn_7_plP-VC"
   },
   "outputs": [],
   "source": [
    "def Train(X,y,folds):\n",
    "  avg_acc = []\n",
    "  avg_recall = []\n",
    "  avg_f1 = []\n",
    "  n_class = y.shape[1]\n",
    "  _, _,img_rows, img_cols = X.shape\n",
    "  for i in range(0, len(folds)):\n",
    "    train_idx = folds[i][0]\n",
    "    test_idx = folds[i][1]\n",
    "    X_train = X[train_idx]\n",
    "    X_test = X[test_idx]\n",
    "    model=perception_net(input_dim=(img_rows, img_cols), num_classes=n_class, filters=(12,24,24), dilation=False)\n",
    "    optimizer = tf.keras.optimizers.Adadelta(lr=learning_rate,rho=rho, epsilon=epsilon)\n",
    "    callbacks = [\n",
    "        tf.keras.callbacks.EarlyStopping(patience=stopping_patience, restore_best_weights=True),\n",
    "        \n",
    "    ]\n",
    "\n",
    "    model.compile(loss=\"categorical_crossentropy\",\n",
    "                  optimizer=optimizer,\n",
    "                  metrics=['accuracy'])\n",
    "    \n",
    "    model.fit(X_train, y[train_idx], batch_size=batch_size,epochs=epochs, validation_split=validation_split, shuffle=True,callbacks=callbacks)\n",
    "    y_pred = model.predict(X_test)\n",
    "    y_pred = np.argmax(y_pred, axis=1)\n",
    "    y_true = np.argmax(y[test_idx], axis=1)\n",
    "    acc_fold = accuracy_score(y_true, y_pred)\n",
    "    avg_acc.append(acc_fold)\n",
    "    recall_fold = recall_score(y_true, y_pred, average='macro')\n",
    "    avg_recall.append(recall_fold)\n",
    "    f1_fold = f1_score(y_true, y_pred, average='macro')\n",
    "    avg_f1.append(f1_fold)\n",
    "    print('Accuracy[{:.4f}] Recall[{:.4f}] F1[{:.4f}] at fold[{}]'.format(acc_fold, recall_fold, f1_fold ,i+1))\n",
    "    print('________________________________________________________________')\n",
    "    \n",
    "  return avg_acc, avg_recall,avg_f1"
   ]
  },
  {
   "cell_type": "code",
   "execution_count": null,
   "metadata": {
    "colab": {},
    "colab_type": "code",
    "id": "UGkZqPC30-RN"
   },
   "outputs": [],
   "source": [
    "tf.keras.backend.set_image_data_format('channels_first')"
   ]
  },
  {
   "cell_type": "code",
   "execution_count": null,
   "metadata": {
    "colab": {
     "base_uri": "https://localhost:8080/",
     "height": 1000
    },
    "colab_type": "code",
    "id": "LI4qcHRkRtVV",
    "outputId": "3a47b7d2-6a81-4df0-e9a8-ef2427f02bcd"
   },
   "outputs": [],
   "source": [
    "RunKasnesis('/content/drive/My Drive/Computer_vision_project/data/LOSO/MHEALTH.npz')"
   ]
  },
  {
   "cell_type": "code",
   "execution_count": null,
   "metadata": {
    "colab": {
     "base_uri": "https://localhost:8080/",
     "height": 1000
    },
    "colab_type": "code",
    "id": "eAoVgV9JDHl4",
    "outputId": "9a892c54-c7a9-4690-904a-098b8014d99c"
   },
   "outputs": [],
   "source": [
    "RunKasnesis('/content/drive/My Drive/Computer_vision_project/data/FNOW/MHEALTH.npz')"
   ]
  },
  {
   "cell_type": "code",
   "execution_count": null,
   "metadata": {
    "colab": {
     "base_uri": "https://localhost:8080/",
     "height": 1000
    },
    "colab_type": "code",
    "id": "K4meCN7dH11s",
    "outputId": "e273f9b2-5128-46df-a983-56a464d08096"
   },
   "outputs": [],
   "source": [
    "RunKasnesis('/content/drive/My Drive/Computer_vision_project/data/LOTO/MHEALTH.npz')"
   ]
  },
  {
   "cell_type": "code",
   "execution_count": null,
   "metadata": {
    "colab": {
     "base_uri": "https://localhost:8080/",
     "height": 1000
    },
    "colab_type": "code",
    "id": "HPWEtUDiItH1",
    "outputId": "4b0f07b8-390b-4328-c53a-6446cbb68ee0"
   },
   "outputs": [],
   "source": [
    "RunKasnesis('/content/drive/My Drive/Computer_vision_project/data/SNOW/MHEALTH.npz')"
   ]
  },
  {
   "cell_type": "code",
   "execution_count": null,
   "metadata": {
    "colab": {
     "base_uri": "https://localhost:8080/",
     "height": 1000
    },
    "colab_type": "code",
    "id": "GzZuk1-2T7TZ",
    "outputId": "2f4f45f0-9ad1-4744-8915-badff1201a57"
   },
   "outputs": [],
   "source": [
    "RunKasnesis('/content/drive/My Drive/Computer_vision_project/data/LOSO/USCHAD.npz')"
   ]
  },
  {
   "cell_type": "code",
   "execution_count": null,
   "metadata": {
    "colab": {
     "base_uri": "https://localhost:8080/",
     "height": 1000
    },
    "colab_type": "code",
    "id": "ok9yEq3hUHN0",
    "outputId": "ad21dc2a-f8fc-48d8-e3a5-0340d9d0355c"
   },
   "outputs": [],
   "source": [
    "RunKasnesis('/content/drive/My Drive/Computer_vision_project/data/LOTO/USCHAD.npz')"
   ]
  },
  {
   "cell_type": "code",
   "execution_count": null,
   "metadata": {
    "colab": {
     "base_uri": "https://localhost:8080/",
     "height": 1000
    },
    "colab_type": "code",
    "id": "GVwQTCD6UI9G",
    "outputId": "1b5d3d1c-51de-4286-8f04-7cadb6e8bf99"
   },
   "outputs": [],
   "source": [
    "RunKasnesis('/content/drive/My Drive/Computer_vision_project/data/FNOW/USCHAD.npz')"
   ]
  },
  {
   "cell_type": "code",
   "execution_count": null,
   "metadata": {
    "colab": {
     "base_uri": "https://localhost:8080/",
     "height": 1000
    },
    "colab_type": "code",
    "id": "9DO0b7tFUKvs",
    "outputId": "f0e4e0f4-9450-41b4-8853-7fbc85acbacb"
   },
   "outputs": [],
   "source": [
    "RunKasnesis('/content/drive/My Drive/Computer_vision_project/data/SNOW/USCHAD.npz')"
   ]
  },
  {
   "cell_type": "code",
   "execution_count": null,
   "metadata": {
    "colab": {
     "base_uri": "https://localhost:8080/",
     "height": 1000
    },
    "colab_type": "code",
    "id": "ZOjQ9AK_eRv1",
    "outputId": "5e84e730-c7a1-4743-f040-ce62cc983543"
   },
   "outputs": [],
   "source": [
    "RunKasnesis('/content/drive/My Drive/Computer_vision_project/data/LOTO/UTD-MHAD1_1s.npz')"
   ]
  },
  {
   "cell_type": "code",
   "execution_count": null,
   "metadata": {
    "colab": {
     "base_uri": "https://localhost:8080/",
     "height": 1000
    },
    "colab_type": "code",
    "id": "_RvzE6dJeVUH",
    "outputId": "d28a143f-4532-468b-8206-a33564434914"
   },
   "outputs": [],
   "source": [
    "RunKasnesis('/content/drive/My Drive/Computer_vision_project/data/LOSO/UTD-MHAD1_1s.npz')"
   ]
  },
  {
   "cell_type": "code",
   "execution_count": null,
   "metadata": {
    "colab": {
     "base_uri": "https://localhost:8080/",
     "height": 1000
    },
    "colab_type": "code",
    "id": "vp4At-LQeXFd",
    "outputId": "f66bdd13-446b-4f49-efe5-849a1b9708bc"
   },
   "outputs": [],
   "source": [
    "RunKasnesis('/content/drive/My Drive/Computer_vision_project/data/FNOW/UTD-MHAD1_1s.npz')"
   ]
  },
  {
   "cell_type": "code",
   "execution_count": null,
   "metadata": {
    "colab": {
     "base_uri": "https://localhost:8080/",
     "height": 1000
    },
    "colab_type": "code",
    "id": "emj7DksQeXvU",
    "outputId": "b5000675-7c67-4b50-e73e-df0b758231df"
   },
   "outputs": [],
   "source": [
    "RunKasnesis('/content/drive/My Drive/Computer_vision_project/data/SNOW/UTD-MHAD1_1s.npz')"
   ]
  },
  {
   "cell_type": "code",
   "execution_count": null,
   "metadata": {
    "colab": {
     "base_uri": "https://localhost:8080/",
     "height": 1000
    },
    "colab_type": "code",
    "id": "OVYeTZ8QiX7X",
    "outputId": "06b9a197-6d48-42ee-b4f1-bea1bb0a587b"
   },
   "outputs": [],
   "source": [
    "RunKasnesis('/content/drive/My Drive/Computer_vision_project/data/LOTO/UTD-MHAD2_1s.npz')"
   ]
  },
  {
   "cell_type": "code",
   "execution_count": null,
   "metadata": {
    "colab": {
     "base_uri": "https://localhost:8080/",
     "height": 1000
    },
    "colab_type": "code",
    "id": "TMF-c-yNia6Z",
    "outputId": "c4a37402-7d8a-4c9b-c8ee-631d056a79a3"
   },
   "outputs": [],
   "source": [
    "RunKasnesis('/content/drive/My Drive/Computer_vision_project/data/LOSO/UTD-MHAD2_1s.npz')"
   ]
  },
  {
   "cell_type": "code",
   "execution_count": null,
   "metadata": {
    "colab": {
     "base_uri": "https://localhost:8080/",
     "height": 1000
    },
    "colab_type": "code",
    "id": "A3rATGAxibWv",
    "outputId": "6abf0fa1-bceb-4a57-fe11-4be136caacc7"
   },
   "outputs": [],
   "source": [
    "RunKasnesis('/content/drive/My Drive/Computer_vision_project/data/FNOW/UTD-MHAD2_1s.npz')"
   ]
  },
  {
   "cell_type": "code",
   "execution_count": null,
   "metadata": {
    "colab": {
     "base_uri": "https://localhost:8080/",
     "height": 1000
    },
    "colab_type": "code",
    "id": "2lMFG-PPibrS",
    "outputId": "fbd1499c-b524-47e8-e4b8-df7b08be20ad"
   },
   "outputs": [],
   "source": [
    "RunKasnesis('/content/drive/My Drive/Computer_vision_project/data/SNOW/UTD-MHAD2_1s.npz')"
   ]
  }
 ],
 "metadata": {
  "accelerator": "GPU",
  "colab": {
   "collapsed_sections": [],
   "name": "Kasnesis_et_al.ipynb",
   "provenance": []
  },
  "kernelspec": {
   "display_name": "Python 3",
   "language": "python",
   "name": "python3"
  },
  "language_info": {
   "codemirror_mode": {
    "name": "ipython",
    "version": 3
   },
   "file_extension": ".py",
   "mimetype": "text/x-python",
   "name": "python",
   "nbconvert_exporter": "python",
   "pygments_lexer": "ipython3",
   "version": "3.7.6"
  }
 },
 "nbformat": 4,
 "nbformat_minor": 1
}
