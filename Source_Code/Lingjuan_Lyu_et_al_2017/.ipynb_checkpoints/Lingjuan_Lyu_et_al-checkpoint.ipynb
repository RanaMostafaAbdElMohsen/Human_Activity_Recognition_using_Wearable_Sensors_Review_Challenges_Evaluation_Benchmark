{
 "cells": [
  {
   "cell_type": "code",
   "execution_count": null,
   "metadata": {
    "colab": {
     "base_uri": "https://localhost:8080/",
     "height": 104
    },
    "colab_type": "code",
    "id": "6M7j__CZS7OM",
    "outputId": "70860e50-c73f-459b-f88c-b98ddbbe4b64"
   },
   "outputs": [],
   "source": [
    "\n",
    "## Libraries Prequisities\n",
    "!pip install scikit-learn\n",
    "!pip install numpy==1.16.1"
   ]
  },
  {
   "cell_type": "code",
   "execution_count": null,
   "metadata": {
    "colab": {},
    "colab_type": "code",
    "id": "ybgLisvunejo"
   },
   "outputs": [],
   "source": [
    "Privacy-Preserving Collaborative Deep Learning with Application to Human\n",
    "Activity Recognition"
   ]
  },
  {
   "cell_type": "code",
   "execution_count": null,
   "metadata": {
    "colab": {
     "base_uri": "https://localhost:8080/",
     "height": 72
    },
    "colab_type": "code",
    "id": "UTzZYqu_Kx3c",
    "outputId": "3d1abe7e-8419-4aae-c6c0-f084642a55b5"
   },
   "outputs": [],
   "source": [
    "import numpy as np\n",
    "import random\n",
    "from sklearn.ensemble import RandomForestClassifier, VotingClassifier\n",
    "from sklearn.metrics.classification import accuracy_score, recall_score, f1_score\n",
    "import scipy.stats as st"
   ]
  },
  {
   "cell_type": "code",
   "execution_count": null,
   "metadata": {
    "colab": {
     "base_uri": "https://localhost:8080/",
     "height": 69
    },
    "colab_type": "code",
    "id": "GpRFTEdONBc_",
    "outputId": "48a448d2-aab8-4dfe-c1ca-eb0135ca7b2b"
   },
   "outputs": [],
   "source": [
    "%tensorflow_version 2.x\n",
    "import tensorflow as tf\n",
    "print(tf.__version__)\n",
    "print(tf.test.gpu_device_name())\n",
    "print(\"Num GPUs Available: \", len(tf.config.experimental.list_physical_devices('GPU')))"
   ]
  },
  {
   "cell_type": "code",
   "execution_count": null,
   "metadata": {
    "colab": {},
    "colab_type": "code",
    "id": "jkYtMrQISOGf"
   },
   "outputs": [],
   "source": [
    "from tensorflow.keras.callbacks import Callback"
   ]
  },
  {
   "cell_type": "code",
   "execution_count": null,
   "metadata": {
    "colab": {
     "base_uri": "https://localhost:8080/",
     "height": 35
    },
    "colab_type": "code",
    "id": "BZXksEzNMLGi",
    "outputId": "5748cace-22b3-4aa1-e3b7-2079b3b56beb"
   },
   "outputs": [],
   "source": [
    "from google.colab import drive\n",
    "drive.mount('/content/drive')"
   ]
  },
  {
   "cell_type": "code",
   "execution_count": null,
   "metadata": {
    "colab": {},
    "colab_type": "code",
    "id": "TcmYyXJIMlaF"
   },
   "outputs": [],
   "source": [
    "np.random.seed(12227)"
   ]
  },
  {
   "cell_type": "code",
   "execution_count": null,
   "metadata": {
    "colab": {},
    "colab_type": "code",
    "id": "Qed4kWWBOaW0"
   },
   "outputs": [],
   "source": [
    "n_ep = 200\n",
    "loss = 0.2\n",
    "bs = 1000"
   ]
  },
  {
   "cell_type": "code",
   "execution_count": null,
   "metadata": {
    "colab": {},
    "colab_type": "code",
    "id": "QT2MTWZdNioZ"
   },
   "outputs": [],
   "source": [
    "def DataPreparation(data_input_file):\n",
    "  print('Lingjuan Lyu  et al. 2017 {}'.format(data_input_file))\n",
    "  data = np.load(data_input_file)\n",
    "  X = data['X']\n",
    "  X = X[:, 0, :, :]\n",
    "  \n",
    "  Y = data['y']\n",
    "  folds = data['folds']\n",
    " \n",
    "  return X,Y,folds"
   ]
  },
  {
   "cell_type": "code",
   "execution_count": null,
   "metadata": {
    "colab": {
     "base_uri": "https://localhost:8080/",
     "height": 35
    },
    "colab_type": "code",
    "id": "eWh0JIgOsbkM",
    "outputId": "436381a6-2bb1-46fc-ad2a-688ee94568fd"
   },
   "outputs": [],
   "source": [
    "X,Y,f=DataPreparation('/content/drive/My Drive/Computer_vision_project/data/LOSO/MHEALTH.npz')"
   ]
  },
  {
   "cell_type": "code",
   "execution_count": null,
   "metadata": {
    "colab": {},
    "colab_type": "code",
    "id": "THpEIkgVN6NG"
   },
   "outputs": [],
   "source": [
    "def ReportAccuracies(avg_acc, avg_recall,avg_f1):\n",
    "  ic_acc = st.t.interval(0.9, len(avg_acc) - 1, loc=np.mean(avg_acc), scale=st.sem(avg_acc))\n",
    "  ic_recall = st.t.interval(0.9, len(avg_recall) - 1, loc=np.mean(avg_recall), scale=st.sem(avg_recall))\n",
    "  ic_f1 = st.t.interval(0.9, len(avg_f1) - 1, loc=np.mean(avg_f1), scale=st.sem(avg_f1))\n",
    "  print('Mean Accuracy[{:.4f}] IC [{:.4f}, {:.4f}]'.format(np.mean(avg_acc), ic_acc[0], ic_acc[1]))\n",
    "  print('Mean Recall[{:.4f}] IC [{:.4f}, {:.4f}]'.format(np.mean(avg_recall), ic_recall[0], ic_recall[1]))\n",
    "  print('Mean F1[{:.4f}] IC [{:.4f}, {:.4f}]'.format(np.mean(avg_f1), ic_f1[0], ic_f1[1]))"
   ]
  },
  {
   "cell_type": "code",
   "execution_count": null,
   "metadata": {
    "colab": {},
    "colab_type": "code",
    "id": "aIfBC1PYN93C"
   },
   "outputs": [],
   "source": [
    "def RunLingjuan_Lyu(data_input_file):\n",
    "  X,Y,folds,= DataPreparation(data_input_file)\n",
    "  avg_acc, avg_recall,avg_f1= Train(X,Y,folds)\n",
    "  ReportAccuracies(avg_acc, avg_recall,avg_f1 )"
   ]
  },
  {
   "cell_type": "code",
   "execution_count": null,
   "metadata": {
    "colab": {},
    "colab_type": "code",
    "id": "JFIkIcYUviga"
   },
   "outputs": [],
   "source": [
    "def build_model(row,col,num_classes):\n",
    "\n",
    "  tf.keras.initializers.GlorotNormal(234)\n",
    "  input_layer = tf.keras.Input(shape=(row, col,1))\n",
    "  \n",
    "  layer = tf.keras.layers.TimeDistributed(tf.keras.layers.Flatten())(input_layer)\n",
    "  layer = tf.keras.layers.LSTM(28,return_sequences=True  )(layer)\n",
    "  layer = tf.keras.layers.Dropout(0.2)(layer)\n",
    "  layer = tf.keras.layers.LSTM(28,return_sequences=True)(layer)\n",
    "  layer = tf.keras.layers.Dropout(0.2)(layer)\n",
    "  layerconv1 = tf.keras.layers.Conv1D(filters=30,kernel_size=5,  strides=1) (layer)\n",
    "  layerconv1 = tf.keras.layers.Activation('relu')(layerconv1)\n",
    "  layerconv2 = tf.keras.layers.Conv1D(filters=40,kernel_size= 10,strides=1) (layer)\n",
    "  layerconv2 = tf.keras.layers.Activation('relu')(layerconv2)\n",
    "  layerconv3 = tf.keras.layers.Conv1D(filters=50,kernel_size= 15,strides=1) (layer)\n",
    "  layerconv3 = tf.keras.layers.Activation('relu')(layerconv3)\n",
    "  layerconv4 = tf.keras.layers.Conv1D(filters=60,kernel_size= 20,strides=1) (layer)\n",
    "  layerconv4 = tf.keras.layers.Activation('relu')(layerconv4)\n",
    "  max1= tf.reduce_max(layerconv1, 1)\n",
    "  max2= tf.reduce_max(layerconv2, 1)\n",
    "  max3= tf.reduce_max(layerconv3, 1)\n",
    "  max4= tf.reduce_max(layerconv4, 1)\n",
    "  concat_layer = tf.keras.layers.concatenate([max1,max2,max3,max4],1)\n",
    "  layer= tf.keras.layers.Dense(num_classes, activation = 'softmax')   (concat_layer) \n",
    "\n",
    "    \n",
    " \n",
    "  \n",
    "    \n",
    "  model = tf.keras.Model(inputs=input_layer, outputs=layer)\n",
    "  return model"
   ]
  },
  {
   "cell_type": "code",
   "execution_count": null,
   "metadata": {
    "colab": {},
    "colab_type": "code",
    "id": "C4lTjymFwYzB"
   },
   "outputs": [],
   "source": [
    "batch_size = 128\n",
    "epochs = 100\n",
    "\n",
    "learning_rate = 0.001\n",
    "\n"
   ]
  },
  {
   "cell_type": "code",
   "execution_count": null,
   "metadata": {
    "colab": {},
    "colab_type": "code",
    "id": "mCn_7_plP-VC"
   },
   "outputs": [],
   "source": [
    "def Train(X,y,folds):\n",
    "  avg_acc = []\n",
    "  avg_recall = []\n",
    "  avg_f1 = []\n",
    "  n_class = y.shape[1]\n",
    "  _, img_rows, img_cols = X.shape\n",
    "  X=X.reshape(X.shape[0],img_rows,img_cols,1)\n",
    "  _,img_rows, img_cols,_ = X.shape\n",
    "  print(X.shape)\n",
    "  for i in range(0, len(folds)):\n",
    "    train_idx = folds[i][0]\n",
    "    test_idx = folds[i][1]\n",
    "    X_train = X[train_idx]\n",
    "    X_test = X[test_idx]\n",
    "    \n",
    "    model=build_model(img_rows, img_cols, n_class)\n",
    "    optimizer = tf.keras.optimizers.Adam(lr=learning_rate)\n",
    "   \n",
    "\n",
    "    model.compile(loss=\"categorical_crossentropy\", optimizer=optimizer,  metrics=['accuracy'])\n",
    "   \n",
    "    \n",
    "    model.fit(X_train, y[train_idx], batch_size=batch_size,epochs=epochs,verbos=2)\n",
    "    y_pred = model.predict(X_test)\n",
    "    y_pred = np.argmax(y_pred, axis=1)\n",
    "    y_true = np.argmax(y[test_idx], axis=1)\n",
    "    acc_fold = accuracy_score(y_true, y_pred)\n",
    "    avg_acc.append(acc_fold)\n",
    "    recall_fold = recall_score(y_true, y_pred, average='macro')\n",
    "    avg_recall.append(recall_fold)\n",
    "    f1_fold = f1_score(y_true, y_pred, average='macro')\n",
    "    avg_f1.append(f1_fold)\n",
    "    print('Accuracy[{:.4f}] Recall[{:.4f}] F1[{:.4f}] at fold[{}]'.format(acc_fold, recall_fold, f1_fold ,i+1))\n",
    "    print('________________________________________________________________')\n",
    "    \n",
    "  return avg_acc, avg_recall,avg_f1"
   ]
  },
  {
   "cell_type": "code",
   "execution_count": null,
   "metadata": {
    "colab": {},
    "colab_type": "code",
    "id": "UGkZqPC30-RN"
   },
   "outputs": [],
   "source": [
    "tf.keras.backend.set_image_data_format('channels_first')"
   ]
  },
  {
   "cell_type": "code",
   "execution_count": null,
   "metadata": {
    "colab": {
     "base_uri": "https://localhost:8080/",
     "height": 1000
    },
    "colab_type": "code",
    "id": "LI4qcHRkRtVV",
    "outputId": "2eb81f40-6101-462f-99d0-afaf642d2d58"
   },
   "outputs": [],
   "source": [
    "RunLingjuan_Lyu('/content/drive/My Drive/Computer_vision_project/data/LOSO/MHEALTH.npz')"
   ]
  },
  {
   "cell_type": "code",
   "execution_count": null,
   "metadata": {
    "colab": {
     "base_uri": "https://localhost:8080/",
     "height": 1000
    },
    "colab_type": "code",
    "id": "eAoVgV9JDHl4",
    "outputId": "21c2302f-8b40-46a1-9964-402c23b96a38"
   },
   "outputs": [],
   "source": [
    "RunLingjuan_Lyu('/content/drive/My Drive/Computer_vision_project/data/FNOW/MHEALTH.npz')"
   ]
  },
  {
   "cell_type": "code",
   "execution_count": null,
   "metadata": {
    "colab": {
     "base_uri": "https://localhost:8080/",
     "height": 1000
    },
    "colab_type": "code",
    "id": "K4meCN7dH11s",
    "outputId": "ae4fe00c-dc82-44e7-e871-6890cf4764cb"
   },
   "outputs": [],
   "source": [
    "RunLingjuan_Lyu('/content/drive/My Drive/Computer_vision_project/data/LOTO/MHEALTH.npz')"
   ]
  },
  {
   "cell_type": "code",
   "execution_count": null,
   "metadata": {
    "colab": {
     "base_uri": "https://localhost:8080/",
     "height": 1000
    },
    "colab_type": "code",
    "id": "HPWEtUDiItH1",
    "outputId": "e8a5604b-e374-41da-e58c-cddd4fe26b91"
   },
   "outputs": [],
   "source": [
    "RunLingjuan_Lyu('/content/drive/My Drive/Computer_vision_project/data/SNOW/MHEALTH.npz')"
   ]
  },
  {
   "cell_type": "code",
   "execution_count": null,
   "metadata": {
    "colab": {
     "base_uri": "https://localhost:8080/",
     "height": 1000
    },
    "colab_type": "code",
    "id": "GzZuk1-2T7TZ",
    "outputId": "5d30c536-1ff0-4f81-e429-3d31f26d75a3"
   },
   "outputs": [],
   "source": [
    "RunLingjuan_Lyu('/content/drive/My Drive/Computer_vision_project/data/LOSO/USCHAD.npz')"
   ]
  },
  {
   "cell_type": "code",
   "execution_count": null,
   "metadata": {
    "colab": {
     "base_uri": "https://localhost:8080/",
     "height": 1000
    },
    "colab_type": "code",
    "id": "ok9yEq3hUHN0",
    "outputId": "ed0407ba-7e4e-4dc3-9c00-91d9da019a26"
   },
   "outputs": [],
   "source": [
    "RunLingjuan_Lyu('/content/drive/My Drive/Computer_vision_project/data/LOTO/USCHAD.npz')"
   ]
  },
  {
   "cell_type": "code",
   "execution_count": null,
   "metadata": {
    "colab": {
     "base_uri": "https://localhost:8080/",
     "height": 1000
    },
    "colab_type": "code",
    "id": "GVwQTCD6UI9G",
    "outputId": "076489ba-bb67-415e-869e-59ecba3fbd2a"
   },
   "outputs": [],
   "source": [
    "RunLingjuan_Lyu('/content/drive/My Drive/Computer_vision_project/data/FNOW/USCHAD.npz')"
   ]
  },
  {
   "cell_type": "code",
   "execution_count": null,
   "metadata": {
    "colab": {
     "base_uri": "https://localhost:8080/",
     "height": 1000
    },
    "colab_type": "code",
    "id": "9DO0b7tFUKvs",
    "outputId": "fe8464da-5647-48a7-f79f-c7beb4fdc9b2"
   },
   "outputs": [],
   "source": [
    "RunLingjuan_Lyu('/content/drive/My Drive/Computer_vision_project/data/SNOW/USCHAD.npz')"
   ]
  },
  {
   "cell_type": "code",
   "execution_count": null,
   "metadata": {
    "colab": {
     "base_uri": "https://localhost:8080/",
     "height": 1000
    },
    "colab_type": "code",
    "id": "ZOjQ9AK_eRv1",
    "outputId": "62d19559-ee31-44cf-b1cc-21cbac92508c"
   },
   "outputs": [],
   "source": [
    "RunLingjuan_Lyu('/content/drive/My Drive/Computer_vision_project/data/LOTO/UTD-MHAD1_1s.npz')"
   ]
  },
  {
   "cell_type": "code",
   "execution_count": null,
   "metadata": {
    "colab": {
     "base_uri": "https://localhost:8080/",
     "height": 1000
    },
    "colab_type": "code",
    "id": "_RvzE6dJeVUH",
    "outputId": "9d44c4ad-6945-4b8b-bd5e-83e90b008a73"
   },
   "outputs": [],
   "source": [
    "RunLingjuan_Lyu('/content/drive/My Drive/Computer_vision_project/data/LOSO/UTD-MHAD1_1s.npz')"
   ]
  },
  {
   "cell_type": "code",
   "execution_count": null,
   "metadata": {
    "colab": {
     "base_uri": "https://localhost:8080/",
     "height": 1000
    },
    "colab_type": "code",
    "id": "vp4At-LQeXFd",
    "outputId": "3ec92fa4-b35d-4d3c-b0d7-881fef5d39fc"
   },
   "outputs": [],
   "source": [
    "RunLingjuan_Lyu('/content/drive/My Drive/Computer_vision_project/data/FNOW/UTD-MHAD1_1s.npz')"
   ]
  },
  {
   "cell_type": "code",
   "execution_count": null,
   "metadata": {
    "colab": {
     "base_uri": "https://localhost:8080/",
     "height": 1000
    },
    "colab_type": "code",
    "id": "emj7DksQeXvU",
    "outputId": "5dfcc6ad-087e-46a0-a60b-63c16dc4ac7b"
   },
   "outputs": [],
   "source": [
    "RunLingjuan_Lyu('/content/drive/My Drive/Computer_vision_project/data/SNOW/UTD-MHAD1_1s.npz')"
   ]
  },
  {
   "cell_type": "code",
   "execution_count": null,
   "metadata": {
    "colab": {
     "base_uri": "https://localhost:8080/",
     "height": 1000
    },
    "colab_type": "code",
    "id": "OVYeTZ8QiX7X",
    "outputId": "35d4d540-fcf9-4895-eb3e-2cd319d0c2ea"
   },
   "outputs": [],
   "source": [
    "RunLingjuan_Lyu('/content/drive/My Drive/Computer_vision_project/data/LOTO/UTD-MHAD2_1s.npz')"
   ]
  },
  {
   "cell_type": "code",
   "execution_count": null,
   "metadata": {
    "colab": {
     "base_uri": "https://localhost:8080/",
     "height": 1000
    },
    "colab_type": "code",
    "id": "TMF-c-yNia6Z",
    "outputId": "730e8514-59d6-4281-bacd-8e171d041373"
   },
   "outputs": [],
   "source": [
    "RunLingjuan_Lyu('/content/drive/My Drive/Computer_vision_project/data/LOSO/UTD-MHAD2_1s.npz')"
   ]
  },
  {
   "cell_type": "code",
   "execution_count": null,
   "metadata": {
    "colab": {
     "base_uri": "https://localhost:8080/",
     "height": 1000
    },
    "colab_type": "code",
    "id": "A3rATGAxibWv",
    "outputId": "d62aa7f1-6a71-4832-9b82-2bac52c25b1a"
   },
   "outputs": [],
   "source": [
    "RunLingjuan_Lyu('/content/drive/My Drive/Computer_vision_project/data/FNOW/UTD-MHAD2_1s.npz')"
   ]
  },
  {
   "cell_type": "code",
   "execution_count": null,
   "metadata": {
    "colab": {
     "base_uri": "https://localhost:8080/",
     "height": 1000
    },
    "colab_type": "code",
    "id": "2lMFG-PPibrS",
    "outputId": "cc30b93a-b021-4531-8faa-fad0080c60e8"
   },
   "outputs": [],
   "source": [
    "RunLingjuan_Lyu('/content/drive/My Drive/Computer_vision_project/data/SNOW/UTD-MHAD2_1s.npz')"
   ]
  },
  {
   "cell_type": "code",
   "execution_count": null,
   "metadata": {
    "colab": {
     "base_uri": "https://localhost:8080/",
     "height": 1000
    },
    "colab_type": "code",
    "id": "6psEPCv-ijWS",
    "outputId": "7d0033d3-aeb4-43bc-d4bf-9b341e4d3f01"
   },
   "outputs": [],
   "source": [
    "RunLingjuan_Lyu('/content/drive/My Drive/Computer_vision_project/data/LOTO/WHARF.npz')"
   ]
  },
  {
   "cell_type": "code",
   "execution_count": null,
   "metadata": {
    "colab": {
     "base_uri": "https://localhost:8080/",
     "height": 1000
    },
    "colab_type": "code",
    "id": "9SFQn2XqimAd",
    "outputId": "a5da8505-33c5-4e39-a4de-0f36b0c5d0b5"
   },
   "outputs": [],
   "source": [
    "RunLingjuan_Lyu('/content/drive/My Drive/Computer_vision_project/data/LOSO/WHARF.npz')"
   ]
  },
  {
   "cell_type": "code",
   "execution_count": null,
   "metadata": {
    "colab": {
     "base_uri": "https://localhost:8080/",
     "height": 1000
    },
    "colab_type": "code",
    "id": "eFsLuxBeimVn",
    "outputId": "4de2c533-0af5-4f37-9f59-df5d30733184"
   },
   "outputs": [],
   "source": [
    "RunLingjuan_Lyu('/content/drive/My Drive/Computer_vision_project/data/FNOW/WHARF.npz')"
   ]
  },
  {
   "cell_type": "code",
   "execution_count": null,
   "metadata": {
    "colab": {
     "base_uri": "https://localhost:8080/",
     "height": 1000
    },
    "colab_type": "code",
    "id": "PxYuHUfqim9j",
    "outputId": "7270f7b5-e96b-4460-dc16-b053f59ca8d9"
   },
   "outputs": [],
   "source": [
    "RunLingjuan_Lyu('/content/drive/My Drive/Computer_vision_project/data/SNOW/WHARF.npz')"
   ]
  },
  {
   "cell_type": "code",
   "execution_count": null,
   "metadata": {
    "colab": {
     "base_uri": "https://localhost:8080/",
     "height": 1000
    },
    "colab_type": "code",
    "id": "jUmaOhALis8x",
    "outputId": "0d06ce1d-a153-40b2-aeec-e19edf40c0b1"
   },
   "outputs": [],
   "source": [
    "RunLingjuan_Lyu('/content/drive/My Drive/Computer_vision_project/data/LOTO/WISDM.npz')"
   ]
  },
  {
   "cell_type": "code",
   "execution_count": null,
   "metadata": {
    "colab": {
     "base_uri": "https://localhost:8080/",
     "height": 1000
    },
    "colab_type": "code",
    "id": "rHBjlHbZixfZ",
    "outputId": "c47ac6aa-83d4-4203-8938-9b175f12749c"
   },
   "outputs": [],
   "source": [
    "RunLingjuan_Lyu('/content/drive/My Drive/Computer_vision_project/data/LOSO/WISDM.npz')"
   ]
  },
  {
   "cell_type": "code",
   "execution_count": null,
   "metadata": {
    "colab": {
     "base_uri": "https://localhost:8080/",
     "height": 1000
    },
    "colab_type": "code",
    "id": "rZHGIAP7ix3-",
    "outputId": "439e1dc1-c5da-4441-b733-a575c00e718c"
   },
   "outputs": [],
   "source": [
    "RunLingjuan_Lyu('/content/drive/My Drive/Computer_vision_project/data/FNOW/WISDM.npz')"
   ]
  },
  {
   "cell_type": "code",
   "execution_count": null,
   "metadata": {
    "colab": {
     "base_uri": "https://localhost:8080/",
     "height": 1000
    },
    "colab_type": "code",
    "id": "fjshbCK5iyTc",
    "outputId": "c24848cc-7fdf-485c-a4e9-5b999723fc79"
   },
   "outputs": [],
   "source": [
    "RunLingjuan_Lyu('/content/drive/My Drive/Computer_vision_project/data/SNOW/WISDM.npz')"
   ]
  }
 ],
 "metadata": {
  "accelerator": "GPU",
  "colab": {
   "collapsed_sections": [],
   "name": "Lingjuan_Lyu_et_al.ipynb",
   "provenance": []
  },
  "kernelspec": {
   "display_name": "Python 3",
   "language": "python",
   "name": "python3"
  },
  "language_info": {
   "codemirror_mode": {
    "name": "ipython",
    "version": 3
   },
   "file_extension": ".py",
   "mimetype": "text/x-python",
   "name": "python",
   "nbconvert_exporter": "python",
   "pygments_lexer": "ipython3",
   "version": "3.7.6"
  }
 },
 "nbformat": 4,
 "nbformat_minor": 1
}
